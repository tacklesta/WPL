{
 "cells": [
  {
   "cell_type": "markdown",
   "metadata": {},
   "source": [
    "# Match Analysis"
   ]
  },
  {
   "cell_type": "code",
   "execution_count": 50,
   "metadata": {},
   "outputs": [],
   "source": [
    "import numpy as np\n",
    "import pandas as pd\n",
    "import matplotlib.pyplot as plt\n",
    "import seaborn as sns\n",
    "%matplotlib inline"
   ]
  },
  {
   "cell_type": "markdown",
   "metadata": {},
   "source": [
    "## Data Cleaning and Exploration"
   ]
  },
  {
   "cell_type": "code",
   "execution_count": 51,
   "metadata": {},
   "outputs": [],
   "source": [
    "matches = pd.read_csv(\"matches.csv\" , index_col = \"id\")\n",
    "matches = matches.iloc[:,:-3]"
   ]
  },
  {
   "cell_type": "code",
   "execution_count": 52,
   "metadata": {},
   "outputs": [
    {
     "data": {
      "text/plain": [
       "(756, 14)"
      ]
     },
     "execution_count": 52,
     "metadata": {},
     "output_type": "execute_result"
    }
   ],
   "source": [
    "matches.shape"
   ]
  },
  {
   "cell_type": "code",
   "execution_count": 53,
   "metadata": {},
   "outputs": [
    {
     "data": {
      "text/plain": [
       "array(['Sunrisers Hyderabad', 'Rising Pune Supergiant',\n",
       "       'Kolkata Knight Riders', 'Kings XI Punjab',\n",
       "       'Royal Challengers Bangalore', 'Mumbai Indians',\n",
       "       'Delhi Daredevils', 'Gujarat Lions', 'Chennai Super Kings',\n",
       "       'Rajasthan Royals', 'Deccan Chargers', 'Pune Warriors',\n",
       "       'Kochi Tuskers Kerala', nan, 'Rising Pune Supergiants',\n",
       "       'Delhi Capitals'], dtype=object)"
      ]
     },
     "execution_count": 53,
     "metadata": {},
     "output_type": "execute_result"
    }
   ],
   "source": [
    "matches.winner.unique()"
   ]
  },
  {
   "cell_type": "markdown",
   "metadata": {},
   "source": [
    "### Taking in consideration only KXIP VS MI Matches"
   ]
  },
  {
   "cell_type": "code",
   "execution_count": 54,
   "metadata": {},
   "outputs": [],
   "source": [
    "KM =matches[np.logical_or(np.logical_and(matches['team1']=='Kings XI Punjab',matches['team2']=='Mumbai Indians'),\n",
    "                            np.logical_and(matches['team2']=='Kings XI Punjab',matches['team1']=='Mumbai Indians'))]"
   ]
  },
  {
   "cell_type": "code",
   "execution_count": 55,
   "metadata": {},
   "outputs": [
    {
     "data": {
      "text/html": [
       "<div>\n",
       "<style scoped>\n",
       "    .dataframe tbody tr th:only-of-type {\n",
       "        vertical-align: middle;\n",
       "    }\n",
       "\n",
       "    .dataframe tbody tr th {\n",
       "        vertical-align: top;\n",
       "    }\n",
       "\n",
       "    .dataframe thead th {\n",
       "        text-align: right;\n",
       "    }\n",
       "</style>\n",
       "<table border=\"1\" class=\"dataframe\">\n",
       "  <thead>\n",
       "    <tr style=\"text-align: right;\">\n",
       "      <th></th>\n",
       "      <th>season</th>\n",
       "      <th>city</th>\n",
       "      <th>date</th>\n",
       "      <th>team1</th>\n",
       "      <th>team2</th>\n",
       "      <th>toss_winner</th>\n",
       "      <th>toss_decision</th>\n",
       "      <th>result</th>\n",
       "      <th>dl_applied</th>\n",
       "      <th>winner</th>\n",
       "      <th>win_by_runs</th>\n",
       "      <th>win_by_wickets</th>\n",
       "      <th>player_of_match</th>\n",
       "      <th>venue</th>\n",
       "    </tr>\n",
       "    <tr>\n",
       "      <th>id</th>\n",
       "      <th></th>\n",
       "      <th></th>\n",
       "      <th></th>\n",
       "      <th></th>\n",
       "      <th></th>\n",
       "      <th></th>\n",
       "      <th></th>\n",
       "      <th></th>\n",
       "      <th></th>\n",
       "      <th></th>\n",
       "      <th></th>\n",
       "      <th></th>\n",
       "      <th></th>\n",
       "      <th></th>\n",
       "    </tr>\n",
       "  </thead>\n",
       "  <tbody>\n",
       "    <tr>\n",
       "      <th>22</th>\n",
       "      <td>2017</td>\n",
       "      <td>Indore</td>\n",
       "      <td>2017-04-20</td>\n",
       "      <td>Kings XI Punjab</td>\n",
       "      <td>Mumbai Indians</td>\n",
       "      <td>Mumbai Indians</td>\n",
       "      <td>field</td>\n",
       "      <td>normal</td>\n",
       "      <td>0</td>\n",
       "      <td>Mumbai Indians</td>\n",
       "      <td>0</td>\n",
       "      <td>8</td>\n",
       "      <td>JC Buttler</td>\n",
       "      <td>Holkar Cricket Stadium</td>\n",
       "    </tr>\n",
       "    <tr>\n",
       "      <th>50</th>\n",
       "      <td>2017</td>\n",
       "      <td>Mumbai</td>\n",
       "      <td>2017-05-11</td>\n",
       "      <td>Kings XI Punjab</td>\n",
       "      <td>Mumbai Indians</td>\n",
       "      <td>Mumbai Indians</td>\n",
       "      <td>field</td>\n",
       "      <td>normal</td>\n",
       "      <td>0</td>\n",
       "      <td>Kings XI Punjab</td>\n",
       "      <td>7</td>\n",
       "      <td>0</td>\n",
       "      <td>WP Saha</td>\n",
       "      <td>Wankhede Stadium</td>\n",
       "    </tr>\n",
       "    <tr>\n",
       "      <th>69</th>\n",
       "      <td>2008</td>\n",
       "      <td>Chandigarh</td>\n",
       "      <td>2008-04-25</td>\n",
       "      <td>Kings XI Punjab</td>\n",
       "      <td>Mumbai Indians</td>\n",
       "      <td>Mumbai Indians</td>\n",
       "      <td>field</td>\n",
       "      <td>normal</td>\n",
       "      <td>0</td>\n",
       "      <td>Kings XI Punjab</td>\n",
       "      <td>66</td>\n",
       "      <td>0</td>\n",
       "      <td>KC Sangakkara</td>\n",
       "      <td>Punjab Cricket Association Stadium, Mohali</td>\n",
       "    </tr>\n",
       "    <tr>\n",
       "      <th>106</th>\n",
       "      <td>2008</td>\n",
       "      <td>Mumbai</td>\n",
       "      <td>2008-05-21</td>\n",
       "      <td>Kings XI Punjab</td>\n",
       "      <td>Mumbai Indians</td>\n",
       "      <td>Mumbai Indians</td>\n",
       "      <td>field</td>\n",
       "      <td>normal</td>\n",
       "      <td>0</td>\n",
       "      <td>Kings XI Punjab</td>\n",
       "      <td>1</td>\n",
       "      <td>0</td>\n",
       "      <td>SE Marsh</td>\n",
       "      <td>Wankhede Stadium</td>\n",
       "    </tr>\n",
       "    <tr>\n",
       "      <th>135</th>\n",
       "      <td>2009</td>\n",
       "      <td>Durban</td>\n",
       "      <td>2009-04-29</td>\n",
       "      <td>Kings XI Punjab</td>\n",
       "      <td>Mumbai Indians</td>\n",
       "      <td>Kings XI Punjab</td>\n",
       "      <td>bat</td>\n",
       "      <td>normal</td>\n",
       "      <td>0</td>\n",
       "      <td>Kings XI Punjab</td>\n",
       "      <td>3</td>\n",
       "      <td>0</td>\n",
       "      <td>KC Sangakkara</td>\n",
       "      <td>Kingsmead</td>\n",
       "    </tr>\n",
       "  </tbody>\n",
       "</table>\n",
       "</div>"
      ],
      "text/plain": [
       "     season        city        date            team1           team2  \\\n",
       "id                                                                     \n",
       "22     2017      Indore  2017-04-20  Kings XI Punjab  Mumbai Indians   \n",
       "50     2017      Mumbai  2017-05-11  Kings XI Punjab  Mumbai Indians   \n",
       "69     2008  Chandigarh  2008-04-25  Kings XI Punjab  Mumbai Indians   \n",
       "106    2008      Mumbai  2008-05-21  Kings XI Punjab  Mumbai Indians   \n",
       "135    2009      Durban  2009-04-29  Kings XI Punjab  Mumbai Indians   \n",
       "\n",
       "         toss_winner toss_decision  result  dl_applied           winner  \\\n",
       "id                                                                        \n",
       "22    Mumbai Indians         field  normal           0   Mumbai Indians   \n",
       "50    Mumbai Indians         field  normal           0  Kings XI Punjab   \n",
       "69    Mumbai Indians         field  normal           0  Kings XI Punjab   \n",
       "106   Mumbai Indians         field  normal           0  Kings XI Punjab   \n",
       "135  Kings XI Punjab           bat  normal           0  Kings XI Punjab   \n",
       "\n",
       "     win_by_runs  win_by_wickets player_of_match  \\\n",
       "id                                                 \n",
       "22             0               8      JC Buttler   \n",
       "50             7               0         WP Saha   \n",
       "69            66               0   KC Sangakkara   \n",
       "106            1               0        SE Marsh   \n",
       "135            3               0   KC Sangakkara   \n",
       "\n",
       "                                          venue  \n",
       "id                                               \n",
       "22                       Holkar Cricket Stadium  \n",
       "50                             Wankhede Stadium  \n",
       "69   Punjab Cricket Association Stadium, Mohali  \n",
       "106                            Wankhede Stadium  \n",
       "135                                   Kingsmead  "
      ]
     },
     "execution_count": 55,
     "metadata": {},
     "output_type": "execute_result"
    }
   ],
   "source": [
    "KM.head()"
   ]
  },
  {
   "cell_type": "code",
   "execution_count": 56,
   "metadata": {},
   "outputs": [
    {
     "data": {
      "text/plain": [
       "(24, 14)"
      ]
     },
     "execution_count": 56,
     "metadata": {},
     "output_type": "execute_result"
    }
   ],
   "source": [
    "KM.shape"
   ]
  },
  {
   "cell_type": "code",
   "execution_count": 60,
   "metadata": {},
   "outputs": [
    {
     "data": {
      "text/plain": [
       "array([2017, 2008, 2009, 2010, 2011, 2012, 2013, 2014, 2015, 2016, 2018,\n",
       "       2019], dtype=int64)"
      ]
     },
     "execution_count": 60,
     "metadata": {},
     "output_type": "execute_result"
    }
   ],
   "source": [
    "KM.season.unique()"
   ]
  },
  {
   "cell_type": "code",
   "execution_count": 61,
   "metadata": {},
   "outputs": [
    {
     "data": {
      "text/plain": [
       "season             0\n",
       "city               0\n",
       "date               0\n",
       "team1              0\n",
       "team2              0\n",
       "toss_winner        0\n",
       "toss_decision      0\n",
       "result             0\n",
       "dl_applied         0\n",
       "winner             0\n",
       "win_by_runs        0\n",
       "win_by_wickets     0\n",
       "player_of_match    0\n",
       "venue              0\n",
       "dtype: int64"
      ]
     },
     "execution_count": 61,
     "metadata": {},
     "output_type": "execute_result"
    }
   ],
   "source": [
    "KM.isnull().sum()"
   ]
  },
  {
   "cell_type": "code",
   "execution_count": 62,
   "metadata": {},
   "outputs": [
    {
     "data": {
      "text/html": [
       "<div>\n",
       "<style scoped>\n",
       "    .dataframe tbody tr th:only-of-type {\n",
       "        vertical-align: middle;\n",
       "    }\n",
       "\n",
       "    .dataframe tbody tr th {\n",
       "        vertical-align: top;\n",
       "    }\n",
       "\n",
       "    .dataframe thead th {\n",
       "        text-align: right;\n",
       "    }\n",
       "</style>\n",
       "<table border=\"1\" class=\"dataframe\">\n",
       "  <thead>\n",
       "    <tr style=\"text-align: right;\">\n",
       "      <th></th>\n",
       "      <th>count</th>\n",
       "      <th>mean</th>\n",
       "      <th>std</th>\n",
       "      <th>min</th>\n",
       "      <th>25%</th>\n",
       "      <th>50%</th>\n",
       "      <th>75%</th>\n",
       "      <th>max</th>\n",
       "    </tr>\n",
       "  </thead>\n",
       "  <tbody>\n",
       "    <tr>\n",
       "      <th>win_by_runs</th>\n",
       "      <td>24.0</td>\n",
       "      <td>12.458333</td>\n",
       "      <td>21.867147</td>\n",
       "      <td>0.0</td>\n",
       "      <td>0.0</td>\n",
       "      <td>0.5</td>\n",
       "      <td>19.25</td>\n",
       "      <td>76.0</td>\n",
       "    </tr>\n",
       "    <tr>\n",
       "      <th>win_by_wickets</th>\n",
       "      <td>24.0</td>\n",
       "      <td>3.000000</td>\n",
       "      <td>3.283688</td>\n",
       "      <td>0.0</td>\n",
       "      <td>0.0</td>\n",
       "      <td>1.5</td>\n",
       "      <td>6.00</td>\n",
       "      <td>8.0</td>\n",
       "    </tr>\n",
       "  </tbody>\n",
       "</table>\n",
       "</div>"
      ],
      "text/plain": [
       "                count       mean        std  min  25%  50%    75%   max\n",
       "win_by_runs      24.0  12.458333  21.867147  0.0  0.0  0.5  19.25  76.0\n",
       "win_by_wickets   24.0   3.000000   3.283688  0.0  0.0  1.5   6.00   8.0"
      ]
     },
     "execution_count": 62,
     "metadata": {},
     "output_type": "execute_result"
    }
   ],
   "source": [
    "KM.describe().iloc[:,2:].T"
   ]
  },
  {
   "cell_type": "markdown",
   "metadata": {},
   "source": [
    "## HEAD TO HEAD"
   ]
  },
  {
   "cell_type": "code",
   "execution_count": 63,
   "metadata": {},
   "outputs": [
    {
     "data": {
      "text/plain": [
       "winner\n",
       "Kings XI Punjab    11\n",
       "Mumbai Indians     13\n",
       "Name: winner, dtype: int64"
      ]
     },
     "execution_count": 63,
     "metadata": {},
     "output_type": "execute_result"
    }
   ],
   "source": [
    "KM.groupby(\"winner\")[\"winner\"].count()"
   ]
  },
  {
   "cell_type": "code",
   "execution_count": 27,
   "metadata": {},
   "outputs": [
    {
     "data": {
      "text/plain": [
       "Text(0.5, 1.0, 'KXIP VS MI - head to head')"
      ]
     },
     "execution_count": 27,
     "metadata": {},
     "output_type": "execute_result"
    },
    {
     "data": {
      "image/png": "[encoded data removed]",
      "text/plain": [
       "<Figure size 432x288 with 1 Axes>"
      ]
     },
     "metadata": {
      "needs_background": "light"
     },
     "output_type": "display_data"
    }
   ],
   "source": [
    "sns.countplot(KM[\"winner\"])\n",
    "plt.text(-0.09,11.8,str(KM['winner'].value_counts()['Mumbai Indians']),size=20,color='white')\n",
    "plt.text(0.95,9.8,str(KM['winner'].value_counts()['Kings XI Punjab']),size=20,color='white')\n",
    "plt.xlabel('Winner',fontsize=15)\n",
    "plt.ylabel('No. of Matches',fontsize=15)\n",
    "plt.title('KXIP VS MI - head to head',fontsize = 20)"
   ]
  },
  {
   "cell_type": "code",
   "execution_count": 64,
   "metadata": {},
   "outputs": [
    {
     "name": "stdout",
     "output_type": "stream",
     "text": [
      "Season wise winner of matches between KXIP and MI :\n"
     ]
    },
    {
     "data": {
      "text/html": [
       "<div>\n",
       "<style scoped>\n",
       "    .dataframe tbody tr th:only-of-type {\n",
       "        vertical-align: middle;\n",
       "    }\n",
       "\n",
       "    .dataframe tbody tr th {\n",
       "        vertical-align: top;\n",
       "    }\n",
       "\n",
       "    .dataframe thead th {\n",
       "        text-align: right;\n",
       "    }\n",
       "</style>\n",
       "<table border=\"1\" class=\"dataframe\">\n",
       "  <thead>\n",
       "    <tr style=\"text-align: right;\">\n",
       "      <th></th>\n",
       "      <th></th>\n",
       "      <th>winner</th>\n",
       "    </tr>\n",
       "    <tr>\n",
       "      <th>season</th>\n",
       "      <th>winner</th>\n",
       "      <th></th>\n",
       "    </tr>\n",
       "  </thead>\n",
       "  <tbody>\n",
       "    <tr>\n",
       "      <th>2008</th>\n",
       "      <th>Kings XI Punjab</th>\n",
       "      <td>2</td>\n",
       "    </tr>\n",
       "    <tr>\n",
       "      <th rowspan=\"2\" valign=\"top\">2009</th>\n",
       "      <th>Kings XI Punjab</th>\n",
       "      <td>1</td>\n",
       "    </tr>\n",
       "    <tr>\n",
       "      <th>Mumbai Indians</th>\n",
       "      <td>1</td>\n",
       "    </tr>\n",
       "    <tr>\n",
       "      <th rowspan=\"2\" valign=\"top\">2010</th>\n",
       "      <th>Kings XI Punjab</th>\n",
       "      <td>1</td>\n",
       "    </tr>\n",
       "    <tr>\n",
       "      <th>Mumbai Indians</th>\n",
       "      <td>1</td>\n",
       "    </tr>\n",
       "    <tr>\n",
       "      <th rowspan=\"2\" valign=\"top\">2011</th>\n",
       "      <th>Kings XI Punjab</th>\n",
       "      <td>1</td>\n",
       "    </tr>\n",
       "    <tr>\n",
       "      <th>Mumbai Indians</th>\n",
       "      <td>1</td>\n",
       "    </tr>\n",
       "    <tr>\n",
       "      <th rowspan=\"2\" valign=\"top\">2012</th>\n",
       "      <th>Kings XI Punjab</th>\n",
       "      <td>1</td>\n",
       "    </tr>\n",
       "    <tr>\n",
       "      <th>Mumbai Indians</th>\n",
       "      <td>1</td>\n",
       "    </tr>\n",
       "    <tr>\n",
       "      <th rowspan=\"2\" valign=\"top\">2013</th>\n",
       "      <th>Kings XI Punjab</th>\n",
       "      <td>1</td>\n",
       "    </tr>\n",
       "    <tr>\n",
       "      <th>Mumbai Indians</th>\n",
       "      <td>1</td>\n",
       "    </tr>\n",
       "    <tr>\n",
       "      <th>2014</th>\n",
       "      <th>Mumbai Indians</th>\n",
       "      <td>2</td>\n",
       "    </tr>\n",
       "    <tr>\n",
       "      <th rowspan=\"2\" valign=\"top\">2015</th>\n",
       "      <th>Kings XI Punjab</th>\n",
       "      <td>1</td>\n",
       "    </tr>\n",
       "    <tr>\n",
       "      <th>Mumbai Indians</th>\n",
       "      <td>1</td>\n",
       "    </tr>\n",
       "    <tr>\n",
       "      <th rowspan=\"2\" valign=\"top\">2016</th>\n",
       "      <th>Kings XI Punjab</th>\n",
       "      <td>1</td>\n",
       "    </tr>\n",
       "    <tr>\n",
       "      <th>Mumbai Indians</th>\n",
       "      <td>1</td>\n",
       "    </tr>\n",
       "    <tr>\n",
       "      <th rowspan=\"2\" valign=\"top\">2017</th>\n",
       "      <th>Kings XI Punjab</th>\n",
       "      <td>1</td>\n",
       "    </tr>\n",
       "    <tr>\n",
       "      <th>Mumbai Indians</th>\n",
       "      <td>1</td>\n",
       "    </tr>\n",
       "    <tr>\n",
       "      <th>2018</th>\n",
       "      <th>Mumbai Indians</th>\n",
       "      <td>2</td>\n",
       "    </tr>\n",
       "    <tr>\n",
       "      <th rowspan=\"2\" valign=\"top\">2019</th>\n",
       "      <th>Kings XI Punjab</th>\n",
       "      <td>1</td>\n",
       "    </tr>\n",
       "    <tr>\n",
       "      <th>Mumbai Indians</th>\n",
       "      <td>1</td>\n",
       "    </tr>\n",
       "  </tbody>\n",
       "</table>\n",
       "</div>"
      ],
      "text/plain": [
       "                        winner\n",
       "season winner                 \n",
       "2008   Kings XI Punjab       2\n",
       "2009   Kings XI Punjab       1\n",
       "       Mumbai Indians        1\n",
       "2010   Kings XI Punjab       1\n",
       "       Mumbai Indians        1\n",
       "2011   Kings XI Punjab       1\n",
       "       Mumbai Indians        1\n",
       "2012   Kings XI Punjab       1\n",
       "       Mumbai Indians        1\n",
       "2013   Kings XI Punjab       1\n",
       "       Mumbai Indians        1\n",
       "2014   Mumbai Indians        2\n",
       "2015   Kings XI Punjab       1\n",
       "       Mumbai Indians        1\n",
       "2016   Kings XI Punjab       1\n",
       "       Mumbai Indians        1\n",
       "2017   Kings XI Punjab       1\n",
       "       Mumbai Indians        1\n",
       "2018   Mumbai Indians        2\n",
       "2019   Kings XI Punjab       1\n",
       "       Mumbai Indians        1"
      ]
     },
     "execution_count": 64,
     "metadata": {},
     "output_type": "execute_result"
    }
   ],
   "source": [
    "Season_wise_Match_Winner = pd.DataFrame(KM.groupby([\"season\",\"winner\"])[\"winner\"].count())\n",
    "print(\"Season wise winner of matches between KXIP and MI :\")\n",
    "Season_wise_Match_Winner"
   ]
  },
  {
   "cell_type": "markdown",
   "metadata": {},
   "source": [
    "### Winning Percentage"
   ]
  },
  {
   "cell_type": "code",
   "execution_count": 69,
   "metadata": {},
   "outputs": [],
   "source": [
    "Winning_Percentage = KM['winner'].value_counts()/len(KM['winner'])"
   ]
  },
  {
   "cell_type": "code",
   "execution_count": 70,
   "metadata": {},
   "outputs": [
    {
     "name": "stdout",
     "output_type": "stream",
     "text": [
      " MI winning percentage against KXIP(overall) : 54%\n",
      "KXIP winning percentage against MI(overall) : 46%\n"
     ]
    }
   ],
   "source": [
    "print(\" MI winning percentage against KXIP(overall) : {}%\".format(int(round(Winning_Percentage[0]*100))))\n",
    "print(\"KXIP winning percentage against MI(overall) : {}%\".format(int(round(Winning_Percentage[1]*100))))"
   ]
  },
  {
   "cell_type": "markdown",
   "metadata": {},
   "source": [
    "### Performance Based Analysis"
   ]
  },
  {
   "cell_type": "code",
   "execution_count": 33,
   "metadata": {},
   "outputs": [],
   "source": [
    "def performance( team_name , given_df ):\n",
    "    for value in given_df.groupby('winner'):\n",
    "        if value[0] == team_name:\n",
    "\n",
    "            total_win_by_runs = sum(list(value[1]['win_by_runs']))\n",
    "            total_win_by_wickets = sum(list(value[1]['win_by_wickets']))\n",
    "            \n",
    "            if 0 in list(value[1]['win_by_runs'].value_counts().index):\n",
    "                x = value[1]['win_by_runs'].value_counts()[0]\n",
    "            else:\n",
    "                x = 0\n",
    "                \n",
    "            if 0 in list(value[1]['win_by_wickets'].value_counts().index):\n",
    "                y = value[1]['win_by_wickets'].value_counts()[0]\n",
    "            else:\n",
    "                y = 0\n",
    "                \n",
    "            number_of_times_given_team_win_while_defending = (len(value[1]) - x )\n",
    "            number_of_times_given_team_win_while_chasing = (len(value[1]) - y )\n",
    "            \n",
    "            average_runs_by_which_a_given_team_wins_while_defending = total_win_by_runs / number_of_times_given_team_win_while_defending\n",
    "            average_wickets_by_which_a_given_team_wins_while_chasing = total_win_by_wickets / number_of_times_given_team_win_while_chasing\n",
    "            \n",
    "            print('Number of times given team win while defending :' , number_of_times_given_team_win_while_defending ) \n",
    "            print('Number of times given team win while chasing   :' , number_of_times_given_team_win_while_chasing )\n",
    "            print()\n",
    "            print('Average runs by which a given team wins while defending  : ' ,round(average_runs_by_which_a_given_team_wins_while_defending))\n",
    "            print('Average wickets by which a given team wins while chasing : ' ,round(average_wickets_by_which_a_given_team_wins_while_chasing))"
   ]
  },
  {
   "cell_type": "code",
   "execution_count": 35,
   "metadata": {},
   "outputs": [
    {
     "name": "stdout",
     "output_type": "stream",
     "text": [
      "Number of times given team win while defending : 5\n",
      "Number of times given team win while chasing   : 8\n",
      "\n",
      "Average runs by which a given team wins while defending  :  16.0\n",
      "Average wickets by which a given team wins while chasing :  6.0\n"
     ]
    }
   ],
   "source": [
    "performance(\"Mumbai Indians\",KM)"
   ]
  },
  {
   "cell_type": "code",
   "execution_count": 36,
   "metadata": {},
   "outputs": [
    {
     "name": "stdout",
     "output_type": "stream",
     "text": [
      "Number of times given team win while defending : 7\n",
      "Number of times given team win while chasing   : 4\n",
      "\n",
      "Average runs by which a given team wins while defending  :  32.0\n",
      "Average wickets by which a given team wins while chasing :  7.0\n"
     ]
    }
   ],
   "source": [
    "performance(\"Kings XI Punjab\",KM)"
   ]
  },
  {
   "cell_type": "markdown",
   "metadata": {},
   "source": [
    "## Toss Analysis"
   ]
  },
  {
   "cell_type": "code",
   "execution_count": 38,
   "metadata": {},
   "outputs": [
    {
     "name": "stdout",
     "output_type": "stream",
     "text": [
      "Toss winner decision :\n"
     ]
    },
    {
     "data": {
      "text/html": [
       "<div>\n",
       "<style scoped>\n",
       "    .dataframe tbody tr th:only-of-type {\n",
       "        vertical-align: middle;\n",
       "    }\n",
       "\n",
       "    .dataframe tbody tr th {\n",
       "        vertical-align: top;\n",
       "    }\n",
       "\n",
       "    .dataframe thead th {\n",
       "        text-align: right;\n",
       "    }\n",
       "</style>\n",
       "<table border=\"1\" class=\"dataframe\">\n",
       "  <thead>\n",
       "    <tr style=\"text-align: right;\">\n",
       "      <th></th>\n",
       "      <th></th>\n",
       "      <th>toss_decision</th>\n",
       "    </tr>\n",
       "    <tr>\n",
       "      <th>toss_winner</th>\n",
       "      <th>toss_decision</th>\n",
       "      <th></th>\n",
       "    </tr>\n",
       "  </thead>\n",
       "  <tbody>\n",
       "    <tr>\n",
       "      <th rowspan=\"2\" valign=\"top\">Kings XI Punjab</th>\n",
       "      <th>bat</th>\n",
       "      <td>4</td>\n",
       "    </tr>\n",
       "    <tr>\n",
       "      <th>field</th>\n",
       "      <td>4</td>\n",
       "    </tr>\n",
       "    <tr>\n",
       "      <th rowspan=\"2\" valign=\"top\">Mumbai Indians</th>\n",
       "      <th>bat</th>\n",
       "      <td>5</td>\n",
       "    </tr>\n",
       "    <tr>\n",
       "      <th>field</th>\n",
       "      <td>11</td>\n",
       "    </tr>\n",
       "  </tbody>\n",
       "</table>\n",
       "</div>"
      ],
      "text/plain": [
       "                               toss_decision\n",
       "toss_winner     toss_decision               \n",
       "Kings XI Punjab bat                        4\n",
       "                field                      4\n",
       "Mumbai Indians  bat                        5\n",
       "                field                     11"
      ]
     },
     "execution_count": 38,
     "metadata": {},
     "output_type": "execute_result"
    }
   ],
   "source": [
    "Toss_Decision = pd.DataFrame(KM.groupby(['toss_winner',\"toss_decision\"])[\"toss_decision\"].count())\n",
    "\n",
    "print (\"Toss winner decision :\")\n",
    "Toss_Decision "
   ]
  },
  {
   "cell_type": "code",
   "execution_count": 39,
   "metadata": {},
   "outputs": [
    {
     "data": {
      "image/png": "[encoded data removed]",
      "text/plain": [
       "<Figure size 1296x576 with 1 Axes>"
      ]
     },
     "metadata": {},
     "output_type": "display_data"
    }
   ],
   "source": [
    "sns.set(style='whitegrid')\n",
    "plt.figure(figsize = (18,8))\n",
    "sns.countplot(KM['toss_winner'],palette='Set2',hue=KM['toss_decision'])\n",
    "plt.title('Toss decision statistics for both team',fontsize=15)\n",
    "plt.yticks(fontsize=15)\n",
    "plt.xticks(fontsize=15)\n",
    "plt.xlabel('Toss winner',fontsize=15)\n",
    "plt.ylabel('Count',fontsize=15)\n",
    "plt.legend(loc='best',fontsize=15)\n",
    "plt.show()"
   ]
  },
  {
   "cell_type": "code",
   "execution_count": 37,
   "metadata": {},
   "outputs": [
    {
     "name": "stdout",
     "output_type": "stream",
     "text": [
      " No of times toss winning decision leading to match winning : \n"
     ]
    },
    {
     "data": {
      "text/html": [
       "<div>\n",
       "<style scoped>\n",
       "    .dataframe tbody tr th:only-of-type {\n",
       "        vertical-align: middle;\n",
       "    }\n",
       "\n",
       "    .dataframe tbody tr th {\n",
       "        vertical-align: top;\n",
       "    }\n",
       "\n",
       "    .dataframe thead th {\n",
       "        text-align: right;\n",
       "    }\n",
       "</style>\n",
       "<table border=\"1\" class=\"dataframe\">\n",
       "  <thead>\n",
       "    <tr style=\"text-align: right;\">\n",
       "      <th></th>\n",
       "      <th></th>\n",
       "      <th></th>\n",
       "      <th>winner</th>\n",
       "    </tr>\n",
       "    <tr>\n",
       "      <th>toss_winner</th>\n",
       "      <th>toss_decision</th>\n",
       "      <th>winner</th>\n",
       "      <th></th>\n",
       "    </tr>\n",
       "  </thead>\n",
       "  <tbody>\n",
       "    <tr>\n",
       "      <th rowspan=\"4\" valign=\"top\">Kings XI Punjab</th>\n",
       "      <th rowspan=\"2\" valign=\"top\">bat</th>\n",
       "      <th>Kings XI Punjab</th>\n",
       "      <td>1</td>\n",
       "    </tr>\n",
       "    <tr>\n",
       "      <th>Mumbai Indians</th>\n",
       "      <td>3</td>\n",
       "    </tr>\n",
       "    <tr>\n",
       "      <th rowspan=\"2\" valign=\"top\">field</th>\n",
       "      <th>Kings XI Punjab</th>\n",
       "      <td>1</td>\n",
       "    </tr>\n",
       "    <tr>\n",
       "      <th>Mumbai Indians</th>\n",
       "      <td>3</td>\n",
       "    </tr>\n",
       "    <tr>\n",
       "      <th rowspan=\"4\" valign=\"top\">Mumbai Indians</th>\n",
       "      <th rowspan=\"2\" valign=\"top\">bat</th>\n",
       "      <th>Kings XI Punjab</th>\n",
       "      <td>3</td>\n",
       "    </tr>\n",
       "    <tr>\n",
       "      <th>Mumbai Indians</th>\n",
       "      <td>2</td>\n",
       "    </tr>\n",
       "    <tr>\n",
       "      <th rowspan=\"2\" valign=\"top\">field</th>\n",
       "      <th>Kings XI Punjab</th>\n",
       "      <td>6</td>\n",
       "    </tr>\n",
       "    <tr>\n",
       "      <th>Mumbai Indians</th>\n",
       "      <td>5</td>\n",
       "    </tr>\n",
       "  </tbody>\n",
       "</table>\n",
       "</div>"
      ],
      "text/plain": [
       "                                               winner\n",
       "toss_winner     toss_decision winner                 \n",
       "Kings XI Punjab bat           Kings XI Punjab       1\n",
       "                              Mumbai Indians        3\n",
       "                field         Kings XI Punjab       1\n",
       "                              Mumbai Indians        3\n",
       "Mumbai Indians  bat           Kings XI Punjab       3\n",
       "                              Mumbai Indians        2\n",
       "                field         Kings XI Punjab       6\n",
       "                              Mumbai Indians        5"
      ]
     },
     "execution_count": 37,
     "metadata": {},
     "output_type": "execute_result"
    }
   ],
   "source": [
    "Toss_Decision_based_Winner = pd.DataFrame(KM.groupby(['toss_winner',\"toss_decision\",\"winner\"])[\"winner\"].count())\n",
    "\n",
    "print(\" No of times toss winning decision leading to match winning : \")\n",
    "Toss_Decision_based_Winner"
   ]
  },
  {
   "cell_type": "code",
   "execution_count": 40,
   "metadata": {},
   "outputs": [
    {
     "data": {
      "text/plain": [
       "<matplotlib.legend.Legend at 0x22c4e7c0340>"
      ]
     },
     "execution_count": 40,
     "metadata": {},
     "output_type": "execute_result"
    },
    {
     "data": {
      "image/png": "[encoded data removed]",
      "text/plain": [
       "<Figure size 1296x648 with 1 Axes>"
      ]
     },
     "metadata": {},
     "output_type": "display_data"
    }
   ],
   "source": [
    "sns.set(style='whitegrid')\n",
    "plt.figure(figsize = (18,9))\n",
    "sns.countplot(KM['toss_winner'],hue=KM['winner'])\n",
    "plt.title('Match Winner vs Toss Winner statistics for both team',fontsize=15)\n",
    "plt.yticks(fontsize=15)\n",
    "plt.xticks(fontsize=15)\n",
    "plt.xlabel('Toss winner',fontsize=15)\n",
    "plt.ylabel('Match Winner',fontsize=15)\n",
    "plt.legend(loc=\"best\",fontsize=15)"
   ]
  },
  {
   "cell_type": "markdown",
   "metadata": {},
   "source": [
    "From the above analysis we can see a reverse pattern which we saw earlier also in few matches . Though it's not a full proof conclusion but we can see a pattern that when toss is won by MI majority matches went in favour of KXIP and same opposite happened when toss is won by KXIP , major matches are won by MI."
   ]
  },
  {
   "cell_type": "markdown",
   "metadata": {},
   "source": [
    "#### Toss Decision based Analysis of both the teams seperately :"
   ]
  },
  {
   "cell_type": "code",
   "execution_count": 71,
   "metadata": {},
   "outputs": [],
   "source": [
    "KXIP = KM[KM[\"toss_winner\"]==\"Kings XI Punjab\"]\n",
    "MI = KM[KM[\"toss_winner\"]==\"Mumbai Indians\"]"
   ]
  },
  {
   "cell_type": "code",
   "execution_count": 72,
   "metadata": {},
   "outputs": [
    {
     "data": {
      "text/plain": [
       "<matplotlib.legend.Legend at 0x22c4f11ad00>"
      ]
     },
     "execution_count": 72,
     "metadata": {},
     "output_type": "execute_result"
    },
    {
     "data": {
      "image/png": "[encoded data removed]",
      "text/plain": [
       "<Figure size 1296x648 with 1 Axes>"
      ]
     },
     "metadata": {},
     "output_type": "display_data"
    }
   ],
   "source": [
    "sns.set(style='whitegrid')\n",
    "plt.figure(figsize = (18,9))\n",
    "sns.countplot(KXIP['toss_decision'],hue=KXIP['winner'])\n",
    "plt.title('Match Winner vs Toss Winner statistics for KXIP',fontsize=15)\n",
    "plt.yticks(fontsize=15)\n",
    "plt.xticks(fontsize=15)\n",
    "plt.xlabel('Toss decision of KXIP',fontsize=15)\n",
    "plt.ylabel('Match Winner',fontsize=15)\n",
    "plt.legend(loc=1,fontsize=15)"
   ]
  },
  {
   "cell_type": "code",
   "execution_count": 73,
   "metadata": {},
   "outputs": [
    {
     "data": {
      "text/plain": [
       "<matplotlib.legend.Legend at 0x22c4f3d4d00>"
      ]
     },
     "execution_count": 73,
     "metadata": {},
     "output_type": "execute_result"
    },
    {
     "data": {
      "image/png": "[encoded data removed]",
      "text/plain": [
       "<Figure size 1296x648 with 1 Axes>"
      ]
     },
     "metadata": {},
     "output_type": "display_data"
    }
   ],
   "source": [
    "sns.set(style='whitegrid')\n",
    "plt.figure(figsize = (18,9))\n",
    "sns.countplot(MI['toss_decision'],hue=MI['winner'])\n",
    "plt.title('Match Winner vs Toss Winner statistics for MI',fontsize=15)\n",
    "plt.yticks(fontsize=15)\n",
    "plt.xticks(fontsize=15)\n",
    "plt.xlabel('Toss decision of MI',fontsize=15)\n",
    "plt.ylabel('Match Winner',fontsize=15)\n",
    "plt.legend(loc=1,fontsize=15)"
   ]
  },
  {
   "cell_type": "code",
   "execution_count": 74,
   "metadata": {},
   "outputs": [
    {
     "name": "stdout",
     "output_type": "stream",
     "text": [
      "Man of the match :\n"
     ]
    },
    {
     "data": {
      "text/html": [
       "<div>\n",
       "<style scoped>\n",
       "    .dataframe tbody tr th:only-of-type {\n",
       "        vertical-align: middle;\n",
       "    }\n",
       "\n",
       "    .dataframe tbody tr th {\n",
       "        vertical-align: top;\n",
       "    }\n",
       "\n",
       "    .dataframe thead th {\n",
       "        text-align: right;\n",
       "    }\n",
       "</style>\n",
       "<table border=\"1\" class=\"dataframe\">\n",
       "  <thead>\n",
       "    <tr style=\"text-align: right;\">\n",
       "      <th></th>\n",
       "      <th>player_of_match</th>\n",
       "    </tr>\n",
       "  </thead>\n",
       "  <tbody>\n",
       "    <tr>\n",
       "      <th>KC Sangakkara</th>\n",
       "      <td>3</td>\n",
       "    </tr>\n",
       "    <tr>\n",
       "      <th>LMP Simmons</th>\n",
       "      <td>2</td>\n",
       "    </tr>\n",
       "    <tr>\n",
       "      <th>KA Pollard</th>\n",
       "      <td>2</td>\n",
       "    </tr>\n",
       "    <tr>\n",
       "      <th>SE Marsh</th>\n",
       "      <td>2</td>\n",
       "    </tr>\n",
       "    <tr>\n",
       "      <th>BA Bhatt</th>\n",
       "      <td>1</td>\n",
       "    </tr>\n",
       "    <tr>\n",
       "      <th>AS Yadav</th>\n",
       "      <td>1</td>\n",
       "    </tr>\n",
       "    <tr>\n",
       "      <th>CJ Anderson</th>\n",
       "      <td>1</td>\n",
       "    </tr>\n",
       "    <tr>\n",
       "      <th>AT Rayudu</th>\n",
       "      <td>1</td>\n",
       "    </tr>\n",
       "    <tr>\n",
       "      <th>Harbhajan Singh</th>\n",
       "      <td>1</td>\n",
       "    </tr>\n",
       "    <tr>\n",
       "      <th>MA Agarwal</th>\n",
       "      <td>1</td>\n",
       "    </tr>\n",
       "    <tr>\n",
       "      <th>SL Malinga</th>\n",
       "      <td>1</td>\n",
       "    </tr>\n",
       "    <tr>\n",
       "      <th>MP Stoinis</th>\n",
       "      <td>1</td>\n",
       "    </tr>\n",
       "    <tr>\n",
       "      <th>JC Buttler</th>\n",
       "      <td>1</td>\n",
       "    </tr>\n",
       "    <tr>\n",
       "      <th>JJ Bumrah</th>\n",
       "      <td>1</td>\n",
       "    </tr>\n",
       "    <tr>\n",
       "      <th>RG Sharma</th>\n",
       "      <td>1</td>\n",
       "    </tr>\n",
       "    <tr>\n",
       "      <th>WP Saha</th>\n",
       "      <td>1</td>\n",
       "    </tr>\n",
       "    <tr>\n",
       "      <th>GJ Bailey</th>\n",
       "      <td>1</td>\n",
       "    </tr>\n",
       "    <tr>\n",
       "      <th>PA Patel</th>\n",
       "      <td>1</td>\n",
       "    </tr>\n",
       "    <tr>\n",
       "      <th>Azhar Mahmood</th>\n",
       "      <td>1</td>\n",
       "    </tr>\n",
       "  </tbody>\n",
       "</table>\n",
       "</div>"
      ],
      "text/plain": [
       "                 player_of_match\n",
       "KC Sangakkara                  3\n",
       "LMP Simmons                    2\n",
       "KA Pollard                     2\n",
       "SE Marsh                       2\n",
       "BA Bhatt                       1\n",
       "AS Yadav                       1\n",
       "CJ Anderson                    1\n",
       "AT Rayudu                      1\n",
       "Harbhajan Singh                1\n",
       "MA Agarwal                     1\n",
       "SL Malinga                     1\n",
       "MP Stoinis                     1\n",
       "JC Buttler                     1\n",
       "JJ Bumrah                      1\n",
       "RG Sharma                      1\n",
       "WP Saha                        1\n",
       "GJ Bailey                      1\n",
       "PA Patel                       1\n",
       "Azhar Mahmood                  1"
      ]
     },
     "execution_count": 74,
     "metadata": {},
     "output_type": "execute_result"
    }
   ],
   "source": [
    "player_of_the_match = pd.DataFrame(KM.player_of_match.value_counts())\n",
    "\n",
    "print(\"Man of the match :\")\n",
    "\n",
    "player_of_the_match"
   ]
  },
  {
   "cell_type": "markdown",
   "metadata": {},
   "source": [
    "## Recent Year Performance Analysis"
   ]
  },
  {
   "cell_type": "code",
   "execution_count": 46,
   "metadata": {},
   "outputs": [
    {
     "data": {
      "text/html": [
       "<div>\n",
       "<style scoped>\n",
       "    .dataframe tbody tr th:only-of-type {\n",
       "        vertical-align: middle;\n",
       "    }\n",
       "\n",
       "    .dataframe tbody tr th {\n",
       "        vertical-align: top;\n",
       "    }\n",
       "\n",
       "    .dataframe thead th {\n",
       "        text-align: right;\n",
       "    }\n",
       "</style>\n",
       "<table border=\"1\" class=\"dataframe\">\n",
       "  <thead>\n",
       "    <tr style=\"text-align: right;\">\n",
       "      <th></th>\n",
       "      <th>season</th>\n",
       "      <th>city</th>\n",
       "      <th>date</th>\n",
       "      <th>team1</th>\n",
       "      <th>team2</th>\n",
       "      <th>toss_winner</th>\n",
       "      <th>toss_decision</th>\n",
       "      <th>result</th>\n",
       "      <th>dl_applied</th>\n",
       "      <th>winner</th>\n",
       "      <th>win_by_runs</th>\n",
       "      <th>win_by_wickets</th>\n",
       "      <th>player_of_match</th>\n",
       "      <th>venue</th>\n",
       "    </tr>\n",
       "    <tr>\n",
       "      <th>id</th>\n",
       "      <th></th>\n",
       "      <th></th>\n",
       "      <th></th>\n",
       "      <th></th>\n",
       "      <th></th>\n",
       "      <th></th>\n",
       "      <th></th>\n",
       "      <th></th>\n",
       "      <th></th>\n",
       "      <th></th>\n",
       "      <th></th>\n",
       "      <th></th>\n",
       "      <th></th>\n",
       "      <th></th>\n",
       "    </tr>\n",
       "  </thead>\n",
       "  <tbody>\n",
       "    <tr>\n",
       "      <th>22</th>\n",
       "      <td>2017</td>\n",
       "      <td>Indore</td>\n",
       "      <td>2017-04-20</td>\n",
       "      <td>Kings XI Punjab</td>\n",
       "      <td>Mumbai Indians</td>\n",
       "      <td>Mumbai Indians</td>\n",
       "      <td>field</td>\n",
       "      <td>normal</td>\n",
       "      <td>0</td>\n",
       "      <td>Mumbai Indians</td>\n",
       "      <td>0</td>\n",
       "      <td>8</td>\n",
       "      <td>JC Buttler</td>\n",
       "      <td>Holkar Cricket Stadium</td>\n",
       "    </tr>\n",
       "    <tr>\n",
       "      <th>50</th>\n",
       "      <td>2017</td>\n",
       "      <td>Mumbai</td>\n",
       "      <td>2017-05-11</td>\n",
       "      <td>Kings XI Punjab</td>\n",
       "      <td>Mumbai Indians</td>\n",
       "      <td>Mumbai Indians</td>\n",
       "      <td>field</td>\n",
       "      <td>normal</td>\n",
       "      <td>0</td>\n",
       "      <td>Kings XI Punjab</td>\n",
       "      <td>7</td>\n",
       "      <td>0</td>\n",
       "      <td>WP Saha</td>\n",
       "      <td>Wankhede Stadium</td>\n",
       "    </tr>\n",
       "    <tr>\n",
       "      <th>524</th>\n",
       "      <td>2015</td>\n",
       "      <td>Mumbai</td>\n",
       "      <td>2015-04-12</td>\n",
       "      <td>Kings XI Punjab</td>\n",
       "      <td>Mumbai Indians</td>\n",
       "      <td>Mumbai Indians</td>\n",
       "      <td>field</td>\n",
       "      <td>normal</td>\n",
       "      <td>0</td>\n",
       "      <td>Kings XI Punjab</td>\n",
       "      <td>18</td>\n",
       "      <td>0</td>\n",
       "      <td>GJ Bailey</td>\n",
       "      <td>Wankhede Stadium</td>\n",
       "    </tr>\n",
       "    <tr>\n",
       "      <th>552</th>\n",
       "      <td>2015</td>\n",
       "      <td>Chandigarh</td>\n",
       "      <td>2015-05-03</td>\n",
       "      <td>Mumbai Indians</td>\n",
       "      <td>Kings XI Punjab</td>\n",
       "      <td>Mumbai Indians</td>\n",
       "      <td>bat</td>\n",
       "      <td>normal</td>\n",
       "      <td>0</td>\n",
       "      <td>Mumbai Indians</td>\n",
       "      <td>23</td>\n",
       "      <td>0</td>\n",
       "      <td>LMP Simmons</td>\n",
       "      <td>Punjab Cricket Association Stadium, Mohali</td>\n",
       "    </tr>\n",
       "    <tr>\n",
       "      <th>597</th>\n",
       "      <td>2016</td>\n",
       "      <td>Chandigarh</td>\n",
       "      <td>2016-04-25</td>\n",
       "      <td>Mumbai Indians</td>\n",
       "      <td>Kings XI Punjab</td>\n",
       "      <td>Kings XI Punjab</td>\n",
       "      <td>field</td>\n",
       "      <td>normal</td>\n",
       "      <td>0</td>\n",
       "      <td>Mumbai Indians</td>\n",
       "      <td>25</td>\n",
       "      <td>0</td>\n",
       "      <td>PA Patel</td>\n",
       "      <td>Punjab Cricket Association IS Bindra Stadium, ...</td>\n",
       "    </tr>\n",
       "    <tr>\n",
       "      <th>619</th>\n",
       "      <td>2016</td>\n",
       "      <td>Visakhapatnam</td>\n",
       "      <td>2016-05-13</td>\n",
       "      <td>Mumbai Indians</td>\n",
       "      <td>Kings XI Punjab</td>\n",
       "      <td>Mumbai Indians</td>\n",
       "      <td>bat</td>\n",
       "      <td>normal</td>\n",
       "      <td>0</td>\n",
       "      <td>Kings XI Punjab</td>\n",
       "      <td>0</td>\n",
       "      <td>7</td>\n",
       "      <td>MP Stoinis</td>\n",
       "      <td>Dr. Y.S. Rajasekhara Reddy ACA-VDCA Cricket St...</td>\n",
       "    </tr>\n",
       "    <tr>\n",
       "      <th>7927</th>\n",
       "      <td>2018</td>\n",
       "      <td>Indore</td>\n",
       "      <td>04/05/18</td>\n",
       "      <td>Kings XI Punjab</td>\n",
       "      <td>Mumbai Indians</td>\n",
       "      <td>Mumbai Indians</td>\n",
       "      <td>field</td>\n",
       "      <td>normal</td>\n",
       "      <td>0</td>\n",
       "      <td>Mumbai Indians</td>\n",
       "      <td>0</td>\n",
       "      <td>6</td>\n",
       "      <td>AS Yadav</td>\n",
       "      <td>Holkar Cricket Stadium</td>\n",
       "    </tr>\n",
       "    <tr>\n",
       "      <th>7943</th>\n",
       "      <td>2018</td>\n",
       "      <td>Mumbai</td>\n",
       "      <td>16/05/18</td>\n",
       "      <td>Mumbai Indians</td>\n",
       "      <td>Kings XI Punjab</td>\n",
       "      <td>Kings XI Punjab</td>\n",
       "      <td>field</td>\n",
       "      <td>normal</td>\n",
       "      <td>0</td>\n",
       "      <td>Mumbai Indians</td>\n",
       "      <td>3</td>\n",
       "      <td>0</td>\n",
       "      <td>JJ Bumrah</td>\n",
       "      <td>Wankhede Stadium</td>\n",
       "    </tr>\n",
       "    <tr>\n",
       "      <th>11145</th>\n",
       "      <td>2019</td>\n",
       "      <td>Mohali</td>\n",
       "      <td>30/03/19</td>\n",
       "      <td>Mumbai Indians</td>\n",
       "      <td>Kings XI Punjab</td>\n",
       "      <td>Kings XI Punjab</td>\n",
       "      <td>field</td>\n",
       "      <td>normal</td>\n",
       "      <td>0</td>\n",
       "      <td>Kings XI Punjab</td>\n",
       "      <td>0</td>\n",
       "      <td>8</td>\n",
       "      <td>MA Agarwal</td>\n",
       "      <td>IS Bindra Stadium</td>\n",
       "    </tr>\n",
       "    <tr>\n",
       "      <th>11315</th>\n",
       "      <td>2019</td>\n",
       "      <td>Mumbai</td>\n",
       "      <td>10/04/19</td>\n",
       "      <td>Kings XI Punjab</td>\n",
       "      <td>Mumbai Indians</td>\n",
       "      <td>Mumbai Indians</td>\n",
       "      <td>field</td>\n",
       "      <td>normal</td>\n",
       "      <td>0</td>\n",
       "      <td>Mumbai Indians</td>\n",
       "      <td>0</td>\n",
       "      <td>3</td>\n",
       "      <td>KA Pollard</td>\n",
       "      <td>Wankhede Stadium</td>\n",
       "    </tr>\n",
       "  </tbody>\n",
       "</table>\n",
       "</div>"
      ],
      "text/plain": [
       "       season           city        date            team1            team2  \\\n",
       "id                                                                           \n",
       "22       2017         Indore  2017-04-20  Kings XI Punjab   Mumbai Indians   \n",
       "50       2017         Mumbai  2017-05-11  Kings XI Punjab   Mumbai Indians   \n",
       "524      2015         Mumbai  2015-04-12  Kings XI Punjab   Mumbai Indians   \n",
       "552      2015     Chandigarh  2015-05-03   Mumbai Indians  Kings XI Punjab   \n",
       "597      2016     Chandigarh  2016-04-25   Mumbai Indians  Kings XI Punjab   \n",
       "619      2016  Visakhapatnam  2016-05-13   Mumbai Indians  Kings XI Punjab   \n",
       "7927     2018         Indore    04/05/18  Kings XI Punjab   Mumbai Indians   \n",
       "7943     2018         Mumbai    16/05/18   Mumbai Indians  Kings XI Punjab   \n",
       "11145    2019         Mohali    30/03/19   Mumbai Indians  Kings XI Punjab   \n",
       "11315    2019         Mumbai    10/04/19  Kings XI Punjab   Mumbai Indians   \n",
       "\n",
       "           toss_winner toss_decision  result  dl_applied           winner  \\\n",
       "id                                                                          \n",
       "22      Mumbai Indians         field  normal           0   Mumbai Indians   \n",
       "50      Mumbai Indians         field  normal           0  Kings XI Punjab   \n",
       "524     Mumbai Indians         field  normal           0  Kings XI Punjab   \n",
       "552     Mumbai Indians           bat  normal           0   Mumbai Indians   \n",
       "597    Kings XI Punjab         field  normal           0   Mumbai Indians   \n",
       "619     Mumbai Indians           bat  normal           0  Kings XI Punjab   \n",
       "7927    Mumbai Indians         field  normal           0   Mumbai Indians   \n",
       "7943   Kings XI Punjab         field  normal           0   Mumbai Indians   \n",
       "11145  Kings XI Punjab         field  normal           0  Kings XI Punjab   \n",
       "11315   Mumbai Indians         field  normal           0   Mumbai Indians   \n",
       "\n",
       "       win_by_runs  win_by_wickets player_of_match  \\\n",
       "id                                                   \n",
       "22               0               8      JC Buttler   \n",
       "50               7               0         WP Saha   \n",
       "524             18               0       GJ Bailey   \n",
       "552             23               0     LMP Simmons   \n",
       "597             25               0        PA Patel   \n",
       "619              0               7      MP Stoinis   \n",
       "7927             0               6        AS Yadav   \n",
       "7943             3               0       JJ Bumrah   \n",
       "11145            0               8      MA Agarwal   \n",
       "11315            0               3      KA Pollard   \n",
       "\n",
       "                                                   venue  \n",
       "id                                                        \n",
       "22                                Holkar Cricket Stadium  \n",
       "50                                      Wankhede Stadium  \n",
       "524                                     Wankhede Stadium  \n",
       "552           Punjab Cricket Association Stadium, Mohali  \n",
       "597    Punjab Cricket Association IS Bindra Stadium, ...  \n",
       "619    Dr. Y.S. Rajasekhara Reddy ACA-VDCA Cricket St...  \n",
       "7927                              Holkar Cricket Stadium  \n",
       "7943                                    Wankhede Stadium  \n",
       "11145                                  IS Bindra Stadium  \n",
       "11315                                   Wankhede Stadium  "
      ]
     },
     "execution_count": 46,
     "metadata": {},
     "output_type": "execute_result"
    }
   ],
   "source": [
    "cond1 = KM[\"season\"] == 2015\n",
    "cond2 = KM[\"season\"] == 2016\n",
    "cond3 = KM[\"season\"] == 2017\n",
    "cond4 = KM[\"season\"] == 2018\n",
    "cond5 = KM[\"season\"] == 2019\n",
    "final = KM[cond1 | cond2 | cond3 | cond4 | cond5]\n",
    "final"
   ]
  },
  {
   "cell_type": "code",
   "execution_count": 47,
   "metadata": {},
   "outputs": [
    {
     "data": {
      "text/plain": [
       "(10, 14)"
      ]
     },
     "execution_count": 47,
     "metadata": {},
     "output_type": "execute_result"
    }
   ],
   "source": [
    "final.shape"
   ]
  },
  {
   "cell_type": "code",
   "execution_count": 48,
   "metadata": {},
   "outputs": [
    {
     "name": "stdout",
     "output_type": "stream",
     "text": [
      "Man of the match :\n"
     ]
    },
    {
     "data": {
      "text/html": [
       "<div>\n",
       "<style scoped>\n",
       "    .dataframe tbody tr th:only-of-type {\n",
       "        vertical-align: middle;\n",
       "    }\n",
       "\n",
       "    .dataframe tbody tr th {\n",
       "        vertical-align: top;\n",
       "    }\n",
       "\n",
       "    .dataframe thead th {\n",
       "        text-align: right;\n",
       "    }\n",
       "</style>\n",
       "<table border=\"1\" class=\"dataframe\">\n",
       "  <thead>\n",
       "    <tr style=\"text-align: right;\">\n",
       "      <th></th>\n",
       "      <th>player_of_match</th>\n",
       "    </tr>\n",
       "  </thead>\n",
       "  <tbody>\n",
       "    <tr>\n",
       "      <th>GJ Bailey</th>\n",
       "      <td>1</td>\n",
       "    </tr>\n",
       "    <tr>\n",
       "      <th>MA Agarwal</th>\n",
       "      <td>1</td>\n",
       "    </tr>\n",
       "    <tr>\n",
       "      <th>PA Patel</th>\n",
       "      <td>1</td>\n",
       "    </tr>\n",
       "    <tr>\n",
       "      <th>JJ Bumrah</th>\n",
       "      <td>1</td>\n",
       "    </tr>\n",
       "    <tr>\n",
       "      <th>JC Buttler</th>\n",
       "      <td>1</td>\n",
       "    </tr>\n",
       "    <tr>\n",
       "      <th>WP Saha</th>\n",
       "      <td>1</td>\n",
       "    </tr>\n",
       "    <tr>\n",
       "      <th>MP Stoinis</th>\n",
       "      <td>1</td>\n",
       "    </tr>\n",
       "    <tr>\n",
       "      <th>LMP Simmons</th>\n",
       "      <td>1</td>\n",
       "    </tr>\n",
       "    <tr>\n",
       "      <th>AS Yadav</th>\n",
       "      <td>1</td>\n",
       "    </tr>\n",
       "    <tr>\n",
       "      <th>KA Pollard</th>\n",
       "      <td>1</td>\n",
       "    </tr>\n",
       "  </tbody>\n",
       "</table>\n",
       "</div>"
      ],
      "text/plain": [
       "             player_of_match\n",
       "GJ Bailey                  1\n",
       "MA Agarwal                 1\n",
       "PA Patel                   1\n",
       "JJ Bumrah                  1\n",
       "JC Buttler                 1\n",
       "WP Saha                    1\n",
       "MP Stoinis                 1\n",
       "LMP Simmons                1\n",
       "AS Yadav                   1\n",
       "KA Pollard                 1"
      ]
     },
     "execution_count": 48,
     "metadata": {},
     "output_type": "execute_result"
    }
   ],
   "source": [
    "player = pd.DataFrame(final.player_of_match.value_counts())\n",
    "\n",
    "print(\"Man of the match :\")\n",
    "player"
   ]
  },
  {
   "cell_type": "code",
   "execution_count": 49,
   "metadata": {},
   "outputs": [
    {
     "data": {
      "image/png": "[encoded data removed]",
      "text/plain": [
       "<Figure size 720x432 with 1 Axes>"
      ]
     },
     "metadata": {},
     "output_type": "display_data"
    }
   ],
   "source": [
    "plt.figure(figsize = (10,6))\n",
    "sns.countplot(final['winner'])\n",
    "plt.title('Match won in recent years',fontsize=15)\n",
    "plt.yticks(fontsize=15)\n",
    "plt.xticks(fontsize=15)\n",
    "plt.xlabel('Team',fontsize=15)\n",
    "plt.ylabel('Win Count',fontsize=15)\n",
    "#plt.legend(loc=1,fontsize=15)\n",
    "\n",
    "plt.show()"
   ]
  },
  {
   "cell_type": "markdown",
   "metadata": {},
   "source": [
    "From all the above analysis related to head to head , toss decision , toss winner to match winner ratio , reverse pattern which we observed etc we can predict that MI will be favorite for this match but taking in consideration toss based winning difference for both the teams also i.e. KXIP has better records when defending the score and similarly MI has better records while chasing the score, this is contradictory in itself.\n",
    "\n",
    "Based on all this observation and analysis we can predict KXIP can have better chance to win if they chase the score and same for MI also if they chase the score.\n",
    "\n"
   ]
  }
 ],
 "metadata": {
  "kernelspec": {
   "display_name": "Python 3",
   "language": "python",
   "name": "python3"
  },
  "language_info": {
   "codemirror_mode": {
    "name": "ipython",
    "version": 3
   },
   "file_extension": ".py",
   "mimetype": "text/x-python",
   "name": "python",
   "nbconvert_exporter": "python",
   "pygments_lexer": "ipython3",
   "version": "3.8.3"
  }
 },
 "nbformat": 4,
 "nbformat_minor": 4
}
