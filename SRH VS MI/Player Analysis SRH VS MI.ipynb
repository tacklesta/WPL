{
 "cells": [
  {
   "cell_type": "markdown",
   "metadata": {},
   "source": [
    "# Player Analysis"
   ]
  },
  {
   "cell_type": "code",
   "execution_count": 1,
   "metadata": {},
   "outputs": [],
   "source": [
    "import numpy as np\n",
    "import pandas as pd\n",
    "import matplotlib.pyplot as plt\n",
    "import seaborn as sns\n",
    "import warnings \n",
    "warnings.filterwarnings(\"ignore\")\n",
    "\n",
    "\n",
    "%matplotlib inline"
   ]
  },
  {
   "cell_type": "markdown",
   "metadata": {},
   "source": [
    "## Data Cleaning and Exploration"
   ]
  },
  {
   "cell_type": "code",
   "execution_count": 2,
   "metadata": {},
   "outputs": [],
   "source": [
    "df1 = pd.read_csv(\"matches.csv\")\n",
    "df2 = pd.read_csv(\"deliveries.csv\")\n",
    "\n",
    "df1.rename(columns={\"id\" : 'match_id'}, inplace=True)\n",
    "\n",
    "matches= pd.merge(df1, df2, on='match_id', how='outer')"
   ]
  },
  {
   "cell_type": "code",
   "execution_count": 3,
   "metadata": {},
   "outputs": [
    {
     "data": {
      "text/plain": [
       "Index(['match_id', 'season', 'city', 'date', 'team1', 'team2', 'toss_winner',\n",
       "       'toss_decision', 'result', 'dl_applied', 'winner', 'win_by_runs',\n",
       "       'win_by_wickets', 'player_of_match', 'venue', 'umpire1', 'umpire2',\n",
       "       'umpire3', 'inning', 'batting_team', 'bowling_team', 'over', 'ball',\n",
       "       'batsman', 'non_striker', 'bowler', 'is_super_over', 'wide_runs',\n",
       "       'bye_runs', 'legbye_runs', 'noball_runs', 'penalty_runs',\n",
       "       'batsman_runs', 'extra_runs', 'total_runs', 'player_dismissed',\n",
       "       'dismissal_kind', 'fielder'],\n",
       "      dtype='object')"
      ]
     },
     "execution_count": 3,
     "metadata": {},
     "output_type": "execute_result"
    }
   ],
   "source": [
    "matches.columns"
   ]
  },
  {
   "cell_type": "code",
   "execution_count": 4,
   "metadata": {},
   "outputs": [
    {
     "data": {
      "text/plain": [
       "(179078, 26)"
      ]
     },
     "execution_count": 4,
     "metadata": {},
     "output_type": "execute_result"
    }
   ],
   "source": [
    "matches = matches[['match_id', 'season','team1', 'team2', 'toss_winner','toss_decision','dl_applied','winner',\n",
    "       'inning', 'batting_team', 'bowling_team', 'over', 'ball',\n",
    "       'batsman','non_striker', 'bowler','wide_runs','bye_runs', 'legbye_runs','noball_runs','penalty_runs',\n",
    "       'batsman_runs', 'extra_runs', 'total_runs', 'player_dismissed',\n",
    "       'dismissal_kind']]\n",
    "\n",
    "matches.shape"
   ]
  },
  {
   "cell_type": "markdown",
   "metadata": {},
   "source": [
    "## Taking in conisderation SRH VS MI matches"
   ]
  },
  {
   "cell_type": "code",
   "execution_count": 5,
   "metadata": {},
   "outputs": [],
   "source": [
    "SRH_MI = matches[np.logical_or(np.logical_and(matches['team1']=='Sunrisers Hyderabad',matches['team2']=='Mumbai Indians'),\n",
    "                            np.logical_and(matches['team2']=='Sunrisers Hyderabad',matches['team1']=='Mumbai Indians'))]"
   ]
  },
  {
   "cell_type": "code",
   "execution_count": 7,
   "metadata": {},
   "outputs": [
    {
     "data": {
      "text/plain": [
       "14"
      ]
     },
     "execution_count": 7,
     "metadata": {},
     "output_type": "execute_result"
    }
   ],
   "source": [
    "SRH_MI.match_id.nunique()"
   ]
  },
  {
   "cell_type": "code",
   "execution_count": 8,
   "metadata": {},
   "outputs": [
    {
     "data": {
      "text/plain": [
       "array([2017, 2013, 2014, 2015, 2016, 2018, 2019], dtype=int64)"
      ]
     },
     "execution_count": 8,
     "metadata": {},
     "output_type": "execute_result"
    }
   ],
   "source": [
    "SRH_MI.season.unique()"
   ]
  },
  {
   "cell_type": "markdown",
   "metadata": {},
   "source": [
    "## Stamina Score"
   ]
  },
  {
   "cell_type": "code",
   "execution_count": 539,
   "metadata": {},
   "outputs": [],
   "source": [
    "def stamina_score (player_name,opposition_team):\n",
    "    \n",
    "    #batsman runs\n",
    "    player = matches[(matches[\"bowling_team\"]==opposition_team)&(matches[\"batsman\"]==player_name)]\n",
    "\n",
    "    player_runs= player[player[\"wide_runs\"]==0]\n",
    "\n",
    "    batsman_runs = player_runs.groupby([\"match_id\"]).agg({\"batsman_runs\":\"sum\",\"ball\":\"count\"})\n",
    "    \n",
    "    batsman_runs.columns = [\"batsman_runs\",\"total balls\"]\n",
    "\n",
    "    \n",
    "    #player on crease\n",
    "    crease = matches[(matches[\"batsman\"]==player_name)|(matches[\"non_striker\"]==player_name)]\n",
    "    \n",
    "    crease = crease[(crease[\"wide_runs\"]==0)&(crease[\"noball_runs\"]==0)]\n",
    "    \n",
    "    player_on_crease = pd.DataFrame(crease.groupby([\"match_id\"])[\"ball\"].count())\n",
    "\n",
    "    player_on_crease.columns = [\"player_on_crease\"]\n",
    "    \n",
    "    \n",
    "    #boundaries runs\n",
    "    player_boundaries = player_runs[(player_runs[\"batsman_runs\"]==4)|(player_runs[\"batsman_runs\"]==6)]\n",
    "\n",
    "    boundary_runs = pd.DataFrame(player_boundaries.groupby([\"match_id\"])[\"batsman_runs\"].sum())\n",
    "\n",
    "    boundary_runs.columns = [\"boundary runs\"]\n",
    "    \n",
    "    #runs by 1,2 and 3\n",
    "    player_running = player_runs[(player_runs[\"batsman_runs\"]==1)|(player_runs[\"batsman_runs\"]==2)|(player_runs[\"batsman_runs\"]==3)]\n",
    "\n",
    "    batsman_running = pd.DataFrame(player_running.groupby([\"match_id\"])[\"batsman_runs\"].sum())\n",
    "\n",
    "    batsman_running.columns = [\"running runs\"]\n",
    "    \n",
    "    \n",
    "    #merging the data\n",
    "    final = pd.merge(batsman_runs,player_on_crease,on=\"match_id\",how =\"inner\")\n",
    "    final = pd.merge(final,boundary_runs,on=\"match_id\",how =\"outer\") \n",
    "    final = pd.merge(final,batsman_running,on=\"match_id\",how =\"outer\")\n",
    "\n",
    "    final[\"boundary runs\"].fillna(0, inplace = True)\n",
    "    final[\"running runs\"].fillna(0, inplace = True)\n",
    "    final[\"batsman_runs\"].fillna(0, inplace = True)\n",
    "\n",
    "    final = final[final[\"batsman_runs\"]>15]\n",
    "    \n",
    "    final[\"Stamina Score\"] = ((final[\"running runs\"]/(final[\"boundary runs\"]+1))+(final[\"total balls\"]/final[\"player_on_crease\"])) / final[\"batsman_runs\"]\n",
    "    \n",
    "    \n",
    "    stamina_player = sum(final['Stamina Score'])/len(final['Stamina Score'])\n",
    "    return stamina_player"
   ]
  },
  {
   "cell_type": "markdown",
   "metadata": {},
   "source": [
    "- Batsman"
   ]
  },
  {
   "cell_type": "code",
   "execution_count": 600,
   "metadata": {},
   "outputs": [],
   "source": [
    "warner = round(stamina_score(\"DA Warner\",\"Mumbai Indians\"),2)\n",
    "\n",
    "quinton = round(stamina_score(\"Q de Kock\",\"Sunrisers Hyderabad\"),2)\n",
    "\n",
    "williamson = round(stamina_score(\"KS Williamson\",\"Mumbai Indians\"),2)\n",
    "\n",
    "ishan = round(stamina_score(\"Ishan Kishan\",\"Sunrisers Hyderabad\"),2)\n",
    "\n",
    "pollard = round(stamina_score(\"KA Pollard\",\"Sunrisers Hyderabad\"),2)\n",
    "\n",
    "manish = round(stamina_score(\"MK Pandey\",\"Mumbai Indians\"),2)\n",
    "\n",
    "saha = round(stamina_score(\"WP Saha\",\"Mumbai Indians\"),2)\n",
    "\n",
    "surya = round(stamina_score(\"SA Yadav\",\"Sunrisers Hyderabad\"),2)\n",
    "\n",
    "hardik = round(stamina_score(\"HH Pandya\",\"Sunrisers Hyderabad\"),2)\n",
    "\n",
    "bairstow = round(stamina_score(\"J Bairstow\",\"Mumbai Indians\"),2)\n",
    "\n",
    "rohit = round(stamina_score(\"RG Sharma\",\"Sunrisers Hyderabad\"),2)"
   ]
  },
  {
   "cell_type": "code",
   "execution_count": 601,
   "metadata": {},
   "outputs": [
    {
     "data": {
      "text/html": [
       "<div>\n",
       "<style scoped>\n",
       "    .dataframe tbody tr th:only-of-type {\n",
       "        vertical-align: middle;\n",
       "    }\n",
       "\n",
       "    .dataframe tbody tr th {\n",
       "        vertical-align: top;\n",
       "    }\n",
       "\n",
       "    .dataframe thead th {\n",
       "        text-align: right;\n",
       "    }\n",
       "</style>\n",
       "<table border=\"1\" class=\"dataframe\">\n",
       "  <thead>\n",
       "    <tr style=\"text-align: right;\">\n",
       "      <th></th>\n",
       "      <th>Stamina Score</th>\n",
       "    </tr>\n",
       "  </thead>\n",
       "  <tbody>\n",
       "    <tr>\n",
       "      <th>0</th>\n",
       "      <td>0.04</td>\n",
       "    </tr>\n",
       "    <tr>\n",
       "      <th>1</th>\n",
       "      <td>0.03</td>\n",
       "    </tr>\n",
       "    <tr>\n",
       "      <th>2</th>\n",
       "      <td>0.03</td>\n",
       "    </tr>\n",
       "    <tr>\n",
       "      <th>3</th>\n",
       "      <td>0.05</td>\n",
       "    </tr>\n",
       "    <tr>\n",
       "      <th>4</th>\n",
       "      <td>0.02</td>\n",
       "    </tr>\n",
       "    <tr>\n",
       "      <th>5</th>\n",
       "      <td>0.13</td>\n",
       "    </tr>\n",
       "    <tr>\n",
       "      <th>6</th>\n",
       "      <td>0.03</td>\n",
       "    </tr>\n",
       "    <tr>\n",
       "      <th>7</th>\n",
       "      <td>0.07</td>\n",
       "    </tr>\n",
       "    <tr>\n",
       "      <th>8</th>\n",
       "      <td>0.04</td>\n",
       "    </tr>\n",
       "    <tr>\n",
       "      <th>9</th>\n",
       "      <td>0.05</td>\n",
       "    </tr>\n",
       "    <tr>\n",
       "      <th>10</th>\n",
       "      <td>0.05</td>\n",
       "    </tr>\n",
       "  </tbody>\n",
       "</table>\n",
       "</div>"
      ],
      "text/plain": [
       "    Stamina Score\n",
       "0            0.04\n",
       "1            0.03\n",
       "2            0.03\n",
       "3            0.05\n",
       "4            0.02\n",
       "5            0.13\n",
       "6            0.03\n",
       "7            0.07\n",
       "8            0.04\n",
       "9            0.05\n",
       "10           0.05"
      ]
     },
     "execution_count": 601,
     "metadata": {},
     "output_type": "execute_result"
    }
   ],
   "source": [
    "batsman = [warner,quinton,williamson,ishan,pollard,manish,saha,surya,hardik,bairstow,rohit]\n",
    "\n",
    "SS_batsman = pd.DataFrame(batsman)\n",
    "\n",
    "SS_batsman.columns = [\"Stamina Score\"]\n",
    "\n",
    "SS_batsman"
   ]
  },
  {
   "cell_type": "markdown",
   "metadata": {},
   "source": [
    "### Final SS"
   ]
  },
  {
   "cell_type": "markdown",
   "metadata": {},
   "source": [
    "- Warner"
   ]
  },
  {
   "cell_type": "code",
   "execution_count": 602,
   "metadata": {},
   "outputs": [
    {
     "name": "stdout",
     "output_type": "stream",
     "text": [
      "SS for Warner: 0.18\n"
     ]
    }
   ],
   "source": [
    "final_warner = (warner - min(SS_batsman[\"Stamina Score\"])) / (max(SS_batsman[\"Stamina Score\"]) - min(SS_batsman[\"Stamina Score\"]))\n",
    "print(\"SS for Warner:\",round(final_warner,2))"
   ]
  },
  {
   "cell_type": "markdown",
   "metadata": {},
   "source": [
    "- Quinton de Kock"
   ]
  },
  {
   "cell_type": "code",
   "execution_count": 603,
   "metadata": {},
   "outputs": [
    {
     "name": "stdout",
     "output_type": "stream",
     "text": [
      "SS for QDK: 0.09\n"
     ]
    }
   ],
   "source": [
    "final_quinton = (quinton - min(SS_batsman[\"Stamina Score\"])) / (max(SS_batsman[\"Stamina Score\"]) - min(SS_batsman[\"Stamina Score\"]))\n",
    "print(\"SS for QDK:\",round(final_quinton,2))"
   ]
  },
  {
   "cell_type": "markdown",
   "metadata": {},
   "source": [
    "- Williamson"
   ]
  },
  {
   "cell_type": "code",
   "execution_count": 604,
   "metadata": {},
   "outputs": [
    {
     "name": "stdout",
     "output_type": "stream",
     "text": [
      "SS for Williamson: 0.09\n"
     ]
    }
   ],
   "source": [
    "final_kane = (williamson - min(SS_batsman[\"Stamina Score\"])) / (max(SS_batsman[\"Stamina Score\"]) - min(SS_batsman[\"Stamina Score\"]))\n",
    "print(\"SS for Williamson:\",round(final_kane,2))"
   ]
  },
  {
   "cell_type": "markdown",
   "metadata": {},
   "source": [
    "- Ishan Kishan"
   ]
  },
  {
   "cell_type": "code",
   "execution_count": 605,
   "metadata": {},
   "outputs": [
    {
     "name": "stdout",
     "output_type": "stream",
     "text": [
      "SS for Ishan : 0.27\n"
     ]
    }
   ],
   "source": [
    "final_kishan = (ishan - min(SS_batsman[\"Stamina Score\"])) / (max(SS_batsman[\"Stamina Score\"]) - min(SS_batsman[\"Stamina Score\"]))\n",
    "print(\"SS for Ishan :\",round(final_kishan,2))"
   ]
  },
  {
   "cell_type": "markdown",
   "metadata": {},
   "source": [
    "- Pollard "
   ]
  },
  {
   "cell_type": "code",
   "execution_count": 606,
   "metadata": {},
   "outputs": [
    {
     "name": "stdout",
     "output_type": "stream",
     "text": [
      "SS for Pollard: 0.0\n"
     ]
    }
   ],
   "source": [
    "final_pollard = (pollard - min(SS_batsman[\"Stamina Score\"])) / (max(SS_batsman[\"Stamina Score\"]) - min(SS_batsman[\"Stamina Score\"]))\n",
    "print(\"SS for Pollard:\",round(final_pollard,2))"
   ]
  },
  {
   "cell_type": "markdown",
   "metadata": {},
   "source": [
    "- Manish Pandey"
   ]
  },
  {
   "cell_type": "code",
   "execution_count": 607,
   "metadata": {},
   "outputs": [
    {
     "name": "stdout",
     "output_type": "stream",
     "text": [
      "SS for Manish: 1.0\n"
     ]
    }
   ],
   "source": [
    "final_manish = (manish - min(SS_batsman[\"Stamina Score\"])) / (max(SS_batsman[\"Stamina Score\"]) - min(SS_batsman[\"Stamina Score\"]))\n",
    "print(\"SS for Manish:\",round(final_manish,2))"
   ]
  },
  {
   "cell_type": "markdown",
   "metadata": {},
   "source": [
    "- Saha"
   ]
  },
  {
   "cell_type": "code",
   "execution_count": 608,
   "metadata": {},
   "outputs": [
    {
     "name": "stdout",
     "output_type": "stream",
     "text": [
      "SS for Saha: 0.09\n"
     ]
    }
   ],
   "source": [
    "final_saha = (saha - min(SS_batsman[\"Stamina Score\"])) / (max(SS_batsman[\"Stamina Score\"]) - min(SS_batsman[\"Stamina Score\"]))\n",
    "print(\"SS for Saha:\",round(final_saha,2))"
   ]
  },
  {
   "cell_type": "markdown",
   "metadata": {},
   "source": [
    "- S Yadav"
   ]
  },
  {
   "cell_type": "code",
   "execution_count": 609,
   "metadata": {},
   "outputs": [
    {
     "name": "stdout",
     "output_type": "stream",
     "text": [
      "SS for S Yadav: 0.45\n"
     ]
    }
   ],
   "source": [
    "final_surya = (surya - min(SS_batsman[\"Stamina Score\"])) / (max(SS_batsman[\"Stamina Score\"]) - min(SS_batsman[\"Stamina Score\"]))\n",
    "print(\"SS for S Yadav:\",round(final_surya,2))"
   ]
  },
  {
   "cell_type": "markdown",
   "metadata": {},
   "source": [
    "- Hardik Pandya"
   ]
  },
  {
   "cell_type": "code",
   "execution_count": 610,
   "metadata": {},
   "outputs": [
    {
     "name": "stdout",
     "output_type": "stream",
     "text": [
      "SS for Hardik: 0.18\n"
     ]
    }
   ],
   "source": [
    "final_hardik = (hardik - min(SS_batsman[\"Stamina Score\"])) / (max(SS_batsman[\"Stamina Score\"]) - min(SS_batsman[\"Stamina Score\"]))\n",
    "print(\"SS for Hardik:\",round(final_hardik,2))"
   ]
  },
  {
   "cell_type": "markdown",
   "metadata": {},
   "source": [
    "- Bairstow"
   ]
  },
  {
   "cell_type": "code",
   "execution_count": 611,
   "metadata": {},
   "outputs": [
    {
     "name": "stdout",
     "output_type": "stream",
     "text": [
      "SS for Bairstow: 0.27\n"
     ]
    }
   ],
   "source": [
    "final_bairstow = (bairstow - min(SS_batsman[\"Stamina Score\"])) / (max(SS_batsman[\"Stamina Score\"]) - min(SS_batsman[\"Stamina Score\"]))\n",
    "print(\"SS for Bairstow:\",round(final_bairstow,2))"
   ]
  },
  {
   "cell_type": "markdown",
   "metadata": {},
   "source": [
    "- Rohit Sharma"
   ]
  },
  {
   "cell_type": "code",
   "execution_count": 612,
   "metadata": {},
   "outputs": [
    {
     "name": "stdout",
     "output_type": "stream",
     "text": [
      "SS for Rohit: 0.27\n"
     ]
    }
   ],
   "source": [
    "final_rohit = (rohit - min(SS_batsman[\"Stamina Score\"])) / (max(SS_batsman[\"Stamina Score\"]) - min(SS_batsman[\"Stamina Score\"]))\n",
    "print(\"SS for Rohit:\",round(final_rohit,2))"
   ]
  },
  {
   "cell_type": "markdown",
   "metadata": {},
   "source": [
    "So from all the above Stamina score that we have calculated for varius players, we can predict that Surya Kumar Yadav and Manish Pandey can have higher stamina score "
   ]
  },
  {
   "cell_type": "markdown",
   "metadata": {},
   "source": [
    "## Smash rate"
   ]
  },
  {
   "cell_type": "code",
   "execution_count": 129,
   "metadata": {},
   "outputs": [],
   "source": [
    "def smash_rate(player_name, opposition_team):\n",
    "    \n",
    "    #batsman runs and balls faced\n",
    "    player = matches[(matches[\"bowling_team\"]==opposition_team)&(matches[\"batsman\"]==player_name)]\n",
    "\n",
    "    player = player[player[\"wide_runs\"]==0]\n",
    "\n",
    "    batsman_runs = player.groupby([\"match_id\"]).agg({\"batsman_runs\":\"sum\",\"ball\":\"count\"})\n",
    "    \n",
    "    #batsman boundaries count\n",
    "    player_boundaries = player[(player[\"batsman_runs\"]==4)|(player[\"batsman_runs\"]==6)]\n",
    "\n",
    "    boundary_runs = pd.DataFrame(player_boundaries.groupby([\"match_id\"])[\"batsman_runs\"].count())\n",
    "\n",
    "    boundary_runs.columns = [\"boundary count\"]\n",
    "    \n",
    "    #merging the data together\n",
    "    final = pd.merge(batsman_runs,boundary_runs, on = \"match_id\", how = \"outer\")\n",
    "    \n",
    "    final[\"boundary count\"].fillna(0, inplace = True)\n",
    "    \n",
    "    final[\"batsman_runs\"].fillna(0, inplace = True)\n",
    "    \n",
    "    #smash rate\n",
    "    final[\"smash_rate\"] = (final[\"boundary count\"]/final [\"ball\"])*100\n",
    "    print(final)\n",
    "    print(\" \")\n",
    "    \n",
    "    #visualization\n",
    "    plt.figure(figsize = (25,18))\n",
    "    plt.subplot(3,3,1)\n",
    "    sns.kdeplot(final[\"smash_rate\"])\n",
    "    plt.subplot(3,3,2)\n",
    "    sns.boxplot(final[\"smash_rate\"])\n",
    "\n",
    "    smash_player = sum(final[\"smash_rate\"])/len(final[\"smash_rate\"])\n",
    "    print(\"Average Smash Rate :\",round(smash_player,2))"
   ]
  },
  {
   "cell_type": "markdown",
   "metadata": {},
   "source": [
    "- Ishan Kishan"
   ]
  },
  {
   "cell_type": "code",
   "execution_count": 130,
   "metadata": {},
   "outputs": [
    {
     "name": "stdout",
     "output_type": "stream",
     "text": [
      "          batsman_runs  ball  boundary count  smash_rate\n",
      "match_id                                                \n",
      "52                  61    40             9.0   22.500000\n",
      "7900                13     9             3.0   33.333333\n",
      "7916                 0     3             0.0    0.000000\n",
      "11310               17    21             2.0    9.523810\n",
      " \n",
      "Average Smash Rate : 16.34\n"
     ]
    },
    {
     "data": {
      "image/png": "[encoded data removed]",
      "text/plain": [
       "<Figure size 1800x1296 with 2 Axes>"
      ]
     },
     "metadata": {
      "needs_background": "light"
     },
     "output_type": "display_data"
    }
   ],
   "source": [
    "smash_rate(\"Ishan Kishan\",\"Sunrisers Hyderabad\")"
   ]
  },
  {
   "cell_type": "markdown",
   "metadata": {},
   "source": [
    "- David Warner"
   ]
  },
  {
   "cell_type": "code",
   "execution_count": 131,
   "metadata": {},
   "outputs": [
    {
     "name": "stdout",
     "output_type": "stream",
     "text": [
      "          batsman_runs  ball  boundary count  smash_rate\n",
      "match_id                                                \n",
      "10                  49    34             9.0   26.470588\n",
      "47                   6     6             1.0   16.666667\n",
      "150                 21    30             1.0    3.333333\n",
      "170                 15     9             2.0   22.222222\n",
      "221                 31    15             6.0   40.000000\n",
      "238                  1     3             0.0    0.000000\n",
      "282                  1     2             0.0    0.000000\n",
      "390                 61    37             9.0   24.324324\n",
      "408                  7     5             1.0   20.000000\n",
      "477                 65    51             5.0    9.803922\n",
      "493                 55    31             8.0   25.806452\n",
      "541                  9     7             2.0   28.571429\n",
      "572                  6     5             1.0   20.000000\n",
      "588                 90    59            11.0   18.644068\n",
      "613                 48    33             8.0   24.242424\n",
      "11310               16    13             2.0   15.384615\n",
      " \n",
      "Average Smash Rate : 18.47\n"
     ]
    },
    {
     "data": {
      "image/png": "[encoded data removed]",
      "text/plain": [
       "<Figure size 1800x1296 with 2 Axes>"
      ]
     },
     "metadata": {
      "needs_background": "light"
     },
     "output_type": "display_data"
    }
   ],
   "source": [
    "smash_rate(\"DA Warner\",\"Mumbai Indians\")"
   ]
  },
  {
   "cell_type": "markdown",
   "metadata": {},
   "source": [
    "- Pollard"
   ]
  },
  {
   "cell_type": "code",
   "execution_count": 132,
   "metadata": {},
   "outputs": [
    {
     "name": "stdout",
     "output_type": "stream",
     "text": [
      "          batsman_runs  ball  boundary count  smash_rate\n",
      "match_id                                                \n",
      "10                  11    11             1.0    9.090909\n",
      "47                   5     9             0.0    0.000000\n",
      "423                 14    19             1.0    5.263158\n",
      "444                 66    27            10.0   37.037037\n",
      "477                 78    48             9.0   18.750000\n",
      "493                  6     7             0.0    0.000000\n",
      "541                 33    24             4.0   16.666667\n",
      "613                 11    13             2.0   15.384615\n",
      "7900                28    23             5.0   21.739130\n",
      "7916                 9     6             1.0   16.666667\n",
      "11310               47    26             6.0   23.076923\n",
      "11342               12    10             1.0   10.000000\n",
      " \n",
      "Average Smash Rate : 14.47\n"
     ]
    },
    {
     "data": {
      "image/png": "[encoded data removed]",
      "text/plain": [
       "<Figure size 1800x1296 with 2 Axes>"
      ]
     },
     "metadata": {
      "needs_background": "light"
     },
     "output_type": "display_data"
    }
   ],
   "source": [
    "smash_rate(\"KA Pollard\",\"Sunrisers Hyderabad\")"
   ]
  },
  {
   "cell_type": "markdown",
   "metadata": {},
   "source": [
    "- Manish Pandey"
   ]
  },
  {
   "cell_type": "code",
   "execution_count": 133,
   "metadata": {},
   "outputs": [
    {
     "name": "stdout",
     "output_type": "stream",
     "text": [
      "          batsman_runs  ball  boundary count  smash_rate\n",
      "match_id                                                \n",
      "7                   81    47            10.0   21.276596\n",
      "53                  33    33             2.0    6.060606\n",
      "188                 40    27             5.0   18.518519\n",
      "226                 16    18             2.0   11.111111\n",
      "231                  5     9             0.0    0.000000\n",
      "277                 59    47             7.0   14.893617\n",
      "310                  0     5             0.0    0.000000\n",
      "439                 29    29             2.0    6.896552\n",
      "458                 64    53             8.0   15.094340\n",
      "497                 14    21             0.0    0.000000\n",
      "518                 40    24             5.0   20.833333\n",
      "567                  1     1             0.0    0.000000\n",
      "581                 52    29             6.0   20.689655\n",
      "7900                11     8             1.0   12.500000\n",
      "7916                16    11             3.0   27.272727\n",
      "11310               16    21             0.0    0.000000\n",
      "11342               72    47            10.0   21.276596\n",
      " \n",
      "Average Smash Rate : 11.55\n"
     ]
    },
    {
     "data": {
      "image/png": "[encoded data removed]",
      "text/plain": [
       "<Figure size 1800x1296 with 2 Axes>"
      ]
     },
     "metadata": {
      "needs_background": "light"
     },
     "output_type": "display_data"
    }
   ],
   "source": [
    "smash_rate('MK Pandey',\"Mumbai Indians\")"
   ]
  },
  {
   "cell_type": "markdown",
   "metadata": {},
   "source": [
    "- Quinton de Kock"
   ]
  },
  {
   "cell_type": "code",
   "execution_count": 552,
   "metadata": {},
   "outputs": [
    {
     "name": "stdout",
     "output_type": "stream",
     "text": [
      "          batsman_runs  ball  boundary count  smash_rate\n",
      "match_id                                                \n",
      "469                 48    30             7.0   23.333333\n",
      "489                  7    12             0.0    0.000000\n",
      "561                 50    31            10.0   32.258065\n",
      "618                 44    31             7.0   22.580645\n",
      "628                  2     9             0.0    0.000000\n",
      "11310               19    18             2.0   11.111111\n",
      "11342               75    58             8.0   13.793103\n",
      " \n",
      "Average Smash Rate : 14.73\n"
     ]
    },
    {
     "data": {
      "image/png": "[encoded data removed]",
      "text/plain": [
       "<Figure size 1800x1296 with 2 Axes>"
      ]
     },
     "metadata": {
      "needs_background": "light"
     },
     "output_type": "display_data"
    }
   ],
   "source": [
    "smash_rate('Q de Kock',\"Sunrisers Hyderabad\")"
   ]
  },
  {
   "cell_type": "markdown",
   "metadata": {},
   "source": [
    "- Hardik Pandya"
   ]
  },
  {
   "cell_type": "code",
   "execution_count": 554,
   "metadata": {},
   "outputs": [
    {
     "name": "stdout",
     "output_type": "stream",
     "text": [
      "          batsman_runs  ball  boundary count  smash_rate\n",
      "match_id                                                \n",
      "10                   2     3             0.0    0.000000\n",
      "47                  15    24             0.0    0.000000\n",
      "588                  2     5             0.0    0.000000\n",
      "613                  7    16             0.0    0.000000\n",
      "7916                 4    19             0.0    0.000000\n",
      "11310               14    14             1.0    7.142857\n",
      "11342               25    12             3.0   25.000000\n",
      " \n",
      "Average Smash Rate : 4.59\n"
     ]
    },
    {
     "data": {
      "image/png": "[encoded data removed]",
      "text/plain": [
       "<Figure size 1800x1296 with 2 Axes>"
      ]
     },
     "metadata": {
      "needs_background": "light"
     },
     "output_type": "display_data"
    }
   ],
   "source": [
    "smash_rate(\"HH Pandya\",\"Sunrisers Hyderabad\")"
   ]
  },
  {
   "cell_type": "markdown",
   "metadata": {},
   "source": [
    "- Surya Kumar Yadav"
   ]
  },
  {
   "cell_type": "code",
   "execution_count": 555,
   "metadata": {},
   "outputs": [
    {
     "name": "stdout",
     "output_type": "stream",
     "text": [
      "          batsman_runs  ball  boundary count  smash_rate\n",
      "match_id                                                \n",
      "14                   4     3             1.0   33.333333\n",
      "511                 12     5             2.0   40.000000\n",
      "537                  2     2             0.0    0.000000\n",
      "555                  6     3             1.0   33.333333\n",
      "631                  6     3             1.0   33.333333\n",
      "634                 23    15             2.0   13.333333\n",
      " \n",
      "Average Smash Rate : 25.56\n"
     ]
    },
    {
     "data": {
      "image/png": "[encoded data removed]",
      "text/plain": [
       "<Figure size 1800x1296 with 2 Axes>"
      ]
     },
     "metadata": {
      "needs_background": "light"
     },
     "output_type": "display_data"
    }
   ],
   "source": [
    "smash_rate(\"SA Yadav\",\"Sunrisers Hyderabad\")"
   ]
  },
  {
   "cell_type": "markdown",
   "metadata": {},
   "source": [
    "- W Saha"
   ]
  },
  {
   "cell_type": "code",
   "execution_count": 557,
   "metadata": {},
   "outputs": [
    {
     "name": "stdout",
     "output_type": "stream",
     "text": [
      "          batsman_runs  ball  boundary count  smash_rate\n",
      "match_id                                                \n",
      "22                  11    15             0.0    0.000000\n",
      "50                  93    55            14.0   25.454545\n",
      "99                   1     6             0.0    0.000000\n",
      "138                  8     4             1.0   25.000000\n",
      "479                 59    47             7.0   14.893617\n",
      "505                  3     8             0.0    0.000000\n",
      "552                 12    12             1.0    8.333333\n",
      "619                 56    40             7.0   17.500000\n",
      "7900                22    20             3.0   15.000000\n",
      "7916                 0     2             0.0    0.000000\n",
      "11342               25    15             5.0   33.333333\n",
      " \n",
      "Average Smash Rate : 12.68\n"
     ]
    },
    {
     "data": {
      "image/png": "[encoded data removed]",
      "text/plain": [
       "<Figure size 1800x1296 with 2 Axes>"
      ]
     },
     "metadata": {
      "needs_background": "light"
     },
     "output_type": "display_data"
    }
   ],
   "source": [
    "smash_rate(\"WP Saha\",\"Mumbai Indians\")"
   ]
  },
  {
   "cell_type": "markdown",
   "metadata": {},
   "source": [
    "- Kane Williamson"
   ]
  },
  {
   "cell_type": "code",
   "execution_count": 559,
   "metadata": {},
   "outputs": [
    {
     "name": "stdout",
     "output_type": "stream",
     "text": [
      "          batsman_runs  ball  boundary count  smash_rate\n",
      "match_id                                                \n",
      "613                  2     5             0.0    0.000000\n",
      "7900                 6     4             1.0   25.000000\n",
      "7916                29    21             5.0   23.809524\n",
      "11342                3     7             0.0    0.000000\n",
      " \n",
      "Average Smash Rate : 12.2\n"
     ]
    },
    {
     "data": {
      "image/png": "[encoded data removed]",
      "text/plain": [
       "<Figure size 1800x1296 with 2 Axes>"
      ]
     },
     "metadata": {
      "needs_background": "light"
     },
     "output_type": "display_data"
    }
   ],
   "source": [
    "smash_rate(\"KS Williamson\",\"Mumbai Indians\")"
   ]
  },
  {
   "cell_type": "markdown",
   "metadata": {},
   "source": [
    "- Rohit Sharma"
   ]
  },
  {
   "cell_type": "code",
   "execution_count": 613,
   "metadata": {},
   "outputs": [
    {
     "name": "stdout",
     "output_type": "stream",
     "text": [
      "          batsman_runs  ball  boundary count  smash_rate\n",
      "match_id                                                \n",
      "10                   4     4             0.0    0.000000\n",
      "47                  67    45             8.0   17.777778\n",
      "423                 22    22             2.0    9.090909\n",
      "444                 20    15             2.0   13.333333\n",
      "477                  1     5             0.0    0.000000\n",
      "493                 14     6             3.0   50.000000\n",
      "541                 24    15             3.0   20.000000\n",
      "572                  7     2             1.0   50.000000\n",
      "588                  5     8             0.0    0.000000\n",
      "613                  5     3             1.0   33.333333\n",
      "7900                11    10             2.0   20.000000\n",
      "7916                 2     6             0.0    0.000000\n",
      "11310               11    14             1.0    7.142857\n",
      "11342               24    18             5.0   27.777778\n",
      " \n",
      "Average Smash Rate : 17.75\n"
     ]
    },
    {
     "data": {
      "image/png": "[encoded data removed]",
      "text/plain": [
       "<Figure size 1800x1296 with 2 Axes>"
      ]
     },
     "metadata": {
      "needs_background": "light"
     },
     "output_type": "display_data"
    }
   ],
   "source": [
    "smash_rate(\"RG Sharma\",\"Sunrisers Hyderabad\")"
   ]
  },
  {
   "cell_type": "markdown",
   "metadata": {},
   "source": [
    "From all the above smash rate that we have calculated of varius players we can predict that anyone of Surya Kumar Yadav , Warner are expected to have higher smash rate in this match."
   ]
  },
  {
   "cell_type": "markdown",
   "metadata": {},
   "source": [
    "# Boundary Leaker"
   ]
  },
  {
   "cell_type": "code",
   "execution_count": 284,
   "metadata": {},
   "outputs": [],
   "source": [
    "def Boundary_Leaker(player_name,opposition_team):\n",
    "    \n",
    "    player = matches[(matches[\"batting_team\"] == opposition_team)&(matches[\"bowler\"]==player_name)]\n",
    "    \n",
    "    player = player[(player[\"wide_runs\"]==0)&(player[\"noball_runs\"]==0)]\n",
    "    \n",
    "    #boundary count\n",
    "    player_bound = player[(player[\"batsman_runs\"]==4)|(player[\"batsman_runs\"]==6)]\n",
    "    \n",
    "    bound_count = pd.DataFrame(player_bound.groupby([\"match_id\"])[\"batsman_runs\"].count())\n",
    "\n",
    "    bound_count.columns = [\"boundary count\"]\n",
    "    \n",
    "    # total balls bowled\n",
    "    total_balls = pd.DataFrame(player.groupby([\"match_id\"])[\"ball\"].count())\n",
    "    \n",
    "    #merging dataframes\n",
    "    final = pd.merge(total_balls,bound_count,on = \"match_id\",how = \"outer\")\n",
    "    \n",
    "    final[\"boundary count\"].fillna(0, inplace = True)\n",
    "    \n",
    "    BL =  1 / (final[\"ball\"]/final[\"boundary count\"]+1)\n",
    "    \n",
    "    BL_player = sum(BL)/len(BL)\n",
    "    print(\"Average BL of the bowler:\",round(BL_player,2))"
   ]
  },
  {
   "cell_type": "markdown",
   "metadata": {},
   "source": [
    "- J Bumrah"
   ]
  },
  {
   "cell_type": "code",
   "execution_count": 285,
   "metadata": {},
   "outputs": [
    {
     "name": "stdout",
     "output_type": "stream",
     "text": [
      "Average BL of the bowler: 0.11\n"
     ]
    }
   ],
   "source": [
    "Boundary_Leaker(\"JJ Bumrah\",\"Sunrisers Hyderabad\")"
   ]
  },
  {
   "cell_type": "markdown",
   "metadata": {},
   "source": [
    "- Trent Boult"
   ]
  },
  {
   "cell_type": "code",
   "execution_count": 561,
   "metadata": {},
   "outputs": [
    {
     "name": "stdout",
     "output_type": "stream",
     "text": [
      "Average BL of the bowler: 0.17\n"
     ]
    }
   ],
   "source": [
    "Boundary_Leaker(\"TA Boult\",\"Sunrisers Hyderabad\")"
   ]
  },
  {
   "cell_type": "markdown",
   "metadata": {},
   "source": [
    "- Rashid Khan"
   ]
  },
  {
   "cell_type": "code",
   "execution_count": 562,
   "metadata": {},
   "outputs": [
    {
     "name": "stdout",
     "output_type": "stream",
     "text": [
      "Average BL of the bowler: 0.08\n"
     ]
    }
   ],
   "source": [
    "Boundary_Leaker(\"Rashid Khan\",\"Mumbai Indians\")"
   ]
  },
  {
   "cell_type": "markdown",
   "metadata": {},
   "source": [
    "- Rahul Chahar"
   ]
  },
  {
   "cell_type": "code",
   "execution_count": 580,
   "metadata": {},
   "outputs": [
    {
     "name": "stdout",
     "output_type": "stream",
     "text": [
      "Average BL of the bowler: 0.09\n"
     ]
    }
   ],
   "source": [
    "Boundary_Leaker(\"RD Chahar\",\"Sunrisers Hyderabad\")"
   ]
  },
  {
   "cell_type": "markdown",
   "metadata": {},
   "source": [
    "-  Pollard"
   ]
  },
  {
   "cell_type": "code",
   "execution_count": 581,
   "metadata": {},
   "outputs": [
    {
     "name": "stdout",
     "output_type": "stream",
     "text": [
      "Average BL of the bowler: 0.15\n"
     ]
    }
   ],
   "source": [
    "Boundary_Leaker(\"KA Pollard\",\"Sunrisers Hyderabad\")"
   ]
  },
  {
   "cell_type": "markdown",
   "metadata": {},
   "source": [
    "- Sandeep Sharma"
   ]
  },
  {
   "cell_type": "code",
   "execution_count": 582,
   "metadata": {},
   "outputs": [
    {
     "name": "stdout",
     "output_type": "stream",
     "text": [
      "Average BL of the bowler: 0.14\n"
     ]
    }
   ],
   "source": [
    "Boundary_Leaker(\"Sandeep Sharma\",\"Mumbai Indians\")"
   ]
  },
  {
   "cell_type": "markdown",
   "metadata": {},
   "source": [
    "- K Ahmed"
   ]
  },
  {
   "cell_type": "code",
   "execution_count": 583,
   "metadata": {},
   "outputs": [
    {
     "name": "stdout",
     "output_type": "stream",
     "text": [
      "Average BL of the bowler: 0.23\n"
     ]
    }
   ],
   "source": [
    "Boundary_Leaker(\"K Ahmed\",\"Mumbai Indians\")"
   ]
  },
  {
   "cell_type": "markdown",
   "metadata": {},
   "source": [
    "- Krunal Pandya"
   ]
  },
  {
   "cell_type": "code",
   "execution_count": 584,
   "metadata": {},
   "outputs": [
    {
     "name": "stdout",
     "output_type": "stream",
     "text": [
      "Average BL of the bowler: 0.04\n"
     ]
    }
   ],
   "source": [
    "Boundary_Leaker(\"KH Pandya\",\"Sunrisers Hyderabad\")"
   ]
  },
  {
   "cell_type": "markdown",
   "metadata": {},
   "source": [
    "From all the above BL score of varius bowlers we can predict that Rashid Khan is expected to have best BL score."
   ]
  },
  {
   "cell_type": "markdown",
   "metadata": {},
   "source": [
    "## Total wicket fall in the match"
   ]
  },
  {
   "cell_type": "markdown",
   "metadata": {},
   "source": [
    "- Overall"
   ]
  },
  {
   "cell_type": "code",
   "execution_count": 331,
   "metadata": {},
   "outputs": [
    {
     "name": "stdout",
     "output_type": "stream",
     "text": [
      "Wicket fall per match in SRH VS MI matches :\n"
     ]
    },
    {
     "data": {
      "text/html": [
       "<div>\n",
       "<style scoped>\n",
       "    .dataframe tbody tr th:only-of-type {\n",
       "        vertical-align: middle;\n",
       "    }\n",
       "\n",
       "    .dataframe tbody tr th {\n",
       "        vertical-align: top;\n",
       "    }\n",
       "\n",
       "    .dataframe thead th {\n",
       "        text-align: right;\n",
       "    }\n",
       "</style>\n",
       "<table border=\"1\" class=\"dataframe\">\n",
       "  <thead>\n",
       "    <tr style=\"text-align: right;\">\n",
       "      <th></th>\n",
       "      <th>wickets</th>\n",
       "    </tr>\n",
       "    <tr>\n",
       "      <th>match_id</th>\n",
       "      <th></th>\n",
       "    </tr>\n",
       "  </thead>\n",
       "  <tbody>\n",
       "    <tr>\n",
       "      <th>10</th>\n",
       "      <td>14</td>\n",
       "    </tr>\n",
       "    <tr>\n",
       "      <th>47</th>\n",
       "      <td>10</td>\n",
       "    </tr>\n",
       "    <tr>\n",
       "      <th>423</th>\n",
       "      <td>7</td>\n",
       "    </tr>\n",
       "    <tr>\n",
       "      <th>444</th>\n",
       "      <td>7</td>\n",
       "    </tr>\n",
       "    <tr>\n",
       "      <th>477</th>\n",
       "      <td>12</td>\n",
       "    </tr>\n",
       "    <tr>\n",
       "      <th>493</th>\n",
       "      <td>6</td>\n",
       "    </tr>\n",
       "    <tr>\n",
       "      <th>541</th>\n",
       "      <td>16</td>\n",
       "    </tr>\n",
       "    <tr>\n",
       "      <th>572</th>\n",
       "      <td>11</td>\n",
       "    </tr>\n",
       "    <tr>\n",
       "      <th>588</th>\n",
       "      <td>9</td>\n",
       "    </tr>\n",
       "    <tr>\n",
       "      <th>613</th>\n",
       "      <td>13</td>\n",
       "    </tr>\n",
       "    <tr>\n",
       "      <th>7900</th>\n",
       "      <td>17</td>\n",
       "    </tr>\n",
       "    <tr>\n",
       "      <th>7916</th>\n",
       "      <td>20</td>\n",
       "    </tr>\n",
       "    <tr>\n",
       "      <th>11310</th>\n",
       "      <td>17</td>\n",
       "    </tr>\n",
       "    <tr>\n",
       "      <th>11342</th>\n",
       "      <td>11</td>\n",
       "    </tr>\n",
       "  </tbody>\n",
       "</table>\n",
       "</div>"
      ],
      "text/plain": [
       "          wickets\n",
       "match_id         \n",
       "10             14\n",
       "47             10\n",
       "423             7\n",
       "444             7\n",
       "477            12\n",
       "493             6\n",
       "541            16\n",
       "572            11\n",
       "588             9\n",
       "613            13\n",
       "7900           17\n",
       "7916           20\n",
       "11310          17\n",
       "11342          11"
      ]
     },
     "execution_count": 331,
     "metadata": {},
     "output_type": "execute_result"
    }
   ],
   "source": [
    "wickets = pd.DataFrame(SRH_MI.groupby(['match_id'])[\"player_dismissed\"].count())\n",
    "\n",
    "wickets.columns = [\"wickets\"]\n",
    "\n",
    "print(\"Wicket fall per match in SRH VS MI matches :\")\n",
    "\n",
    "wickets"
   ]
  },
  {
   "cell_type": "code",
   "execution_count": 332,
   "metadata": {},
   "outputs": [
    {
     "data": {
      "text/plain": [
       "True     9\n",
       "False    5\n",
       "Name: wickets, dtype: int64"
      ]
     },
     "execution_count": 332,
     "metadata": {},
     "output_type": "execute_result"
    }
   ],
   "source": [
    "(wickets[\"wickets\"]>10).value_counts()"
   ]
  },
  {
   "cell_type": "code",
   "execution_count": 333,
   "metadata": {},
   "outputs": [
    {
     "data": {
      "text/html": [
       "<div>\n",
       "<style scoped>\n",
       "    .dataframe tbody tr th:only-of-type {\n",
       "        vertical-align: middle;\n",
       "    }\n",
       "\n",
       "    .dataframe tbody tr th {\n",
       "        vertical-align: top;\n",
       "    }\n",
       "\n",
       "    .dataframe thead th {\n",
       "        text-align: right;\n",
       "    }\n",
       "</style>\n",
       "<table border=\"1\" class=\"dataframe\">\n",
       "  <thead>\n",
       "    <tr style=\"text-align: right;\">\n",
       "      <th></th>\n",
       "      <th>count</th>\n",
       "      <th>mean</th>\n",
       "      <th>std</th>\n",
       "      <th>min</th>\n",
       "      <th>25%</th>\n",
       "      <th>50%</th>\n",
       "      <th>75%</th>\n",
       "      <th>max</th>\n",
       "    </tr>\n",
       "  </thead>\n",
       "  <tbody>\n",
       "    <tr>\n",
       "      <th>wickets</th>\n",
       "      <td>14.0</td>\n",
       "      <td>12.142857</td>\n",
       "      <td>4.258153</td>\n",
       "      <td>6.0</td>\n",
       "      <td>9.25</td>\n",
       "      <td>11.5</td>\n",
       "      <td>15.5</td>\n",
       "      <td>20.0</td>\n",
       "    </tr>\n",
       "  </tbody>\n",
       "</table>\n",
       "</div>"
      ],
      "text/plain": [
       "         count       mean       std  min   25%   50%   75%   max\n",
       "wickets   14.0  12.142857  4.258153  6.0  9.25  11.5  15.5  20.0"
      ]
     },
     "execution_count": 333,
     "metadata": {},
     "output_type": "execute_result"
    }
   ],
   "source": [
    "wickets.describe().T"
   ]
  },
  {
   "cell_type": "code",
   "execution_count": 334,
   "metadata": {},
   "outputs": [
    {
     "data": {
      "text/plain": [
       "<matplotlib.axes._subplots.AxesSubplot at 0x22486489d90>"
      ]
     },
     "execution_count": 334,
     "metadata": {},
     "output_type": "execute_result"
    },
    {
     "data": {
      "image/png": "[encoded data removed]",
      "text/plain": [
       "<Figure size 432x288 with 1 Axes>"
      ]
     },
     "metadata": {
      "needs_background": "light"
     },
     "output_type": "display_data"
    }
   ],
   "source": [
    "sns.kdeplot(wickets['wickets'])"
   ]
  },
  {
   "cell_type": "code",
   "execution_count": 335,
   "metadata": {},
   "outputs": [
    {
     "data": {
      "text/plain": [
       "<matplotlib.axes._subplots.AxesSubplot at 0x22486088e20>"
      ]
     },
     "execution_count": 335,
     "metadata": {},
     "output_type": "execute_result"
    },
    {
     "data": {
      "image/png": "[encoded data removed]",
      "text/plain": [
       "<Figure size 432x288 with 1 Axes>"
      ]
     },
     "metadata": {
      "needs_background": "light"
     },
     "output_type": "display_data"
    }
   ],
   "source": [
    "sns.boxplot(wickets['wickets'])"
   ]
  },
  {
   "cell_type": "code",
   "execution_count": 336,
   "metadata": {},
   "outputs": [
    {
     "name": "stdout",
     "output_type": "stream",
     "text": [
      "Average wicket fall in SRH VS MI matches  :12\n"
     ]
    }
   ],
   "source": [
    "print(\"Average wicket fall in SRH VS MI matches  :{}\".format(round(wickets[\"wickets\"].mean())))"
   ]
  },
  {
   "cell_type": "code",
   "execution_count": 337,
   "metadata": {},
   "outputs": [
    {
     "data": {
      "text/plain": [
       "Text(0.5, 1.0, 'Dot Balls count')"
      ]
     },
     "execution_count": 337,
     "metadata": {},
     "output_type": "execute_result"
    },
    {
     "data": {
      "image/png": "[encoded data removed]",
      "text/plain": [
       "<Figure size 720x504 with 1 Axes>"
      ]
     },
     "metadata": {
      "needs_background": "light"
     },
     "output_type": "display_data"
    }
   ],
   "source": [
    "plt.figure(figsize=(10,7))\n",
    "wickets[\"Interval\"] = pd.cut(wickets[\"wickets\"],[0,6,10,15,20])\n",
    "sns.countplot(wickets[\"Interval\"])\n",
    "plt.title(\"Dot Balls count\")"
   ]
  },
  {
   "cell_type": "markdown",
   "metadata": {},
   "source": [
    "#### Inning-wise"
   ]
  },
  {
   "cell_type": "markdown",
   "metadata": {},
   "source": [
    "- First Inning"
   ]
  },
  {
   "cell_type": "code",
   "execution_count": 338,
   "metadata": {},
   "outputs": [],
   "source": [
    "first = SRH_MI[SRH_MI[\"inning\"]==1]"
   ]
  },
  {
   "cell_type": "code",
   "execution_count": 339,
   "metadata": {},
   "outputs": [
    {
     "data": {
      "text/html": [
       "<div>\n",
       "<style scoped>\n",
       "    .dataframe tbody tr th:only-of-type {\n",
       "        vertical-align: middle;\n",
       "    }\n",
       "\n",
       "    .dataframe tbody tr th {\n",
       "        vertical-align: top;\n",
       "    }\n",
       "\n",
       "    .dataframe thead th {\n",
       "        text-align: right;\n",
       "    }\n",
       "</style>\n",
       "<table border=\"1\" class=\"dataframe\">\n",
       "  <thead>\n",
       "    <tr style=\"text-align: right;\">\n",
       "      <th></th>\n",
       "      <th></th>\n",
       "      <th>first innings wickets</th>\n",
       "    </tr>\n",
       "    <tr>\n",
       "      <th>match_id</th>\n",
       "      <th>batting_team</th>\n",
       "      <th></th>\n",
       "    </tr>\n",
       "  </thead>\n",
       "  <tbody>\n",
       "    <tr>\n",
       "      <th>10</th>\n",
       "      <th>Sunrisers Hyderabad</th>\n",
       "      <td>8</td>\n",
       "    </tr>\n",
       "    <tr>\n",
       "      <th>47</th>\n",
       "      <th>Mumbai Indians</th>\n",
       "      <td>7</td>\n",
       "    </tr>\n",
       "    <tr>\n",
       "      <th>423</th>\n",
       "      <th>Mumbai Indians</th>\n",
       "      <td>4</td>\n",
       "    </tr>\n",
       "    <tr>\n",
       "      <th>444</th>\n",
       "      <th>Sunrisers Hyderabad</th>\n",
       "      <td>3</td>\n",
       "    </tr>\n",
       "    <tr>\n",
       "      <th>477</th>\n",
       "      <th>Sunrisers Hyderabad</th>\n",
       "      <td>5</td>\n",
       "    </tr>\n",
       "    <tr>\n",
       "      <th>493</th>\n",
       "      <th>Sunrisers Hyderabad</th>\n",
       "      <td>3</td>\n",
       "    </tr>\n",
       "    <tr>\n",
       "      <th>541</th>\n",
       "      <th>Mumbai Indians</th>\n",
       "      <td>8</td>\n",
       "    </tr>\n",
       "    <tr>\n",
       "      <th>572</th>\n",
       "      <th>Sunrisers Hyderabad</th>\n",
       "      <td>10</td>\n",
       "    </tr>\n",
       "    <tr>\n",
       "      <th>588</th>\n",
       "      <th>Mumbai Indians</th>\n",
       "      <td>6</td>\n",
       "    </tr>\n",
       "    <tr>\n",
       "      <th>613</th>\n",
       "      <th>Sunrisers Hyderabad</th>\n",
       "      <td>3</td>\n",
       "    </tr>\n",
       "    <tr>\n",
       "      <th>7900</th>\n",
       "      <th>Mumbai Indians</th>\n",
       "      <td>8</td>\n",
       "    </tr>\n",
       "    <tr>\n",
       "      <th>7916</th>\n",
       "      <th>Sunrisers Hyderabad</th>\n",
       "      <td>10</td>\n",
       "    </tr>\n",
       "    <tr>\n",
       "      <th>11310</th>\n",
       "      <th>Mumbai Indians</th>\n",
       "      <td>7</td>\n",
       "    </tr>\n",
       "    <tr>\n",
       "      <th>11342</th>\n",
       "      <th>Mumbai Indians</th>\n",
       "      <td>5</td>\n",
       "    </tr>\n",
       "  </tbody>\n",
       "</table>\n",
       "</div>"
      ],
      "text/plain": [
       "                              first innings wickets\n",
       "match_id batting_team                              \n",
       "10       Sunrisers Hyderabad                      8\n",
       "47       Mumbai Indians                           7\n",
       "423      Mumbai Indians                           4\n",
       "444      Sunrisers Hyderabad                      3\n",
       "477      Sunrisers Hyderabad                      5\n",
       "493      Sunrisers Hyderabad                      3\n",
       "541      Mumbai Indians                           8\n",
       "572      Sunrisers Hyderabad                     10\n",
       "588      Mumbai Indians                           6\n",
       "613      Sunrisers Hyderabad                      3\n",
       "7900     Mumbai Indians                           8\n",
       "7916     Sunrisers Hyderabad                     10\n",
       "11310    Mumbai Indians                           7\n",
       "11342    Mumbai Indians                           5"
      ]
     },
     "execution_count": 339,
     "metadata": {},
     "output_type": "execute_result"
    }
   ],
   "source": [
    "first_innings = pd.DataFrame(first.groupby([\"match_id\",\"batting_team\"])[\"player_dismissed\"].count())\n",
    "\n",
    "first_innings.columns =[\"first innings wickets\"]\n",
    "\n",
    "first_innings"
   ]
  },
  {
   "cell_type": "code",
   "execution_count": 340,
   "metadata": {},
   "outputs": [
    {
     "data": {
      "text/html": [
       "<div>\n",
       "<style scoped>\n",
       "    .dataframe tbody tr th:only-of-type {\n",
       "        vertical-align: middle;\n",
       "    }\n",
       "\n",
       "    .dataframe tbody tr th {\n",
       "        vertical-align: top;\n",
       "    }\n",
       "\n",
       "    .dataframe thead th {\n",
       "        text-align: right;\n",
       "    }\n",
       "</style>\n",
       "<table border=\"1\" class=\"dataframe\">\n",
       "  <thead>\n",
       "    <tr style=\"text-align: right;\">\n",
       "      <th></th>\n",
       "      <th>count</th>\n",
       "      <th>mean</th>\n",
       "      <th>std</th>\n",
       "      <th>min</th>\n",
       "      <th>25%</th>\n",
       "      <th>50%</th>\n",
       "      <th>75%</th>\n",
       "      <th>max</th>\n",
       "    </tr>\n",
       "  </thead>\n",
       "  <tbody>\n",
       "    <tr>\n",
       "      <th>first innings wickets</th>\n",
       "      <td>14.0</td>\n",
       "      <td>6.214286</td>\n",
       "      <td>2.455091</td>\n",
       "      <td>3.0</td>\n",
       "      <td>4.25</td>\n",
       "      <td>6.5</td>\n",
       "      <td>8.0</td>\n",
       "      <td>10.0</td>\n",
       "    </tr>\n",
       "  </tbody>\n",
       "</table>\n",
       "</div>"
      ],
      "text/plain": [
       "                       count      mean       std  min   25%  50%  75%   max\n",
       "first innings wickets   14.0  6.214286  2.455091  3.0  4.25  6.5  8.0  10.0"
      ]
     },
     "execution_count": 340,
     "metadata": {},
     "output_type": "execute_result"
    }
   ],
   "source": [
    "first_innings.describe().T"
   ]
  },
  {
   "cell_type": "code",
   "execution_count": 341,
   "metadata": {},
   "outputs": [
    {
     "data": {
      "text/plain": [
       "<matplotlib.axes._subplots.AxesSubplot at 0x22486139a00>"
      ]
     },
     "execution_count": 341,
     "metadata": {},
     "output_type": "execute_result"
    },
    {
     "data": {
      "image/png": "[encoded data removed]",
      "text/plain": [
       "<Figure size 432x288 with 1 Axes>"
      ]
     },
     "metadata": {
      "needs_background": "light"
     },
     "output_type": "display_data"
    }
   ],
   "source": [
    "sns.kdeplot(first_innings[\"first innings wickets\"])"
   ]
  },
  {
   "cell_type": "code",
   "execution_count": 342,
   "metadata": {},
   "outputs": [
    {
     "data": {
      "text/plain": [
       "<matplotlib.axes._subplots.AxesSubplot at 0x22486193dc0>"
      ]
     },
     "execution_count": 342,
     "metadata": {},
     "output_type": "execute_result"
    },
    {
     "data": {
      "image/png": "[encoded data removed]",
      "text/plain": [
       "<Figure size 432x288 with 1 Axes>"
      ]
     },
     "metadata": {
      "needs_background": "light"
     },
     "output_type": "display_data"
    }
   ],
   "source": [
    "sns.boxplot(first_innings[\"first innings wickets\"])"
   ]
  },
  {
   "cell_type": "code",
   "execution_count": 343,
   "metadata": {},
   "outputs": [
    {
     "name": "stdout",
     "output_type": "stream",
     "text": [
      "Average wicket fall in SRH VS MI matches in 1st innings :6\n"
     ]
    }
   ],
   "source": [
    "print(\"Average wicket fall in SRH VS MI matches in 1st innings :{}\".format(round(first_innings[\"first innings wickets\"].mean())))"
   ]
  },
  {
   "cell_type": "code",
   "execution_count": 344,
   "metadata": {},
   "outputs": [
    {
     "data": {
      "text/plain": [
       "Text(0.5, 1.0, 'Wicket fall count')"
      ]
     },
     "execution_count": 344,
     "metadata": {},
     "output_type": "execute_result"
    },
    {
     "data": {
      "image/png": "[encoded data removed]",
      "text/plain": [
       "<Figure size 720x504 with 1 Axes>"
      ]
     },
     "metadata": {
      "needs_background": "light"
     },
     "output_type": "display_data"
    }
   ],
   "source": [
    "plt.figure(figsize=(10,7))\n",
    "first_innings[\"Interval\"] = pd.cut(first_innings[\"first innings wickets\"],[0,5,10])\n",
    "sns.countplot(first_innings[\"Interval\"])\n",
    "plt.title(\"Wicket fall count\")"
   ]
  },
  {
   "cell_type": "markdown",
   "metadata": {},
   "source": [
    "- 2nd innings"
   ]
  },
  {
   "cell_type": "code",
   "execution_count": 345,
   "metadata": {},
   "outputs": [],
   "source": [
    "second = SRH_MI[SRH_MI[\"inning\"]==2]"
   ]
  },
  {
   "cell_type": "code",
   "execution_count": 346,
   "metadata": {},
   "outputs": [
    {
     "data": {
      "text/html": [
       "<div>\n",
       "<style scoped>\n",
       "    .dataframe tbody tr th:only-of-type {\n",
       "        vertical-align: middle;\n",
       "    }\n",
       "\n",
       "    .dataframe tbody tr th {\n",
       "        vertical-align: top;\n",
       "    }\n",
       "\n",
       "    .dataframe thead th {\n",
       "        text-align: right;\n",
       "    }\n",
       "</style>\n",
       "<table border=\"1\" class=\"dataframe\">\n",
       "  <thead>\n",
       "    <tr style=\"text-align: right;\">\n",
       "      <th></th>\n",
       "      <th></th>\n",
       "      <th>second innings wickets</th>\n",
       "    </tr>\n",
       "    <tr>\n",
       "      <th>match_id</th>\n",
       "      <th>batting_team</th>\n",
       "      <th></th>\n",
       "    </tr>\n",
       "  </thead>\n",
       "  <tbody>\n",
       "    <tr>\n",
       "      <th>10</th>\n",
       "      <th>Mumbai Indians</th>\n",
       "      <td>6</td>\n",
       "    </tr>\n",
       "    <tr>\n",
       "      <th>47</th>\n",
       "      <th>Sunrisers Hyderabad</th>\n",
       "      <td>3</td>\n",
       "    </tr>\n",
       "    <tr>\n",
       "      <th>423</th>\n",
       "      <th>Sunrisers Hyderabad</th>\n",
       "      <td>3</td>\n",
       "    </tr>\n",
       "    <tr>\n",
       "      <th>444</th>\n",
       "      <th>Mumbai Indians</th>\n",
       "      <td>4</td>\n",
       "    </tr>\n",
       "    <tr>\n",
       "      <th>477</th>\n",
       "      <th>Mumbai Indians</th>\n",
       "      <td>7</td>\n",
       "    </tr>\n",
       "    <tr>\n",
       "      <th>493</th>\n",
       "      <th>Mumbai Indians</th>\n",
       "      <td>3</td>\n",
       "    </tr>\n",
       "    <tr>\n",
       "      <th>541</th>\n",
       "      <th>Sunrisers Hyderabad</th>\n",
       "      <td>8</td>\n",
       "    </tr>\n",
       "    <tr>\n",
       "      <th>572</th>\n",
       "      <th>Mumbai Indians</th>\n",
       "      <td>1</td>\n",
       "    </tr>\n",
       "    <tr>\n",
       "      <th>588</th>\n",
       "      <th>Sunrisers Hyderabad</th>\n",
       "      <td>3</td>\n",
       "    </tr>\n",
       "    <tr>\n",
       "      <th>613</th>\n",
       "      <th>Mumbai Indians</th>\n",
       "      <td>10</td>\n",
       "    </tr>\n",
       "    <tr>\n",
       "      <th>7900</th>\n",
       "      <th>Sunrisers Hyderabad</th>\n",
       "      <td>9</td>\n",
       "    </tr>\n",
       "    <tr>\n",
       "      <th>7916</th>\n",
       "      <th>Mumbai Indians</th>\n",
       "      <td>10</td>\n",
       "    </tr>\n",
       "    <tr>\n",
       "      <th>11310</th>\n",
       "      <th>Sunrisers Hyderabad</th>\n",
       "      <td>10</td>\n",
       "    </tr>\n",
       "    <tr>\n",
       "      <th>11342</th>\n",
       "      <th>Sunrisers Hyderabad</th>\n",
       "      <td>6</td>\n",
       "    </tr>\n",
       "  </tbody>\n",
       "</table>\n",
       "</div>"
      ],
      "text/plain": [
       "                              second innings wickets\n",
       "match_id batting_team                               \n",
       "10       Mumbai Indians                            6\n",
       "47       Sunrisers Hyderabad                       3\n",
       "423      Sunrisers Hyderabad                       3\n",
       "444      Mumbai Indians                            4\n",
       "477      Mumbai Indians                            7\n",
       "493      Mumbai Indians                            3\n",
       "541      Sunrisers Hyderabad                       8\n",
       "572      Mumbai Indians                            1\n",
       "588      Sunrisers Hyderabad                       3\n",
       "613      Mumbai Indians                           10\n",
       "7900     Sunrisers Hyderabad                       9\n",
       "7916     Mumbai Indians                           10\n",
       "11310    Sunrisers Hyderabad                      10\n",
       "11342    Sunrisers Hyderabad                       6"
      ]
     },
     "execution_count": 346,
     "metadata": {},
     "output_type": "execute_result"
    }
   ],
   "source": [
    "second_innings = pd.DataFrame(second.groupby([\"match_id\",\"batting_team\"])[\"player_dismissed\"].count())\n",
    "\n",
    "second_innings.columns =[\"second innings wickets\"]\n",
    "\n",
    "second_innings"
   ]
  },
  {
   "cell_type": "code",
   "execution_count": 347,
   "metadata": {},
   "outputs": [
    {
     "data": {
      "text/html": [
       "<div>\n",
       "<style scoped>\n",
       "    .dataframe tbody tr th:only-of-type {\n",
       "        vertical-align: middle;\n",
       "    }\n",
       "\n",
       "    .dataframe tbody tr th {\n",
       "        vertical-align: top;\n",
       "    }\n",
       "\n",
       "    .dataframe thead th {\n",
       "        text-align: right;\n",
       "    }\n",
       "</style>\n",
       "<table border=\"1\" class=\"dataframe\">\n",
       "  <thead>\n",
       "    <tr style=\"text-align: right;\">\n",
       "      <th></th>\n",
       "      <th>count</th>\n",
       "      <th>mean</th>\n",
       "      <th>std</th>\n",
       "      <th>min</th>\n",
       "      <th>25%</th>\n",
       "      <th>50%</th>\n",
       "      <th>75%</th>\n",
       "      <th>max</th>\n",
       "    </tr>\n",
       "  </thead>\n",
       "  <tbody>\n",
       "    <tr>\n",
       "      <th>second innings wickets</th>\n",
       "      <td>14.0</td>\n",
       "      <td>5.928571</td>\n",
       "      <td>3.124698</td>\n",
       "      <td>1.0</td>\n",
       "      <td>3.0</td>\n",
       "      <td>6.0</td>\n",
       "      <td>8.75</td>\n",
       "      <td>10.0</td>\n",
       "    </tr>\n",
       "  </tbody>\n",
       "</table>\n",
       "</div>"
      ],
      "text/plain": [
       "                        count      mean       std  min  25%  50%   75%   max\n",
       "second innings wickets   14.0  5.928571  3.124698  1.0  3.0  6.0  8.75  10.0"
      ]
     },
     "execution_count": 347,
     "metadata": {},
     "output_type": "execute_result"
    }
   ],
   "source": [
    "second_innings.describe().T"
   ]
  },
  {
   "cell_type": "code",
   "execution_count": 348,
   "metadata": {},
   "outputs": [
    {
     "data": {
      "text/plain": [
       "<matplotlib.axes._subplots.AxesSubplot at 0x22486a880a0>"
      ]
     },
     "execution_count": 348,
     "metadata": {},
     "output_type": "execute_result"
    },
    {
     "data": {
      "image/png": "[encoded data removed]",
      "text/plain": [
       "<Figure size 432x288 with 1 Axes>"
      ]
     },
     "metadata": {
      "needs_background": "light"
     },
     "output_type": "display_data"
    }
   ],
   "source": [
    "sns.kdeplot(second_innings[\"second innings wickets\"])"
   ]
  },
  {
   "cell_type": "code",
   "execution_count": 349,
   "metadata": {},
   "outputs": [
    {
     "data": {
      "text/plain": [
       "<matplotlib.axes._subplots.AxesSubplot at 0x22486e4bd30>"
      ]
     },
     "execution_count": 349,
     "metadata": {},
     "output_type": "execute_result"
    },
    {
     "data": {
      "image/png": "[encoded data removed]",
      "text/plain": [
       "<Figure size 432x288 with 1 Axes>"
      ]
     },
     "metadata": {
      "needs_background": "light"
     },
     "output_type": "display_data"
    }
   ],
   "source": [
    "sns.boxplot(second_innings[\"second innings wickets\"])"
   ]
  },
  {
   "cell_type": "code",
   "execution_count": 350,
   "metadata": {},
   "outputs": [
    {
     "name": "stdout",
     "output_type": "stream",
     "text": [
      "Average wicket fall in SRH VS MI matches in 2nd innings :6\n"
     ]
    }
   ],
   "source": [
    "print(\"Average wicket fall in SRH VS MI matches in 2nd innings :{}\".format(round(second_innings[\"second innings wickets\"].mean())))"
   ]
  },
  {
   "cell_type": "code",
   "execution_count": 351,
   "metadata": {},
   "outputs": [
    {
     "data": {
      "text/plain": [
       "Text(0.5, 1.0, 'Wicket fall count')"
      ]
     },
     "execution_count": 351,
     "metadata": {},
     "output_type": "execute_result"
    },
    {
     "data": {
      "image/png": "[encoded data removed]",
      "text/plain": [
       "<Figure size 720x504 with 1 Axes>"
      ]
     },
     "metadata": {
      "needs_background": "light"
     },
     "output_type": "display_data"
    }
   ],
   "source": [
    "plt.figure(figsize=(10,7))\n",
    "second_innings[\"Interval\"] = pd.cut(second_innings[\"second innings wickets\"],[0,5,10])\n",
    "sns.countplot(second_innings[\"Interval\"])\n",
    "plt.title(\"Wicket fall count\")"
   ]
  },
  {
   "cell_type": "markdown",
   "metadata": {},
   "source": [
    "From all the above analysis we can predict that total wickets that are expected to fall in this match are 11-15"
   ]
  }
 ],
 "metadata": {
  "kernelspec": {
   "display_name": "Python 3",
   "language": "python",
   "name": "python3"
  },
  "language_info": {
   "codemirror_mode": {
    "name": "ipython",
    "version": 3
   },
   "file_extension": ".py",
   "mimetype": "text/x-python",
   "name": "python",
   "nbconvert_exporter": "python",
   "pygments_lexer": "ipython3",
   "version": "3.8.3"
  }
 },
 "nbformat": 4,
 "nbformat_minor": 4
}
