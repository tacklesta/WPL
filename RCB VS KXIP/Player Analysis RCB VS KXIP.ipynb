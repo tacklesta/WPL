{
 "cells": [
  {
   "cell_type": "markdown",
   "metadata": {},
   "source": [
    "# Player Analysis"
   ]
  },
  {
   "cell_type": "code",
   "execution_count": 216,
   "metadata": {},
   "outputs": [],
   "source": [
    "import numpy as np\n",
    "import pandas as pd\n",
    "import matplotlib.pyplot as plt\n",
    "import seaborn as sns\n",
    "\n",
    "%matplotlib inline"
   ]
  },
  {
   "cell_type": "markdown",
   "metadata": {},
   "source": [
    "## Data Cleaning And Exploring"
   ]
  },
  {
   "cell_type": "code",
   "execution_count": 217,
   "metadata": {},
   "outputs": [],
   "source": [
    "df1 = pd.read_csv(\"matches.csv\")\n",
    "df2 = pd.read_csv(\"deliveries.csv\")\n",
    "\n",
    "df1.rename(columns={\"id\" : 'match_id'}, inplace=True)\n",
    "\n",
    "matches= pd.merge(df1, df2, on='match_id', how='outer')"
   ]
  },
  {
   "cell_type": "code",
   "execution_count": 218,
   "metadata": {},
   "outputs": [
    {
     "data": {
      "text/plain": [
       "Index(['match_id', 'season', 'city', 'date', 'team1', 'team2', 'toss_winner',\n",
       "       'toss_decision', 'result', 'dl_applied', 'winner', 'win_by_runs',\n",
       "       'win_by_wickets', 'player_of_match', 'venue', 'umpire1', 'umpire2',\n",
       "       'umpire3', 'inning', 'batting_team', 'bowling_team', 'over', 'ball',\n",
       "       'batsman', 'non_striker', 'bowler', 'is_super_over', 'wide_runs',\n",
       "       'bye_runs', 'legbye_runs', 'noball_runs', 'penalty_runs',\n",
       "       'batsman_runs', 'extra_runs', 'total_runs', 'player_dismissed',\n",
       "       'dismissal_kind', 'fielder'],\n",
       "      dtype='object')"
      ]
     },
     "execution_count": 218,
     "metadata": {},
     "output_type": "execute_result"
    }
   ],
   "source": [
    "matches.columns"
   ]
  },
  {
   "cell_type": "code",
   "execution_count": 219,
   "metadata": {},
   "outputs": [
    {
     "data": {
      "text/plain": [
       "(179078, 22)"
      ]
     },
     "execution_count": 219,
     "metadata": {},
     "output_type": "execute_result"
    }
   ],
   "source": [
    "matches = matches[['match_id', 'season','team1', 'team2', 'toss_winner','toss_decision','winner',\n",
    "       'inning', 'batting_team', 'bowling_team', 'over', 'ball',\n",
    "       'batsman','non_striker', 'bowler','wide_runs','noball_runs',\n",
    "       'batsman_runs', 'extra_runs', 'total_runs', 'player_dismissed',\n",
    "       'dismissal_kind']]\n",
    "\n",
    "matches.shape"
   ]
  },
  {
   "cell_type": "code",
   "execution_count": 220,
   "metadata": {},
   "outputs": [
    {
     "data": {
      "text/html": [
       "<div>\n",
       "<style scoped>\n",
       "    .dataframe tbody tr th:only-of-type {\n",
       "        vertical-align: middle;\n",
       "    }\n",
       "\n",
       "    .dataframe tbody tr th {\n",
       "        vertical-align: top;\n",
       "    }\n",
       "\n",
       "    .dataframe thead th {\n",
       "        text-align: right;\n",
       "    }\n",
       "</style>\n",
       "<table border=\"1\" class=\"dataframe\">\n",
       "  <thead>\n",
       "    <tr style=\"text-align: right;\">\n",
       "      <th></th>\n",
       "      <th>match_id</th>\n",
       "      <th>season</th>\n",
       "      <th>team1</th>\n",
       "      <th>team2</th>\n",
       "      <th>toss_winner</th>\n",
       "      <th>toss_decision</th>\n",
       "      <th>winner</th>\n",
       "      <th>inning</th>\n",
       "      <th>batting_team</th>\n",
       "      <th>bowling_team</th>\n",
       "      <th>...</th>\n",
       "      <th>batsman</th>\n",
       "      <th>non_striker</th>\n",
       "      <th>bowler</th>\n",
       "      <th>wide_runs</th>\n",
       "      <th>noball_runs</th>\n",
       "      <th>batsman_runs</th>\n",
       "      <th>extra_runs</th>\n",
       "      <th>total_runs</th>\n",
       "      <th>player_dismissed</th>\n",
       "      <th>dismissal_kind</th>\n",
       "    </tr>\n",
       "  </thead>\n",
       "  <tbody>\n",
       "    <tr>\n",
       "      <th>0</th>\n",
       "      <td>1</td>\n",
       "      <td>2017</td>\n",
       "      <td>Sunrisers Hyderabad</td>\n",
       "      <td>Royal Challengers Bangalore</td>\n",
       "      <td>Royal Challengers Bangalore</td>\n",
       "      <td>field</td>\n",
       "      <td>Sunrisers Hyderabad</td>\n",
       "      <td>1</td>\n",
       "      <td>Sunrisers Hyderabad</td>\n",
       "      <td>Royal Challengers Bangalore</td>\n",
       "      <td>...</td>\n",
       "      <td>DA Warner</td>\n",
       "      <td>S Dhawan</td>\n",
       "      <td>TS Mills</td>\n",
       "      <td>0</td>\n",
       "      <td>0</td>\n",
       "      <td>0</td>\n",
       "      <td>0</td>\n",
       "      <td>0</td>\n",
       "      <td>NaN</td>\n",
       "      <td>NaN</td>\n",
       "    </tr>\n",
       "    <tr>\n",
       "      <th>1</th>\n",
       "      <td>1</td>\n",
       "      <td>2017</td>\n",
       "      <td>Sunrisers Hyderabad</td>\n",
       "      <td>Royal Challengers Bangalore</td>\n",
       "      <td>Royal Challengers Bangalore</td>\n",
       "      <td>field</td>\n",
       "      <td>Sunrisers Hyderabad</td>\n",
       "      <td>1</td>\n",
       "      <td>Sunrisers Hyderabad</td>\n",
       "      <td>Royal Challengers Bangalore</td>\n",
       "      <td>...</td>\n",
       "      <td>DA Warner</td>\n",
       "      <td>S Dhawan</td>\n",
       "      <td>TS Mills</td>\n",
       "      <td>0</td>\n",
       "      <td>0</td>\n",
       "      <td>0</td>\n",
       "      <td>0</td>\n",
       "      <td>0</td>\n",
       "      <td>NaN</td>\n",
       "      <td>NaN</td>\n",
       "    </tr>\n",
       "    <tr>\n",
       "      <th>2</th>\n",
       "      <td>1</td>\n",
       "      <td>2017</td>\n",
       "      <td>Sunrisers Hyderabad</td>\n",
       "      <td>Royal Challengers Bangalore</td>\n",
       "      <td>Royal Challengers Bangalore</td>\n",
       "      <td>field</td>\n",
       "      <td>Sunrisers Hyderabad</td>\n",
       "      <td>1</td>\n",
       "      <td>Sunrisers Hyderabad</td>\n",
       "      <td>Royal Challengers Bangalore</td>\n",
       "      <td>...</td>\n",
       "      <td>DA Warner</td>\n",
       "      <td>S Dhawan</td>\n",
       "      <td>TS Mills</td>\n",
       "      <td>0</td>\n",
       "      <td>0</td>\n",
       "      <td>4</td>\n",
       "      <td>0</td>\n",
       "      <td>4</td>\n",
       "      <td>NaN</td>\n",
       "      <td>NaN</td>\n",
       "    </tr>\n",
       "    <tr>\n",
       "      <th>3</th>\n",
       "      <td>1</td>\n",
       "      <td>2017</td>\n",
       "      <td>Sunrisers Hyderabad</td>\n",
       "      <td>Royal Challengers Bangalore</td>\n",
       "      <td>Royal Challengers Bangalore</td>\n",
       "      <td>field</td>\n",
       "      <td>Sunrisers Hyderabad</td>\n",
       "      <td>1</td>\n",
       "      <td>Sunrisers Hyderabad</td>\n",
       "      <td>Royal Challengers Bangalore</td>\n",
       "      <td>...</td>\n",
       "      <td>DA Warner</td>\n",
       "      <td>S Dhawan</td>\n",
       "      <td>TS Mills</td>\n",
       "      <td>0</td>\n",
       "      <td>0</td>\n",
       "      <td>0</td>\n",
       "      <td>0</td>\n",
       "      <td>0</td>\n",
       "      <td>NaN</td>\n",
       "      <td>NaN</td>\n",
       "    </tr>\n",
       "    <tr>\n",
       "      <th>4</th>\n",
       "      <td>1</td>\n",
       "      <td>2017</td>\n",
       "      <td>Sunrisers Hyderabad</td>\n",
       "      <td>Royal Challengers Bangalore</td>\n",
       "      <td>Royal Challengers Bangalore</td>\n",
       "      <td>field</td>\n",
       "      <td>Sunrisers Hyderabad</td>\n",
       "      <td>1</td>\n",
       "      <td>Sunrisers Hyderabad</td>\n",
       "      <td>Royal Challengers Bangalore</td>\n",
       "      <td>...</td>\n",
       "      <td>DA Warner</td>\n",
       "      <td>S Dhawan</td>\n",
       "      <td>TS Mills</td>\n",
       "      <td>2</td>\n",
       "      <td>0</td>\n",
       "      <td>0</td>\n",
       "      <td>2</td>\n",
       "      <td>2</td>\n",
       "      <td>NaN</td>\n",
       "      <td>NaN</td>\n",
       "    </tr>\n",
       "  </tbody>\n",
       "</table>\n",
       "<p>5 rows × 22 columns</p>\n",
       "</div>"
      ],
      "text/plain": [
       "   match_id  season                team1                        team2  \\\n",
       "0         1    2017  Sunrisers Hyderabad  Royal Challengers Bangalore   \n",
       "1         1    2017  Sunrisers Hyderabad  Royal Challengers Bangalore   \n",
       "2         1    2017  Sunrisers Hyderabad  Royal Challengers Bangalore   \n",
       "3         1    2017  Sunrisers Hyderabad  Royal Challengers Bangalore   \n",
       "4         1    2017  Sunrisers Hyderabad  Royal Challengers Bangalore   \n",
       "\n",
       "                   toss_winner toss_decision               winner  inning  \\\n",
       "0  Royal Challengers Bangalore         field  Sunrisers Hyderabad       1   \n",
       "1  Royal Challengers Bangalore         field  Sunrisers Hyderabad       1   \n",
       "2  Royal Challengers Bangalore         field  Sunrisers Hyderabad       1   \n",
       "3  Royal Challengers Bangalore         field  Sunrisers Hyderabad       1   \n",
       "4  Royal Challengers Bangalore         field  Sunrisers Hyderabad       1   \n",
       "\n",
       "          batting_team                 bowling_team  ...    batsman  \\\n",
       "0  Sunrisers Hyderabad  Royal Challengers Bangalore  ...  DA Warner   \n",
       "1  Sunrisers Hyderabad  Royal Challengers Bangalore  ...  DA Warner   \n",
       "2  Sunrisers Hyderabad  Royal Challengers Bangalore  ...  DA Warner   \n",
       "3  Sunrisers Hyderabad  Royal Challengers Bangalore  ...  DA Warner   \n",
       "4  Sunrisers Hyderabad  Royal Challengers Bangalore  ...  DA Warner   \n",
       "\n",
       "   non_striker    bowler wide_runs noball_runs  batsman_runs  extra_runs  \\\n",
       "0     S Dhawan  TS Mills         0           0             0           0   \n",
       "1     S Dhawan  TS Mills         0           0             0           0   \n",
       "2     S Dhawan  TS Mills         0           0             4           0   \n",
       "3     S Dhawan  TS Mills         0           0             0           0   \n",
       "4     S Dhawan  TS Mills         2           0             0           2   \n",
       "\n",
       "   total_runs  player_dismissed  dismissal_kind  \n",
       "0           0               NaN             NaN  \n",
       "1           0               NaN             NaN  \n",
       "2           4               NaN             NaN  \n",
       "3           0               NaN             NaN  \n",
       "4           2               NaN             NaN  \n",
       "\n",
       "[5 rows x 22 columns]"
      ]
     },
     "execution_count": 220,
     "metadata": {},
     "output_type": "execute_result"
    }
   ],
   "source": [
    "matches.head()"
   ]
  },
  {
   "cell_type": "markdown",
   "metadata": {},
   "source": [
    "### Considering Only KXIP VS RCB Matches"
   ]
  },
  {
   "cell_type": "code",
   "execution_count": 221,
   "metadata": {},
   "outputs": [],
   "source": [
    "PB=matches[np.logical_or(np.logical_and(matches['team1']=='Royal Challengers Bangalore',matches['team2']=='Kings XI Punjab'),\n",
    "                            np.logical_and(matches['team2']=='Royal Challengers Bangalore',matches['team1']=='Kings XI Punjab'))]"
   ]
  },
  {
   "cell_type": "code",
   "execution_count": 222,
   "metadata": {},
   "outputs": [
    {
     "data": {
      "text/html": [
       "<div>\n",
       "<style scoped>\n",
       "    .dataframe tbody tr th:only-of-type {\n",
       "        vertical-align: middle;\n",
       "    }\n",
       "\n",
       "    .dataframe tbody tr th {\n",
       "        vertical-align: top;\n",
       "    }\n",
       "\n",
       "    .dataframe thead th {\n",
       "        text-align: right;\n",
       "    }\n",
       "</style>\n",
       "<table border=\"1\" class=\"dataframe\">\n",
       "  <thead>\n",
       "    <tr style=\"text-align: right;\">\n",
       "      <th></th>\n",
       "      <th>match_id</th>\n",
       "      <th>season</th>\n",
       "      <th>team1</th>\n",
       "      <th>team2</th>\n",
       "      <th>toss_winner</th>\n",
       "      <th>toss_decision</th>\n",
       "      <th>winner</th>\n",
       "      <th>inning</th>\n",
       "      <th>batting_team</th>\n",
       "      <th>bowling_team</th>\n",
       "      <th>...</th>\n",
       "      <th>batsman</th>\n",
       "      <th>non_striker</th>\n",
       "      <th>bowler</th>\n",
       "      <th>wide_runs</th>\n",
       "      <th>noball_runs</th>\n",
       "      <th>batsman_runs</th>\n",
       "      <th>extra_runs</th>\n",
       "      <th>total_runs</th>\n",
       "      <th>player_dismissed</th>\n",
       "      <th>dismissal_kind</th>\n",
       "    </tr>\n",
       "  </thead>\n",
       "  <tbody>\n",
       "    <tr>\n",
       "      <th>1678</th>\n",
       "      <td>8</td>\n",
       "      <td>2017</td>\n",
       "      <td>Royal Challengers Bangalore</td>\n",
       "      <td>Kings XI Punjab</td>\n",
       "      <td>Royal Challengers Bangalore</td>\n",
       "      <td>bat</td>\n",
       "      <td>Kings XI Punjab</td>\n",
       "      <td>1</td>\n",
       "      <td>Royal Challengers Bangalore</td>\n",
       "      <td>Kings XI Punjab</td>\n",
       "      <td>...</td>\n",
       "      <td>SR Watson</td>\n",
       "      <td>Vishnu Vinod</td>\n",
       "      <td>AR Patel</td>\n",
       "      <td>0</td>\n",
       "      <td>0</td>\n",
       "      <td>1</td>\n",
       "      <td>0</td>\n",
       "      <td>1</td>\n",
       "      <td>NaN</td>\n",
       "      <td>NaN</td>\n",
       "    </tr>\n",
       "    <tr>\n",
       "      <th>1679</th>\n",
       "      <td>8</td>\n",
       "      <td>2017</td>\n",
       "      <td>Royal Challengers Bangalore</td>\n",
       "      <td>Kings XI Punjab</td>\n",
       "      <td>Royal Challengers Bangalore</td>\n",
       "      <td>bat</td>\n",
       "      <td>Kings XI Punjab</td>\n",
       "      <td>1</td>\n",
       "      <td>Royal Challengers Bangalore</td>\n",
       "      <td>Kings XI Punjab</td>\n",
       "      <td>...</td>\n",
       "      <td>Vishnu Vinod</td>\n",
       "      <td>SR Watson</td>\n",
       "      <td>AR Patel</td>\n",
       "      <td>0</td>\n",
       "      <td>0</td>\n",
       "      <td>0</td>\n",
       "      <td>0</td>\n",
       "      <td>0</td>\n",
       "      <td>NaN</td>\n",
       "      <td>NaN</td>\n",
       "    </tr>\n",
       "    <tr>\n",
       "      <th>1680</th>\n",
       "      <td>8</td>\n",
       "      <td>2017</td>\n",
       "      <td>Royal Challengers Bangalore</td>\n",
       "      <td>Kings XI Punjab</td>\n",
       "      <td>Royal Challengers Bangalore</td>\n",
       "      <td>bat</td>\n",
       "      <td>Kings XI Punjab</td>\n",
       "      <td>1</td>\n",
       "      <td>Royal Challengers Bangalore</td>\n",
       "      <td>Kings XI Punjab</td>\n",
       "      <td>...</td>\n",
       "      <td>Vishnu Vinod</td>\n",
       "      <td>SR Watson</td>\n",
       "      <td>AR Patel</td>\n",
       "      <td>0</td>\n",
       "      <td>0</td>\n",
       "      <td>1</td>\n",
       "      <td>0</td>\n",
       "      <td>1</td>\n",
       "      <td>NaN</td>\n",
       "      <td>NaN</td>\n",
       "    </tr>\n",
       "    <tr>\n",
       "      <th>1681</th>\n",
       "      <td>8</td>\n",
       "      <td>2017</td>\n",
       "      <td>Royal Challengers Bangalore</td>\n",
       "      <td>Kings XI Punjab</td>\n",
       "      <td>Royal Challengers Bangalore</td>\n",
       "      <td>bat</td>\n",
       "      <td>Kings XI Punjab</td>\n",
       "      <td>1</td>\n",
       "      <td>Royal Challengers Bangalore</td>\n",
       "      <td>Kings XI Punjab</td>\n",
       "      <td>...</td>\n",
       "      <td>SR Watson</td>\n",
       "      <td>Vishnu Vinod</td>\n",
       "      <td>AR Patel</td>\n",
       "      <td>0</td>\n",
       "      <td>0</td>\n",
       "      <td>0</td>\n",
       "      <td>0</td>\n",
       "      <td>0</td>\n",
       "      <td>NaN</td>\n",
       "      <td>NaN</td>\n",
       "    </tr>\n",
       "    <tr>\n",
       "      <th>1682</th>\n",
       "      <td>8</td>\n",
       "      <td>2017</td>\n",
       "      <td>Royal Challengers Bangalore</td>\n",
       "      <td>Kings XI Punjab</td>\n",
       "      <td>Royal Challengers Bangalore</td>\n",
       "      <td>bat</td>\n",
       "      <td>Kings XI Punjab</td>\n",
       "      <td>1</td>\n",
       "      <td>Royal Challengers Bangalore</td>\n",
       "      <td>Kings XI Punjab</td>\n",
       "      <td>...</td>\n",
       "      <td>SR Watson</td>\n",
       "      <td>Vishnu Vinod</td>\n",
       "      <td>AR Patel</td>\n",
       "      <td>0</td>\n",
       "      <td>0</td>\n",
       "      <td>0</td>\n",
       "      <td>0</td>\n",
       "      <td>0</td>\n",
       "      <td>NaN</td>\n",
       "      <td>NaN</td>\n",
       "    </tr>\n",
       "  </tbody>\n",
       "</table>\n",
       "<p>5 rows × 22 columns</p>\n",
       "</div>"
      ],
      "text/plain": [
       "      match_id  season                        team1            team2  \\\n",
       "1678         8    2017  Royal Challengers Bangalore  Kings XI Punjab   \n",
       "1679         8    2017  Royal Challengers Bangalore  Kings XI Punjab   \n",
       "1680         8    2017  Royal Challengers Bangalore  Kings XI Punjab   \n",
       "1681         8    2017  Royal Challengers Bangalore  Kings XI Punjab   \n",
       "1682         8    2017  Royal Challengers Bangalore  Kings XI Punjab   \n",
       "\n",
       "                      toss_winner toss_decision           winner  inning  \\\n",
       "1678  Royal Challengers Bangalore           bat  Kings XI Punjab       1   \n",
       "1679  Royal Challengers Bangalore           bat  Kings XI Punjab       1   \n",
       "1680  Royal Challengers Bangalore           bat  Kings XI Punjab       1   \n",
       "1681  Royal Challengers Bangalore           bat  Kings XI Punjab       1   \n",
       "1682  Royal Challengers Bangalore           bat  Kings XI Punjab       1   \n",
       "\n",
       "                     batting_team     bowling_team  ...       batsman  \\\n",
       "1678  Royal Challengers Bangalore  Kings XI Punjab  ...     SR Watson   \n",
       "1679  Royal Challengers Bangalore  Kings XI Punjab  ...  Vishnu Vinod   \n",
       "1680  Royal Challengers Bangalore  Kings XI Punjab  ...  Vishnu Vinod   \n",
       "1681  Royal Challengers Bangalore  Kings XI Punjab  ...     SR Watson   \n",
       "1682  Royal Challengers Bangalore  Kings XI Punjab  ...     SR Watson   \n",
       "\n",
       "       non_striker    bowler wide_runs noball_runs  batsman_runs  extra_runs  \\\n",
       "1678  Vishnu Vinod  AR Patel         0           0             1           0   \n",
       "1679     SR Watson  AR Patel         0           0             0           0   \n",
       "1680     SR Watson  AR Patel         0           0             1           0   \n",
       "1681  Vishnu Vinod  AR Patel         0           0             0           0   \n",
       "1682  Vishnu Vinod  AR Patel         0           0             0           0   \n",
       "\n",
       "      total_runs  player_dismissed  dismissal_kind  \n",
       "1678           1               NaN             NaN  \n",
       "1679           0               NaN             NaN  \n",
       "1680           1               NaN             NaN  \n",
       "1681           0               NaN             NaN  \n",
       "1682           0               NaN             NaN  \n",
       "\n",
       "[5 rows x 22 columns]"
      ]
     },
     "execution_count": 222,
     "metadata": {},
     "output_type": "execute_result"
    }
   ],
   "source": [
    "PB.head()"
   ]
  },
  {
   "cell_type": "code",
   "execution_count": null,
   "metadata": {},
   "outputs": [],
   "source": []
  },
  {
   "cell_type": "markdown",
   "metadata": {},
   "source": [
    "Taking in consideration only last 7 years matches because using too old data for analysis might not help that much while predicting Cricket matches result :"
   ]
  },
  {
   "cell_type": "code",
   "execution_count": null,
   "metadata": {},
   "outputs": [],
   "source": [
    "cond1 = PB[\"season\"] == 2013\n",
    "cond2 = PB[\"season\"] == 2014\n",
    "cond3 = PB[\"season\"] == 2015\n",
    "cond4 = PB[\"season\"] == 2016\n",
    "cond5 = PB[\"season\"] == 2017\n",
    "cond6 = PB[\"season\"] == 2018\n",
    "cond7 = PB[\"season\"] == 2019\n",
    "final = PB[cond1|cond2|cond3|cond4|cond5|cond6|cond7]\n",
    "\n",
    "final.head()"
   ]
  },
  {
   "cell_type": "code",
   "execution_count": 224,
   "metadata": {},
   "outputs": [
    {
     "data": {
      "text/plain": [
       "array([2017, 2013, 2014, 2015, 2016, 2018, 2019], dtype=int64)"
      ]
     },
     "execution_count": 224,
     "metadata": {},
     "output_type": "execute_result"
    }
   ],
   "source": [
    "final.season.unique()"
   ]
  },
  {
   "cell_type": "code",
   "execution_count": 225,
   "metadata": {},
   "outputs": [
    {
     "data": {
      "text/plain": [
       "array(['SR Watson', 'Vishnu Vinod', 'AB de Villiers', 'KM Jadhav',\n",
       "       'Mandeep Singh', 'STR Binny', 'M Vohra', 'HM Amla', 'AR Patel',\n",
       "       'GJ Maxwell', 'MJ Guptill', 'SE Marsh', 'WP Saha', 'MM Sharma',\n",
       "       'VR Aaron', 'CH Gayle', 'V Kohli', 'P Negi', 'S Aravind',\n",
       "       'S Badree', 'YS Chahal', 'A Choudhary', 'CA Pujara',\n",
       "       'MC Henriques', 'KL Rahul', 'AC Gilchrist', 'Azhar Mahmood',\n",
       "       'DA Miller', 'R Sathish', 'Gurkeerat Singh', 'DJ Hussey',\n",
       "       'PA Patel', 'YV Takawale', 'Yuvraj Singh', 'JA Morkel', 'MA Starc',\n",
       "       'AB Dinda', 'V Sehwag', 'GJ Bailey', 'R Dhawan', 'MG Johnson',\n",
       "       'Shivam Sharma', 'L Balaji', 'S Rana', 'HV Patel', 'KD Karthik',\n",
       "       'SN Khan', 'M Vijay', 'Anureet Singh', 'Karanveer Singh',\n",
       "       'Sandeep Sharma', 'D Wiese', 'Sachin Baby', 'TM Head',\n",
       "       'MP Stoinis', 'F Behardien', 'KJ Abbott', 'KC Cariappa',\n",
       "       'MA Agarwal', 'AJ Finch', 'KK Nair', 'R Ashwin', 'AJ Tye',\n",
       "       'M Ur Rahman', 'Q de Kock', 'BB McCullum', 'CR Woakes',\n",
       "       'Washington Sundar', 'AS Rajpoot', 'S Curran', 'M Ali', 'AD Nath',\n",
       "       'N Pooran', 'H Viljoen', 'M Ashwin'], dtype=object)"
      ]
     },
     "execution_count": 225,
     "metadata": {},
     "output_type": "execute_result"
    }
   ],
   "source": [
    "final.batsman.unique()"
   ]
  },
  {
   "cell_type": "markdown",
   "metadata": {},
   "source": [
    "## Wicket fall Analysis of KXIP"
   ]
  },
  {
   "cell_type": "code",
   "execution_count": 319,
   "metadata": {},
   "outputs": [
    {
     "name": "stdout",
     "output_type": "stream",
     "text": [
      "Wicket fall down for each team (overall) :\n"
     ]
    },
    {
     "data": {
      "text/html": [
       "<div>\n",
       "<style scoped>\n",
       "    .dataframe tbody tr th:only-of-type {\n",
       "        vertical-align: middle;\n",
       "    }\n",
       "\n",
       "    .dataframe tbody tr th {\n",
       "        vertical-align: top;\n",
       "    }\n",
       "\n",
       "    .dataframe thead th {\n",
       "        text-align: right;\n",
       "    }\n",
       "</style>\n",
       "<table border=\"1\" class=\"dataframe\">\n",
       "  <thead>\n",
       "    <tr style=\"text-align: right;\">\n",
       "      <th></th>\n",
       "      <th>Total wicket fall</th>\n",
       "    </tr>\n",
       "    <tr>\n",
       "      <th>bowling_team</th>\n",
       "      <th></th>\n",
       "    </tr>\n",
       "  </thead>\n",
       "  <tbody>\n",
       "    <tr>\n",
       "      <th>Kings XI Punjab</th>\n",
       "      <td>69</td>\n",
       "    </tr>\n",
       "    <tr>\n",
       "      <th>Royal Challengers Bangalore</th>\n",
       "      <td>89</td>\n",
       "    </tr>\n",
       "  </tbody>\n",
       "</table>\n",
       "</div>"
      ],
      "text/plain": [
       "                             Total wicket fall\n",
       "bowling_team                                  \n",
       "Kings XI Punjab                             69\n",
       "Royal Challengers Bangalore                 89"
      ]
     },
     "execution_count": 319,
     "metadata": {},
     "output_type": "execute_result"
    }
   ],
   "source": [
    "Each_team_wicket_fall = pd.DataFrame(final.groupby(\"bowling_team\").player_dismissed.count())\n",
    "\n",
    "Each_team_wicket_fall.columns=[\"Total wicket fall\"]\n",
    "\n",
    "print(\"Wicket fall down for each team (overall) :\")\n",
    "Each_team_wicket_fall"
   ]
  },
  {
   "cell_type": "code",
   "execution_count": 227,
   "metadata": {},
   "outputs": [
    {
     "name": "stdout",
     "output_type": "stream",
     "text": [
      "KXIP wickets fall down against RCB in all matches :\n"
     ]
    },
    {
     "data": {
      "text/html": [
       "<div>\n",
       "<style scoped>\n",
       "    .dataframe tbody tr th:only-of-type {\n",
       "        vertical-align: middle;\n",
       "    }\n",
       "\n",
       "    .dataframe tbody tr th {\n",
       "        vertical-align: top;\n",
       "    }\n",
       "\n",
       "    .dataframe thead th {\n",
       "        text-align: right;\n",
       "    }\n",
       "</style>\n",
       "<table border=\"1\" class=\"dataframe\">\n",
       "  <thead>\n",
       "    <tr style=\"text-align: right;\">\n",
       "      <th></th>\n",
       "      <th></th>\n",
       "      <th></th>\n",
       "      <th>Total Wicket Fall of KXIP</th>\n",
       "    </tr>\n",
       "    <tr>\n",
       "      <th>season</th>\n",
       "      <th>match_id</th>\n",
       "      <th>bowling_team</th>\n",
       "      <th></th>\n",
       "    </tr>\n",
       "  </thead>\n",
       "  <tbody>\n",
       "    <tr>\n",
       "      <th rowspan=\"2\" valign=\"top\">2013</th>\n",
       "      <th>429</th>\n",
       "      <th>Royal Challengers Bangalore</th>\n",
       "      <td>3</td>\n",
       "    </tr>\n",
       "    <tr>\n",
       "      <th>448</th>\n",
       "      <th>Royal Challengers Bangalore</th>\n",
       "      <td>4</td>\n",
       "    </tr>\n",
       "    <tr>\n",
       "      <th rowspan=\"2\" valign=\"top\">2014</th>\n",
       "      <th>475</th>\n",
       "      <th>Royal Challengers Bangalore</th>\n",
       "      <td>5</td>\n",
       "    </tr>\n",
       "    <tr>\n",
       "      <th>488</th>\n",
       "      <th>Royal Challengers Bangalore</th>\n",
       "      <td>8</td>\n",
       "    </tr>\n",
       "    <tr>\n",
       "      <th rowspan=\"2\" valign=\"top\">2015</th>\n",
       "      <th>557</th>\n",
       "      <th>Royal Challengers Bangalore</th>\n",
       "      <td>10</td>\n",
       "    </tr>\n",
       "    <tr>\n",
       "      <th>566</th>\n",
       "      <th>Royal Challengers Bangalore</th>\n",
       "      <td>6</td>\n",
       "    </tr>\n",
       "    <tr>\n",
       "      <th rowspan=\"2\" valign=\"top\">2016</th>\n",
       "      <th>615</th>\n",
       "      <th>Royal Challengers Bangalore</th>\n",
       "      <td>4</td>\n",
       "    </tr>\n",
       "    <tr>\n",
       "      <th>626</th>\n",
       "      <th>Royal Challengers Bangalore</th>\n",
       "      <td>9</td>\n",
       "    </tr>\n",
       "    <tr>\n",
       "      <th rowspan=\"2\" valign=\"top\">2017</th>\n",
       "      <th>8</th>\n",
       "      <th>Royal Challengers Bangalore</th>\n",
       "      <td>2</td>\n",
       "    </tr>\n",
       "    <tr>\n",
       "      <th>42</th>\n",
       "      <th>Royal Challengers Bangalore</th>\n",
       "      <td>7</td>\n",
       "    </tr>\n",
       "    <tr>\n",
       "      <th rowspan=\"2\" valign=\"top\">2018</th>\n",
       "      <th>7901</th>\n",
       "      <th>Royal Challengers Bangalore</th>\n",
       "      <td>10</td>\n",
       "    </tr>\n",
       "    <tr>\n",
       "      <th>7941</th>\n",
       "      <th>Royal Challengers Bangalore</th>\n",
       "      <td>10</td>\n",
       "    </tr>\n",
       "    <tr>\n",
       "      <th rowspan=\"2\" valign=\"top\">2019</th>\n",
       "      <th>11319</th>\n",
       "      <th>Royal Challengers Bangalore</th>\n",
       "      <td>4</td>\n",
       "    </tr>\n",
       "    <tr>\n",
       "      <th>11333</th>\n",
       "      <th>Royal Challengers Bangalore</th>\n",
       "      <td>7</td>\n",
       "    </tr>\n",
       "  </tbody>\n",
       "</table>\n",
       "</div>"
      ],
      "text/plain": [
       "                                             Total Wicket Fall of KXIP\n",
       "season match_id bowling_team                                          \n",
       "2013   429      Royal Challengers Bangalore                          3\n",
       "       448      Royal Challengers Bangalore                          4\n",
       "2014   475      Royal Challengers Bangalore                          5\n",
       "       488      Royal Challengers Bangalore                          8\n",
       "2015   557      Royal Challengers Bangalore                         10\n",
       "       566      Royal Challengers Bangalore                          6\n",
       "2016   615      Royal Challengers Bangalore                          4\n",
       "       626      Royal Challengers Bangalore                          9\n",
       "2017   8        Royal Challengers Bangalore                          2\n",
       "       42       Royal Challengers Bangalore                          7\n",
       "2018   7901     Royal Challengers Bangalore                         10\n",
       "       7941     Royal Challengers Bangalore                         10\n",
       "2019   11319    Royal Challengers Bangalore                          4\n",
       "       11333    Royal Challengers Bangalore                          7"
      ]
     },
     "execution_count": 227,
     "metadata": {},
     "output_type": "execute_result"
    }
   ],
   "source": [
    "wicket = final[final[\"bowling_team\"] == \"Royal Challengers Bangalore\"]\n",
    "KXIP_wickets = pd.DataFrame(wicket.groupby(['season',\"match_id\",\"bowling_team\"]).agg({'player_dismissed' : 'count'}))\n",
    "print(\"KXIP wickets fall down against RCB in all matches :\")\n",
    "KXIP_wickets.columns = [\"Total Wicket Fall of KXIP\"]\n",
    "KXIP_wickets"
   ]
  },
  {
   "cell_type": "code",
   "execution_count": 228,
   "metadata": {},
   "outputs": [
    {
     "data": {
      "text/plain": [
       "<matplotlib.axes._subplots.AxesSubplot at 0x18c32fe5f70>"
      ]
     },
     "execution_count": 228,
     "metadata": {},
     "output_type": "execute_result"
    },
    {
     "data": {
      "image/png": "[encoded data removed]",
      "text/plain": [
       "<Figure size 432x288 with 1 Axes>"
      ]
     },
     "metadata": {
      "needs_background": "light"
     },
     "output_type": "display_data"
    }
   ],
   "source": [
    "sns.boxplot(KXIP_wickets[\"Total Wicket Fall of KXIP\"])"
   ]
  },
  {
   "cell_type": "code",
   "execution_count": 320,
   "metadata": {},
   "outputs": [
    {
     "name": "stdout",
     "output_type": "stream",
     "text": [
      "Total wickets fall of KXIP against RCB = 89 in 14 matches\n"
     ]
    }
   ],
   "source": [
    "count = final.match_id.unique()\n",
    "count = len(count)\n",
    "wicket = final[final[\"bowling_team\"] == \"Royal Challengers Bangalore\"]\n",
    "wkt = wicket[\"player_dismissed\"].count()\n",
    "print(\"Total wickets fall of KXIP against RCB = {} in {} matches\".format(wkt ,count))"
   ]
  },
  {
   "cell_type": "code",
   "execution_count": 230,
   "metadata": {},
   "outputs": [
    {
     "name": "stdout",
     "output_type": "stream",
     "text": [
      "On an average , Per match wicket fall down for KXIP : 6.0\n"
     ]
    }
   ],
   "source": [
    "per_match_wicket = wkt/count\n",
    "per_match_wicket = round(per_match_wicket)\n",
    "print(\"On an average , Per match wicket fall down for KXIP :\",per_match_wicket)"
   ]
  },
  {
   "cell_type": "markdown",
   "metadata": {},
   "source": [
    "### Confidence Interval Calculation :"
   ]
  },
  {
   "cell_type": "code",
   "execution_count": 321,
   "metadata": {},
   "outputs": [
    {
     "data": {
      "text/html": [
       "<div>\n",
       "<style scoped>\n",
       "    .dataframe tbody tr th:only-of-type {\n",
       "        vertical-align: middle;\n",
       "    }\n",
       "\n",
       "    .dataframe tbody tr th {\n",
       "        vertical-align: top;\n",
       "    }\n",
       "\n",
       "    .dataframe thead th {\n",
       "        text-align: right;\n",
       "    }\n",
       "</style>\n",
       "<table border=\"1\" class=\"dataframe\">\n",
       "  <thead>\n",
       "    <tr style=\"text-align: right;\">\n",
       "      <th></th>\n",
       "      <th>count</th>\n",
       "      <th>mean</th>\n",
       "      <th>std</th>\n",
       "      <th>min</th>\n",
       "      <th>25%</th>\n",
       "      <th>50%</th>\n",
       "      <th>75%</th>\n",
       "      <th>max</th>\n",
       "    </tr>\n",
       "  </thead>\n",
       "  <tbody>\n",
       "    <tr>\n",
       "      <th>Total Wicket Fall of KXIP</th>\n",
       "      <td>14.0</td>\n",
       "      <td>6.357143</td>\n",
       "      <td>2.762584</td>\n",
       "      <td>2.0</td>\n",
       "      <td>4.0</td>\n",
       "      <td>6.5</td>\n",
       "      <td>8.75</td>\n",
       "      <td>10.0</td>\n",
       "    </tr>\n",
       "  </tbody>\n",
       "</table>\n",
       "</div>"
      ],
      "text/plain": [
       "                           count      mean       std  min  25%  50%   75%  \\\n",
       "Total Wicket Fall of KXIP   14.0  6.357143  2.762584  2.0  4.0  6.5  8.75   \n",
       "\n",
       "                            max  \n",
       "Total Wicket Fall of KXIP  10.0  "
      ]
     },
     "execution_count": 321,
     "metadata": {},
     "output_type": "execute_result"
    }
   ],
   "source": [
    "KXIP_wickets.describe().T"
   ]
  },
  {
   "cell_type": "code",
   "execution_count": 322,
   "metadata": {},
   "outputs": [
    {
     "data": {
      "text/plain": [
       "14"
      ]
     },
     "execution_count": 322,
     "metadata": {},
     "output_type": "execute_result"
    }
   ],
   "source": [
    "mean = KXIP_wickets[\"Total Wicket Fall of KXIP\"].mean()\n",
    "sd = KXIP_wickets[\"Total Wicket Fall of KXIP\"].std()\n",
    "n = len(KXIP_wickets)\n",
    "\n",
    "n"
   ]
  },
  {
   "cell_type": "code",
   "execution_count": 323,
   "metadata": {},
   "outputs": [
    {
     "data": {
      "text/plain": [
       "0.7383315230914774"
      ]
     },
     "execution_count": 323,
     "metadata": {},
     "output_type": "execute_result"
    }
   ],
   "source": [
    "tstar = 2.064\n",
    "se = sd/np.sqrt(n)\n",
    "se"
   ]
  },
  {
   "cell_type": "code",
   "execution_count": 324,
   "metadata": {},
   "outputs": [
    {
     "name": "stdout",
     "output_type": "stream",
     "text": [
      "So , our 95% Confidence Interval for Total Wicket that can be fall today of KXIP :(5.0, 8.0)\n"
     ]
    }
   ],
   "source": [
    "lcb = mean - tstar * se\n",
    "ucb = mean + tstar * se\n",
    "lcb = round(lcb)\n",
    "ucb = round(ucb)\n",
    "\n",
    "print(\"So , our 95% Confidence Interval for Total Wicket that can be fall today of KXIP :{}\".format((lcb, ucb)))"
   ]
  },
  {
   "cell_type": "markdown",
   "metadata": {},
   "source": [
    "## Partnership Analysis"
   ]
  },
  {
   "cell_type": "markdown",
   "metadata": {},
   "source": [
    "Taking in consideration only those columns where batsman and non striker are AB de Villers and V Kohli for getting the data related to their partnership :"
   ]
  },
  {
   "cell_type": "code",
   "execution_count": 308,
   "metadata": {},
   "outputs": [],
   "source": [
    "AV =final[np.logical_or(np.logical_and(final['batsman']=='V Kohli',final['non_striker']=='AB de Villiers'),\n",
    "                            np.logical_and(final['non_striker']=='V Kohli',final['batsman']=='AB de Villiers'))]"
   ]
  },
  {
   "cell_type": "code",
   "execution_count": 309,
   "metadata": {},
   "outputs": [
    {
     "data": {
      "text/html": [
       "<div>\n",
       "<style scoped>\n",
       "    .dataframe tbody tr th:only-of-type {\n",
       "        vertical-align: middle;\n",
       "    }\n",
       "\n",
       "    .dataframe tbody tr th {\n",
       "        vertical-align: top;\n",
       "    }\n",
       "\n",
       "    .dataframe thead th {\n",
       "        text-align: right;\n",
       "    }\n",
       "</style>\n",
       "<table border=\"1\" class=\"dataframe\">\n",
       "  <thead>\n",
       "    <tr style=\"text-align: right;\">\n",
       "      <th></th>\n",
       "      <th>match_id</th>\n",
       "      <th>season</th>\n",
       "      <th>team1</th>\n",
       "      <th>team2</th>\n",
       "      <th>toss_winner</th>\n",
       "      <th>toss_decision</th>\n",
       "      <th>winner</th>\n",
       "      <th>inning</th>\n",
       "      <th>batting_team</th>\n",
       "      <th>bowling_team</th>\n",
       "      <th>...</th>\n",
       "      <th>batsman</th>\n",
       "      <th>non_striker</th>\n",
       "      <th>bowler</th>\n",
       "      <th>wide_runs</th>\n",
       "      <th>noball_runs</th>\n",
       "      <th>batsman_runs</th>\n",
       "      <th>extra_runs</th>\n",
       "      <th>total_runs</th>\n",
       "      <th>player_dismissed</th>\n",
       "      <th>dismissal_kind</th>\n",
       "    </tr>\n",
       "  </thead>\n",
       "  <tbody>\n",
       "    <tr>\n",
       "      <th>101677</th>\n",
       "      <td>429</td>\n",
       "      <td>2013</td>\n",
       "      <td>Royal Challengers Bangalore</td>\n",
       "      <td>Kings XI Punjab</td>\n",
       "      <td>Kings XI Punjab</td>\n",
       "      <td>field</td>\n",
       "      <td>Kings XI Punjab</td>\n",
       "      <td>1</td>\n",
       "      <td>Royal Challengers Bangalore</td>\n",
       "      <td>Kings XI Punjab</td>\n",
       "      <td>...</td>\n",
       "      <td>AB de Villiers</td>\n",
       "      <td>V Kohli</td>\n",
       "      <td>P Awana</td>\n",
       "      <td>0</td>\n",
       "      <td>0</td>\n",
       "      <td>6</td>\n",
       "      <td>0</td>\n",
       "      <td>6</td>\n",
       "      <td>NaN</td>\n",
       "      <td>NaN</td>\n",
       "    </tr>\n",
       "    <tr>\n",
       "      <th>101678</th>\n",
       "      <td>429</td>\n",
       "      <td>2013</td>\n",
       "      <td>Royal Challengers Bangalore</td>\n",
       "      <td>Kings XI Punjab</td>\n",
       "      <td>Kings XI Punjab</td>\n",
       "      <td>field</td>\n",
       "      <td>Kings XI Punjab</td>\n",
       "      <td>1</td>\n",
       "      <td>Royal Challengers Bangalore</td>\n",
       "      <td>Kings XI Punjab</td>\n",
       "      <td>...</td>\n",
       "      <td>AB de Villiers</td>\n",
       "      <td>V Kohli</td>\n",
       "      <td>P Awana</td>\n",
       "      <td>0</td>\n",
       "      <td>0</td>\n",
       "      <td>0</td>\n",
       "      <td>0</td>\n",
       "      <td>0</td>\n",
       "      <td>AB de Villiers</td>\n",
       "      <td>bowled</td>\n",
       "    </tr>\n",
       "    <tr>\n",
       "      <th>106218</th>\n",
       "      <td>448</td>\n",
       "      <td>2013</td>\n",
       "      <td>Royal Challengers Bangalore</td>\n",
       "      <td>Kings XI Punjab</td>\n",
       "      <td>Kings XI Punjab</td>\n",
       "      <td>field</td>\n",
       "      <td>Kings XI Punjab</td>\n",
       "      <td>1</td>\n",
       "      <td>Royal Challengers Bangalore</td>\n",
       "      <td>Kings XI Punjab</td>\n",
       "      <td>...</td>\n",
       "      <td>AB de Villiers</td>\n",
       "      <td>V Kohli</td>\n",
       "      <td>MS Gony</td>\n",
       "      <td>0</td>\n",
       "      <td>0</td>\n",
       "      <td>4</td>\n",
       "      <td>0</td>\n",
       "      <td>4</td>\n",
       "      <td>NaN</td>\n",
       "      <td>NaN</td>\n",
       "    </tr>\n",
       "    <tr>\n",
       "      <th>106219</th>\n",
       "      <td>448</td>\n",
       "      <td>2013</td>\n",
       "      <td>Royal Challengers Bangalore</td>\n",
       "      <td>Kings XI Punjab</td>\n",
       "      <td>Kings XI Punjab</td>\n",
       "      <td>field</td>\n",
       "      <td>Kings XI Punjab</td>\n",
       "      <td>1</td>\n",
       "      <td>Royal Challengers Bangalore</td>\n",
       "      <td>Kings XI Punjab</td>\n",
       "      <td>...</td>\n",
       "      <td>AB de Villiers</td>\n",
       "      <td>V Kohli</td>\n",
       "      <td>MS Gony</td>\n",
       "      <td>0</td>\n",
       "      <td>0</td>\n",
       "      <td>0</td>\n",
       "      <td>0</td>\n",
       "      <td>0</td>\n",
       "      <td>NaN</td>\n",
       "      <td>NaN</td>\n",
       "    </tr>\n",
       "    <tr>\n",
       "      <th>106220</th>\n",
       "      <td>448</td>\n",
       "      <td>2013</td>\n",
       "      <td>Royal Challengers Bangalore</td>\n",
       "      <td>Kings XI Punjab</td>\n",
       "      <td>Kings XI Punjab</td>\n",
       "      <td>field</td>\n",
       "      <td>Kings XI Punjab</td>\n",
       "      <td>1</td>\n",
       "      <td>Royal Challengers Bangalore</td>\n",
       "      <td>Kings XI Punjab</td>\n",
       "      <td>...</td>\n",
       "      <td>AB de Villiers</td>\n",
       "      <td>V Kohli</td>\n",
       "      <td>MS Gony</td>\n",
       "      <td>0</td>\n",
       "      <td>0</td>\n",
       "      <td>1</td>\n",
       "      <td>0</td>\n",
       "      <td>1</td>\n",
       "      <td>NaN</td>\n",
       "      <td>NaN</td>\n",
       "    </tr>\n",
       "  </tbody>\n",
       "</table>\n",
       "<p>5 rows × 22 columns</p>\n",
       "</div>"
      ],
      "text/plain": [
       "        match_id  season                        team1            team2  \\\n",
       "101677       429    2013  Royal Challengers Bangalore  Kings XI Punjab   \n",
       "101678       429    2013  Royal Challengers Bangalore  Kings XI Punjab   \n",
       "106218       448    2013  Royal Challengers Bangalore  Kings XI Punjab   \n",
       "106219       448    2013  Royal Challengers Bangalore  Kings XI Punjab   \n",
       "106220       448    2013  Royal Challengers Bangalore  Kings XI Punjab   \n",
       "\n",
       "            toss_winner toss_decision           winner  inning  \\\n",
       "101677  Kings XI Punjab         field  Kings XI Punjab       1   \n",
       "101678  Kings XI Punjab         field  Kings XI Punjab       1   \n",
       "106218  Kings XI Punjab         field  Kings XI Punjab       1   \n",
       "106219  Kings XI Punjab         field  Kings XI Punjab       1   \n",
       "106220  Kings XI Punjab         field  Kings XI Punjab       1   \n",
       "\n",
       "                       batting_team     bowling_team  ...         batsman  \\\n",
       "101677  Royal Challengers Bangalore  Kings XI Punjab  ...  AB de Villiers   \n",
       "101678  Royal Challengers Bangalore  Kings XI Punjab  ...  AB de Villiers   \n",
       "106218  Royal Challengers Bangalore  Kings XI Punjab  ...  AB de Villiers   \n",
       "106219  Royal Challengers Bangalore  Kings XI Punjab  ...  AB de Villiers   \n",
       "106220  Royal Challengers Bangalore  Kings XI Punjab  ...  AB de Villiers   \n",
       "\n",
       "        non_striker   bowler wide_runs noball_runs  batsman_runs  extra_runs  \\\n",
       "101677      V Kohli  P Awana         0           0             6           0   \n",
       "101678      V Kohli  P Awana         0           0             0           0   \n",
       "106218      V Kohli  MS Gony         0           0             4           0   \n",
       "106219      V Kohli  MS Gony         0           0             0           0   \n",
       "106220      V Kohli  MS Gony         0           0             1           0   \n",
       "\n",
       "        total_runs  player_dismissed  dismissal_kind  \n",
       "101677           6               NaN             NaN  \n",
       "101678           0    AB de Villiers          bowled  \n",
       "106218           4               NaN             NaN  \n",
       "106219           0               NaN             NaN  \n",
       "106220           1               NaN             NaN  \n",
       "\n",
       "[5 rows x 22 columns]"
      ]
     },
     "execution_count": 309,
     "metadata": {},
     "output_type": "execute_result"
    }
   ],
   "source": [
    "AV.head()"
   ]
  },
  {
   "cell_type": "code",
   "execution_count": 325,
   "metadata": {},
   "outputs": [
    {
     "data": {
      "text/plain": [
       "array([2013, 2016, 2019], dtype=int64)"
      ]
     },
     "execution_count": 325,
     "metadata": {},
     "output_type": "execute_result"
    }
   ],
   "source": [
    "AV.season.unique()"
   ]
  },
  {
   "cell_type": "code",
   "execution_count": 310,
   "metadata": {},
   "outputs": [
    {
     "data": {
      "text/plain": [
       "array([  429,   448,   615,   626, 11319], dtype=int64)"
      ]
     },
     "execution_count": 310,
     "metadata": {},
     "output_type": "execute_result"
    }
   ],
   "source": [
    "AV.match_id.unique()"
   ]
  },
  {
   "cell_type": "code",
   "execution_count": 326,
   "metadata": {},
   "outputs": [
    {
     "name": "stdout",
     "output_type": "stream",
     "text": [
      "Season wise partnership of ABD and VK:\n"
     ]
    },
    {
     "data": {
      "text/html": [
       "<div>\n",
       "<style scoped>\n",
       "    .dataframe tbody tr th:only-of-type {\n",
       "        vertical-align: middle;\n",
       "    }\n",
       "\n",
       "    .dataframe tbody tr th {\n",
       "        vertical-align: top;\n",
       "    }\n",
       "\n",
       "    .dataframe thead th {\n",
       "        text-align: right;\n",
       "    }\n",
       "</style>\n",
       "<table border=\"1\" class=\"dataframe\">\n",
       "  <thead>\n",
       "    <tr style=\"text-align: right;\">\n",
       "      <th></th>\n",
       "      <th></th>\n",
       "      <th>Partnership b/w ABD and VK</th>\n",
       "    </tr>\n",
       "    <tr>\n",
       "      <th>season</th>\n",
       "      <th>match_id</th>\n",
       "      <th></th>\n",
       "    </tr>\n",
       "  </thead>\n",
       "  <tbody>\n",
       "    <tr>\n",
       "      <th rowspan=\"2\" valign=\"top\">2013</th>\n",
       "      <th>429</th>\n",
       "      <td>6</td>\n",
       "    </tr>\n",
       "    <tr>\n",
       "      <th>448</th>\n",
       "      <td>11</td>\n",
       "    </tr>\n",
       "    <tr>\n",
       "      <th rowspan=\"2\" valign=\"top\">2016</th>\n",
       "      <th>615</th>\n",
       "      <td>1</td>\n",
       "    </tr>\n",
       "    <tr>\n",
       "      <th>626</th>\n",
       "      <td>7</td>\n",
       "    </tr>\n",
       "    <tr>\n",
       "      <th>2019</th>\n",
       "      <th>11319</th>\n",
       "      <td>86</td>\n",
       "    </tr>\n",
       "  </tbody>\n",
       "</table>\n",
       "</div>"
      ],
      "text/plain": [
       "                 Partnership b/w ABD and VK\n",
       "season match_id                            \n",
       "2013   429                                6\n",
       "       448                               11\n",
       "2016   615                                1\n",
       "       626                                7\n",
       "2019   11319                             86"
      ]
     },
     "execution_count": 326,
     "metadata": {},
     "output_type": "execute_result"
    }
   ],
   "source": [
    "partnership = pd.DataFrame(AV.groupby([\"season\",\"match_id\"])[\"total_runs\"].sum())\n",
    "\n",
    "partnership.columns = [\"Partnership b/w ABD and VK\"]\n",
    "\n",
    "print(\"Season wise partnership of ABD and VK:\")\n",
    "\n",
    "partnership"
   ]
  },
  {
   "cell_type": "code",
   "execution_count": 312,
   "metadata": {},
   "outputs": [
    {
     "data": {
      "text/html": [
       "<div>\n",
       "<style scoped>\n",
       "    .dataframe tbody tr th:only-of-type {\n",
       "        vertical-align: middle;\n",
       "    }\n",
       "\n",
       "    .dataframe tbody tr th {\n",
       "        vertical-align: top;\n",
       "    }\n",
       "\n",
       "    .dataframe thead th {\n",
       "        text-align: right;\n",
       "    }\n",
       "</style>\n",
       "<table border=\"1\" class=\"dataframe\">\n",
       "  <thead>\n",
       "    <tr style=\"text-align: right;\">\n",
       "      <th></th>\n",
       "      <th>count</th>\n",
       "      <th>mean</th>\n",
       "      <th>std</th>\n",
       "      <th>min</th>\n",
       "      <th>25%</th>\n",
       "      <th>50%</th>\n",
       "      <th>75%</th>\n",
       "      <th>max</th>\n",
       "    </tr>\n",
       "  </thead>\n",
       "  <tbody>\n",
       "    <tr>\n",
       "      <th>Partnership b/w ABD and VK</th>\n",
       "      <td>5.0</td>\n",
       "      <td>22.2</td>\n",
       "      <td>35.842712</td>\n",
       "      <td>1.0</td>\n",
       "      <td>6.0</td>\n",
       "      <td>7.0</td>\n",
       "      <td>11.0</td>\n",
       "      <td>86.0</td>\n",
       "    </tr>\n",
       "  </tbody>\n",
       "</table>\n",
       "</div>"
      ],
      "text/plain": [
       "                            count  mean        std  min  25%  50%   75%   max\n",
       "Partnership b/w ABD and VK    5.0  22.2  35.842712  1.0  6.0  7.0  11.0  86.0"
      ]
     },
     "execution_count": 312,
     "metadata": {},
     "output_type": "execute_result"
    }
   ],
   "source": [
    "partnership.describe().T"
   ]
  },
  {
   "cell_type": "code",
   "execution_count": 313,
   "metadata": {},
   "outputs": [
    {
     "name": "stdout",
     "output_type": "stream",
     "text": [
      "Average no of run's partnership beween AB and VK in RCB VS KXIP matches : 22\n"
     ]
    }
   ],
   "source": [
    "print(\"Average no of run's partnership beween AB and VK in RCB VS KXIP matches :\",round(partnership[\"Partnership b/w ABD and VK\"].mean()))"
   ]
  },
  {
   "cell_type": "markdown",
   "metadata": {},
   "source": [
    "### Inning wise Partnership Analysis\n"
   ]
  },
  {
   "cell_type": "markdown",
   "metadata": {},
   "source": [
    "#### Overall partnership against all the teams (inning wise) in last 2 years :"
   ]
  },
  {
   "cell_type": "code",
   "execution_count": 351,
   "metadata": {},
   "outputs": [],
   "source": [
    "VKAB =matches[np.logical_or(np.logical_and(matches['batsman']=='V Kohli',matches['non_striker']=='AB de Villiers'),\n",
    "                            np.logical_and(matches['non_striker']=='V Kohli',matches['batsman']=='AB de Villiers'))]"
   ]
  },
  {
   "cell_type": "code",
   "execution_count": 352,
   "metadata": {},
   "outputs": [],
   "source": [
    "cond6 = VKAB[\"season\"] == 2018\n",
    "cond7 = VKAB[\"season\"] == 2019\n",
    "Fill = VKAB[cond6|cond7]"
   ]
  },
  {
   "cell_type": "code",
   "execution_count": 354,
   "metadata": {},
   "outputs": [
    {
     "data": {
      "text/html": [
       "<div>\n",
       "<style scoped>\n",
       "    .dataframe tbody tr th:only-of-type {\n",
       "        vertical-align: middle;\n",
       "    }\n",
       "\n",
       "    .dataframe tbody tr th {\n",
       "        vertical-align: top;\n",
       "    }\n",
       "\n",
       "    .dataframe thead th {\n",
       "        text-align: right;\n",
       "    }\n",
       "</style>\n",
       "<table border=\"1\" class=\"dataframe\">\n",
       "  <thead>\n",
       "    <tr style=\"text-align: right;\">\n",
       "      <th></th>\n",
       "      <th></th>\n",
       "      <th></th>\n",
       "      <th>total_runs</th>\n",
       "    </tr>\n",
       "    <tr>\n",
       "      <th>season</th>\n",
       "      <th>match_id</th>\n",
       "      <th>inning</th>\n",
       "      <th></th>\n",
       "    </tr>\n",
       "  </thead>\n",
       "  <tbody>\n",
       "    <tr>\n",
       "      <th rowspan=\"7\" valign=\"top\">2018</th>\n",
       "      <th>7896</th>\n",
       "      <th>1</th>\n",
       "      <td>64</td>\n",
       "    </tr>\n",
       "    <tr>\n",
       "      <th>7904</th>\n",
       "      <th>2</th>\n",
       "      <td>21</td>\n",
       "    </tr>\n",
       "    <tr>\n",
       "      <th>7907</th>\n",
       "      <th>2</th>\n",
       "      <td>2</td>\n",
       "    </tr>\n",
       "    <tr>\n",
       "      <th>7912</th>\n",
       "      <th>2</th>\n",
       "      <td>64</td>\n",
       "    </tr>\n",
       "    <tr>\n",
       "      <th>7932</th>\n",
       "      <th>2</th>\n",
       "      <td>15</td>\n",
       "    </tr>\n",
       "    <tr>\n",
       "      <th>7938</th>\n",
       "      <th>2</th>\n",
       "      <td>120</td>\n",
       "    </tr>\n",
       "    <tr>\n",
       "      <th>7944</th>\n",
       "      <th>1</th>\n",
       "      <td>32</td>\n",
       "    </tr>\n",
       "    <tr>\n",
       "      <th rowspan=\"8\" valign=\"top\">2019</th>\n",
       "      <th>11143</th>\n",
       "      <th>2</th>\n",
       "      <td>50</td>\n",
       "    </tr>\n",
       "    <tr>\n",
       "      <th>11147</th>\n",
       "      <th>2</th>\n",
       "      <td>2</td>\n",
       "    </tr>\n",
       "    <tr>\n",
       "      <th>11153</th>\n",
       "      <th>1</th>\n",
       "      <td>109</td>\n",
       "    </tr>\n",
       "    <tr>\n",
       "      <th>11311</th>\n",
       "      <th>1</th>\n",
       "      <td>26</td>\n",
       "    </tr>\n",
       "    <tr>\n",
       "      <th>11319</th>\n",
       "      <th>2</th>\n",
       "      <td>86</td>\n",
       "    </tr>\n",
       "    <tr>\n",
       "      <th>11337</th>\n",
       "      <th>2</th>\n",
       "      <td>5</td>\n",
       "    </tr>\n",
       "    <tr>\n",
       "      <th>11340</th>\n",
       "      <th>1</th>\n",
       "      <td>35</td>\n",
       "    </tr>\n",
       "    <tr>\n",
       "      <th>11345</th>\n",
       "      <th>2</th>\n",
       "      <td>17</td>\n",
       "    </tr>\n",
       "  </tbody>\n",
       "</table>\n",
       "</div>"
      ],
      "text/plain": [
       "                        total_runs\n",
       "season match_id inning            \n",
       "2018   7896     1               64\n",
       "       7904     2               21\n",
       "       7907     2                2\n",
       "       7912     2               64\n",
       "       7932     2               15\n",
       "       7938     2              120\n",
       "       7944     1               32\n",
       "2019   11143    2               50\n",
       "       11147    2                2\n",
       "       11153    1              109\n",
       "       11311    1               26\n",
       "       11319    2               86\n",
       "       11337    2                5\n",
       "       11340    1               35\n",
       "       11345    2               17"
      ]
     },
     "execution_count": 354,
     "metadata": {},
     "output_type": "execute_result"
    }
   ],
   "source": [
    "inning_wise_partnership_overall = pd.DataFrame(Fill.groupby([\"season\",\"match_id\",\"inning\"])[\"total_runs\"].sum())\n",
    "\n",
    "inning_wise_partnership_overall"
   ]
  },
  {
   "cell_type": "markdown",
   "metadata": {},
   "source": [
    "#### Parntership against KXIP bowlers  :"
   ]
  },
  {
   "cell_type": "code",
   "execution_count": 355,
   "metadata": {},
   "outputs": [
    {
     "data": {
      "text/html": [
       "<div>\n",
       "<style scoped>\n",
       "    .dataframe tbody tr th:only-of-type {\n",
       "        vertical-align: middle;\n",
       "    }\n",
       "\n",
       "    .dataframe tbody tr th {\n",
       "        vertical-align: top;\n",
       "    }\n",
       "\n",
       "    .dataframe thead th {\n",
       "        text-align: right;\n",
       "    }\n",
       "</style>\n",
       "<table border=\"1\" class=\"dataframe\">\n",
       "  <thead>\n",
       "    <tr style=\"text-align: right;\">\n",
       "      <th></th>\n",
       "      <th></th>\n",
       "      <th></th>\n",
       "      <th>total_runs</th>\n",
       "    </tr>\n",
       "    <tr>\n",
       "      <th>season</th>\n",
       "      <th>match_id</th>\n",
       "      <th>inning</th>\n",
       "      <th></th>\n",
       "    </tr>\n",
       "  </thead>\n",
       "  <tbody>\n",
       "    <tr>\n",
       "      <th rowspan=\"2\" valign=\"top\">2013</th>\n",
       "      <th>429</th>\n",
       "      <th>1</th>\n",
       "      <td>6</td>\n",
       "    </tr>\n",
       "    <tr>\n",
       "      <th>448</th>\n",
       "      <th>1</th>\n",
       "      <td>11</td>\n",
       "    </tr>\n",
       "    <tr>\n",
       "      <th rowspan=\"2\" valign=\"top\">2016</th>\n",
       "      <th>615</th>\n",
       "      <th>1</th>\n",
       "      <td>1</td>\n",
       "    </tr>\n",
       "    <tr>\n",
       "      <th>626</th>\n",
       "      <th>1</th>\n",
       "      <td>7</td>\n",
       "    </tr>\n",
       "    <tr>\n",
       "      <th>2019</th>\n",
       "      <th>11319</th>\n",
       "      <th>2</th>\n",
       "      <td>86</td>\n",
       "    </tr>\n",
       "  </tbody>\n",
       "</table>\n",
       "</div>"
      ],
      "text/plain": [
       "                        total_runs\n",
       "season match_id inning            \n",
       "2013   429      1                6\n",
       "       448      1               11\n",
       "2016   615      1                1\n",
       "       626      1                7\n",
       "2019   11319    2               86"
      ]
     },
     "execution_count": 355,
     "metadata": {},
     "output_type": "execute_result"
    }
   ],
   "source": [
    "inning_wise_partnership = pd.DataFrame(AV.groupby([\"season\",\"match_id\",\"inning\"])[\"total_runs\"].sum())\n",
    "\n",
    "inning_wise_partnership"
   ]
  },
  {
   "cell_type": "markdown",
   "metadata": {},
   "source": [
    "### Partnership Breakdown by KXIP Bowlers"
   ]
  },
  {
   "cell_type": "code",
   "execution_count": 314,
   "metadata": {},
   "outputs": [],
   "source": [
    "partnership_dismiss = AV[(AV[\"player_dismissed\"]==\"V Kohli\") | (AV[\"player_dismissed\"]==\"AB de Villiers\")]"
   ]
  },
  {
   "cell_type": "code",
   "execution_count": 315,
   "metadata": {},
   "outputs": [
    {
     "name": "stdout",
     "output_type": "stream",
     "text": [
      "Partnership breakdown by :\n"
     ]
    },
    {
     "data": {
      "text/html": [
       "<div>\n",
       "<style scoped>\n",
       "    .dataframe tbody tr th:only-of-type {\n",
       "        vertical-align: middle;\n",
       "    }\n",
       "\n",
       "    .dataframe tbody tr th {\n",
       "        vertical-align: top;\n",
       "    }\n",
       "\n",
       "    .dataframe thead th {\n",
       "        text-align: right;\n",
       "    }\n",
       "</style>\n",
       "<table border=\"1\" class=\"dataframe\">\n",
       "  <thead>\n",
       "    <tr style=\"text-align: right;\">\n",
       "      <th></th>\n",
       "      <th></th>\n",
       "      <th></th>\n",
       "      <th></th>\n",
       "      <th>Player dismissal count</th>\n",
       "    </tr>\n",
       "    <tr>\n",
       "      <th>season</th>\n",
       "      <th>match_id</th>\n",
       "      <th>bowler</th>\n",
       "      <th>batsman</th>\n",
       "      <th></th>\n",
       "    </tr>\n",
       "  </thead>\n",
       "  <tbody>\n",
       "    <tr>\n",
       "      <th rowspan=\"2\" valign=\"top\">2013</th>\n",
       "      <th>429</th>\n",
       "      <th>P Awana</th>\n",
       "      <th>AB de Villiers</th>\n",
       "      <td>1</td>\n",
       "    </tr>\n",
       "    <tr>\n",
       "      <th>448</th>\n",
       "      <th>P Awana</th>\n",
       "      <th>V Kohli</th>\n",
       "      <td>1</td>\n",
       "    </tr>\n",
       "    <tr>\n",
       "      <th rowspan=\"2\" valign=\"top\">2016</th>\n",
       "      <th>615</th>\n",
       "      <th>KC Cariappa</th>\n",
       "      <th>V Kohli</th>\n",
       "      <td>1</td>\n",
       "    </tr>\n",
       "    <tr>\n",
       "      <th>626</th>\n",
       "      <th>KJ Abbott</th>\n",
       "      <th>AB de Villiers</th>\n",
       "      <td>1</td>\n",
       "    </tr>\n",
       "    <tr>\n",
       "      <th>2019</th>\n",
       "      <th>11319</th>\n",
       "      <th>Mohammed Shami</th>\n",
       "      <th>V Kohli</th>\n",
       "      <td>1</td>\n",
       "    </tr>\n",
       "  </tbody>\n",
       "</table>\n",
       "</div>"
      ],
      "text/plain": [
       "                                               Player dismissal count\n",
       "season match_id bowler         batsman                               \n",
       "2013   429      P Awana        AB de Villiers                       1\n",
       "       448      P Awana        V Kohli                              1\n",
       "2016   615      KC Cariappa    V Kohli                              1\n",
       "       626      KJ Abbott      AB de Villiers                       1\n",
       "2019   11319    Mohammed Shami V Kohli                              1"
      ]
     },
     "execution_count": 315,
     "metadata": {},
     "output_type": "execute_result"
    }
   ],
   "source": [
    "dismissal_record = pd.DataFrame(partnership_dismiss.groupby([\"season\",\"match_id\",\"bowler\",\"batsman\"])[\"player_dismissed\"].count())\n",
    "\n",
    "dismissal_record.columns = [\"Player dismissal count\"] \n",
    "\n",
    "print(\"Partnership breakdown by :\")\n",
    "dismissal_record"
   ]
  },
  {
   "cell_type": "markdown",
   "metadata": {},
   "source": [
    "From here we can see that out of their 5 last partnerships majority times the partnership is broken by the pacers."
   ]
  },
  {
   "cell_type": "code",
   "execution_count": 316,
   "metadata": {},
   "outputs": [
    {
     "data": {
      "text/plain": [
       "<matplotlib.axes._subplots.AxesSubplot at 0x18c34d2b610>"
      ]
     },
     "execution_count": 316,
     "metadata": {},
     "output_type": "execute_result"
    },
    {
     "data": {
      "image/png": "[encoded data removed]",
      "text/plain": [
       "<Figure size 432x288 with 1 Axes>"
      ]
     },
     "metadata": {
      "needs_background": "light"
     },
     "output_type": "display_data"
    }
   ],
   "source": [
    "sns.distplot(partnership[\"Partnership b/w ABD and VK\"])"
   ]
  },
  {
   "cell_type": "markdown",
   "metadata": {},
   "source": [
    "From the plot above of their last 5 partnerships we can see that their partnership either broke down early when less then 20 runs or otherwise it goes for a long hunt. "
   ]
  },
  {
   "cell_type": "markdown",
   "metadata": {},
   "source": [
    "So, from all the above analysis related to their average partnership runs, dismissal, dismissal time , inning wise partnership etc we can predict that if both these batsman stayed long on crease(20+ runs initially) then they are expected to have a big partnership together."
   ]
  },
  {
   "cell_type": "markdown",
   "metadata": {},
   "source": [
    "## Sixes count analysis"
   ]
  },
  {
   "cell_type": "code",
   "execution_count": 131,
   "metadata": {},
   "outputs": [],
   "source": [
    "six = final[final[\"batsman_runs\"]==6]"
   ]
  },
  {
   "cell_type": "code",
   "execution_count": 132,
   "metadata": {},
   "outputs": [
    {
     "data": {
      "text/html": [
       "<div>\n",
       "<style scoped>\n",
       "    .dataframe tbody tr th:only-of-type {\n",
       "        vertical-align: middle;\n",
       "    }\n",
       "\n",
       "    .dataframe tbody tr th {\n",
       "        vertical-align: top;\n",
       "    }\n",
       "\n",
       "    .dataframe thead th {\n",
       "        text-align: right;\n",
       "    }\n",
       "</style>\n",
       "<table border=\"1\" class=\"dataframe\">\n",
       "  <thead>\n",
       "    <tr style=\"text-align: right;\">\n",
       "      <th></th>\n",
       "      <th>six count</th>\n",
       "    </tr>\n",
       "    <tr>\n",
       "      <th>match_id</th>\n",
       "      <th></th>\n",
       "    </tr>\n",
       "  </thead>\n",
       "  <tbody>\n",
       "    <tr>\n",
       "      <th>8</th>\n",
       "      <td>20</td>\n",
       "    </tr>\n",
       "    <tr>\n",
       "      <th>42</th>\n",
       "      <td>6</td>\n",
       "    </tr>\n",
       "    <tr>\n",
       "      <th>429</th>\n",
       "      <td>14</td>\n",
       "    </tr>\n",
       "    <tr>\n",
       "      <th>448</th>\n",
       "      <td>14</td>\n",
       "    </tr>\n",
       "    <tr>\n",
       "      <th>475</th>\n",
       "      <td>4</td>\n",
       "    </tr>\n",
       "    <tr>\n",
       "      <th>488</th>\n",
       "      <td>16</td>\n",
       "    </tr>\n",
       "    <tr>\n",
       "      <th>557</th>\n",
       "      <td>21</td>\n",
       "    </tr>\n",
       "    <tr>\n",
       "      <th>566</th>\n",
       "      <td>7</td>\n",
       "    </tr>\n",
       "    <tr>\n",
       "      <th>615</th>\n",
       "      <td>5</td>\n",
       "    </tr>\n",
       "    <tr>\n",
       "      <th>626</th>\n",
       "      <td>20</td>\n",
       "    </tr>\n",
       "    <tr>\n",
       "      <th>7901</th>\n",
       "      <td>11</td>\n",
       "    </tr>\n",
       "    <tr>\n",
       "      <th>7941</th>\n",
       "      <td>7</td>\n",
       "    </tr>\n",
       "    <tr>\n",
       "      <th>11319</th>\n",
       "      <td>10</td>\n",
       "    </tr>\n",
       "    <tr>\n",
       "      <th>11333</th>\n",
       "      <td>21</td>\n",
       "    </tr>\n",
       "  </tbody>\n",
       "</table>\n",
       "</div>"
      ],
      "text/plain": [
       "          six count\n",
       "match_id           \n",
       "8                20\n",
       "42                6\n",
       "429              14\n",
       "448              14\n",
       "475               4\n",
       "488              16\n",
       "557              21\n",
       "566               7\n",
       "615               5\n",
       "626              20\n",
       "7901             11\n",
       "7941              7\n",
       "11319            10\n",
       "11333            21"
      ]
     },
     "execution_count": 132,
     "metadata": {},
     "output_type": "execute_result"
    }
   ],
   "source": [
    "per_match_sixes = pd.DataFrame(six.groupby(\"match_id\")[\"batsman_runs\"].count())\n",
    "per_match_sixes.columns = [\"six count\"]\n",
    "\n",
    "per_match_sixes"
   ]
  },
  {
   "cell_type": "code",
   "execution_count": 133,
   "metadata": {},
   "outputs": [
    {
     "data": {
      "text/plain": [
       "<matplotlib.axes._subplots.AxesSubplot at 0x18c33773eb0>"
      ]
     },
     "execution_count": 133,
     "metadata": {},
     "output_type": "execute_result"
    },
    {
     "data": {
      "image/png": "[encoded data removed]",
      "text/plain": [
       "<Figure size 432x288 with 1 Axes>"
      ]
     },
     "metadata": {
      "needs_background": "light"
     },
     "output_type": "display_data"
    }
   ],
   "source": [
    "sns.boxplot(per_match_sixes[\"six count\"])"
   ]
  },
  {
   "cell_type": "code",
   "execution_count": 134,
   "metadata": {},
   "outputs": [
    {
     "name": "stdout",
     "output_type": "stream",
     "text": [
      "Average no of sixes scored in RCB VS KXIP matches : 13\n"
     ]
    }
   ],
   "source": [
    "print(\"Average no of sixes scored in RCB VS KXIP matches :\",round(per_match_sixes[\"six count\"].mean()))"
   ]
  },
  {
   "cell_type": "markdown",
   "metadata": {},
   "source": [
    "### Confidence Interval Calculation :"
   ]
  },
  {
   "cell_type": "code",
   "execution_count": 135,
   "metadata": {},
   "outputs": [
    {
     "data": {
      "text/html": [
       "<div>\n",
       "<style scoped>\n",
       "    .dataframe tbody tr th:only-of-type {\n",
       "        vertical-align: middle;\n",
       "    }\n",
       "\n",
       "    .dataframe tbody tr th {\n",
       "        vertical-align: top;\n",
       "    }\n",
       "\n",
       "    .dataframe thead th {\n",
       "        text-align: right;\n",
       "    }\n",
       "</style>\n",
       "<table border=\"1\" class=\"dataframe\">\n",
       "  <thead>\n",
       "    <tr style=\"text-align: right;\">\n",
       "      <th></th>\n",
       "      <th>count</th>\n",
       "      <th>mean</th>\n",
       "      <th>std</th>\n",
       "      <th>min</th>\n",
       "      <th>25%</th>\n",
       "      <th>50%</th>\n",
       "      <th>75%</th>\n",
       "      <th>max</th>\n",
       "    </tr>\n",
       "  </thead>\n",
       "  <tbody>\n",
       "    <tr>\n",
       "      <th>six count</th>\n",
       "      <td>14.0</td>\n",
       "      <td>12.571429</td>\n",
       "      <td>6.284465</td>\n",
       "      <td>4.0</td>\n",
       "      <td>7.0</td>\n",
       "      <td>12.5</td>\n",
       "      <td>19.0</td>\n",
       "      <td>21.0</td>\n",
       "    </tr>\n",
       "  </tbody>\n",
       "</table>\n",
       "</div>"
      ],
      "text/plain": [
       "           count       mean       std  min  25%   50%   75%   max\n",
       "six count   14.0  12.571429  6.284465  4.0  7.0  12.5  19.0  21.0"
      ]
     },
     "execution_count": 135,
     "metadata": {},
     "output_type": "execute_result"
    }
   ],
   "source": [
    "per_match_sixes.describe().T"
   ]
  },
  {
   "cell_type": "code",
   "execution_count": 179,
   "metadata": {},
   "outputs": [
    {
     "data": {
      "text/plain": [
       "14"
      ]
     },
     "execution_count": 179,
     "metadata": {},
     "output_type": "execute_result"
    }
   ],
   "source": [
    "mean = per_match_sixes[\"six count\"].mean()\n",
    "sd = per_match_sixes[\"six count\"].std()\n",
    "n = len(per_match_sixes)\n",
    "\n",
    "n"
   ]
  },
  {
   "cell_type": "code",
   "execution_count": 180,
   "metadata": {},
   "outputs": [
    {
     "data": {
      "text/plain": [
       "1.679594030338996"
      ]
     },
     "execution_count": 180,
     "metadata": {},
     "output_type": "execute_result"
    }
   ],
   "source": [
    "tstar = 2.064\n",
    "se = sd/np.sqrt(n)\n",
    "se"
   ]
  },
  {
   "cell_type": "code",
   "execution_count": 181,
   "metadata": {},
   "outputs": [
    {
     "name": "stdout",
     "output_type": "stream",
     "text": [
      "So , our 95% Confidence Interval for Total sixes that can be hit in today's match :(9.0, 16.0)\n"
     ]
    }
   ],
   "source": [
    "lcb = mean - tstar * se\n",
    "ucb = mean + tstar * se\n",
    "lcb = round(lcb)\n",
    "ucb = round(ucb)\n",
    "\n",
    "print(\"So , our 95% Confidence Interval for Total sixes that can be hit in today's match :{}\".format((lcb, ucb)))"
   ]
  },
  {
   "cell_type": "markdown",
   "metadata": {},
   "source": [
    "### No ball Analysis\n"
   ]
  },
  {
   "cell_type": "code",
   "execution_count": 168,
   "metadata": {},
   "outputs": [],
   "source": [
    "nbcount = final[final[\"noball_runs\"] >0]"
   ]
  },
  {
   "cell_type": "code",
   "execution_count": 169,
   "metadata": {},
   "outputs": [
    {
     "data": {
      "text/plain": [
       "1    15\n",
       "2     1\n",
       "Name: noball_runs, dtype: int64"
      ]
     },
     "execution_count": 169,
     "metadata": {},
     "output_type": "execute_result"
    }
   ],
   "source": [
    "nbcount.noball_runs.value_counts()"
   ]
  },
  {
   "cell_type": "code",
   "execution_count": 208,
   "metadata": {},
   "outputs": [
    {
     "name": "stdout",
     "output_type": "stream",
     "text": [
      "Runs from no ball delivery (overall) : 17\n"
     ]
    }
   ],
   "source": [
    "runs_from_noballs = nbcount.noball_runs.sum()\n",
    "\n",
    "print(\"Runs from no ball delivery (overall) :\",runs_from_noballs)"
   ]
  },
  {
   "cell_type": "code",
   "execution_count": 199,
   "metadata": {},
   "outputs": [
    {
     "name": "stdout",
     "output_type": "stream",
     "text": [
      "No balls bowled in RCB VS KXIP matches :\n"
     ]
    },
    {
     "data": {
      "text/html": [
       "<div>\n",
       "<style scoped>\n",
       "    .dataframe tbody tr th:only-of-type {\n",
       "        vertical-align: middle;\n",
       "    }\n",
       "\n",
       "    .dataframe tbody tr th {\n",
       "        vertical-align: top;\n",
       "    }\n",
       "\n",
       "    .dataframe thead th {\n",
       "        text-align: right;\n",
       "    }\n",
       "</style>\n",
       "<table border=\"1\" class=\"dataframe\">\n",
       "  <thead>\n",
       "    <tr style=\"text-align: right;\">\n",
       "      <th></th>\n",
       "      <th>noball count</th>\n",
       "    </tr>\n",
       "    <tr>\n",
       "      <th>match_id</th>\n",
       "      <th></th>\n",
       "    </tr>\n",
       "  </thead>\n",
       "  <tbody>\n",
       "    <tr>\n",
       "      <th>429</th>\n",
       "      <td>3</td>\n",
       "    </tr>\n",
       "    <tr>\n",
       "      <th>448</th>\n",
       "      <td>2</td>\n",
       "    </tr>\n",
       "    <tr>\n",
       "      <th>475</th>\n",
       "      <td>2</td>\n",
       "    </tr>\n",
       "    <tr>\n",
       "      <th>488</th>\n",
       "      <td>2</td>\n",
       "    </tr>\n",
       "    <tr>\n",
       "      <th>557</th>\n",
       "      <td>1</td>\n",
       "    </tr>\n",
       "    <tr>\n",
       "      <th>566</th>\n",
       "      <td>1</td>\n",
       "    </tr>\n",
       "    <tr>\n",
       "      <th>626</th>\n",
       "      <td>2</td>\n",
       "    </tr>\n",
       "    <tr>\n",
       "      <th>7941</th>\n",
       "      <td>1</td>\n",
       "    </tr>\n",
       "    <tr>\n",
       "      <th>11333</th>\n",
       "      <td>2</td>\n",
       "    </tr>\n",
       "  </tbody>\n",
       "</table>\n",
       "</div>"
      ],
      "text/plain": [
       "          noball count\n",
       "match_id              \n",
       "429                  3\n",
       "448                  2\n",
       "475                  2\n",
       "488                  2\n",
       "557                  1\n",
       "566                  1\n",
       "626                  2\n",
       "7941                 1\n",
       "11333                2"
      ]
     },
     "execution_count": 199,
     "metadata": {},
     "output_type": "execute_result"
    }
   ],
   "source": [
    "no_balls_per_match = pd.DataFrame(nbcount.groupby(\"match_id\")[\"noball_runs\"].count())\n",
    "\n",
    "no_balls_per_match.columns = [\"noball count\"]\n",
    "\n",
    "\n",
    "print(\"No balls bowled in RCB VS KXIP matches :\")\n",
    "no_balls_per_match"
   ]
  },
  {
   "cell_type": "code",
   "execution_count": 201,
   "metadata": {},
   "outputs": [
    {
     "data": {
      "text/plain": [
       "<matplotlib.axes._subplots.AxesSubplot at 0x18c34933160>"
      ]
     },
     "execution_count": 201,
     "metadata": {},
     "output_type": "execute_result"
    },
    {
     "data": {
      "image/png": "[encoded data removed]",
      "text/plain": [
       "<Figure size 432x288 with 1 Axes>"
      ]
     },
     "metadata": {
      "needs_background": "light"
     },
     "output_type": "display_data"
    }
   ],
   "source": [
    "sns.boxplot(no_balls_per_match[\"noball count\"])"
   ]
  },
  {
   "cell_type": "code",
   "execution_count": 357,
   "metadata": {},
   "outputs": [
    {
     "name": "stdout",
     "output_type": "stream",
     "text": [
      "On an average , No Balls bowled in RCB VS KXIP matches (overall) : 1.0\n"
     ]
    }
   ],
   "source": [
    "count = final.match_id.unique()\n",
    "count = len(count)\n",
    "\n",
    "total_no_balls = nbcount.noball_runs.count()\n",
    "\n",
    "Avg_no_ball = total_no_balls/count\n",
    "\n",
    "print(\"On an average , No Balls bowled in RCB VS KXIP matches (overall) :\",round(Avg_no_ball))"
   ]
  },
  {
   "cell_type": "code",
   "execution_count": 359,
   "metadata": {},
   "outputs": [
    {
     "data": {
      "image/png": "[encoded data removed]",
      "text/plain": [
       "<Figure size 1296x648 with 1 Axes>"
      ]
     },
     "metadata": {
      "needs_background": "light"
     },
     "output_type": "display_data"
    }
   ],
   "source": [
    "plt.figure(figsize = (18,9))\n",
    "sns.countplot(nbcount['noball_runs'],palette='Set2',hue=nbcount['bowling_team'])\n",
    "plt.title('Noball balled by KXIP and RCB',fontsize=15)\n",
    "plt.yticks(fontsize=15)\n",
    "plt.xticks(fontsize=15)\n",
    "plt.xlabel('Noball runs',fontsize=15)\n",
    "plt.ylabel('count',fontsize=15)\n",
    "plt.legend(loc=1,fontsize=15)\n",
    "\n",
    "plt.show()"
   ]
  },
  {
   "cell_type": "markdown",
   "metadata": {},
   "source": [
    "So, from the analysis of no balls we see that there are 9 matches out of 14 matches where 1 or more no balls were bowled and KXIP bowlers have bowled more no balls as campared to RCB bowlers.\n",
    "\n",
    "Also in an average we found that 1 no ball is bowled per match .\n",
    "\n",
    "So based on all these information we can estimate that for this match also 0 -1 noball are expected to be bowled."
   ]
  },
  {
   "cell_type": "code",
   "execution_count": null,
   "metadata": {},
   "outputs": [],
   "source": []
  }
 ],
 "metadata": {
  "kernelspec": {
   "display_name": "Python 3",
   "language": "python",
   "name": "python3"
  },
  "language_info": {
   "codemirror_mode": {
    "name": "ipython",
    "version": 3
   },
   "file_extension": ".py",
   "mimetype": "text/x-python",
   "name": "python",
   "nbconvert_exporter": "python",
   "pygments_lexer": "ipython3",
   "version": "3.8.3"
  }
 },
 "nbformat": 4,
 "nbformat_minor": 4
}
