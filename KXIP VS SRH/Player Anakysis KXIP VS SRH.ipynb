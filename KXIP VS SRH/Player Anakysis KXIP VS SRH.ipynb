{
 "cells": [
  {
   "cell_type": "markdown",
   "metadata": {},
   "source": [
    "# Player Analysis"
   ]
  },
  {
   "cell_type": "code",
   "execution_count": 1,
   "metadata": {},
   "outputs": [],
   "source": [
    "import numpy as np\n",
    "import pandas as pd\n",
    "import matplotlib.pyplot as plt\n",
    "import seaborn as sns\n",
    "import warnings\n",
    "warnings.filterwarnings(\"ignore\")\n",
    "\n",
    "%matplotlib inline"
   ]
  },
  {
   "cell_type": "markdown",
   "metadata": {},
   "source": [
    "## Data Cleaning and Exploration"
   ]
  },
  {
   "cell_type": "code",
   "execution_count": 2,
   "metadata": {},
   "outputs": [],
   "source": [
    "df1 = pd.read_csv(\"matches.csv\")\n",
    "df2 = pd.read_csv(\"deliveries.csv\")\n",
    "\n",
    "df1.rename(columns={\"id\" : 'match_id'}, inplace=True)\n",
    "\n",
    "matches= pd.merge(df1, df2, on='match_id', how='outer')"
   ]
  },
  {
   "cell_type": "code",
   "execution_count": 3,
   "metadata": {},
   "outputs": [
    {
     "data": {
      "text/plain": [
       "Index(['match_id', 'season', 'city', 'date', 'team1', 'team2', 'toss_winner',\n",
       "       'toss_decision', 'result', 'dl_applied', 'winner', 'win_by_runs',\n",
       "       'win_by_wickets', 'player_of_match', 'venue', 'umpire1', 'umpire2',\n",
       "       'umpire3', 'inning', 'batting_team', 'bowling_team', 'over', 'ball',\n",
       "       'batsman', 'non_striker', 'bowler', 'is_super_over', 'wide_runs',\n",
       "       'bye_runs', 'legbye_runs', 'noball_runs', 'penalty_runs',\n",
       "       'batsman_runs', 'extra_runs', 'total_runs', 'player_dismissed',\n",
       "       'dismissal_kind', 'fielder'],\n",
       "      dtype='object')"
      ]
     },
     "execution_count": 3,
     "metadata": {},
     "output_type": "execute_result"
    }
   ],
   "source": [
    "matches.columns"
   ]
  },
  {
   "cell_type": "code",
   "execution_count": 4,
   "metadata": {},
   "outputs": [
    {
     "data": {
      "text/plain": [
       "(179078, 24)"
      ]
     },
     "execution_count": 4,
     "metadata": {},
     "output_type": "execute_result"
    }
   ],
   "source": [
    "matches = matches[['match_id', 'season','team1', 'team2', 'toss_winner','toss_decision','winner',\n",
    "       'inning', 'batting_team', 'bowling_team', 'over', 'ball',\n",
    "       'batsman','non_striker', 'bowler','wide_runs','bye_runs', 'legbye_runs','noball_runs',\n",
    "       'batsman_runs', 'extra_runs', 'total_runs', 'player_dismissed',\n",
    "       'dismissal_kind']]\n",
    "\n",
    "matches.shape"
   ]
  },
  {
   "cell_type": "code",
   "execution_count": 5,
   "metadata": {},
   "outputs": [
    {
     "data": {
      "text/html": [
       "<div>\n",
       "<style scoped>\n",
       "    .dataframe tbody tr th:only-of-type {\n",
       "        vertical-align: middle;\n",
       "    }\n",
       "\n",
       "    .dataframe tbody tr th {\n",
       "        vertical-align: top;\n",
       "    }\n",
       "\n",
       "    .dataframe thead th {\n",
       "        text-align: right;\n",
       "    }\n",
       "</style>\n",
       "<table border=\"1\" class=\"dataframe\">\n",
       "  <thead>\n",
       "    <tr style=\"text-align: right;\">\n",
       "      <th></th>\n",
       "      <th>match_id</th>\n",
       "      <th>season</th>\n",
       "      <th>team1</th>\n",
       "      <th>team2</th>\n",
       "      <th>toss_winner</th>\n",
       "      <th>toss_decision</th>\n",
       "      <th>winner</th>\n",
       "      <th>inning</th>\n",
       "      <th>batting_team</th>\n",
       "      <th>bowling_team</th>\n",
       "      <th>...</th>\n",
       "      <th>bowler</th>\n",
       "      <th>wide_runs</th>\n",
       "      <th>bye_runs</th>\n",
       "      <th>legbye_runs</th>\n",
       "      <th>noball_runs</th>\n",
       "      <th>batsman_runs</th>\n",
       "      <th>extra_runs</th>\n",
       "      <th>total_runs</th>\n",
       "      <th>player_dismissed</th>\n",
       "      <th>dismissal_kind</th>\n",
       "    </tr>\n",
       "  </thead>\n",
       "  <tbody>\n",
       "    <tr>\n",
       "      <th>0</th>\n",
       "      <td>1</td>\n",
       "      <td>2017</td>\n",
       "      <td>Sunrisers Hyderabad</td>\n",
       "      <td>Royal Challengers Bangalore</td>\n",
       "      <td>Royal Challengers Bangalore</td>\n",
       "      <td>field</td>\n",
       "      <td>Sunrisers Hyderabad</td>\n",
       "      <td>1</td>\n",
       "      <td>Sunrisers Hyderabad</td>\n",
       "      <td>Royal Challengers Bangalore</td>\n",
       "      <td>...</td>\n",
       "      <td>TS Mills</td>\n",
       "      <td>0</td>\n",
       "      <td>0</td>\n",
       "      <td>0</td>\n",
       "      <td>0</td>\n",
       "      <td>0</td>\n",
       "      <td>0</td>\n",
       "      <td>0</td>\n",
       "      <td>NaN</td>\n",
       "      <td>NaN</td>\n",
       "    </tr>\n",
       "    <tr>\n",
       "      <th>1</th>\n",
       "      <td>1</td>\n",
       "      <td>2017</td>\n",
       "      <td>Sunrisers Hyderabad</td>\n",
       "      <td>Royal Challengers Bangalore</td>\n",
       "      <td>Royal Challengers Bangalore</td>\n",
       "      <td>field</td>\n",
       "      <td>Sunrisers Hyderabad</td>\n",
       "      <td>1</td>\n",
       "      <td>Sunrisers Hyderabad</td>\n",
       "      <td>Royal Challengers Bangalore</td>\n",
       "      <td>...</td>\n",
       "      <td>TS Mills</td>\n",
       "      <td>0</td>\n",
       "      <td>0</td>\n",
       "      <td>0</td>\n",
       "      <td>0</td>\n",
       "      <td>0</td>\n",
       "      <td>0</td>\n",
       "      <td>0</td>\n",
       "      <td>NaN</td>\n",
       "      <td>NaN</td>\n",
       "    </tr>\n",
       "    <tr>\n",
       "      <th>2</th>\n",
       "      <td>1</td>\n",
       "      <td>2017</td>\n",
       "      <td>Sunrisers Hyderabad</td>\n",
       "      <td>Royal Challengers Bangalore</td>\n",
       "      <td>Royal Challengers Bangalore</td>\n",
       "      <td>field</td>\n",
       "      <td>Sunrisers Hyderabad</td>\n",
       "      <td>1</td>\n",
       "      <td>Sunrisers Hyderabad</td>\n",
       "      <td>Royal Challengers Bangalore</td>\n",
       "      <td>...</td>\n",
       "      <td>TS Mills</td>\n",
       "      <td>0</td>\n",
       "      <td>0</td>\n",
       "      <td>0</td>\n",
       "      <td>0</td>\n",
       "      <td>4</td>\n",
       "      <td>0</td>\n",
       "      <td>4</td>\n",
       "      <td>NaN</td>\n",
       "      <td>NaN</td>\n",
       "    </tr>\n",
       "    <tr>\n",
       "      <th>3</th>\n",
       "      <td>1</td>\n",
       "      <td>2017</td>\n",
       "      <td>Sunrisers Hyderabad</td>\n",
       "      <td>Royal Challengers Bangalore</td>\n",
       "      <td>Royal Challengers Bangalore</td>\n",
       "      <td>field</td>\n",
       "      <td>Sunrisers Hyderabad</td>\n",
       "      <td>1</td>\n",
       "      <td>Sunrisers Hyderabad</td>\n",
       "      <td>Royal Challengers Bangalore</td>\n",
       "      <td>...</td>\n",
       "      <td>TS Mills</td>\n",
       "      <td>0</td>\n",
       "      <td>0</td>\n",
       "      <td>0</td>\n",
       "      <td>0</td>\n",
       "      <td>0</td>\n",
       "      <td>0</td>\n",
       "      <td>0</td>\n",
       "      <td>NaN</td>\n",
       "      <td>NaN</td>\n",
       "    </tr>\n",
       "    <tr>\n",
       "      <th>4</th>\n",
       "      <td>1</td>\n",
       "      <td>2017</td>\n",
       "      <td>Sunrisers Hyderabad</td>\n",
       "      <td>Royal Challengers Bangalore</td>\n",
       "      <td>Royal Challengers Bangalore</td>\n",
       "      <td>field</td>\n",
       "      <td>Sunrisers Hyderabad</td>\n",
       "      <td>1</td>\n",
       "      <td>Sunrisers Hyderabad</td>\n",
       "      <td>Royal Challengers Bangalore</td>\n",
       "      <td>...</td>\n",
       "      <td>TS Mills</td>\n",
       "      <td>2</td>\n",
       "      <td>0</td>\n",
       "      <td>0</td>\n",
       "      <td>0</td>\n",
       "      <td>0</td>\n",
       "      <td>2</td>\n",
       "      <td>2</td>\n",
       "      <td>NaN</td>\n",
       "      <td>NaN</td>\n",
       "    </tr>\n",
       "  </tbody>\n",
       "</table>\n",
       "<p>5 rows × 24 columns</p>\n",
       "</div>"
      ],
      "text/plain": [
       "   match_id  season                team1                        team2  \\\n",
       "0         1    2017  Sunrisers Hyderabad  Royal Challengers Bangalore   \n",
       "1         1    2017  Sunrisers Hyderabad  Royal Challengers Bangalore   \n",
       "2         1    2017  Sunrisers Hyderabad  Royal Challengers Bangalore   \n",
       "3         1    2017  Sunrisers Hyderabad  Royal Challengers Bangalore   \n",
       "4         1    2017  Sunrisers Hyderabad  Royal Challengers Bangalore   \n",
       "\n",
       "                   toss_winner toss_decision               winner  inning  \\\n",
       "0  Royal Challengers Bangalore         field  Sunrisers Hyderabad       1   \n",
       "1  Royal Challengers Bangalore         field  Sunrisers Hyderabad       1   \n",
       "2  Royal Challengers Bangalore         field  Sunrisers Hyderabad       1   \n",
       "3  Royal Challengers Bangalore         field  Sunrisers Hyderabad       1   \n",
       "4  Royal Challengers Bangalore         field  Sunrisers Hyderabad       1   \n",
       "\n",
       "          batting_team                 bowling_team  ...    bowler  wide_runs  \\\n",
       "0  Sunrisers Hyderabad  Royal Challengers Bangalore  ...  TS Mills          0   \n",
       "1  Sunrisers Hyderabad  Royal Challengers Bangalore  ...  TS Mills          0   \n",
       "2  Sunrisers Hyderabad  Royal Challengers Bangalore  ...  TS Mills          0   \n",
       "3  Sunrisers Hyderabad  Royal Challengers Bangalore  ...  TS Mills          0   \n",
       "4  Sunrisers Hyderabad  Royal Challengers Bangalore  ...  TS Mills          2   \n",
       "\n",
       "  bye_runs legbye_runs noball_runs  batsman_runs  extra_runs  total_runs  \\\n",
       "0        0           0           0             0           0           0   \n",
       "1        0           0           0             0           0           0   \n",
       "2        0           0           0             4           0           4   \n",
       "3        0           0           0             0           0           0   \n",
       "4        0           0           0             0           2           2   \n",
       "\n",
       "   player_dismissed  dismissal_kind  \n",
       "0               NaN             NaN  \n",
       "1               NaN             NaN  \n",
       "2               NaN             NaN  \n",
       "3               NaN             NaN  \n",
       "4               NaN             NaN  \n",
       "\n",
       "[5 rows x 24 columns]"
      ]
     },
     "execution_count": 5,
     "metadata": {},
     "output_type": "execute_result"
    }
   ],
   "source": [
    "matches.head()"
   ]
  },
  {
   "cell_type": "markdown",
   "metadata": {},
   "source": [
    "## Taking in Consideration only KXIP VS SRH matches"
   ]
  },
  {
   "cell_type": "code",
   "execution_count": 6,
   "metadata": {},
   "outputs": [],
   "source": [
    "KXIP_SRH =matches[np.logical_or(np.logical_and(matches['team1']=='Kings XI Punjab',matches['team2']=='Sunrisers Hyderabad'),\n",
    "                            np.logical_and(matches['team2']=='Kings XI Punjab',matches['team1']=='Sunrisers Hyderabad'))]"
   ]
  },
  {
   "cell_type": "code",
   "execution_count": 7,
   "metadata": {},
   "outputs": [
    {
     "data": {
      "text/html": [
       "<div>\n",
       "<style scoped>\n",
       "    .dataframe tbody tr th:only-of-type {\n",
       "        vertical-align: middle;\n",
       "    }\n",
       "\n",
       "    .dataframe tbody tr th {\n",
       "        vertical-align: top;\n",
       "    }\n",
       "\n",
       "    .dataframe thead th {\n",
       "        text-align: right;\n",
       "    }\n",
       "</style>\n",
       "<table border=\"1\" class=\"dataframe\">\n",
       "  <thead>\n",
       "    <tr style=\"text-align: right;\">\n",
       "      <th></th>\n",
       "      <th>match_id</th>\n",
       "      <th>season</th>\n",
       "      <th>team1</th>\n",
       "      <th>team2</th>\n",
       "      <th>toss_winner</th>\n",
       "      <th>toss_decision</th>\n",
       "      <th>winner</th>\n",
       "      <th>inning</th>\n",
       "      <th>batting_team</th>\n",
       "      <th>bowling_team</th>\n",
       "      <th>...</th>\n",
       "      <th>bowler</th>\n",
       "      <th>wide_runs</th>\n",
       "      <th>bye_runs</th>\n",
       "      <th>legbye_runs</th>\n",
       "      <th>noball_runs</th>\n",
       "      <th>batsman_runs</th>\n",
       "      <th>extra_runs</th>\n",
       "      <th>total_runs</th>\n",
       "      <th>player_dismissed</th>\n",
       "      <th>dismissal_kind</th>\n",
       "    </tr>\n",
       "  </thead>\n",
       "  <tbody>\n",
       "    <tr>\n",
       "      <th>4312</th>\n",
       "      <td>19</td>\n",
       "      <td>2017</td>\n",
       "      <td>Sunrisers Hyderabad</td>\n",
       "      <td>Kings XI Punjab</td>\n",
       "      <td>Kings XI Punjab</td>\n",
       "      <td>field</td>\n",
       "      <td>Sunrisers Hyderabad</td>\n",
       "      <td>1</td>\n",
       "      <td>Sunrisers Hyderabad</td>\n",
       "      <td>Kings XI Punjab</td>\n",
       "      <td>...</td>\n",
       "      <td>Sandeep Sharma</td>\n",
       "      <td>0</td>\n",
       "      <td>0</td>\n",
       "      <td>0</td>\n",
       "      <td>0</td>\n",
       "      <td>0</td>\n",
       "      <td>0</td>\n",
       "      <td>0</td>\n",
       "      <td>NaN</td>\n",
       "      <td>NaN</td>\n",
       "    </tr>\n",
       "    <tr>\n",
       "      <th>4313</th>\n",
       "      <td>19</td>\n",
       "      <td>2017</td>\n",
       "      <td>Sunrisers Hyderabad</td>\n",
       "      <td>Kings XI Punjab</td>\n",
       "      <td>Kings XI Punjab</td>\n",
       "      <td>field</td>\n",
       "      <td>Sunrisers Hyderabad</td>\n",
       "      <td>1</td>\n",
       "      <td>Sunrisers Hyderabad</td>\n",
       "      <td>Kings XI Punjab</td>\n",
       "      <td>...</td>\n",
       "      <td>Sandeep Sharma</td>\n",
       "      <td>0</td>\n",
       "      <td>0</td>\n",
       "      <td>0</td>\n",
       "      <td>0</td>\n",
       "      <td>0</td>\n",
       "      <td>0</td>\n",
       "      <td>0</td>\n",
       "      <td>NaN</td>\n",
       "      <td>NaN</td>\n",
       "    </tr>\n",
       "    <tr>\n",
       "      <th>4314</th>\n",
       "      <td>19</td>\n",
       "      <td>2017</td>\n",
       "      <td>Sunrisers Hyderabad</td>\n",
       "      <td>Kings XI Punjab</td>\n",
       "      <td>Kings XI Punjab</td>\n",
       "      <td>field</td>\n",
       "      <td>Sunrisers Hyderabad</td>\n",
       "      <td>1</td>\n",
       "      <td>Sunrisers Hyderabad</td>\n",
       "      <td>Kings XI Punjab</td>\n",
       "      <td>...</td>\n",
       "      <td>Sandeep Sharma</td>\n",
       "      <td>0</td>\n",
       "      <td>0</td>\n",
       "      <td>0</td>\n",
       "      <td>0</td>\n",
       "      <td>0</td>\n",
       "      <td>0</td>\n",
       "      <td>0</td>\n",
       "      <td>NaN</td>\n",
       "      <td>NaN</td>\n",
       "    </tr>\n",
       "    <tr>\n",
       "      <th>4315</th>\n",
       "      <td>19</td>\n",
       "      <td>2017</td>\n",
       "      <td>Sunrisers Hyderabad</td>\n",
       "      <td>Kings XI Punjab</td>\n",
       "      <td>Kings XI Punjab</td>\n",
       "      <td>field</td>\n",
       "      <td>Sunrisers Hyderabad</td>\n",
       "      <td>1</td>\n",
       "      <td>Sunrisers Hyderabad</td>\n",
       "      <td>Kings XI Punjab</td>\n",
       "      <td>...</td>\n",
       "      <td>Sandeep Sharma</td>\n",
       "      <td>0</td>\n",
       "      <td>0</td>\n",
       "      <td>0</td>\n",
       "      <td>0</td>\n",
       "      <td>1</td>\n",
       "      <td>0</td>\n",
       "      <td>1</td>\n",
       "      <td>NaN</td>\n",
       "      <td>NaN</td>\n",
       "    </tr>\n",
       "    <tr>\n",
       "      <th>4316</th>\n",
       "      <td>19</td>\n",
       "      <td>2017</td>\n",
       "      <td>Sunrisers Hyderabad</td>\n",
       "      <td>Kings XI Punjab</td>\n",
       "      <td>Kings XI Punjab</td>\n",
       "      <td>field</td>\n",
       "      <td>Sunrisers Hyderabad</td>\n",
       "      <td>1</td>\n",
       "      <td>Sunrisers Hyderabad</td>\n",
       "      <td>Kings XI Punjab</td>\n",
       "      <td>...</td>\n",
       "      <td>Sandeep Sharma</td>\n",
       "      <td>0</td>\n",
       "      <td>0</td>\n",
       "      <td>0</td>\n",
       "      <td>0</td>\n",
       "      <td>1</td>\n",
       "      <td>0</td>\n",
       "      <td>1</td>\n",
       "      <td>NaN</td>\n",
       "      <td>NaN</td>\n",
       "    </tr>\n",
       "  </tbody>\n",
       "</table>\n",
       "<p>5 rows × 24 columns</p>\n",
       "</div>"
      ],
      "text/plain": [
       "      match_id  season                team1            team2      toss_winner  \\\n",
       "4312        19    2017  Sunrisers Hyderabad  Kings XI Punjab  Kings XI Punjab   \n",
       "4313        19    2017  Sunrisers Hyderabad  Kings XI Punjab  Kings XI Punjab   \n",
       "4314        19    2017  Sunrisers Hyderabad  Kings XI Punjab  Kings XI Punjab   \n",
       "4315        19    2017  Sunrisers Hyderabad  Kings XI Punjab  Kings XI Punjab   \n",
       "4316        19    2017  Sunrisers Hyderabad  Kings XI Punjab  Kings XI Punjab   \n",
       "\n",
       "     toss_decision               winner  inning         batting_team  \\\n",
       "4312         field  Sunrisers Hyderabad       1  Sunrisers Hyderabad   \n",
       "4313         field  Sunrisers Hyderabad       1  Sunrisers Hyderabad   \n",
       "4314         field  Sunrisers Hyderabad       1  Sunrisers Hyderabad   \n",
       "4315         field  Sunrisers Hyderabad       1  Sunrisers Hyderabad   \n",
       "4316         field  Sunrisers Hyderabad       1  Sunrisers Hyderabad   \n",
       "\n",
       "         bowling_team  ...          bowler  wide_runs bye_runs legbye_runs  \\\n",
       "4312  Kings XI Punjab  ...  Sandeep Sharma          0        0           0   \n",
       "4313  Kings XI Punjab  ...  Sandeep Sharma          0        0           0   \n",
       "4314  Kings XI Punjab  ...  Sandeep Sharma          0        0           0   \n",
       "4315  Kings XI Punjab  ...  Sandeep Sharma          0        0           0   \n",
       "4316  Kings XI Punjab  ...  Sandeep Sharma          0        0           0   \n",
       "\n",
       "     noball_runs  batsman_runs  extra_runs  total_runs  player_dismissed  \\\n",
       "4312           0             0           0           0               NaN   \n",
       "4313           0             0           0           0               NaN   \n",
       "4314           0             0           0           0               NaN   \n",
       "4315           0             1           0           1               NaN   \n",
       "4316           0             1           0           1               NaN   \n",
       "\n",
       "      dismissal_kind  \n",
       "4312             NaN  \n",
       "4313             NaN  \n",
       "4314             NaN  \n",
       "4315             NaN  \n",
       "4316             NaN  \n",
       "\n",
       "[5 rows x 24 columns]"
      ]
     },
     "execution_count": 7,
     "metadata": {},
     "output_type": "execute_result"
    }
   ],
   "source": [
    "KXIP_SRH.head()"
   ]
  },
  {
   "cell_type": "code",
   "execution_count": 8,
   "metadata": {},
   "outputs": [
    {
     "data": {
      "text/plain": [
       "14"
      ]
     },
     "execution_count": 8,
     "metadata": {},
     "output_type": "execute_result"
    }
   ],
   "source": [
    "KXIP_SRH.match_id.nunique()"
   ]
  },
  {
   "cell_type": "code",
   "execution_count": 9,
   "metadata": {},
   "outputs": [
    {
     "data": {
      "text/plain": [
       "array([2017, 2013, 2014, 2015, 2016, 2018, 2019], dtype=int64)"
      ]
     },
     "execution_count": 9,
     "metadata": {},
     "output_type": "execute_result"
    }
   ],
   "source": [
    "KXIP_SRH.season.unique()"
   ]
  },
  {
   "cell_type": "markdown",
   "metadata": {},
   "source": [
    "## David Warner Strike rate and dismissal"
   ]
  },
  {
   "cell_type": "code",
   "execution_count": 10,
   "metadata": {},
   "outputs": [
    {
     "data": {
      "text/html": [
       "<div>\n",
       "<style scoped>\n",
       "    .dataframe tbody tr th:only-of-type {\n",
       "        vertical-align: middle;\n",
       "    }\n",
       "\n",
       "    .dataframe tbody tr th {\n",
       "        vertical-align: top;\n",
       "    }\n",
       "\n",
       "    .dataframe thead th {\n",
       "        text-align: right;\n",
       "    }\n",
       "</style>\n",
       "<table border=\"1\" class=\"dataframe\">\n",
       "  <thead>\n",
       "    <tr style=\"text-align: right;\">\n",
       "      <th></th>\n",
       "      <th>toss_winner</th>\n",
       "      <th>toss_decision</th>\n",
       "      <th>winner</th>\n",
       "      <th>inning</th>\n",
       "      <th>batting_team</th>\n",
       "      <th>bowling_team</th>\n",
       "      <th>over</th>\n",
       "      <th>ball</th>\n",
       "      <th>batsman</th>\n",
       "      <th>non_striker</th>\n",
       "      <th>bowler</th>\n",
       "      <th>wide_runs</th>\n",
       "      <th>bye_runs</th>\n",
       "      <th>legbye_runs</th>\n",
       "      <th>noball_runs</th>\n",
       "      <th>batsman_runs</th>\n",
       "      <th>extra_runs</th>\n",
       "      <th>total_runs</th>\n",
       "      <th>player_dismissed</th>\n",
       "      <th>dismissal_kind</th>\n",
       "    </tr>\n",
       "  </thead>\n",
       "  <tbody>\n",
       "    <tr>\n",
       "      <th>4312</th>\n",
       "      <td>Kings XI Punjab</td>\n",
       "      <td>field</td>\n",
       "      <td>Sunrisers Hyderabad</td>\n",
       "      <td>1</td>\n",
       "      <td>Sunrisers Hyderabad</td>\n",
       "      <td>Kings XI Punjab</td>\n",
       "      <td>1</td>\n",
       "      <td>1</td>\n",
       "      <td>DA Warner</td>\n",
       "      <td>S Dhawan</td>\n",
       "      <td>Sandeep Sharma</td>\n",
       "      <td>0</td>\n",
       "      <td>0</td>\n",
       "      <td>0</td>\n",
       "      <td>0</td>\n",
       "      <td>0</td>\n",
       "      <td>0</td>\n",
       "      <td>0</td>\n",
       "      <td>NaN</td>\n",
       "      <td>NaN</td>\n",
       "    </tr>\n",
       "    <tr>\n",
       "      <th>4313</th>\n",
       "      <td>Kings XI Punjab</td>\n",
       "      <td>field</td>\n",
       "      <td>Sunrisers Hyderabad</td>\n",
       "      <td>1</td>\n",
       "      <td>Sunrisers Hyderabad</td>\n",
       "      <td>Kings XI Punjab</td>\n",
       "      <td>1</td>\n",
       "      <td>2</td>\n",
       "      <td>DA Warner</td>\n",
       "      <td>S Dhawan</td>\n",
       "      <td>Sandeep Sharma</td>\n",
       "      <td>0</td>\n",
       "      <td>0</td>\n",
       "      <td>0</td>\n",
       "      <td>0</td>\n",
       "      <td>0</td>\n",
       "      <td>0</td>\n",
       "      <td>0</td>\n",
       "      <td>NaN</td>\n",
       "      <td>NaN</td>\n",
       "    </tr>\n",
       "    <tr>\n",
       "      <th>4314</th>\n",
       "      <td>Kings XI Punjab</td>\n",
       "      <td>field</td>\n",
       "      <td>Sunrisers Hyderabad</td>\n",
       "      <td>1</td>\n",
       "      <td>Sunrisers Hyderabad</td>\n",
       "      <td>Kings XI Punjab</td>\n",
       "      <td>1</td>\n",
       "      <td>3</td>\n",
       "      <td>DA Warner</td>\n",
       "      <td>S Dhawan</td>\n",
       "      <td>Sandeep Sharma</td>\n",
       "      <td>0</td>\n",
       "      <td>0</td>\n",
       "      <td>0</td>\n",
       "      <td>0</td>\n",
       "      <td>0</td>\n",
       "      <td>0</td>\n",
       "      <td>0</td>\n",
       "      <td>NaN</td>\n",
       "      <td>NaN</td>\n",
       "    </tr>\n",
       "    <tr>\n",
       "      <th>4315</th>\n",
       "      <td>Kings XI Punjab</td>\n",
       "      <td>field</td>\n",
       "      <td>Sunrisers Hyderabad</td>\n",
       "      <td>1</td>\n",
       "      <td>Sunrisers Hyderabad</td>\n",
       "      <td>Kings XI Punjab</td>\n",
       "      <td>1</td>\n",
       "      <td>4</td>\n",
       "      <td>DA Warner</td>\n",
       "      <td>S Dhawan</td>\n",
       "      <td>Sandeep Sharma</td>\n",
       "      <td>0</td>\n",
       "      <td>0</td>\n",
       "      <td>0</td>\n",
       "      <td>0</td>\n",
       "      <td>1</td>\n",
       "      <td>0</td>\n",
       "      <td>1</td>\n",
       "      <td>NaN</td>\n",
       "      <td>NaN</td>\n",
       "    </tr>\n",
       "    <tr>\n",
       "      <th>4317</th>\n",
       "      <td>Kings XI Punjab</td>\n",
       "      <td>field</td>\n",
       "      <td>Sunrisers Hyderabad</td>\n",
       "      <td>1</td>\n",
       "      <td>Sunrisers Hyderabad</td>\n",
       "      <td>Kings XI Punjab</td>\n",
       "      <td>1</td>\n",
       "      <td>6</td>\n",
       "      <td>DA Warner</td>\n",
       "      <td>S Dhawan</td>\n",
       "      <td>Sandeep Sharma</td>\n",
       "      <td>0</td>\n",
       "      <td>0</td>\n",
       "      <td>1</td>\n",
       "      <td>0</td>\n",
       "      <td>0</td>\n",
       "      <td>1</td>\n",
       "      <td>1</td>\n",
       "      <td>NaN</td>\n",
       "      <td>NaN</td>\n",
       "    </tr>\n",
       "  </tbody>\n",
       "</table>\n",
       "</div>"
      ],
      "text/plain": [
       "          toss_winner toss_decision               winner  inning  \\\n",
       "4312  Kings XI Punjab         field  Sunrisers Hyderabad       1   \n",
       "4313  Kings XI Punjab         field  Sunrisers Hyderabad       1   \n",
       "4314  Kings XI Punjab         field  Sunrisers Hyderabad       1   \n",
       "4315  Kings XI Punjab         field  Sunrisers Hyderabad       1   \n",
       "4317  Kings XI Punjab         field  Sunrisers Hyderabad       1   \n",
       "\n",
       "             batting_team     bowling_team  over  ball    batsman non_striker  \\\n",
       "4312  Sunrisers Hyderabad  Kings XI Punjab     1     1  DA Warner    S Dhawan   \n",
       "4313  Sunrisers Hyderabad  Kings XI Punjab     1     2  DA Warner    S Dhawan   \n",
       "4314  Sunrisers Hyderabad  Kings XI Punjab     1     3  DA Warner    S Dhawan   \n",
       "4315  Sunrisers Hyderabad  Kings XI Punjab     1     4  DA Warner    S Dhawan   \n",
       "4317  Sunrisers Hyderabad  Kings XI Punjab     1     6  DA Warner    S Dhawan   \n",
       "\n",
       "              bowler  wide_runs  bye_runs  legbye_runs  noball_runs  \\\n",
       "4312  Sandeep Sharma          0         0            0            0   \n",
       "4313  Sandeep Sharma          0         0            0            0   \n",
       "4314  Sandeep Sharma          0         0            0            0   \n",
       "4315  Sandeep Sharma          0         0            0            0   \n",
       "4317  Sandeep Sharma          0         0            1            0   \n",
       "\n",
       "      batsman_runs  extra_runs  total_runs player_dismissed dismissal_kind  \n",
       "4312             0           0           0              NaN            NaN  \n",
       "4313             0           0           0              NaN            NaN  \n",
       "4314             0           0           0              NaN            NaN  \n",
       "4315             1           0           1              NaN            NaN  \n",
       "4317             0           1           1              NaN            NaN  "
      ]
     },
     "execution_count": 10,
     "metadata": {},
     "output_type": "execute_result"
    }
   ],
   "source": [
    "warner = KXIP_SRH[(KXIP_SRH[\"batting_team\"]==\"Sunrisers Hyderabad\")&(KXIP_SRH[\"batsman\"]==\"DA Warner\")]\n",
    "\n",
    "warner = warner[warner[\"wide_runs\"]==0]\n",
    "\n",
    "warner.iloc[:,4:].head()"
   ]
  },
  {
   "cell_type": "code",
   "execution_count": 11,
   "metadata": {},
   "outputs": [
    {
     "data": {
      "text/plain": [
       "10"
      ]
     },
     "execution_count": 11,
     "metadata": {},
     "output_type": "execute_result"
    }
   ],
   "source": [
    "warner.match_id.nunique()"
   ]
  },
  {
   "cell_type": "code",
   "execution_count": 12,
   "metadata": {},
   "outputs": [
    {
     "data": {
      "text/plain": [
       "array([2017, 2014, 2015, 2016, 2019], dtype=int64)"
      ]
     },
     "execution_count": 12,
     "metadata": {},
     "output_type": "execute_result"
    }
   ],
   "source": [
    "warner.season.unique()"
   ]
  },
  {
   "cell_type": "code",
   "execution_count": 13,
   "metadata": {},
   "outputs": [
    {
     "name": "stdout",
     "output_type": "stream",
     "text": [
      "Runs scored by Warner against KXIP :\n"
     ]
    },
    {
     "data": {
      "text/html": [
       "<div>\n",
       "<style scoped>\n",
       "    .dataframe tbody tr th:only-of-type {\n",
       "        vertical-align: middle;\n",
       "    }\n",
       "\n",
       "    .dataframe tbody tr th {\n",
       "        vertical-align: top;\n",
       "    }\n",
       "\n",
       "    .dataframe thead th {\n",
       "        text-align: right;\n",
       "    }\n",
       "</style>\n",
       "<table border=\"1\" class=\"dataframe\">\n",
       "  <thead>\n",
       "    <tr style=\"text-align: right;\">\n",
       "      <th></th>\n",
       "      <th></th>\n",
       "      <th>batsman_runs</th>\n",
       "      <th>ball</th>\n",
       "    </tr>\n",
       "    <tr>\n",
       "      <th>match_id</th>\n",
       "      <th>batsman</th>\n",
       "      <th></th>\n",
       "      <th></th>\n",
       "    </tr>\n",
       "  </thead>\n",
       "  <tbody>\n",
       "    <tr>\n",
       "      <th>19</th>\n",
       "      <th>DA Warner</th>\n",
       "      <td>70</td>\n",
       "      <td>54</td>\n",
       "    </tr>\n",
       "    <tr>\n",
       "      <th>32</th>\n",
       "      <th>DA Warner</th>\n",
       "      <td>51</td>\n",
       "      <td>27</td>\n",
       "    </tr>\n",
       "    <tr>\n",
       "      <th>466</th>\n",
       "      <th>DA Warner</th>\n",
       "      <td>8</td>\n",
       "      <td>12</td>\n",
       "    </tr>\n",
       "    <tr>\n",
       "      <th>496</th>\n",
       "      <th>DA Warner</th>\n",
       "      <td>44</td>\n",
       "      <td>23</td>\n",
       "    </tr>\n",
       "    <tr>\n",
       "      <th>544</th>\n",
       "      <th>DA Warner</th>\n",
       "      <td>58</td>\n",
       "      <td>41</td>\n",
       "    </tr>\n",
       "    <tr>\n",
       "      <th>564</th>\n",
       "      <th>DA Warner</th>\n",
       "      <td>81</td>\n",
       "      <td>52</td>\n",
       "    </tr>\n",
       "    <tr>\n",
       "      <th>594</th>\n",
       "      <th>DA Warner</th>\n",
       "      <td>59</td>\n",
       "      <td>31</td>\n",
       "    </tr>\n",
       "    <tr>\n",
       "      <th>622</th>\n",
       "      <th>DA Warner</th>\n",
       "      <td>52</td>\n",
       "      <td>41</td>\n",
       "    </tr>\n",
       "    <tr>\n",
       "      <th>11313</th>\n",
       "      <th>DA Warner</th>\n",
       "      <td>73</td>\n",
       "      <td>62</td>\n",
       "    </tr>\n",
       "    <tr>\n",
       "      <th>11339</th>\n",
       "      <th>DA Warner</th>\n",
       "      <td>82</td>\n",
       "      <td>56</td>\n",
       "    </tr>\n",
       "  </tbody>\n",
       "</table>\n",
       "</div>"
      ],
      "text/plain": [
       "                    batsman_runs  ball\n",
       "match_id batsman                      \n",
       "19       DA Warner            70    54\n",
       "32       DA Warner            51    27\n",
       "466      DA Warner             8    12\n",
       "496      DA Warner            44    23\n",
       "544      DA Warner            58    41\n",
       "564      DA Warner            81    52\n",
       "594      DA Warner            59    31\n",
       "622      DA Warner            52    41\n",
       "11313    DA Warner            73    62\n",
       "11339    DA Warner            82    56"
      ]
     },
     "execution_count": 13,
     "metadata": {},
     "output_type": "execute_result"
    }
   ],
   "source": [
    "strike_rate = warner.groupby([\"match_id\",\"batsman\"]).agg({ \"batsman_runs\":\"sum\",\"ball\" : 'count'})\n",
    "\n",
    "print(\"Runs scored by Warner against KXIP :\")\n",
    "\n",
    "strike_rate"
   ]
  },
  {
   "cell_type": "code",
   "execution_count": 14,
   "metadata": {},
   "outputs": [
    {
     "name": "stdout",
     "output_type": "stream",
     "text": [
      "Strike Rate of Warner while batting :\n"
     ]
    },
    {
     "data": {
      "text/html": [
       "<div>\n",
       "<style scoped>\n",
       "    .dataframe tbody tr th:only-of-type {\n",
       "        vertical-align: middle;\n",
       "    }\n",
       "\n",
       "    .dataframe tbody tr th {\n",
       "        vertical-align: top;\n",
       "    }\n",
       "\n",
       "    .dataframe thead th {\n",
       "        text-align: right;\n",
       "    }\n",
       "</style>\n",
       "<table border=\"1\" class=\"dataframe\">\n",
       "  <thead>\n",
       "    <tr style=\"text-align: right;\">\n",
       "      <th></th>\n",
       "      <th></th>\n",
       "      <th>batsman_runs</th>\n",
       "      <th>ball</th>\n",
       "      <th>strike rate</th>\n",
       "    </tr>\n",
       "    <tr>\n",
       "      <th>match_id</th>\n",
       "      <th>batsman</th>\n",
       "      <th></th>\n",
       "      <th></th>\n",
       "      <th></th>\n",
       "    </tr>\n",
       "  </thead>\n",
       "  <tbody>\n",
       "    <tr>\n",
       "      <th>19</th>\n",
       "      <th>DA Warner</th>\n",
       "      <td>70</td>\n",
       "      <td>54</td>\n",
       "      <td>129.629630</td>\n",
       "    </tr>\n",
       "    <tr>\n",
       "      <th>32</th>\n",
       "      <th>DA Warner</th>\n",
       "      <td>51</td>\n",
       "      <td>27</td>\n",
       "      <td>188.888889</td>\n",
       "    </tr>\n",
       "    <tr>\n",
       "      <th>466</th>\n",
       "      <th>DA Warner</th>\n",
       "      <td>8</td>\n",
       "      <td>12</td>\n",
       "      <td>66.666667</td>\n",
       "    </tr>\n",
       "    <tr>\n",
       "      <th>496</th>\n",
       "      <th>DA Warner</th>\n",
       "      <td>44</td>\n",
       "      <td>23</td>\n",
       "      <td>191.304348</td>\n",
       "    </tr>\n",
       "    <tr>\n",
       "      <th>544</th>\n",
       "      <th>DA Warner</th>\n",
       "      <td>58</td>\n",
       "      <td>41</td>\n",
       "      <td>141.463415</td>\n",
       "    </tr>\n",
       "    <tr>\n",
       "      <th>564</th>\n",
       "      <th>DA Warner</th>\n",
       "      <td>81</td>\n",
       "      <td>52</td>\n",
       "      <td>155.769231</td>\n",
       "    </tr>\n",
       "    <tr>\n",
       "      <th>594</th>\n",
       "      <th>DA Warner</th>\n",
       "      <td>59</td>\n",
       "      <td>31</td>\n",
       "      <td>190.322581</td>\n",
       "    </tr>\n",
       "    <tr>\n",
       "      <th>622</th>\n",
       "      <th>DA Warner</th>\n",
       "      <td>52</td>\n",
       "      <td>41</td>\n",
       "      <td>126.829268</td>\n",
       "    </tr>\n",
       "    <tr>\n",
       "      <th>11313</th>\n",
       "      <th>DA Warner</th>\n",
       "      <td>73</td>\n",
       "      <td>62</td>\n",
       "      <td>117.741935</td>\n",
       "    </tr>\n",
       "    <tr>\n",
       "      <th>11339</th>\n",
       "      <th>DA Warner</th>\n",
       "      <td>82</td>\n",
       "      <td>56</td>\n",
       "      <td>146.428571</td>\n",
       "    </tr>\n",
       "  </tbody>\n",
       "</table>\n",
       "</div>"
      ],
      "text/plain": [
       "                    batsman_runs  ball  strike rate\n",
       "match_id batsman                                   \n",
       "19       DA Warner            70    54   129.629630\n",
       "32       DA Warner            51    27   188.888889\n",
       "466      DA Warner             8    12    66.666667\n",
       "496      DA Warner            44    23   191.304348\n",
       "544      DA Warner            58    41   141.463415\n",
       "564      DA Warner            81    52   155.769231\n",
       "594      DA Warner            59    31   190.322581\n",
       "622      DA Warner            52    41   126.829268\n",
       "11313    DA Warner            73    62   117.741935\n",
       "11339    DA Warner            82    56   146.428571"
      ]
     },
     "execution_count": 14,
     "metadata": {},
     "output_type": "execute_result"
    }
   ],
   "source": [
    "strike_rate[\"strike rate\"] = pd.DataFrame((strike_rate['batsman_runs']/strike_rate[\"ball\"]) * 100)\n",
    "\n",
    "print(\"Strike Rate of Warner while batting :\")\n",
    "\n",
    "strike_rate"
   ]
  },
  {
   "cell_type": "code",
   "execution_count": 15,
   "metadata": {},
   "outputs": [
    {
     "data": {
      "text/plain": [
       "<matplotlib.axes._subplots.AxesSubplot at 0x25f8472aa60>"
      ]
     },
     "execution_count": 15,
     "metadata": {},
     "output_type": "execute_result"
    },
    {
     "data": {
      "image/png": "[encoded data removed]",
      "text/plain": [
       "<Figure size 432x288 with 1 Axes>"
      ]
     },
     "metadata": {
      "needs_background": "light"
     },
     "output_type": "display_data"
    }
   ],
   "source": [
    "sns.distplot(strike_rate['strike rate'])"
   ]
  },
  {
   "cell_type": "code",
   "execution_count": 16,
   "metadata": {},
   "outputs": [
    {
     "data": {
      "text/plain": [
       "<matplotlib.axes._subplots.AxesSubplot at 0x25f870080a0>"
      ]
     },
     "execution_count": 16,
     "metadata": {},
     "output_type": "execute_result"
    },
    {
     "data": {
      "image/png": "[encoded data removed]",
      "text/plain": [
       "<Figure size 432x288 with 1 Axes>"
      ]
     },
     "metadata": {
      "needs_background": "light"
     },
     "output_type": "display_data"
    }
   ],
   "source": [
    " sns.boxplot(strike_rate['strike rate'])"
   ]
  },
  {
   "cell_type": "code",
   "execution_count": 17,
   "metadata": {},
   "outputs": [
    {
     "name": "stdout",
     "output_type": "stream",
     "text": [
      "On an average strike rate of Warner against KXIP : 146\n"
     ]
    }
   ],
   "source": [
    "print(\"On an average strike rate of Warner against KXIP :\",round(strike_rate['strike rate'].mean()))"
   ]
  },
  {
   "cell_type": "markdown",
   "metadata": {},
   "source": [
    "## Confidence Interval"
   ]
  },
  {
   "cell_type": "code",
   "execution_count": 18,
   "metadata": {},
   "outputs": [
    {
     "data": {
      "text/html": [
       "<div>\n",
       "<style scoped>\n",
       "    .dataframe tbody tr th:only-of-type {\n",
       "        vertical-align: middle;\n",
       "    }\n",
       "\n",
       "    .dataframe tbody tr th {\n",
       "        vertical-align: top;\n",
       "    }\n",
       "\n",
       "    .dataframe thead th {\n",
       "        text-align: right;\n",
       "    }\n",
       "</style>\n",
       "<table border=\"1\" class=\"dataframe\">\n",
       "  <thead>\n",
       "    <tr style=\"text-align: right;\">\n",
       "      <th></th>\n",
       "      <th>count</th>\n",
       "      <th>mean</th>\n",
       "      <th>std</th>\n",
       "      <th>min</th>\n",
       "      <th>25%</th>\n",
       "      <th>50%</th>\n",
       "      <th>75%</th>\n",
       "      <th>max</th>\n",
       "    </tr>\n",
       "  </thead>\n",
       "  <tbody>\n",
       "    <tr>\n",
       "      <th>strike rate</th>\n",
       "      <td>10.0</td>\n",
       "      <td>145.504453</td>\n",
       "      <td>39.01279</td>\n",
       "      <td>66.666667</td>\n",
       "      <td>127.529359</td>\n",
       "      <td>143.945993</td>\n",
       "      <td>180.608974</td>\n",
       "      <td>191.304348</td>\n",
       "    </tr>\n",
       "  </tbody>\n",
       "</table>\n",
       "</div>"
      ],
      "text/plain": [
       "             count        mean       std        min         25%         50%  \\\n",
       "strike rate   10.0  145.504453  39.01279  66.666667  127.529359  143.945993   \n",
       "\n",
       "                    75%         max  \n",
       "strike rate  180.608974  191.304348  "
      ]
     },
     "execution_count": 18,
     "metadata": {},
     "output_type": "execute_result"
    }
   ],
   "source": [
    "strike_rate.describe().iloc[:,2:].T"
   ]
  },
  {
   "cell_type": "code",
   "execution_count": 19,
   "metadata": {},
   "outputs": [
    {
     "data": {
      "text/plain": [
       "10"
      ]
     },
     "execution_count": 19,
     "metadata": {},
     "output_type": "execute_result"
    }
   ],
   "source": [
    "mean = strike_rate['strike rate'].mean()\n",
    "sd = strike_rate['strike rate'].std()\n",
    "n = len(strike_rate['strike rate'])\n",
    "\n",
    "n"
   ]
  },
  {
   "cell_type": "code",
   "execution_count": 20,
   "metadata": {},
   "outputs": [
    {
     "data": {
      "text/plain": [
       "12.336927553468755"
      ]
     },
     "execution_count": 20,
     "metadata": {},
     "output_type": "execute_result"
    }
   ],
   "source": [
    "tstar = 2.064\n",
    "se = sd/np.sqrt(n)\n",
    "se"
   ]
  },
  {
   "cell_type": "code",
   "execution_count": 21,
   "metadata": {},
   "outputs": [
    {
     "name": "stdout",
     "output_type": "stream",
     "text": [
      "95% Confidence Interval for the strike rate with which Warner can score against KXIP in this match  :(120.0, 171.0)\n"
     ]
    }
   ],
   "source": [
    "lcb = mean - tstar * se\n",
    "ucb = mean + tstar * se\n",
    "lcb = round(lcb)\n",
    "ucb = round(ucb)\n",
    "\n",
    "print(\"95% Confidence Interval for the strike rate with which Warner can score against KXIP in this match  :{}\".format((lcb, ucb)))"
   ]
  },
  {
   "cell_type": "markdown",
   "metadata": {},
   "source": [
    "- Dismissal"
   ]
  },
  {
   "cell_type": "code",
   "execution_count": 22,
   "metadata": {},
   "outputs": [],
   "source": [
    "warner_dismiss = warner[warner[\"player_dismissed\"]==\"DA Warner\"]"
   ]
  },
  {
   "cell_type": "code",
   "execution_count": 23,
   "metadata": {},
   "outputs": [],
   "source": [
    "count = warner.match_id.nunique()"
   ]
  },
  {
   "cell_type": "code",
   "execution_count": 24,
   "metadata": {},
   "outputs": [
    {
     "data": {
      "text/html": [
       "<div>\n",
       "<style scoped>\n",
       "    .dataframe tbody tr th:only-of-type {\n",
       "        vertical-align: middle;\n",
       "    }\n",
       "\n",
       "    .dataframe tbody tr th {\n",
       "        vertical-align: top;\n",
       "    }\n",
       "\n",
       "    .dataframe thead th {\n",
       "        text-align: right;\n",
       "    }\n",
       "</style>\n",
       "<table border=\"1\" class=\"dataframe\">\n",
       "  <thead>\n",
       "    <tr style=\"text-align: right;\">\n",
       "      <th></th>\n",
       "      <th></th>\n",
       "      <th></th>\n",
       "      <th>dismissal_kind</th>\n",
       "    </tr>\n",
       "    <tr>\n",
       "      <th>match_id</th>\n",
       "      <th>batsman</th>\n",
       "      <th>dismissal_kind</th>\n",
       "      <th></th>\n",
       "    </tr>\n",
       "  </thead>\n",
       "  <tbody>\n",
       "    <tr>\n",
       "      <th>32</th>\n",
       "      <th>DA Warner</th>\n",
       "      <th>bowled</th>\n",
       "      <td>1</td>\n",
       "    </tr>\n",
       "    <tr>\n",
       "      <th>466</th>\n",
       "      <th>DA Warner</th>\n",
       "      <th>caught</th>\n",
       "      <td>1</td>\n",
       "    </tr>\n",
       "    <tr>\n",
       "      <th>496</th>\n",
       "      <th>DA Warner</th>\n",
       "      <th>run out</th>\n",
       "      <td>1</td>\n",
       "    </tr>\n",
       "    <tr>\n",
       "      <th>544</th>\n",
       "      <th>DA Warner</th>\n",
       "      <th>caught</th>\n",
       "      <td>1</td>\n",
       "    </tr>\n",
       "    <tr>\n",
       "      <th>564</th>\n",
       "      <th>DA Warner</th>\n",
       "      <th>caught</th>\n",
       "      <td>1</td>\n",
       "    </tr>\n",
       "    <tr>\n",
       "      <th>594</th>\n",
       "      <th>DA Warner</th>\n",
       "      <th>caught</th>\n",
       "      <td>1</td>\n",
       "    </tr>\n",
       "    <tr>\n",
       "      <th>622</th>\n",
       "      <th>DA Warner</th>\n",
       "      <th>hit wicket</th>\n",
       "      <td>1</td>\n",
       "    </tr>\n",
       "    <tr>\n",
       "      <th>11339</th>\n",
       "      <th>DA Warner</th>\n",
       "      <th>caught</th>\n",
       "      <td>1</td>\n",
       "    </tr>\n",
       "  </tbody>\n",
       "</table>\n",
       "</div>"
      ],
      "text/plain": [
       "                                   dismissal_kind\n",
       "match_id batsman   dismissal_kind                \n",
       "32       DA Warner bowled                       1\n",
       "466      DA Warner caught                       1\n",
       "496      DA Warner run out                      1\n",
       "544      DA Warner caught                       1\n",
       "564      DA Warner caught                       1\n",
       "594      DA Warner caught                       1\n",
       "622      DA Warner hit wicket                   1\n",
       "11339    DA Warner caught                       1"
      ]
     },
     "execution_count": 24,
     "metadata": {},
     "output_type": "execute_result"
    }
   ],
   "source": [
    "dismiss = pd.DataFrame(warner_dismiss.groupby([\"match_id\",\"batsman\",\"dismissal_kind\"])[\"dismissal_kind\"].count())\n",
    "\n",
    "total = dismiss[\"dismissal_kind\"].sum()\n",
    "\n",
    "dismiss"
   ]
  },
  {
   "cell_type": "code",
   "execution_count": 25,
   "metadata": {},
   "outputs": [
    {
     "name": "stdout",
     "output_type": "stream",
     "text": [
      "Out of last 10 matches Warner has been dismissed in 8 innings\n",
      "Dismissal percentage of Warner getting out is 80.0%\n"
     ]
    }
   ],
   "source": [
    "warner_dismissal_percent = total/count\n",
    "\n",
    "print(\"Out of last {} matches Warner has been dismissed in {} innings\".format(count , total))\n",
    "print(\"Dismissal percentage of Warner getting out is {}%\".format(round(warner_dismissal_percent *100)))"
   ]
  },
  {
   "cell_type": "markdown",
   "metadata": {},
   "source": [
    "From all the above analysis of performance of Warner against KXIP we can predict that Warner is expected to score with a strike rate of 125+ and is expected to get out during the SRH's batting."
   ]
  },
  {
   "cell_type": "markdown",
   "metadata": {},
   "source": [
    "## KL Rahul contribution"
   ]
  },
  {
   "cell_type": "markdown",
   "metadata": {},
   "source": [
    "- Against SRH"
   ]
  },
  {
   "cell_type": "code",
   "execution_count": 26,
   "metadata": {},
   "outputs": [],
   "source": [
    "punjab = KXIP_SRH[KXIP_SRH[\"batting_team\"]=='Kings XI Punjab']"
   ]
  },
  {
   "cell_type": "code",
   "execution_count": 27,
   "metadata": {},
   "outputs": [
    {
     "data": {
      "text/html": [
       "<div>\n",
       "<style scoped>\n",
       "    .dataframe tbody tr th:only-of-type {\n",
       "        vertical-align: middle;\n",
       "    }\n",
       "\n",
       "    .dataframe tbody tr th {\n",
       "        vertical-align: top;\n",
       "    }\n",
       "\n",
       "    .dataframe thead th {\n",
       "        text-align: right;\n",
       "    }\n",
       "</style>\n",
       "<table border=\"1\" class=\"dataframe\">\n",
       "  <thead>\n",
       "    <tr style=\"text-align: right;\">\n",
       "      <th></th>\n",
       "      <th>match_id</th>\n",
       "      <th>total_runs</th>\n",
       "    </tr>\n",
       "  </thead>\n",
       "  <tbody>\n",
       "    <tr>\n",
       "      <th>0</th>\n",
       "      <td>19</td>\n",
       "      <td>154</td>\n",
       "    </tr>\n",
       "    <tr>\n",
       "      <th>1</th>\n",
       "      <td>32</td>\n",
       "      <td>181</td>\n",
       "    </tr>\n",
       "    <tr>\n",
       "      <th>2</th>\n",
       "      <td>405</td>\n",
       "      <td>123</td>\n",
       "    </tr>\n",
       "    <tr>\n",
       "      <th>3</th>\n",
       "      <td>440</td>\n",
       "      <td>120</td>\n",
       "    </tr>\n",
       "    <tr>\n",
       "      <th>4</th>\n",
       "      <td>466</td>\n",
       "      <td>193</td>\n",
       "    </tr>\n",
       "    <tr>\n",
       "      <th>5</th>\n",
       "      <td>496</td>\n",
       "      <td>211</td>\n",
       "    </tr>\n",
       "    <tr>\n",
       "      <th>6</th>\n",
       "      <td>544</td>\n",
       "      <td>130</td>\n",
       "    </tr>\n",
       "    <tr>\n",
       "      <th>7</th>\n",
       "      <td>564</td>\n",
       "      <td>180</td>\n",
       "    </tr>\n",
       "    <tr>\n",
       "      <th>8</th>\n",
       "      <td>594</td>\n",
       "      <td>143</td>\n",
       "    </tr>\n",
       "    <tr>\n",
       "      <th>9</th>\n",
       "      <td>622</td>\n",
       "      <td>179</td>\n",
       "    </tr>\n",
       "    <tr>\n",
       "      <th>10</th>\n",
       "      <td>7909</td>\n",
       "      <td>201</td>\n",
       "    </tr>\n",
       "    <tr>\n",
       "      <th>11</th>\n",
       "      <td>7918</td>\n",
       "      <td>121</td>\n",
       "    </tr>\n",
       "    <tr>\n",
       "      <th>12</th>\n",
       "      <td>11313</td>\n",
       "      <td>152</td>\n",
       "    </tr>\n",
       "    <tr>\n",
       "      <th>13</th>\n",
       "      <td>11339</td>\n",
       "      <td>174</td>\n",
       "    </tr>\n",
       "  </tbody>\n",
       "</table>\n",
       "</div>"
      ],
      "text/plain": [
       "    match_id  total_runs\n",
       "0         19         154\n",
       "1         32         181\n",
       "2        405         123\n",
       "3        440         120\n",
       "4        466         193\n",
       "5        496         211\n",
       "6        544         130\n",
       "7        564         180\n",
       "8        594         143\n",
       "9        622         179\n",
       "10      7909         201\n",
       "11      7918         121\n",
       "12     11313         152\n",
       "13     11339         174"
      ]
     },
     "execution_count": 27,
     "metadata": {},
     "output_type": "execute_result"
    }
   ],
   "source": [
    "total_runs =pd.DataFrame(punjab.groupby([\"match_id\"])[\"total_runs\"].sum())\n",
    "\n",
    "total_runs.reset_index(level=0, inplace=True)\n",
    "\n",
    "total_runs"
   ]
  },
  {
   "cell_type": "code",
   "execution_count": 28,
   "metadata": {},
   "outputs": [],
   "source": [
    "rahul = punjab[punjab[\"batsman\"]==\"KL Rahul\"]\n",
    "rahul = rahul[rahul[\"wide_runs\"]==0]"
   ]
  },
  {
   "cell_type": "code",
   "execution_count": 29,
   "metadata": {},
   "outputs": [
    {
     "data": {
      "text/html": [
       "<div>\n",
       "<style scoped>\n",
       "    .dataframe tbody tr th:only-of-type {\n",
       "        vertical-align: middle;\n",
       "    }\n",
       "\n",
       "    .dataframe tbody tr th {\n",
       "        vertical-align: top;\n",
       "    }\n",
       "\n",
       "    .dataframe thead th {\n",
       "        text-align: right;\n",
       "    }\n",
       "</style>\n",
       "<table border=\"1\" class=\"dataframe\">\n",
       "  <thead>\n",
       "    <tr style=\"text-align: right;\">\n",
       "      <th></th>\n",
       "      <th>match_id</th>\n",
       "      <th>Rahul's runs</th>\n",
       "    </tr>\n",
       "  </thead>\n",
       "  <tbody>\n",
       "    <tr>\n",
       "      <th>0</th>\n",
       "      <td>7909</td>\n",
       "      <td>18</td>\n",
       "    </tr>\n",
       "    <tr>\n",
       "      <th>1</th>\n",
       "      <td>7918</td>\n",
       "      <td>32</td>\n",
       "    </tr>\n",
       "    <tr>\n",
       "      <th>2</th>\n",
       "      <td>11313</td>\n",
       "      <td>71</td>\n",
       "    </tr>\n",
       "    <tr>\n",
       "      <th>3</th>\n",
       "      <td>11339</td>\n",
       "      <td>80</td>\n",
       "    </tr>\n",
       "  </tbody>\n",
       "</table>\n",
       "</div>"
      ],
      "text/plain": [
       "   match_id  Rahul's runs\n",
       "0      7909            18\n",
       "1      7918            32\n",
       "2     11313            71\n",
       "3     11339            80"
      ]
     },
     "execution_count": 29,
     "metadata": {},
     "output_type": "execute_result"
    }
   ],
   "source": [
    "rahul_score = pd.DataFrame(rahul.groupby([\"match_id\"])[\"batsman_runs\"].sum())\n",
    "\n",
    "rahul_score.columns = [\"Rahul's runs\"]\n",
    "\n",
    "rahul_score.reset_index(level=0, inplace=True)\n",
    "\n",
    "rahul_score"
   ]
  },
  {
   "cell_type": "code",
   "execution_count": 30,
   "metadata": {},
   "outputs": [
    {
     "data": {
      "text/html": [
       "<div>\n",
       "<style scoped>\n",
       "    .dataframe tbody tr th:only-of-type {\n",
       "        vertical-align: middle;\n",
       "    }\n",
       "\n",
       "    .dataframe tbody tr th {\n",
       "        vertical-align: top;\n",
       "    }\n",
       "\n",
       "    .dataframe thead th {\n",
       "        text-align: right;\n",
       "    }\n",
       "</style>\n",
       "<table border=\"1\" class=\"dataframe\">\n",
       "  <thead>\n",
       "    <tr style=\"text-align: right;\">\n",
       "      <th></th>\n",
       "      <th>match_id</th>\n",
       "      <th>Rahul's runs</th>\n",
       "      <th>total_runs</th>\n",
       "    </tr>\n",
       "  </thead>\n",
       "  <tbody>\n",
       "    <tr>\n",
       "      <th>0</th>\n",
       "      <td>7909</td>\n",
       "      <td>18</td>\n",
       "      <td>201</td>\n",
       "    </tr>\n",
       "    <tr>\n",
       "      <th>1</th>\n",
       "      <td>7918</td>\n",
       "      <td>32</td>\n",
       "      <td>121</td>\n",
       "    </tr>\n",
       "    <tr>\n",
       "      <th>2</th>\n",
       "      <td>11313</td>\n",
       "      <td>71</td>\n",
       "      <td>152</td>\n",
       "    </tr>\n",
       "    <tr>\n",
       "      <th>3</th>\n",
       "      <td>11339</td>\n",
       "      <td>80</td>\n",
       "      <td>174</td>\n",
       "    </tr>\n",
       "  </tbody>\n",
       "</table>\n",
       "</div>"
      ],
      "text/plain": [
       "   match_id  Rahul's runs  total_runs\n",
       "0      7909            18         201\n",
       "1      7918            32         121\n",
       "2     11313            71         152\n",
       "3     11339            80         174"
      ]
     },
     "execution_count": 30,
     "metadata": {},
     "output_type": "execute_result"
    }
   ],
   "source": [
    "final = pd.merge(rahul_score, total_runs, on='match_id', how='inner')\n",
    "\n",
    "final"
   ]
  },
  {
   "cell_type": "code",
   "execution_count": 31,
   "metadata": {},
   "outputs": [
    {
     "data": {
      "text/html": [
       "<div>\n",
       "<style scoped>\n",
       "    .dataframe tbody tr th:only-of-type {\n",
       "        vertical-align: middle;\n",
       "    }\n",
       "\n",
       "    .dataframe tbody tr th {\n",
       "        vertical-align: top;\n",
       "    }\n",
       "\n",
       "    .dataframe thead th {\n",
       "        text-align: right;\n",
       "    }\n",
       "</style>\n",
       "<table border=\"1\" class=\"dataframe\">\n",
       "  <thead>\n",
       "    <tr style=\"text-align: right;\">\n",
       "      <th></th>\n",
       "      <th>match_id</th>\n",
       "      <th>Rahul's runs</th>\n",
       "      <th>total_runs</th>\n",
       "      <th>contribution</th>\n",
       "    </tr>\n",
       "  </thead>\n",
       "  <tbody>\n",
       "    <tr>\n",
       "      <th>0</th>\n",
       "      <td>7909</td>\n",
       "      <td>18</td>\n",
       "      <td>201</td>\n",
       "      <td>9.0</td>\n",
       "    </tr>\n",
       "    <tr>\n",
       "      <th>1</th>\n",
       "      <td>7918</td>\n",
       "      <td>32</td>\n",
       "      <td>121</td>\n",
       "      <td>26.0</td>\n",
       "    </tr>\n",
       "    <tr>\n",
       "      <th>2</th>\n",
       "      <td>11313</td>\n",
       "      <td>71</td>\n",
       "      <td>152</td>\n",
       "      <td>47.0</td>\n",
       "    </tr>\n",
       "    <tr>\n",
       "      <th>3</th>\n",
       "      <td>11339</td>\n",
       "      <td>80</td>\n",
       "      <td>174</td>\n",
       "      <td>46.0</td>\n",
       "    </tr>\n",
       "  </tbody>\n",
       "</table>\n",
       "</div>"
      ],
      "text/plain": [
       "   match_id  Rahul's runs  total_runs  contribution\n",
       "0      7909            18         201           9.0\n",
       "1      7918            32         121          26.0\n",
       "2     11313            71         152          47.0\n",
       "3     11339            80         174          46.0"
      ]
     },
     "execution_count": 31,
     "metadata": {},
     "output_type": "execute_result"
    }
   ],
   "source": [
    "final[\"contribution\"] = round((final[\"Rahul's runs\"]/final[\"total_runs\"]) * 100)\n",
    "\n",
    "final"
   ]
  },
  {
   "cell_type": "code",
   "execution_count": 32,
   "metadata": {},
   "outputs": [
    {
     "data": {
      "text/plain": [
       "<matplotlib.axes._subplots.AxesSubplot at 0x25f870be3a0>"
      ]
     },
     "execution_count": 32,
     "metadata": {},
     "output_type": "execute_result"
    },
    {
     "data": {
      "image/png": "[encoded data removed]",
      "text/plain": [
       "<Figure size 432x288 with 1 Axes>"
      ]
     },
     "metadata": {
      "needs_background": "light"
     },
     "output_type": "display_data"
    }
   ],
   "source": [
    "sns.distplot(final[\"contribution\"])"
   ]
  },
  {
   "cell_type": "code",
   "execution_count": 33,
   "metadata": {},
   "outputs": [
    {
     "data": {
      "text/plain": [
       "<matplotlib.axes._subplots.AxesSubplot at 0x25f87114d90>"
      ]
     },
     "execution_count": 33,
     "metadata": {},
     "output_type": "execute_result"
    },
    {
     "data": {
      "image/png": "[encoded data removed]",
      "text/plain": [
       "<Figure size 432x288 with 1 Axes>"
      ]
     },
     "metadata": {
      "needs_background": "light"
     },
     "output_type": "display_data"
    }
   ],
   "source": [
    "sns.boxplot(final[\"contribution\"])"
   ]
  },
  {
   "cell_type": "code",
   "execution_count": 34,
   "metadata": {},
   "outputs": [
    {
     "name": "stdout",
     "output_type": "stream",
     "text": [
      "Average contribution of Rahul in KXIP's inning against SRH :32%\n"
     ]
    }
   ],
   "source": [
    "print(\"Average contribution of Rahul in KXIP's inning against SRH :{}%\".format(round(final[\"contribution\"].mean())))"
   ]
  },
  {
   "cell_type": "markdown",
   "metadata": {},
   "source": [
    "- Recent (Overall)"
   ]
  },
  {
   "cell_type": "code",
   "execution_count": 35,
   "metadata": {},
   "outputs": [
    {
     "data": {
      "text/html": [
       "<div>\n",
       "<style scoped>\n",
       "    .dataframe tbody tr th:only-of-type {\n",
       "        vertical-align: middle;\n",
       "    }\n",
       "\n",
       "    .dataframe tbody tr th {\n",
       "        vertical-align: top;\n",
       "    }\n",
       "\n",
       "    .dataframe thead th {\n",
       "        text-align: right;\n",
       "    }\n",
       "</style>\n",
       "<table border=\"1\" class=\"dataframe\">\n",
       "  <thead>\n",
       "    <tr style=\"text-align: right;\">\n",
       "      <th></th>\n",
       "      <th>match_id</th>\n",
       "      <th>season</th>\n",
       "      <th>team1</th>\n",
       "      <th>team2</th>\n",
       "      <th>toss_winner</th>\n",
       "      <th>toss_decision</th>\n",
       "      <th>winner</th>\n",
       "      <th>inning</th>\n",
       "      <th>batting_team</th>\n",
       "      <th>bowling_team</th>\n",
       "      <th>...</th>\n",
       "      <th>bowler</th>\n",
       "      <th>wide_runs</th>\n",
       "      <th>bye_runs</th>\n",
       "      <th>legbye_runs</th>\n",
       "      <th>noball_runs</th>\n",
       "      <th>batsman_runs</th>\n",
       "      <th>extra_runs</th>\n",
       "      <th>total_runs</th>\n",
       "      <th>player_dismissed</th>\n",
       "      <th>dismissal_kind</th>\n",
       "    </tr>\n",
       "  </thead>\n",
       "  <tbody>\n",
       "    <tr>\n",
       "      <th>150830</th>\n",
       "      <td>7895</td>\n",
       "      <td>2018</td>\n",
       "      <td>Delhi Daredevils</td>\n",
       "      <td>Kings XI Punjab</td>\n",
       "      <td>Kings XI Punjab</td>\n",
       "      <td>field</td>\n",
       "      <td>Kings XI Punjab</td>\n",
       "      <td>2</td>\n",
       "      <td>Kings XI Punjab</td>\n",
       "      <td>Delhi Daredevils</td>\n",
       "      <td>...</td>\n",
       "      <td>TA Boult</td>\n",
       "      <td>0</td>\n",
       "      <td>0</td>\n",
       "      <td>0</td>\n",
       "      <td>0</td>\n",
       "      <td>0</td>\n",
       "      <td>0</td>\n",
       "      <td>0</td>\n",
       "      <td>NaN</td>\n",
       "      <td>NaN</td>\n",
       "    </tr>\n",
       "    <tr>\n",
       "      <th>150831</th>\n",
       "      <td>7895</td>\n",
       "      <td>2018</td>\n",
       "      <td>Delhi Daredevils</td>\n",
       "      <td>Kings XI Punjab</td>\n",
       "      <td>Kings XI Punjab</td>\n",
       "      <td>field</td>\n",
       "      <td>Kings XI Punjab</td>\n",
       "      <td>2</td>\n",
       "      <td>Kings XI Punjab</td>\n",
       "      <td>Delhi Daredevils</td>\n",
       "      <td>...</td>\n",
       "      <td>TA Boult</td>\n",
       "      <td>0</td>\n",
       "      <td>0</td>\n",
       "      <td>0</td>\n",
       "      <td>0</td>\n",
       "      <td>2</td>\n",
       "      <td>0</td>\n",
       "      <td>2</td>\n",
       "      <td>NaN</td>\n",
       "      <td>NaN</td>\n",
       "    </tr>\n",
       "    <tr>\n",
       "      <th>150832</th>\n",
       "      <td>7895</td>\n",
       "      <td>2018</td>\n",
       "      <td>Delhi Daredevils</td>\n",
       "      <td>Kings XI Punjab</td>\n",
       "      <td>Kings XI Punjab</td>\n",
       "      <td>field</td>\n",
       "      <td>Kings XI Punjab</td>\n",
       "      <td>2</td>\n",
       "      <td>Kings XI Punjab</td>\n",
       "      <td>Delhi Daredevils</td>\n",
       "      <td>...</td>\n",
       "      <td>TA Boult</td>\n",
       "      <td>0</td>\n",
       "      <td>0</td>\n",
       "      <td>0</td>\n",
       "      <td>0</td>\n",
       "      <td>0</td>\n",
       "      <td>0</td>\n",
       "      <td>0</td>\n",
       "      <td>NaN</td>\n",
       "      <td>NaN</td>\n",
       "    </tr>\n",
       "    <tr>\n",
       "      <th>150833</th>\n",
       "      <td>7895</td>\n",
       "      <td>2018</td>\n",
       "      <td>Delhi Daredevils</td>\n",
       "      <td>Kings XI Punjab</td>\n",
       "      <td>Kings XI Punjab</td>\n",
       "      <td>field</td>\n",
       "      <td>Kings XI Punjab</td>\n",
       "      <td>2</td>\n",
       "      <td>Kings XI Punjab</td>\n",
       "      <td>Delhi Daredevils</td>\n",
       "      <td>...</td>\n",
       "      <td>TA Boult</td>\n",
       "      <td>0</td>\n",
       "      <td>0</td>\n",
       "      <td>0</td>\n",
       "      <td>0</td>\n",
       "      <td>6</td>\n",
       "      <td>0</td>\n",
       "      <td>6</td>\n",
       "      <td>NaN</td>\n",
       "      <td>NaN</td>\n",
       "    </tr>\n",
       "    <tr>\n",
       "      <th>150834</th>\n",
       "      <td>7895</td>\n",
       "      <td>2018</td>\n",
       "      <td>Delhi Daredevils</td>\n",
       "      <td>Kings XI Punjab</td>\n",
       "      <td>Kings XI Punjab</td>\n",
       "      <td>field</td>\n",
       "      <td>Kings XI Punjab</td>\n",
       "      <td>2</td>\n",
       "      <td>Kings XI Punjab</td>\n",
       "      <td>Delhi Daredevils</td>\n",
       "      <td>...</td>\n",
       "      <td>TA Boult</td>\n",
       "      <td>0</td>\n",
       "      <td>0</td>\n",
       "      <td>0</td>\n",
       "      <td>0</td>\n",
       "      <td>4</td>\n",
       "      <td>0</td>\n",
       "      <td>4</td>\n",
       "      <td>NaN</td>\n",
       "      <td>NaN</td>\n",
       "    </tr>\n",
       "  </tbody>\n",
       "</table>\n",
       "<p>5 rows × 24 columns</p>\n",
       "</div>"
      ],
      "text/plain": [
       "        match_id  season             team1            team2      toss_winner  \\\n",
       "150830      7895    2018  Delhi Daredevils  Kings XI Punjab  Kings XI Punjab   \n",
       "150831      7895    2018  Delhi Daredevils  Kings XI Punjab  Kings XI Punjab   \n",
       "150832      7895    2018  Delhi Daredevils  Kings XI Punjab  Kings XI Punjab   \n",
       "150833      7895    2018  Delhi Daredevils  Kings XI Punjab  Kings XI Punjab   \n",
       "150834      7895    2018  Delhi Daredevils  Kings XI Punjab  Kings XI Punjab   \n",
       "\n",
       "       toss_decision           winner  inning     batting_team  \\\n",
       "150830         field  Kings XI Punjab       2  Kings XI Punjab   \n",
       "150831         field  Kings XI Punjab       2  Kings XI Punjab   \n",
       "150832         field  Kings XI Punjab       2  Kings XI Punjab   \n",
       "150833         field  Kings XI Punjab       2  Kings XI Punjab   \n",
       "150834         field  Kings XI Punjab       2  Kings XI Punjab   \n",
       "\n",
       "            bowling_team  ...    bowler  wide_runs bye_runs legbye_runs  \\\n",
       "150830  Delhi Daredevils  ...  TA Boult          0        0           0   \n",
       "150831  Delhi Daredevils  ...  TA Boult          0        0           0   \n",
       "150832  Delhi Daredevils  ...  TA Boult          0        0           0   \n",
       "150833  Delhi Daredevils  ...  TA Boult          0        0           0   \n",
       "150834  Delhi Daredevils  ...  TA Boult          0        0           0   \n",
       "\n",
       "       noball_runs  batsman_runs  extra_runs  total_runs  player_dismissed  \\\n",
       "150830           0             0           0           0               NaN   \n",
       "150831           0             2           0           2               NaN   \n",
       "150832           0             0           0           0               NaN   \n",
       "150833           0             6           0           6               NaN   \n",
       "150834           0             4           0           4               NaN   \n",
       "\n",
       "        dismissal_kind  \n",
       "150830             NaN  \n",
       "150831             NaN  \n",
       "150832             NaN  \n",
       "150833             NaN  \n",
       "150834             NaN  \n",
       "\n",
       "[5 rows x 24 columns]"
      ]
     },
     "execution_count": 35,
     "metadata": {},
     "output_type": "execute_result"
    }
   ],
   "source": [
    "punjab_overall = matches[matches[\"batting_team\"]=='Kings XI Punjab']\n",
    "cond1 = punjab_overall[\"season\"] == 2018\n",
    "cond2 = punjab_overall[\"season\"] == 2019\n",
    "recent_overall = punjab_overall[cond1 | cond2]\n",
    "recent_overall.head()"
   ]
  },
  {
   "cell_type": "code",
   "execution_count": 36,
   "metadata": {},
   "outputs": [
    {
     "data": {
      "text/html": [
       "<div>\n",
       "<style scoped>\n",
       "    .dataframe tbody tr th:only-of-type {\n",
       "        vertical-align: middle;\n",
       "    }\n",
       "\n",
       "    .dataframe tbody tr th {\n",
       "        vertical-align: top;\n",
       "    }\n",
       "\n",
       "    .dataframe thead th {\n",
       "        text-align: right;\n",
       "    }\n",
       "</style>\n",
       "<table border=\"1\" class=\"dataframe\">\n",
       "  <thead>\n",
       "    <tr style=\"text-align: right;\">\n",
       "      <th></th>\n",
       "      <th>match_id</th>\n",
       "      <th>total_runs</th>\n",
       "    </tr>\n",
       "  </thead>\n",
       "  <tbody>\n",
       "    <tr>\n",
       "      <th>0</th>\n",
       "      <td>4</td>\n",
       "      <td>164</td>\n",
       "    </tr>\n",
       "    <tr>\n",
       "      <th>1</th>\n",
       "      <td>8</td>\n",
       "      <td>150</td>\n",
       "    </tr>\n",
       "    <tr>\n",
       "      <th>2</th>\n",
       "      <td>11</td>\n",
       "      <td>170</td>\n",
       "    </tr>\n",
       "    <tr>\n",
       "      <th>3</th>\n",
       "      <td>15</td>\n",
       "      <td>137</td>\n",
       "    </tr>\n",
       "    <tr>\n",
       "      <th>4</th>\n",
       "      <td>19</td>\n",
       "      <td>154</td>\n",
       "    </tr>\n",
       "    <tr>\n",
       "      <th>...</th>\n",
       "      <td>...</td>\n",
       "      <td>...</td>\n",
       "    </tr>\n",
       "    <tr>\n",
       "      <th>171</th>\n",
       "      <td>11328</td>\n",
       "      <td>168</td>\n",
       "    </tr>\n",
       "    <tr>\n",
       "      <th>172</th>\n",
       "      <td>11333</td>\n",
       "      <td>190</td>\n",
       "    </tr>\n",
       "    <tr>\n",
       "      <th>173</th>\n",
       "      <td>11339</td>\n",
       "      <td>174</td>\n",
       "    </tr>\n",
       "    <tr>\n",
       "      <th>174</th>\n",
       "      <td>11343</td>\n",
       "      <td>186</td>\n",
       "    </tr>\n",
       "    <tr>\n",
       "      <th>175</th>\n",
       "      <td>11346</td>\n",
       "      <td>188</td>\n",
       "    </tr>\n",
       "  </tbody>\n",
       "</table>\n",
       "<p>176 rows × 2 columns</p>\n",
       "</div>"
      ],
      "text/plain": [
       "     match_id  total_runs\n",
       "0           4         164\n",
       "1           8         150\n",
       "2          11         170\n",
       "3          15         137\n",
       "4          19         154\n",
       "..        ...         ...\n",
       "171     11328         168\n",
       "172     11333         190\n",
       "173     11339         174\n",
       "174     11343         186\n",
       "175     11346         188\n",
       "\n",
       "[176 rows x 2 columns]"
      ]
     },
     "execution_count": 36,
     "metadata": {},
     "output_type": "execute_result"
    }
   ],
   "source": [
    "total_runs_overall =pd.DataFrame(punjab_overall.groupby([\"match_id\"])[\"total_runs\"].sum())\n",
    "\n",
    "total_runs_overall.reset_index(level=0, inplace=True)\n",
    "\n",
    "total_runs_overall"
   ]
  },
  {
   "cell_type": "code",
   "execution_count": 37,
   "metadata": {},
   "outputs": [],
   "source": [
    "rahul_overall = recent_overall[recent_overall[\"batsman\"]==\"KL Rahul\"]\n",
    "rahul_overall = rahul_overall[rahul_overall[\"wide_runs\"]==0]"
   ]
  },
  {
   "cell_type": "code",
   "execution_count": 38,
   "metadata": {},
   "outputs": [
    {
     "data": {
      "text/html": [
       "<div>\n",
       "<style scoped>\n",
       "    .dataframe tbody tr th:only-of-type {\n",
       "        vertical-align: middle;\n",
       "    }\n",
       "\n",
       "    .dataframe tbody tr th {\n",
       "        vertical-align: top;\n",
       "    }\n",
       "\n",
       "    .dataframe thead th {\n",
       "        text-align: right;\n",
       "    }\n",
       "</style>\n",
       "<table border=\"1\" class=\"dataframe\">\n",
       "  <thead>\n",
       "    <tr style=\"text-align: right;\">\n",
       "      <th></th>\n",
       "      <th>match_id</th>\n",
       "      <th>Rahul's runs</th>\n",
       "    </tr>\n",
       "  </thead>\n",
       "  <tbody>\n",
       "    <tr>\n",
       "      <th>0</th>\n",
       "      <td>7895</td>\n",
       "      <td>51</td>\n",
       "    </tr>\n",
       "    <tr>\n",
       "      <th>1</th>\n",
       "      <td>7901</td>\n",
       "      <td>48</td>\n",
       "    </tr>\n",
       "    <tr>\n",
       "      <th>2</th>\n",
       "      <td>7905</td>\n",
       "      <td>37</td>\n",
       "    </tr>\n",
       "    <tr>\n",
       "      <th>3</th>\n",
       "      <td>7909</td>\n",
       "      <td>18</td>\n",
       "    </tr>\n",
       "    <tr>\n",
       "      <th>4</th>\n",
       "      <td>7911</td>\n",
       "      <td>60</td>\n",
       "    </tr>\n",
       "    <tr>\n",
       "      <th>5</th>\n",
       "      <td>7915</td>\n",
       "      <td>23</td>\n",
       "    </tr>\n",
       "    <tr>\n",
       "      <th>6</th>\n",
       "      <td>7918</td>\n",
       "      <td>32</td>\n",
       "    </tr>\n",
       "    <tr>\n",
       "      <th>7</th>\n",
       "      <td>7927</td>\n",
       "      <td>24</td>\n",
       "    </tr>\n",
       "    <tr>\n",
       "      <th>8</th>\n",
       "      <td>7931</td>\n",
       "      <td>84</td>\n",
       "    </tr>\n",
       "    <tr>\n",
       "      <th>9</th>\n",
       "      <td>7933</td>\n",
       "      <td>101</td>\n",
       "    </tr>\n",
       "    <tr>\n",
       "      <th>10</th>\n",
       "      <td>7937</td>\n",
       "      <td>66</td>\n",
       "    </tr>\n",
       "    <tr>\n",
       "      <th>11</th>\n",
       "      <td>7941</td>\n",
       "      <td>22</td>\n",
       "    </tr>\n",
       "    <tr>\n",
       "      <th>12</th>\n",
       "      <td>7943</td>\n",
       "      <td>95</td>\n",
       "    </tr>\n",
       "    <tr>\n",
       "      <th>13</th>\n",
       "      <td>7949</td>\n",
       "      <td>7</td>\n",
       "    </tr>\n",
       "    <tr>\n",
       "      <th>14</th>\n",
       "      <td>11140</td>\n",
       "      <td>4</td>\n",
       "    </tr>\n",
       "    <tr>\n",
       "      <th>15</th>\n",
       "      <td>11142</td>\n",
       "      <td>1</td>\n",
       "    </tr>\n",
       "    <tr>\n",
       "      <th>16</th>\n",
       "      <td>11145</td>\n",
       "      <td>71</td>\n",
       "    </tr>\n",
       "    <tr>\n",
       "      <th>17</th>\n",
       "      <td>11149</td>\n",
       "      <td>15</td>\n",
       "    </tr>\n",
       "    <tr>\n",
       "      <th>18</th>\n",
       "      <td>11309</td>\n",
       "      <td>55</td>\n",
       "    </tr>\n",
       "    <tr>\n",
       "      <th>19</th>\n",
       "      <td>11313</td>\n",
       "      <td>71</td>\n",
       "    </tr>\n",
       "    <tr>\n",
       "      <th>20</th>\n",
       "      <td>11315</td>\n",
       "      <td>101</td>\n",
       "    </tr>\n",
       "    <tr>\n",
       "      <th>21</th>\n",
       "      <td>11319</td>\n",
       "      <td>18</td>\n",
       "    </tr>\n",
       "    <tr>\n",
       "      <th>22</th>\n",
       "      <td>11323</td>\n",
       "      <td>53</td>\n",
       "    </tr>\n",
       "    <tr>\n",
       "      <th>23</th>\n",
       "      <td>11328</td>\n",
       "      <td>12</td>\n",
       "    </tr>\n",
       "    <tr>\n",
       "      <th>24</th>\n",
       "      <td>11333</td>\n",
       "      <td>42</td>\n",
       "    </tr>\n",
       "    <tr>\n",
       "      <th>25</th>\n",
       "      <td>11339</td>\n",
       "      <td>80</td>\n",
       "    </tr>\n",
       "    <tr>\n",
       "      <th>26</th>\n",
       "      <td>11343</td>\n",
       "      <td>2</td>\n",
       "    </tr>\n",
       "    <tr>\n",
       "      <th>27</th>\n",
       "      <td>11346</td>\n",
       "      <td>75</td>\n",
       "    </tr>\n",
       "  </tbody>\n",
       "</table>\n",
       "</div>"
      ],
      "text/plain": [
       "    match_id  Rahul's runs\n",
       "0       7895            51\n",
       "1       7901            48\n",
       "2       7905            37\n",
       "3       7909            18\n",
       "4       7911            60\n",
       "5       7915            23\n",
       "6       7918            32\n",
       "7       7927            24\n",
       "8       7931            84\n",
       "9       7933           101\n",
       "10      7937            66\n",
       "11      7941            22\n",
       "12      7943            95\n",
       "13      7949             7\n",
       "14     11140             4\n",
       "15     11142             1\n",
       "16     11145            71\n",
       "17     11149            15\n",
       "18     11309            55\n",
       "19     11313            71\n",
       "20     11315           101\n",
       "21     11319            18\n",
       "22     11323            53\n",
       "23     11328            12\n",
       "24     11333            42\n",
       "25     11339            80\n",
       "26     11343             2\n",
       "27     11346            75"
      ]
     },
     "execution_count": 38,
     "metadata": {},
     "output_type": "execute_result"
    }
   ],
   "source": [
    "rahul_score_overall = pd.DataFrame(rahul_overall.groupby([\"match_id\"])[\"batsman_runs\"].sum())\n",
    "\n",
    "rahul_score_overall.columns = [\"Rahul's runs\"]\n",
    "\n",
    "rahul_score_overall.reset_index(level=0, inplace=True)\n",
    "\n",
    "rahul_score_overall"
   ]
  },
  {
   "cell_type": "code",
   "execution_count": 39,
   "metadata": {},
   "outputs": [
    {
     "data": {
      "text/html": [
       "<div>\n",
       "<style scoped>\n",
       "    .dataframe tbody tr th:only-of-type {\n",
       "        vertical-align: middle;\n",
       "    }\n",
       "\n",
       "    .dataframe tbody tr th {\n",
       "        vertical-align: top;\n",
       "    }\n",
       "\n",
       "    .dataframe thead th {\n",
       "        text-align: right;\n",
       "    }\n",
       "</style>\n",
       "<table border=\"1\" class=\"dataframe\">\n",
       "  <thead>\n",
       "    <tr style=\"text-align: right;\">\n",
       "      <th></th>\n",
       "      <th>match_id</th>\n",
       "      <th>total_runs</th>\n",
       "      <th>Rahul's runs</th>\n",
       "    </tr>\n",
       "  </thead>\n",
       "  <tbody>\n",
       "    <tr>\n",
       "      <th>0</th>\n",
       "      <td>7895</td>\n",
       "      <td>168</td>\n",
       "      <td>51</td>\n",
       "    </tr>\n",
       "    <tr>\n",
       "      <th>1</th>\n",
       "      <td>7901</td>\n",
       "      <td>161</td>\n",
       "      <td>48</td>\n",
       "    </tr>\n",
       "    <tr>\n",
       "      <th>2</th>\n",
       "      <td>7905</td>\n",
       "      <td>198</td>\n",
       "      <td>37</td>\n",
       "    </tr>\n",
       "    <tr>\n",
       "      <th>3</th>\n",
       "      <td>7909</td>\n",
       "      <td>201</td>\n",
       "      <td>18</td>\n",
       "    </tr>\n",
       "    <tr>\n",
       "      <th>4</th>\n",
       "      <td>7911</td>\n",
       "      <td>128</td>\n",
       "      <td>60</td>\n",
       "    </tr>\n",
       "    <tr>\n",
       "      <th>5</th>\n",
       "      <td>7915</td>\n",
       "      <td>157</td>\n",
       "      <td>23</td>\n",
       "    </tr>\n",
       "    <tr>\n",
       "      <th>6</th>\n",
       "      <td>7918</td>\n",
       "      <td>121</td>\n",
       "      <td>32</td>\n",
       "    </tr>\n",
       "    <tr>\n",
       "      <th>7</th>\n",
       "      <td>7927</td>\n",
       "      <td>184</td>\n",
       "      <td>24</td>\n",
       "    </tr>\n",
       "    <tr>\n",
       "      <th>8</th>\n",
       "      <td>7931</td>\n",
       "      <td>158</td>\n",
       "      <td>84</td>\n",
       "    </tr>\n",
       "    <tr>\n",
       "      <th>9</th>\n",
       "      <td>7933</td>\n",
       "      <td>149</td>\n",
       "      <td>101</td>\n",
       "    </tr>\n",
       "    <tr>\n",
       "      <th>10</th>\n",
       "      <td>7937</td>\n",
       "      <td>221</td>\n",
       "      <td>66</td>\n",
       "    </tr>\n",
       "    <tr>\n",
       "      <th>11</th>\n",
       "      <td>7941</td>\n",
       "      <td>93</td>\n",
       "      <td>22</td>\n",
       "    </tr>\n",
       "    <tr>\n",
       "      <th>12</th>\n",
       "      <td>7943</td>\n",
       "      <td>192</td>\n",
       "      <td>95</td>\n",
       "    </tr>\n",
       "    <tr>\n",
       "      <th>13</th>\n",
       "      <td>7949</td>\n",
       "      <td>164</td>\n",
       "      <td>7</td>\n",
       "    </tr>\n",
       "    <tr>\n",
       "      <th>14</th>\n",
       "      <td>11140</td>\n",
       "      <td>200</td>\n",
       "      <td>4</td>\n",
       "    </tr>\n",
       "    <tr>\n",
       "      <th>15</th>\n",
       "      <td>11142</td>\n",
       "      <td>196</td>\n",
       "      <td>1</td>\n",
       "    </tr>\n",
       "    <tr>\n",
       "      <th>16</th>\n",
       "      <td>11145</td>\n",
       "      <td>185</td>\n",
       "      <td>71</td>\n",
       "    </tr>\n",
       "    <tr>\n",
       "      <th>17</th>\n",
       "      <td>11149</td>\n",
       "      <td>175</td>\n",
       "      <td>15</td>\n",
       "    </tr>\n",
       "    <tr>\n",
       "      <th>18</th>\n",
       "      <td>11309</td>\n",
       "      <td>142</td>\n",
       "      <td>55</td>\n",
       "    </tr>\n",
       "    <tr>\n",
       "      <th>19</th>\n",
       "      <td>11313</td>\n",
       "      <td>152</td>\n",
       "      <td>71</td>\n",
       "    </tr>\n",
       "    <tr>\n",
       "      <th>20</th>\n",
       "      <td>11315</td>\n",
       "      <td>204</td>\n",
       "      <td>101</td>\n",
       "    </tr>\n",
       "    <tr>\n",
       "      <th>21</th>\n",
       "      <td>11319</td>\n",
       "      <td>180</td>\n",
       "      <td>18</td>\n",
       "    </tr>\n",
       "    <tr>\n",
       "      <th>22</th>\n",
       "      <td>11323</td>\n",
       "      <td>190</td>\n",
       "      <td>53</td>\n",
       "    </tr>\n",
       "    <tr>\n",
       "      <th>23</th>\n",
       "      <td>11328</td>\n",
       "      <td>168</td>\n",
       "      <td>12</td>\n",
       "    </tr>\n",
       "    <tr>\n",
       "      <th>24</th>\n",
       "      <td>11333</td>\n",
       "      <td>190</td>\n",
       "      <td>42</td>\n",
       "    </tr>\n",
       "    <tr>\n",
       "      <th>25</th>\n",
       "      <td>11339</td>\n",
       "      <td>174</td>\n",
       "      <td>80</td>\n",
       "    </tr>\n",
       "    <tr>\n",
       "      <th>26</th>\n",
       "      <td>11343</td>\n",
       "      <td>186</td>\n",
       "      <td>2</td>\n",
       "    </tr>\n",
       "    <tr>\n",
       "      <th>27</th>\n",
       "      <td>11346</td>\n",
       "      <td>188</td>\n",
       "      <td>75</td>\n",
       "    </tr>\n",
       "  </tbody>\n",
       "</table>\n",
       "</div>"
      ],
      "text/plain": [
       "    match_id  total_runs  Rahul's runs\n",
       "0       7895         168            51\n",
       "1       7901         161            48\n",
       "2       7905         198            37\n",
       "3       7909         201            18\n",
       "4       7911         128            60\n",
       "5       7915         157            23\n",
       "6       7918         121            32\n",
       "7       7927         184            24\n",
       "8       7931         158            84\n",
       "9       7933         149           101\n",
       "10      7937         221            66\n",
       "11      7941          93            22\n",
       "12      7943         192            95\n",
       "13      7949         164             7\n",
       "14     11140         200             4\n",
       "15     11142         196             1\n",
       "16     11145         185            71\n",
       "17     11149         175            15\n",
       "18     11309         142            55\n",
       "19     11313         152            71\n",
       "20     11315         204           101\n",
       "21     11319         180            18\n",
       "22     11323         190            53\n",
       "23     11328         168            12\n",
       "24     11333         190            42\n",
       "25     11339         174            80\n",
       "26     11343         186             2\n",
       "27     11346         188            75"
      ]
     },
     "execution_count": 39,
     "metadata": {},
     "output_type": "execute_result"
    }
   ],
   "source": [
    "final_overall = pd.merge(total_runs_overall,rahul_score_overall , on='match_id', how='inner')\n",
    "\n",
    "final_overall"
   ]
  },
  {
   "cell_type": "code",
   "execution_count": 40,
   "metadata": {},
   "outputs": [
    {
     "data": {
      "text/html": [
       "<div>\n",
       "<style scoped>\n",
       "    .dataframe tbody tr th:only-of-type {\n",
       "        vertical-align: middle;\n",
       "    }\n",
       "\n",
       "    .dataframe tbody tr th {\n",
       "        vertical-align: top;\n",
       "    }\n",
       "\n",
       "    .dataframe thead th {\n",
       "        text-align: right;\n",
       "    }\n",
       "</style>\n",
       "<table border=\"1\" class=\"dataframe\">\n",
       "  <thead>\n",
       "    <tr style=\"text-align: right;\">\n",
       "      <th></th>\n",
       "      <th>match_id</th>\n",
       "      <th>total_runs</th>\n",
       "      <th>Rahul's runs</th>\n",
       "      <th>contribution</th>\n",
       "    </tr>\n",
       "  </thead>\n",
       "  <tbody>\n",
       "    <tr>\n",
       "      <th>0</th>\n",
       "      <td>7895</td>\n",
       "      <td>168</td>\n",
       "      <td>51</td>\n",
       "      <td>30.0</td>\n",
       "    </tr>\n",
       "    <tr>\n",
       "      <th>1</th>\n",
       "      <td>7901</td>\n",
       "      <td>161</td>\n",
       "      <td>48</td>\n",
       "      <td>30.0</td>\n",
       "    </tr>\n",
       "    <tr>\n",
       "      <th>2</th>\n",
       "      <td>7905</td>\n",
       "      <td>198</td>\n",
       "      <td>37</td>\n",
       "      <td>19.0</td>\n",
       "    </tr>\n",
       "    <tr>\n",
       "      <th>3</th>\n",
       "      <td>7909</td>\n",
       "      <td>201</td>\n",
       "      <td>18</td>\n",
       "      <td>9.0</td>\n",
       "    </tr>\n",
       "    <tr>\n",
       "      <th>4</th>\n",
       "      <td>7911</td>\n",
       "      <td>128</td>\n",
       "      <td>60</td>\n",
       "      <td>47.0</td>\n",
       "    </tr>\n",
       "    <tr>\n",
       "      <th>5</th>\n",
       "      <td>7915</td>\n",
       "      <td>157</td>\n",
       "      <td>23</td>\n",
       "      <td>15.0</td>\n",
       "    </tr>\n",
       "    <tr>\n",
       "      <th>6</th>\n",
       "      <td>7918</td>\n",
       "      <td>121</td>\n",
       "      <td>32</td>\n",
       "      <td>26.0</td>\n",
       "    </tr>\n",
       "    <tr>\n",
       "      <th>7</th>\n",
       "      <td>7927</td>\n",
       "      <td>184</td>\n",
       "      <td>24</td>\n",
       "      <td>13.0</td>\n",
       "    </tr>\n",
       "    <tr>\n",
       "      <th>8</th>\n",
       "      <td>7931</td>\n",
       "      <td>158</td>\n",
       "      <td>84</td>\n",
       "      <td>53.0</td>\n",
       "    </tr>\n",
       "    <tr>\n",
       "      <th>9</th>\n",
       "      <td>7933</td>\n",
       "      <td>149</td>\n",
       "      <td>101</td>\n",
       "      <td>68.0</td>\n",
       "    </tr>\n",
       "    <tr>\n",
       "      <th>10</th>\n",
       "      <td>7937</td>\n",
       "      <td>221</td>\n",
       "      <td>66</td>\n",
       "      <td>30.0</td>\n",
       "    </tr>\n",
       "    <tr>\n",
       "      <th>11</th>\n",
       "      <td>7941</td>\n",
       "      <td>93</td>\n",
       "      <td>22</td>\n",
       "      <td>24.0</td>\n",
       "    </tr>\n",
       "    <tr>\n",
       "      <th>12</th>\n",
       "      <td>7943</td>\n",
       "      <td>192</td>\n",
       "      <td>95</td>\n",
       "      <td>49.0</td>\n",
       "    </tr>\n",
       "    <tr>\n",
       "      <th>13</th>\n",
       "      <td>7949</td>\n",
       "      <td>164</td>\n",
       "      <td>7</td>\n",
       "      <td>4.0</td>\n",
       "    </tr>\n",
       "    <tr>\n",
       "      <th>14</th>\n",
       "      <td>11140</td>\n",
       "      <td>200</td>\n",
       "      <td>4</td>\n",
       "      <td>2.0</td>\n",
       "    </tr>\n",
       "    <tr>\n",
       "      <th>15</th>\n",
       "      <td>11142</td>\n",
       "      <td>196</td>\n",
       "      <td>1</td>\n",
       "      <td>1.0</td>\n",
       "    </tr>\n",
       "    <tr>\n",
       "      <th>16</th>\n",
       "      <td>11145</td>\n",
       "      <td>185</td>\n",
       "      <td>71</td>\n",
       "      <td>38.0</td>\n",
       "    </tr>\n",
       "    <tr>\n",
       "      <th>17</th>\n",
       "      <td>11149</td>\n",
       "      <td>175</td>\n",
       "      <td>15</td>\n",
       "      <td>9.0</td>\n",
       "    </tr>\n",
       "    <tr>\n",
       "      <th>18</th>\n",
       "      <td>11309</td>\n",
       "      <td>142</td>\n",
       "      <td>55</td>\n",
       "      <td>39.0</td>\n",
       "    </tr>\n",
       "    <tr>\n",
       "      <th>19</th>\n",
       "      <td>11313</td>\n",
       "      <td>152</td>\n",
       "      <td>71</td>\n",
       "      <td>47.0</td>\n",
       "    </tr>\n",
       "    <tr>\n",
       "      <th>20</th>\n",
       "      <td>11315</td>\n",
       "      <td>204</td>\n",
       "      <td>101</td>\n",
       "      <td>50.0</td>\n",
       "    </tr>\n",
       "    <tr>\n",
       "      <th>21</th>\n",
       "      <td>11319</td>\n",
       "      <td>180</td>\n",
       "      <td>18</td>\n",
       "      <td>10.0</td>\n",
       "    </tr>\n",
       "    <tr>\n",
       "      <th>22</th>\n",
       "      <td>11323</td>\n",
       "      <td>190</td>\n",
       "      <td>53</td>\n",
       "      <td>28.0</td>\n",
       "    </tr>\n",
       "    <tr>\n",
       "      <th>23</th>\n",
       "      <td>11328</td>\n",
       "      <td>168</td>\n",
       "      <td>12</td>\n",
       "      <td>7.0</td>\n",
       "    </tr>\n",
       "    <tr>\n",
       "      <th>24</th>\n",
       "      <td>11333</td>\n",
       "      <td>190</td>\n",
       "      <td>42</td>\n",
       "      <td>22.0</td>\n",
       "    </tr>\n",
       "    <tr>\n",
       "      <th>25</th>\n",
       "      <td>11339</td>\n",
       "      <td>174</td>\n",
       "      <td>80</td>\n",
       "      <td>46.0</td>\n",
       "    </tr>\n",
       "    <tr>\n",
       "      <th>26</th>\n",
       "      <td>11343</td>\n",
       "      <td>186</td>\n",
       "      <td>2</td>\n",
       "      <td>1.0</td>\n",
       "    </tr>\n",
       "    <tr>\n",
       "      <th>27</th>\n",
       "      <td>11346</td>\n",
       "      <td>188</td>\n",
       "      <td>75</td>\n",
       "      <td>40.0</td>\n",
       "    </tr>\n",
       "  </tbody>\n",
       "</table>\n",
       "</div>"
      ],
      "text/plain": [
       "    match_id  total_runs  Rahul's runs  contribution\n",
       "0       7895         168            51          30.0\n",
       "1       7901         161            48          30.0\n",
       "2       7905         198            37          19.0\n",
       "3       7909         201            18           9.0\n",
       "4       7911         128            60          47.0\n",
       "5       7915         157            23          15.0\n",
       "6       7918         121            32          26.0\n",
       "7       7927         184            24          13.0\n",
       "8       7931         158            84          53.0\n",
       "9       7933         149           101          68.0\n",
       "10      7937         221            66          30.0\n",
       "11      7941          93            22          24.0\n",
       "12      7943         192            95          49.0\n",
       "13      7949         164             7           4.0\n",
       "14     11140         200             4           2.0\n",
       "15     11142         196             1           1.0\n",
       "16     11145         185            71          38.0\n",
       "17     11149         175            15           9.0\n",
       "18     11309         142            55          39.0\n",
       "19     11313         152            71          47.0\n",
       "20     11315         204           101          50.0\n",
       "21     11319         180            18          10.0\n",
       "22     11323         190            53          28.0\n",
       "23     11328         168            12           7.0\n",
       "24     11333         190            42          22.0\n",
       "25     11339         174            80          46.0\n",
       "26     11343         186             2           1.0\n",
       "27     11346         188            75          40.0"
      ]
     },
     "execution_count": 40,
     "metadata": {},
     "output_type": "execute_result"
    }
   ],
   "source": [
    "final_overall[\"contribution\"] = round((final_overall[\"Rahul's runs\"]/final_overall[\"total_runs\"]) * 100)\n",
    "\n",
    "final_overall"
   ]
  },
  {
   "cell_type": "code",
   "execution_count": 41,
   "metadata": {},
   "outputs": [
    {
     "data": {
      "text/html": [
       "<div>\n",
       "<style scoped>\n",
       "    .dataframe tbody tr th:only-of-type {\n",
       "        vertical-align: middle;\n",
       "    }\n",
       "\n",
       "    .dataframe tbody tr th {\n",
       "        vertical-align: top;\n",
       "    }\n",
       "\n",
       "    .dataframe thead th {\n",
       "        text-align: right;\n",
       "    }\n",
       "</style>\n",
       "<table border=\"1\" class=\"dataframe\">\n",
       "  <thead>\n",
       "    <tr style=\"text-align: right;\">\n",
       "      <th></th>\n",
       "      <th>count</th>\n",
       "      <th>mean</th>\n",
       "      <th>std</th>\n",
       "      <th>min</th>\n",
       "      <th>25%</th>\n",
       "      <th>50%</th>\n",
       "      <th>75%</th>\n",
       "      <th>max</th>\n",
       "    </tr>\n",
       "  </thead>\n",
       "  <tbody>\n",
       "    <tr>\n",
       "      <th>contribution</th>\n",
       "      <td>28.0</td>\n",
       "      <td>27.035714</td>\n",
       "      <td>18.534217</td>\n",
       "      <td>1.0</td>\n",
       "      <td>9.75</td>\n",
       "      <td>27.0</td>\n",
       "      <td>41.5</td>\n",
       "      <td>68.0</td>\n",
       "    </tr>\n",
       "  </tbody>\n",
       "</table>\n",
       "</div>"
      ],
      "text/plain": [
       "              count       mean        std  min   25%   50%   75%   max\n",
       "contribution   28.0  27.035714  18.534217  1.0  9.75  27.0  41.5  68.0"
      ]
     },
     "execution_count": 41,
     "metadata": {},
     "output_type": "execute_result"
    }
   ],
   "source": [
    "final_overall.describe().iloc[:,3:].T"
   ]
  },
  {
   "cell_type": "code",
   "execution_count": 42,
   "metadata": {},
   "outputs": [
    {
     "data": {
      "text/plain": [
       "<matplotlib.axes._subplots.AxesSubplot at 0x25f8716c6d0>"
      ]
     },
     "execution_count": 42,
     "metadata": {},
     "output_type": "execute_result"
    },
    {
     "data": {
      "image/png": "[encoded data removed]",
      "text/plain": [
       "<Figure size 432x288 with 1 Axes>"
      ]
     },
     "metadata": {
      "needs_background": "light"
     },
     "output_type": "display_data"
    }
   ],
   "source": [
    "sns.distplot(final_overall[\"contribution\"])"
   ]
  },
  {
   "cell_type": "code",
   "execution_count": 43,
   "metadata": {},
   "outputs": [
    {
     "data": {
      "text/plain": [
       "<matplotlib.axes._subplots.AxesSubplot at 0x25f875eb760>"
      ]
     },
     "execution_count": 43,
     "metadata": {},
     "output_type": "execute_result"
    },
    {
     "data": {
      "image/png": "[encoded data removed]",
      "text/plain": [
       "<Figure size 432x288 with 1 Axes>"
      ]
     },
     "metadata": {
      "needs_background": "light"
     },
     "output_type": "display_data"
    }
   ],
   "source": [
    "sns.boxplot(final_overall[\"contribution\"])"
   ]
  },
  {
   "cell_type": "code",
   "execution_count": 44,
   "metadata": {},
   "outputs": [
    {
     "name": "stdout",
     "output_type": "stream",
     "text": [
      "Average contribution of Rahul in KXIP's inning overall in recent years :27%\n"
     ]
    }
   ],
   "source": [
    "print(\"Average contribution of Rahul in KXIP's inning overall in recent years :{}%\".format(round(final_overall[\"contribution\"].mean())))"
   ]
  },
  {
   "cell_type": "markdown",
   "metadata": {},
   "source": [
    "Based on all the above analysis related to Rahul's contribution against SRH and overall also, we can predict KL Rahul to have 23%+ contribution in KXIP's inning  "
   ]
  },
  {
   "cell_type": "markdown",
   "metadata": {},
   "source": [
    "## Balls SRH would take for 50 runs"
   ]
  },
  {
   "cell_type": "code",
   "execution_count": 45,
   "metadata": {},
   "outputs": [],
   "source": [
    "sun = KXIP_SRH[KXIP_SRH[\"batting_team\"]==\"Sunrisers Hyderabad\"]"
   ]
  },
  {
   "cell_type": "code",
   "execution_count": 46,
   "metadata": {},
   "outputs": [
    {
     "name": "stdout",
     "output_type": "stream",
     "text": [
      "Runs scored by SRH overall :\n"
     ]
    },
    {
     "data": {
      "text/html": [
       "<div>\n",
       "<style scoped>\n",
       "    .dataframe tbody tr th:only-of-type {\n",
       "        vertical-align: middle;\n",
       "    }\n",
       "\n",
       "    .dataframe tbody tr th {\n",
       "        vertical-align: top;\n",
       "    }\n",
       "\n",
       "    .dataframe thead th {\n",
       "        text-align: right;\n",
       "    }\n",
       "</style>\n",
       "<table border=\"1\" class=\"dataframe\">\n",
       "  <thead>\n",
       "    <tr style=\"text-align: right;\">\n",
       "      <th></th>\n",
       "      <th></th>\n",
       "      <th>total_runs</th>\n",
       "    </tr>\n",
       "    <tr>\n",
       "      <th>match_id</th>\n",
       "      <th>batting_team</th>\n",
       "      <th></th>\n",
       "    </tr>\n",
       "  </thead>\n",
       "  <tbody>\n",
       "    <tr>\n",
       "      <th>19</th>\n",
       "      <th>Sunrisers Hyderabad</th>\n",
       "      <td>159</td>\n",
       "    </tr>\n",
       "    <tr>\n",
       "      <th>32</th>\n",
       "      <th>Sunrisers Hyderabad</th>\n",
       "      <td>207</td>\n",
       "    </tr>\n",
       "    <tr>\n",
       "      <th>405</th>\n",
       "      <th>Sunrisers Hyderabad</th>\n",
       "      <td>127</td>\n",
       "    </tr>\n",
       "    <tr>\n",
       "      <th>440</th>\n",
       "      <th>Sunrisers Hyderabad</th>\n",
       "      <td>150</td>\n",
       "    </tr>\n",
       "    <tr>\n",
       "      <th>466</th>\n",
       "      <th>Sunrisers Hyderabad</th>\n",
       "      <td>121</td>\n",
       "    </tr>\n",
       "    <tr>\n",
       "      <th>496</th>\n",
       "      <th>Sunrisers Hyderabad</th>\n",
       "      <td>205</td>\n",
       "    </tr>\n",
       "    <tr>\n",
       "      <th>544</th>\n",
       "      <th>Sunrisers Hyderabad</th>\n",
       "      <td>150</td>\n",
       "    </tr>\n",
       "    <tr>\n",
       "      <th>564</th>\n",
       "      <th>Sunrisers Hyderabad</th>\n",
       "      <td>185</td>\n",
       "    </tr>\n",
       "    <tr>\n",
       "      <th>594</th>\n",
       "      <th>Sunrisers Hyderabad</th>\n",
       "      <td>146</td>\n",
       "    </tr>\n",
       "    <tr>\n",
       "      <th>622</th>\n",
       "      <th>Sunrisers Hyderabad</th>\n",
       "      <td>180</td>\n",
       "    </tr>\n",
       "    <tr>\n",
       "      <th>7909</th>\n",
       "      <th>Sunrisers Hyderabad</th>\n",
       "      <td>191</td>\n",
       "    </tr>\n",
       "    <tr>\n",
       "      <th>7918</th>\n",
       "      <th>Sunrisers Hyderabad</th>\n",
       "      <td>140</td>\n",
       "    </tr>\n",
       "    <tr>\n",
       "      <th>11313</th>\n",
       "      <th>Sunrisers Hyderabad</th>\n",
       "      <td>158</td>\n",
       "    </tr>\n",
       "    <tr>\n",
       "      <th>11339</th>\n",
       "      <th>Sunrisers Hyderabad</th>\n",
       "      <td>232</td>\n",
       "    </tr>\n",
       "  </tbody>\n",
       "</table>\n",
       "</div>"
      ],
      "text/plain": [
       "                              total_runs\n",
       "match_id batting_team                   \n",
       "19       Sunrisers Hyderabad         159\n",
       "32       Sunrisers Hyderabad         207\n",
       "405      Sunrisers Hyderabad         127\n",
       "440      Sunrisers Hyderabad         150\n",
       "466      Sunrisers Hyderabad         121\n",
       "496      Sunrisers Hyderabad         205\n",
       "544      Sunrisers Hyderabad         150\n",
       "564      Sunrisers Hyderabad         185\n",
       "594      Sunrisers Hyderabad         146\n",
       "622      Sunrisers Hyderabad         180\n",
       "7909     Sunrisers Hyderabad         191\n",
       "7918     Sunrisers Hyderabad         140\n",
       "11313    Sunrisers Hyderabad         158\n",
       "11339    Sunrisers Hyderabad         232"
      ]
     },
     "execution_count": 46,
     "metadata": {},
     "output_type": "execute_result"
    }
   ],
   "source": [
    "SRH_runs = sun.groupby([\"match_id\",\"batting_team\"]).agg({ \"total_runs\":\"sum\"})\n",
    "\n",
    "print(\"Runs scored by SRH overall :\")\n",
    "\n",
    "SRH_runs"
   ]
  },
  {
   "cell_type": "markdown",
   "metadata": {},
   "source": [
    "Balls SRH took to score their first 50 runs :"
   ]
  },
  {
   "cell_type": "code",
   "execution_count": 47,
   "metadata": {},
   "outputs": [
    {
     "name": "stdout",
     "output_type": "stream",
     "text": [
      "[0, 0, 0, 1, 1, 1, 2, 1, 1, 0, 1, 0, 1, 0, 2, 4, 0, 1, 1, 1, 1, 0, 0, 0, 1, 1, 1, 0, 1, 2, 0, 0, 1, 0, 0, 0, 2, 1, 1, 1, 3, 4, 1, 1, 0, 0, 0, 0, 1, 1, 0, 1, 0, 1, 0, 6, 0, 0, 0, 1, 1, 1, 1, 4, 1, 4, 2, 1, 0, 0, 1, 0, 2, 2, 4, 1, 2, 3, 0, 4, 1, 0, 1, 1, 1, 6, 1, 1, 4, 1, 1, 3, 1, 1, 1, 1, 0, 1, 1, 2, 1, 2, 4, 1, 1, 1, 0, 1, 2, 0, 2, 4, 1, 1, 4, 1, 0, 4, 0, 0, 2, 0, 6, 1, 6]\n",
      "[0, 2, 0, 1, 0, 0, 1, 4, 4, 0, 0, 1, 0, 6, 1, 1, 0, 1, 1, 0, 4, 1, 4, 1, 1, 0, 4, 6, 6, 0, 4, 1, 1, 2, 0, 2, 1, 0, 4, 1, 0, 6, 1, 6, 1, 2, 1, 0, 4, 2, 1, 4, 4, 1, 1, 1, 1, 4, 1, 0, 1, 1, 1, 1, 1, 1, 1, 1, 1, 1, 1, 1, 1, 1, 0, 2, 1, 1, 6, 2, 2, 1, 1, 1, 4, 1, 4, 0, 4, 2, 1, 1, 1, 1, 0, 0, 2, 1, 4, 1, 1, 4, 0, 1, 0, 1, 1, 1, 2, 0, 2, 6, 4, 2, 2, 4, 1, 1, 2, 1, 4, 2]\n",
      "[0, 0, 0, 0, 0, 0, 1, 0, 1, 1, 1, 4, 0, 0, 0, 2, 1, 0, 0, 1, 1, 2, 1, 0, 1, 3, 3, 1, 1, 0, 4, 0, 1, 0, 2, 1, 1, 0, 0, 4, 4, 1, 1, 0, 4, 0, 0, 0, 0, 1, 1, 0, 0, 0, 4, 0, 1, 0, 1, 0, 1, 4, 2, 1, 1, 1, 2, 1, 1, 0, 0, 0, 1, 1, 1, 1, 1, 0, 0, 0, 1, 1, 4, 1, 1, 1, 0, 1, 1, 1, 0, 1, 4, 0, 1, 4, 0, 1, 0, 0, 1, 0, 1, 1, 1, 0, 4, 0, 6, 1, 1, 1, 6, 6]\n",
      "[0, 1, 1, 1, 1, 0, 0, 4, 1, 6, 0, 0, 0, 2, 1, 0, 4, 0, 1, 0, 1, 0, 0, 0, 4, 0, 0, 0, 0, 1, 0, 4, 0, 0, 4, 0, 0, 1, 1, 4, 1, 4, 0, 1, 1, 0, 1, 0, 0, 1, 0, 0, 0, 0, 0, 1, 0, 0, 1, 0, 2, 3, 0, 1, 1, 2, 1, 1, 1, 4, 0, 0, 1, 2, 1, 1, 0, 1, 0, 1, 0, 1, 1, 6, 4, 1, 4, 0, 0, 0, 4, 0, 0, 1, 2, 1, 2, 1, 1, 1, 0, 6, 1, 6, 0, 4, 1, 1, 2, 6, 4, 1, 2, 0, 1, 0, 1, 4, 1, 1, 1]\n",
      "[0, 0, 6, 2, 1, 1, 1, 0, 0, 0, 1, 0, 4, 0, 0, 0, 2, 0, 4, 0, 1, 1, 1, 1, 4, 1, 0, 0, 0, 0, 1, 1, 0, 0, 2, 1, 0, 4, 4, 1, 1, 1, 0, 1, 1, 0, 1, 0, 1, 0, 2, 1, 1, 1, 4, 1, 1, 1, 1, 1, 0, 1, 1, 1, 6, 0, 0, 0, 3, 1, 1, 0, 2, 1, 1, 1, 0, 0, 6, 1, 0, 0, 1, 0, 1, 0, 1, 0, 1, 0, 1, 1, 1, 0, 1, 0, 0, 2, 1, 0, 6, 1, 1, 0, 0, 2, 1, 1, 0, 0, 0, 1, 1, 1, 1, 0, 0, 1, 1, 1, 0]\n",
      "[4, 1, 0, 0, 0, 1, 1, 1, 1, 0, 0, 0, 1, 1, 4, 0, 1, 1, 1, 0, 1, 0, 2, 0, 1, 1, 0, 2, 5, 0, 4, 6, 4, 4, 1, 0, 4, 0, 1, 0, 1, 0, 0, 0, 0, 0, 2, 0, 1, 1, 0, 6, 0, 0, 0, 0, 1, 0, 1, 1, 1, 1, 0, 1, 1, 1, 6, 2, 1, 0, 1, 5, 0, 1, 1, 0, 1, 1, 0, 1, 2, 1, 6, 6, 0, 0, 1, 1, 0, 1, 6, 1, 0, 6, 1, 2, 1, 1, 0, 4, 4, 1, 1, 4, 0, 4, 1, 1, 0, 1, 6, 4, 6, 1, 1, 1, 4, 7, 3, 0, 4, 6, 1, 2, 0, 1, 1, 6, 1]\n",
      "[0, 0, 0, 0, 0, 0, 1, 4, 4, 1, 0, 0, 0, 0, 0, 4, 0, 1, 4, 6, 4, 1, 0, 0, 4, 0, 4, 4, 0, 4, 4, 1, 1, 0, 4, 0, 1, 0, 1, 1, 1, 1, 1, 0, 1, 1, 0, 1, 0, 2, 0, 1, 1, 1, 4, 1, 0, 1, 0, 0, 1, 1, 1, 1, 1, 1, 0, 0, 0, 1, 1, 1, 4, 1, 0, 1, 0, 1, 1, 1, 1, 1, 0, 2, 0, 1, 1, 1, 2, 1, 1, 1, 4, 0, 4, 0, 4, 2, 1, 0, 2, 0, 0, 0, 2, 4, 1, 1, 0, 1, 1, 1, 1, 1, 0, 0, 1, 6, 6, 1]\n",
      "[0, 0, 0, 3, 2, 0, 0, 4, 0, 0, 6, 4, 0, 0, 4, 4, 0, 1, 4, 4, 1, 6, 1, 1, 1, 1, 4, 1, 1, 0, 0, 0, 1, 0, 0, 1, 1, 0, 0, 0, 1, 1, 0, 0, 4, 1, 1, 0, 1, 4, 1, 0, 1, 0, 1, 1, 2, 4, 1, 1, 4, 1, 0, 1, 1, 0, 0, 1, 1, 1, 1, 1, 1, 1, 4, 0, 6, 1, 1, 6, 1, 6, 1, 0, 0, 2, 0, 0, 6, 6, 4, 1, 0, 0, 0, 2, 1, 2, 1, 1, 1, 0, 4, 4, 1, 0, 0, 0, 1, 0, 1, 0, 1, 1, 1, 2, 0, 6, 6, 1, 1, 1, 4, 2]\n",
      "[1, 0, 0, 4, 1, 0, 0, 1, 0, 1, 0, 4, 6, 0, 0, 6, 2, 4, 2, 1, 4, 1, 5, 4, 0, 1, 6, 4, 0, 0, 1, 1, 0, 1, 4, 0, 1, 4, 1, 1, 1, 1, 1, 1, 0, 0, 0, 1, 1, 0, 0, 4, 1, 2, 0, 1, 1, 0, 1, 1, 1, 0, 0, 1, 1, 1, 0, 1, 1, 0, 0, 0, 0, 2, 1, 4, 1, 4, 1, 1, 0, 1, 0, 1, 4, 0, 0, 1, 1, 0, 0, 0, 2, 0, 1, 0, 2, 6, 1, 1, 1, 1, 2, 1, 4, 0, 0, 1, 0, 1, 1, 4]\n",
      "[0, 1, 1, 4, 1, 1, 1, 4, 0, 1, 0, 1, 1, 0, 1, 0, 1, 1, 1, 4, 0, 1, 4, 1, 1, 4, 1, 1, 0, 6, 1, 0, 2, 0, 1, 4, 4, 2, 1, 0, 0, 1, 2, 0, 0, 0, 5, 0, 1, 1, 2, 1, 1, 1, 1, 0, 0, 1, 1, 0, 0, 1, 1, 1, 1, 4, 0, 1, 1, 1, 1, 1, 1, 3, 0, 4, 0, 0, 4, 1, 2, 6, 4, 1, 1, 1, 1, 1, 0, 1, 4, 1, 1, 4, 1, 0, 1, 6, 1, 0, 0, 1, 0, 0, 1, 0, 6, 4, 1, 6, 1, 1, 1, 0, 2, 6, 0, 2, 1, 6, 0, 1, 1]\n",
      "[2, 0, 0, 0, 1, 0, 0, 1, 4, 3, 4, 0, 4, 1, 0, 1, 1, 1, 0, 0, 1, 1, 4, 1, 0, 4, 1, 2, 0, 2, 0, 0, 1, 1, 1, 0, 0, 1, 1, 1, 4, 2, 4, 1, 1, 1, 1, 1, 1, 0, 6, 1, 1, 1, 1, 1, 0, 2, 1, 0, 1, 0, 0, 1, 0, 2, 1, 1, 1, 1, 2, 0, 1, 1, 2, 4, 2, 1, 1, 4, 1, 2, 2, 1, 6, 1, 2, 0, 4, 0, 1, 2, 2, 0, 2, 1, 1, 4, 2, 2, 1, 0, 2, 1, 0, 1, 0, 1, 6, 2, 0, 2, 1, 2, 1, 1, 1, 6, 1, 2, 1, 2, 2, 1, 1, 2, 6, 6, 1, 1]\n",
      "[1, 0, 0, 0, 0, 0, 0, 2, 0, 4, 2, 4, 4, 0, 0, 0, 0, 0, 0, 0, 1, 4, 0, 2, 0, 1, 2, 1, 0, 0, 0, 2, 4, 0, 4, 1, 0, 0, 0, 1, 1, 0, 1, 1, 1, 2, 6, 1, 1, 1, 0, 1, 0, 2, 0, 1, 1, 0, 0, 0, 1, 1, 1, 1, 2, 0, 0, 1, 0, 1, 1, 0, 2, 1, 1, 4, 0, 2, 1, 1, 1, 1, 1, 0, 4, 1, 1, 2, 1, 1, 4, 0, 6, 0, 2, 0, 0, 0, 0, 0, 0, 1, 1, 2, 1, 1, 2, 6, 2, 2, 0, 0, 4, 1, 0, 4, 0, 1, 0, 2, 0, 4, 0]\n",
      "[2, 1, 0, 1, 0, 0, 0, 0, 2, 0, 4, 2, 0, 0, 4, 6, 1, 0, 0, 0, 2, 1, 0, 0, 0, 0, 0, 1, 1, 0, 0, 1, 4, 0, 0, 1, 1, 0, 0, 1, 1, 0, 0, 0, 2, 0, 1, 1, 1, 2, 1, 0, 1, 2, 2, 0, 1, 1, 0, 2, 1, 2, 1, 4, 1, 1, 0, 1, 4, 2, 1, 0, 1, 2, 2, 2, 0, 4, 1, 3, 0, 1, 0, 4, 2, 1, 1, 1, 0, 1, 0, 0, 2, 6, 1, 1, 1, 1, 2, 4, 1, 4, 0, 2, 1, 1, 1, 2, 1, 1, 2, 4, 1, 1, 1, 0, 4, 0, 0, 1, 4, 4, 6]\n",
      "[0, 0, 2, 4, 0, 4, 1, 0, 1, 2, 1, 6, 0, 3, 2, 4, 2, 1, 1, 8, 0, 10, 4, 4, 0, 1, 4, 0, 1, 1, 1, 4, 6, 6, 1, 1, 1, 1, 1, 1, 0, 0, 1, 0, 2, 2, 1, 2, 1, 1, 0, 1, 4, 1, 1, 2, 1, 0, 1, 1, 1, 0, 1, 1, 2, 1, 1, 1, 4, 1, 1, 1, 1, 4, 2, 0, 2, 1, 2, 1, 6, 0, 1, 2, 2, 1, 2, 4, 2, 1, 2, 4, 1, 4, 1, 1, 0, 1, 0, 2, 1, 0, 1, 1, 1, 1, 1, 1, 4, 6, 1, 6, 2, 2, 6, 1, 2, 1, 0, 1, 0, 2, 2, 0, 2, 1, 2, 4, 1, 2]\n"
     ]
    },
    {
     "data": {
      "text/plain": [
       "[56, 29, 51, 45, 47, 37, 31, 27, 27, 36, 42, 47, 55, 22]"
      ]
     },
     "execution_count": 47,
     "metadata": {},
     "output_type": "execute_result"
    }
   ],
   "source": [
    "a =[]\n",
    "for value in sun.groupby(\"match_id\"):\n",
    "    count = 0\n",
    "    suma = 0\n",
    "    d = list(value[1][\"total_runs\"])\n",
    "    print(d)\n",
    "    for i in d: \n",
    "        if suma <50:\n",
    "            suma=suma+i\n",
    "            count = count+1\n",
    "            \n",
    "    a.append(count)\n",
    "a"
   ]
  },
  {
   "cell_type": "code",
   "execution_count": 48,
   "metadata": {},
   "outputs": [
    {
     "name": "stdout",
     "output_type": "stream",
     "text": [
      "Balls taken by SRH for 50 team's run :\n"
     ]
    },
    {
     "data": {
      "text/html": [
       "<div>\n",
       "<style scoped>\n",
       "    .dataframe tbody tr th:only-of-type {\n",
       "        vertical-align: middle;\n",
       "    }\n",
       "\n",
       "    .dataframe tbody tr th {\n",
       "        vertical-align: top;\n",
       "    }\n",
       "\n",
       "    .dataframe thead th {\n",
       "        text-align: right;\n",
       "    }\n",
       "</style>\n",
       "<table border=\"1\" class=\"dataframe\">\n",
       "  <thead>\n",
       "    <tr style=\"text-align: right;\">\n",
       "      <th></th>\n",
       "      <th></th>\n",
       "      <th>total_runs</th>\n",
       "      <th>balls for 1st 50</th>\n",
       "    </tr>\n",
       "    <tr>\n",
       "      <th>match_id</th>\n",
       "      <th>batting_team</th>\n",
       "      <th></th>\n",
       "      <th></th>\n",
       "    </tr>\n",
       "  </thead>\n",
       "  <tbody>\n",
       "    <tr>\n",
       "      <th>19</th>\n",
       "      <th>Sunrisers Hyderabad</th>\n",
       "      <td>159</td>\n",
       "      <td>56</td>\n",
       "    </tr>\n",
       "    <tr>\n",
       "      <th>32</th>\n",
       "      <th>Sunrisers Hyderabad</th>\n",
       "      <td>207</td>\n",
       "      <td>29</td>\n",
       "    </tr>\n",
       "    <tr>\n",
       "      <th>405</th>\n",
       "      <th>Sunrisers Hyderabad</th>\n",
       "      <td>127</td>\n",
       "      <td>51</td>\n",
       "    </tr>\n",
       "    <tr>\n",
       "      <th>440</th>\n",
       "      <th>Sunrisers Hyderabad</th>\n",
       "      <td>150</td>\n",
       "      <td>45</td>\n",
       "    </tr>\n",
       "    <tr>\n",
       "      <th>466</th>\n",
       "      <th>Sunrisers Hyderabad</th>\n",
       "      <td>121</td>\n",
       "      <td>47</td>\n",
       "    </tr>\n",
       "    <tr>\n",
       "      <th>496</th>\n",
       "      <th>Sunrisers Hyderabad</th>\n",
       "      <td>205</td>\n",
       "      <td>37</td>\n",
       "    </tr>\n",
       "    <tr>\n",
       "      <th>544</th>\n",
       "      <th>Sunrisers Hyderabad</th>\n",
       "      <td>150</td>\n",
       "      <td>31</td>\n",
       "    </tr>\n",
       "    <tr>\n",
       "      <th>564</th>\n",
       "      <th>Sunrisers Hyderabad</th>\n",
       "      <td>185</td>\n",
       "      <td>27</td>\n",
       "    </tr>\n",
       "    <tr>\n",
       "      <th>594</th>\n",
       "      <th>Sunrisers Hyderabad</th>\n",
       "      <td>146</td>\n",
       "      <td>27</td>\n",
       "    </tr>\n",
       "    <tr>\n",
       "      <th>622</th>\n",
       "      <th>Sunrisers Hyderabad</th>\n",
       "      <td>180</td>\n",
       "      <td>36</td>\n",
       "    </tr>\n",
       "    <tr>\n",
       "      <th>7909</th>\n",
       "      <th>Sunrisers Hyderabad</th>\n",
       "      <td>191</td>\n",
       "      <td>42</td>\n",
       "    </tr>\n",
       "    <tr>\n",
       "      <th>7918</th>\n",
       "      <th>Sunrisers Hyderabad</th>\n",
       "      <td>140</td>\n",
       "      <td>47</td>\n",
       "    </tr>\n",
       "    <tr>\n",
       "      <th>11313</th>\n",
       "      <th>Sunrisers Hyderabad</th>\n",
       "      <td>158</td>\n",
       "      <td>55</td>\n",
       "    </tr>\n",
       "    <tr>\n",
       "      <th>11339</th>\n",
       "      <th>Sunrisers Hyderabad</th>\n",
       "      <td>232</td>\n",
       "      <td>22</td>\n",
       "    </tr>\n",
       "  </tbody>\n",
       "</table>\n",
       "</div>"
      ],
      "text/plain": [
       "                              total_runs  balls for 1st 50\n",
       "match_id batting_team                                     \n",
       "19       Sunrisers Hyderabad         159                56\n",
       "32       Sunrisers Hyderabad         207                29\n",
       "405      Sunrisers Hyderabad         127                51\n",
       "440      Sunrisers Hyderabad         150                45\n",
       "466      Sunrisers Hyderabad         121                47\n",
       "496      Sunrisers Hyderabad         205                37\n",
       "544      Sunrisers Hyderabad         150                31\n",
       "564      Sunrisers Hyderabad         185                27\n",
       "594      Sunrisers Hyderabad         146                27\n",
       "622      Sunrisers Hyderabad         180                36\n",
       "7909     Sunrisers Hyderabad         191                42\n",
       "7918     Sunrisers Hyderabad         140                47\n",
       "11313    Sunrisers Hyderabad         158                55\n",
       "11339    Sunrisers Hyderabad         232                22"
      ]
     },
     "execution_count": 48,
     "metadata": {},
     "output_type": "execute_result"
    }
   ],
   "source": [
    "SRH_runs[\"balls for 1st 50\"] = a\n",
    "\n",
    "print(\"Balls taken by SRH for 50 team's run :\")\n",
    "SRH_runs"
   ]
  },
  {
   "cell_type": "code",
   "execution_count": 49,
   "metadata": {},
   "outputs": [
    {
     "data": {
      "text/html": [
       "<div>\n",
       "<style scoped>\n",
       "    .dataframe tbody tr th:only-of-type {\n",
       "        vertical-align: middle;\n",
       "    }\n",
       "\n",
       "    .dataframe tbody tr th {\n",
       "        vertical-align: top;\n",
       "    }\n",
       "\n",
       "    .dataframe thead th {\n",
       "        text-align: right;\n",
       "    }\n",
       "</style>\n",
       "<table border=\"1\" class=\"dataframe\">\n",
       "  <thead>\n",
       "    <tr style=\"text-align: right;\">\n",
       "      <th></th>\n",
       "      <th>count</th>\n",
       "      <th>mean</th>\n",
       "      <th>std</th>\n",
       "      <th>min</th>\n",
       "      <th>25%</th>\n",
       "      <th>50%</th>\n",
       "      <th>75%</th>\n",
       "      <th>max</th>\n",
       "    </tr>\n",
       "  </thead>\n",
       "  <tbody>\n",
       "    <tr>\n",
       "      <th>total_runs</th>\n",
       "      <td>14.0</td>\n",
       "      <td>167.928571</td>\n",
       "      <td>32.740152</td>\n",
       "      <td>121.0</td>\n",
       "      <td>147.0</td>\n",
       "      <td>158.5</td>\n",
       "      <td>189.5</td>\n",
       "      <td>232.0</td>\n",
       "    </tr>\n",
       "    <tr>\n",
       "      <th>balls for 1st 50</th>\n",
       "      <td>14.0</td>\n",
       "      <td>39.428571</td>\n",
       "      <td>11.140462</td>\n",
       "      <td>22.0</td>\n",
       "      <td>29.5</td>\n",
       "      <td>39.5</td>\n",
       "      <td>47.0</td>\n",
       "      <td>56.0</td>\n",
       "    </tr>\n",
       "  </tbody>\n",
       "</table>\n",
       "</div>"
      ],
      "text/plain": [
       "                  count        mean        std    min    25%    50%    75%  \\\n",
       "total_runs         14.0  167.928571  32.740152  121.0  147.0  158.5  189.5   \n",
       "balls for 1st 50   14.0   39.428571  11.140462   22.0   29.5   39.5   47.0   \n",
       "\n",
       "                    max  \n",
       "total_runs        232.0  \n",
       "balls for 1st 50   56.0  "
      ]
     },
     "execution_count": 49,
     "metadata": {},
     "output_type": "execute_result"
    }
   ],
   "source": [
    "SRH_runs.describe().T"
   ]
  },
  {
   "cell_type": "code",
   "execution_count": 50,
   "metadata": {},
   "outputs": [
    {
     "data": {
      "text/plain": [
       "<matplotlib.axes._subplots.AxesSubplot at 0x25f87647be0>"
      ]
     },
     "execution_count": 50,
     "metadata": {},
     "output_type": "execute_result"
    },
    {
     "data": {
      "image/png": "[encoded data removed]",
      "text/plain": [
       "<Figure size 432x288 with 1 Axes>"
      ]
     },
     "metadata": {
      "needs_background": "light"
     },
     "output_type": "display_data"
    }
   ],
   "source": [
    "sns.distplot(SRH_runs[\"balls for 1st 50\"])"
   ]
  },
  {
   "cell_type": "code",
   "execution_count": 51,
   "metadata": {},
   "outputs": [
    {
     "data": {
      "text/plain": [
       "Text(0.5, 1.0, \"Ball's taken for 50\")"
      ]
     },
     "execution_count": 51,
     "metadata": {},
     "output_type": "execute_result"
    },
    {
     "data": {
      "image/png": "[encoded data removed]",
      "text/plain": [
       "<Figure size 864x360 with 1 Axes>"
      ]
     },
     "metadata": {
      "needs_background": "light"
     },
     "output_type": "display_data"
    }
   ],
   "source": [
    "plt.figure(figsize=(12,5))\n",
    "SRH_runs[\"Interval\"] = pd.cut(SRH_runs[\"balls for 1st 50\"],[20,30,40,50,60])\n",
    "sns.countplot(SRH_runs[\"Interval\"])\n",
    "plt.title(\"Ball's taken for 50\")"
   ]
  },
  {
   "cell_type": "code",
   "execution_count": 52,
   "metadata": {},
   "outputs": [
    {
     "name": "stdout",
     "output_type": "stream",
     "text": [
      "Average no of balls that SRH is expected to take for their 50 runs :39\n"
     ]
    }
   ],
   "source": [
    "print(\"Average no of balls that SRH is expected to take for their 50 runs :{}\".format(round(SRH_runs[\"balls for 1st 50\"].mean())))"
   ]
  },
  {
   "cell_type": "markdown",
   "metadata": {},
   "source": [
    "Based on all the above analysis we can predict SRH to score 50 runs in 30+ balls."
   ]
  },
  {
   "cell_type": "markdown",
   "metadata": {},
   "source": [
    "## Gayle in first 10 balls"
   ]
  },
  {
   "cell_type": "markdown",
   "metadata": {},
   "source": [
    "- Against SRH"
   ]
  },
  {
   "cell_type": "code",
   "execution_count": 53,
   "metadata": {},
   "outputs": [],
   "source": [
    "gayle = KXIP_SRH[(KXIP_SRH[\"batting_team\"]==\"Kings XI Punjab\")&(KXIP_SRH[\"batsman\"]==\"CH Gayle\")]\n",
    "gayle = gayle[gayle[\"wide_runs\"]==0]"
   ]
  },
  {
   "cell_type": "code",
   "execution_count": 54,
   "metadata": {},
   "outputs": [
    {
     "data": {
      "text/plain": [
       "array([ 7909,  7918, 11313, 11339], dtype=int64)"
      ]
     },
     "execution_count": 54,
     "metadata": {},
     "output_type": "execute_result"
    }
   ],
   "source": [
    "gayle.match_id.unique()"
   ]
  },
  {
   "cell_type": "code",
   "execution_count": 55,
   "metadata": {},
   "outputs": [
    {
     "data": {
      "text/html": [
       "<div>\n",
       "<style scoped>\n",
       "    .dataframe tbody tr th:only-of-type {\n",
       "        vertical-align: middle;\n",
       "    }\n",
       "\n",
       "    .dataframe tbody tr th {\n",
       "        vertical-align: top;\n",
       "    }\n",
       "\n",
       "    .dataframe thead th {\n",
       "        text-align: right;\n",
       "    }\n",
       "</style>\n",
       "<table border=\"1\" class=\"dataframe\">\n",
       "  <thead>\n",
       "    <tr style=\"text-align: right;\">\n",
       "      <th></th>\n",
       "      <th></th>\n",
       "      <th>Runs Scored</th>\n",
       "      <th>Ball faced</th>\n",
       "    </tr>\n",
       "    <tr>\n",
       "      <th>match_id</th>\n",
       "      <th>batsman</th>\n",
       "      <th></th>\n",
       "      <th></th>\n",
       "    </tr>\n",
       "  </thead>\n",
       "  <tbody>\n",
       "    <tr>\n",
       "      <th>7909</th>\n",
       "      <th>CH Gayle</th>\n",
       "      <td>109</td>\n",
       "      <td>63</td>\n",
       "    </tr>\n",
       "    <tr>\n",
       "      <th>7918</th>\n",
       "      <th>CH Gayle</th>\n",
       "      <td>23</td>\n",
       "      <td>22</td>\n",
       "    </tr>\n",
       "    <tr>\n",
       "      <th>11313</th>\n",
       "      <th>CH Gayle</th>\n",
       "      <td>16</td>\n",
       "      <td>14</td>\n",
       "    </tr>\n",
       "    <tr>\n",
       "      <th>11339</th>\n",
       "      <th>CH Gayle</th>\n",
       "      <td>4</td>\n",
       "      <td>3</td>\n",
       "    </tr>\n",
       "  </tbody>\n",
       "</table>\n",
       "</div>"
      ],
      "text/plain": [
       "                   Runs Scored  Ball faced\n",
       "match_id batsman                          \n",
       "7909     CH Gayle          109          63\n",
       "7918     CH Gayle           23          22\n",
       "11313    CH Gayle           16          14\n",
       "11339    CH Gayle            4           3"
      ]
     },
     "execution_count": 55,
     "metadata": {},
     "output_type": "execute_result"
    }
   ],
   "source": [
    "gayle_runs = gayle.groupby(['match_id',\"batsman\"]).agg({\"batsman_runs\":\"sum\",\"ball\":\"count\"})\n",
    "\n",
    "gayle_runs.columns = [\"Runs Scored\",\"Ball faced\"]\n",
    "\n",
    "gayle_runs"
   ]
  },
  {
   "cell_type": "markdown",
   "metadata": {},
   "source": [
    "Runs Scored in First 10 balls :"
   ]
  },
  {
   "cell_type": "code",
   "execution_count": 56,
   "metadata": {},
   "outputs": [
    {
     "name": "stdout",
     "output_type": "stream",
     "text": [
      "[1, 0, 4, 0, 0, 2, 0, 0, 6, 4, 1, 0, 6, 0, 0, 6, 1, 1, 1, 0, 1, 0, 0, 0, 0, 1, 6, 1, 1, 1, 1, 1, 0, 1, 0, 0, 6, 1, 1, 1, 6, 6, 6, 6, 2, 0, 1, 2, 2, 1, 1, 6, 1, 1, 1, 0, 6, 1, 1, 1, 0, 1, 1]\n",
      "[0, 0, 1, 0, 6, 0, 1, 0, 1, 1, 0, 1, 0, 4, 0, 0, 6, 1, 0, 0, 1, 0]\n",
      "[0, 1, 0, 0, 4, 1, 1, 6, 0, 2, 0, 0, 1, 0]\n",
      "[4, 0, 0]\n"
     ]
    },
    {
     "data": {
      "text/plain": [
       "[17, 10, 15, 4]"
      ]
     },
     "execution_count": 56,
     "metadata": {},
     "output_type": "execute_result"
    }
   ],
   "source": [
    "bound = [1,2,3,4,6]\n",
    "runs = []\n",
    "boundary_runs = []\n",
    "for value in gayle.groupby(\"match_id\"):\n",
    "    count = 1\n",
    "    d = list(value[1][\"batsman_runs\"])\n",
    "    print(d)\n",
    "    runs.clear()\n",
    "    for i in d:\n",
    "        while(count<=10):\n",
    "            count = count+1\n",
    "            if i in bound:\n",
    "                runs.append(i)\n",
    "            break\n",
    "    c = sum(runs)\n",
    "    boundary_runs.append(c)\n",
    "    \n",
    "\n",
    "boundary_runs"
   ]
  },
  {
   "cell_type": "code",
   "execution_count": 57,
   "metadata": {},
   "outputs": [
    {
     "data": {
      "text/html": [
       "<div>\n",
       "<style scoped>\n",
       "    .dataframe tbody tr th:only-of-type {\n",
       "        vertical-align: middle;\n",
       "    }\n",
       "\n",
       "    .dataframe tbody tr th {\n",
       "        vertical-align: top;\n",
       "    }\n",
       "\n",
       "    .dataframe thead th {\n",
       "        text-align: right;\n",
       "    }\n",
       "</style>\n",
       "<table border=\"1\" class=\"dataframe\">\n",
       "  <thead>\n",
       "    <tr style=\"text-align: right;\">\n",
       "      <th></th>\n",
       "      <th></th>\n",
       "      <th>Runs Scored</th>\n",
       "      <th>Ball faced</th>\n",
       "      <th>runs in first 10 balls</th>\n",
       "    </tr>\n",
       "    <tr>\n",
       "      <th>match_id</th>\n",
       "      <th>batsman</th>\n",
       "      <th></th>\n",
       "      <th></th>\n",
       "      <th></th>\n",
       "    </tr>\n",
       "  </thead>\n",
       "  <tbody>\n",
       "    <tr>\n",
       "      <th>7909</th>\n",
       "      <th>CH Gayle</th>\n",
       "      <td>109</td>\n",
       "      <td>63</td>\n",
       "      <td>17</td>\n",
       "    </tr>\n",
       "    <tr>\n",
       "      <th>7918</th>\n",
       "      <th>CH Gayle</th>\n",
       "      <td>23</td>\n",
       "      <td>22</td>\n",
       "      <td>10</td>\n",
       "    </tr>\n",
       "    <tr>\n",
       "      <th>11313</th>\n",
       "      <th>CH Gayle</th>\n",
       "      <td>16</td>\n",
       "      <td>14</td>\n",
       "      <td>15</td>\n",
       "    </tr>\n",
       "    <tr>\n",
       "      <th>11339</th>\n",
       "      <th>CH Gayle</th>\n",
       "      <td>4</td>\n",
       "      <td>3</td>\n",
       "      <td>4</td>\n",
       "    </tr>\n",
       "  </tbody>\n",
       "</table>\n",
       "</div>"
      ],
      "text/plain": [
       "                   Runs Scored  Ball faced  runs in first 10 balls\n",
       "match_id batsman                                                  \n",
       "7909     CH Gayle          109          63                      17\n",
       "7918     CH Gayle           23          22                      10\n",
       "11313    CH Gayle           16          14                      15\n",
       "11339    CH Gayle            4           3                       4"
      ]
     },
     "execution_count": 57,
     "metadata": {},
     "output_type": "execute_result"
    }
   ],
   "source": [
    "gayle_runs[\"runs in first 10 balls\"] = boundary_runs\n",
    "\n",
    "gayle_runs"
   ]
  },
  {
   "cell_type": "code",
   "execution_count": 58,
   "metadata": {},
   "outputs": [
    {
     "data": {
      "text/plain": [
       "<matplotlib.axes._subplots.AxesSubplot at 0x25f8763aa00>"
      ]
     },
     "execution_count": 58,
     "metadata": {},
     "output_type": "execute_result"
    },
    {
     "data": {
      "image/png": "[encoded data removed]",
      "text/plain": [
       "<Figure size 432x288 with 1 Axes>"
      ]
     },
     "metadata": {
      "needs_background": "light"
     },
     "output_type": "display_data"
    }
   ],
   "source": [
    "sns.distplot(gayle_runs[\"runs in first 10 balls\"])"
   ]
  },
  {
   "cell_type": "code",
   "execution_count": 59,
   "metadata": {},
   "outputs": [
    {
     "name": "stdout",
     "output_type": "stream",
     "text": [
      "Average runs made by Gayle in first 10 balls against SRH :12\n"
     ]
    }
   ],
   "source": [
    "print(\"Average runs made by Gayle in first 10 balls against SRH :{}\".format(round(gayle_runs[\"runs in first 10 balls\"].mean())))"
   ]
  },
  {
   "cell_type": "markdown",
   "metadata": {},
   "source": [
    "- Overall\n"
   ]
  },
  {
   "cell_type": "code",
   "execution_count": 60,
   "metadata": {},
   "outputs": [],
   "source": [
    "gayle_overall = matches[(matches[\"bowling_team\"]==\"Sunrisers Hyderabad\")&(matches[\"batsman\"]==\"CH Gayle\")]\n",
    "gayle_overall = gayle_overall[gayle_overall[\"wide_runs\"]==0]"
   ]
  },
  {
   "cell_type": "code",
   "execution_count": 61,
   "metadata": {},
   "outputs": [
    {
     "data": {
      "text/plain": [
       "13"
      ]
     },
     "execution_count": 61,
     "metadata": {},
     "output_type": "execute_result"
    }
   ],
   "source": [
    "gayle_overall.match_id.nunique()"
   ]
  },
  {
   "cell_type": "code",
   "execution_count": 62,
   "metadata": {},
   "outputs": [
    {
     "data": {
      "text/plain": [
       "array([2017, 2013, 2014, 2015, 2016, 2018, 2019], dtype=int64)"
      ]
     },
     "execution_count": 62,
     "metadata": {},
     "output_type": "execute_result"
    }
   ],
   "source": [
    "gayle_overall.season.unique()"
   ]
  },
  {
   "cell_type": "code",
   "execution_count": 63,
   "metadata": {},
   "outputs": [
    {
     "data": {
      "text/html": [
       "<div>\n",
       "<style scoped>\n",
       "    .dataframe tbody tr th:only-of-type {\n",
       "        vertical-align: middle;\n",
       "    }\n",
       "\n",
       "    .dataframe tbody tr th {\n",
       "        vertical-align: top;\n",
       "    }\n",
       "\n",
       "    .dataframe thead th {\n",
       "        text-align: right;\n",
       "    }\n",
       "</style>\n",
       "<table border=\"1\" class=\"dataframe\">\n",
       "  <thead>\n",
       "    <tr style=\"text-align: right;\">\n",
       "      <th></th>\n",
       "      <th></th>\n",
       "      <th>Runs Scored</th>\n",
       "      <th>Ball faced</th>\n",
       "    </tr>\n",
       "    <tr>\n",
       "      <th>match_id</th>\n",
       "      <th>batsman</th>\n",
       "      <th></th>\n",
       "      <th></th>\n",
       "    </tr>\n",
       "  </thead>\n",
       "  <tbody>\n",
       "    <tr>\n",
       "      <th>1</th>\n",
       "      <th>CH Gayle</th>\n",
       "      <td>32</td>\n",
       "      <td>21</td>\n",
       "    </tr>\n",
       "    <tr>\n",
       "      <th>388</th>\n",
       "      <th>CH Gayle</th>\n",
       "      <td>11</td>\n",
       "      <td>6</td>\n",
       "    </tr>\n",
       "    <tr>\n",
       "      <th>432</th>\n",
       "      <th>CH Gayle</th>\n",
       "      <td>13</td>\n",
       "      <td>15</td>\n",
       "    </tr>\n",
       "    <tr>\n",
       "      <th>481</th>\n",
       "      <th>CH Gayle</th>\n",
       "      <td>27</td>\n",
       "      <td>19</td>\n",
       "    </tr>\n",
       "    <tr>\n",
       "      <th>503</th>\n",
       "      <th>CH Gayle</th>\n",
       "      <td>14</td>\n",
       "      <td>20</td>\n",
       "    </tr>\n",
       "    <tr>\n",
       "      <th>525</th>\n",
       "      <th>CH Gayle</th>\n",
       "      <td>21</td>\n",
       "      <td>16</td>\n",
       "    </tr>\n",
       "    <tr>\n",
       "      <th>568</th>\n",
       "      <th>CH Gayle</th>\n",
       "      <td>35</td>\n",
       "      <td>10</td>\n",
       "    </tr>\n",
       "    <tr>\n",
       "      <th>580</th>\n",
       "      <th>CH Gayle</th>\n",
       "      <td>1</td>\n",
       "      <td>4</td>\n",
       "    </tr>\n",
       "    <tr>\n",
       "      <th>636</th>\n",
       "      <th>CH Gayle</th>\n",
       "      <td>76</td>\n",
       "      <td>38</td>\n",
       "    </tr>\n",
       "    <tr>\n",
       "      <th>7909</th>\n",
       "      <th>CH Gayle</th>\n",
       "      <td>109</td>\n",
       "      <td>63</td>\n",
       "    </tr>\n",
       "    <tr>\n",
       "      <th>7918</th>\n",
       "      <th>CH Gayle</th>\n",
       "      <td>23</td>\n",
       "      <td>22</td>\n",
       "    </tr>\n",
       "    <tr>\n",
       "      <th>11313</th>\n",
       "      <th>CH Gayle</th>\n",
       "      <td>16</td>\n",
       "      <td>14</td>\n",
       "    </tr>\n",
       "    <tr>\n",
       "      <th>11339</th>\n",
       "      <th>CH Gayle</th>\n",
       "      <td>4</td>\n",
       "      <td>3</td>\n",
       "    </tr>\n",
       "  </tbody>\n",
       "</table>\n",
       "</div>"
      ],
      "text/plain": [
       "                   Runs Scored  Ball faced\n",
       "match_id batsman                          \n",
       "1        CH Gayle           32          21\n",
       "388      CH Gayle           11           6\n",
       "432      CH Gayle           13          15\n",
       "481      CH Gayle           27          19\n",
       "503      CH Gayle           14          20\n",
       "525      CH Gayle           21          16\n",
       "568      CH Gayle           35          10\n",
       "580      CH Gayle            1           4\n",
       "636      CH Gayle           76          38\n",
       "7909     CH Gayle          109          63\n",
       "7918     CH Gayle           23          22\n",
       "11313    CH Gayle           16          14\n",
       "11339    CH Gayle            4           3"
      ]
     },
     "execution_count": 63,
     "metadata": {},
     "output_type": "execute_result"
    }
   ],
   "source": [
    "gayle_runs_overall = gayle_overall.groupby(['match_id',\"batsman\"]).agg({\"batsman_runs\":\"sum\",\"ball\":\"count\"})\n",
    "\n",
    "gayle_runs_overall.columns = [\"Runs Scored\",\"Ball faced\"]\n",
    "\n",
    "gayle_runs_overall"
   ]
  },
  {
   "cell_type": "markdown",
   "metadata": {},
   "source": [
    "Runs scored in first 10 balls :"
   ]
  },
  {
   "cell_type": "code",
   "execution_count": 64,
   "metadata": {},
   "outputs": [
    {
     "name": "stdout",
     "output_type": "stream",
     "text": [
      "[1, 0, 0, 1, 0, 4, 1, 6, 6, 2, 0, 1, 0, 0, 0, 0, 0, 4, 0, 6, 0]\n",
      "[1, 0, 2, 1, 6, 1]\n",
      "[1, 4, 0, 0, 0, 0, 0, 1, 0, 0, 4, 0, 2, 1, 0]\n",
      "[1, 0, 0, 0, 4, 0, 0, 4, 0, 1, 0, 0, 0, 4, 6, 6, 0, 1, 0]\n",
      "[0, 0, 0, 0, 2, 0, 0, 0, 4, 0, 1, 2, 2, 1, 1, 0, 0, 0, 1, 0]\n",
      "[1, 0, 6, 2, 0, 0, 4, 0, 0, 0, 4, 0, 0, 0, 4, 0]\n",
      "[4, 6, 1, 4, 4, 0, 6, 4, 6, 0]\n",
      "[0, 1, 0, 0]\n",
      "[0, 0, 0, 2, 6, 0, 2, 1, 0, 0, 4, 0, 1, 0, 6, 0, 0, 4, 6, 6, 4, 1, 0, 1, 6, 0, 1, 6, 0, 1, 0, 6, 6, 4, 0, 1, 1, 0]\n",
      "[1, 0, 4, 0, 0, 2, 0, 0, 6, 4, 1, 0, 6, 0, 0, 6, 1, 1, 1, 0, 1, 0, 0, 0, 0, 1, 6, 1, 1, 1, 1, 1, 0, 1, 0, 0, 6, 1, 1, 1, 6, 6, 6, 6, 2, 0, 1, 2, 2, 1, 1, 6, 1, 1, 1, 0, 6, 1, 1, 1, 0, 1, 1]\n",
      "[0, 0, 1, 0, 6, 0, 1, 0, 1, 1, 0, 1, 0, 4, 0, 0, 6, 1, 0, 0, 1, 0]\n",
      "[0, 1, 0, 0, 4, 1, 1, 6, 0, 2, 0, 0, 1, 0]\n",
      "[4, 0, 0]\n"
     ]
    },
    {
     "data": {
      "text/plain": [
       "[21, 11, 6, 10, 6, 13, 35, 1, 11, 17, 10, 15, 4]"
      ]
     },
     "execution_count": 64,
     "metadata": {},
     "output_type": "execute_result"
    }
   ],
   "source": [
    "bound = [1,2,3,4,6]\n",
    "runs = []\n",
    "boundary_runs = []\n",
    "for value in gayle_overall.groupby(\"match_id\"):\n",
    "    count = 1\n",
    "    d = list(value[1][\"batsman_runs\"])\n",
    "    print(d)\n",
    "    runs.clear()\n",
    "    for i in d:\n",
    "        while(count<=10):\n",
    "            count = count+1\n",
    "            if i in bound:\n",
    "                runs.append(i)\n",
    "            break\n",
    "    c = sum(runs)\n",
    "    boundary_runs.append(c)\n",
    "    \n",
    "\n",
    "boundary_runs"
   ]
  },
  {
   "cell_type": "code",
   "execution_count": 65,
   "metadata": {},
   "outputs": [
    {
     "data": {
      "text/html": [
       "<div>\n",
       "<style scoped>\n",
       "    .dataframe tbody tr th:only-of-type {\n",
       "        vertical-align: middle;\n",
       "    }\n",
       "\n",
       "    .dataframe tbody tr th {\n",
       "        vertical-align: top;\n",
       "    }\n",
       "\n",
       "    .dataframe thead th {\n",
       "        text-align: right;\n",
       "    }\n",
       "</style>\n",
       "<table border=\"1\" class=\"dataframe\">\n",
       "  <thead>\n",
       "    <tr style=\"text-align: right;\">\n",
       "      <th></th>\n",
       "      <th></th>\n",
       "      <th>Runs Scored</th>\n",
       "      <th>Ball faced</th>\n",
       "      <th>runs in 10 balls</th>\n",
       "    </tr>\n",
       "    <tr>\n",
       "      <th>match_id</th>\n",
       "      <th>batsman</th>\n",
       "      <th></th>\n",
       "      <th></th>\n",
       "      <th></th>\n",
       "    </tr>\n",
       "  </thead>\n",
       "  <tbody>\n",
       "    <tr>\n",
       "      <th>1</th>\n",
       "      <th>CH Gayle</th>\n",
       "      <td>32</td>\n",
       "      <td>21</td>\n",
       "      <td>21</td>\n",
       "    </tr>\n",
       "    <tr>\n",
       "      <th>388</th>\n",
       "      <th>CH Gayle</th>\n",
       "      <td>11</td>\n",
       "      <td>6</td>\n",
       "      <td>11</td>\n",
       "    </tr>\n",
       "    <tr>\n",
       "      <th>432</th>\n",
       "      <th>CH Gayle</th>\n",
       "      <td>13</td>\n",
       "      <td>15</td>\n",
       "      <td>6</td>\n",
       "    </tr>\n",
       "    <tr>\n",
       "      <th>481</th>\n",
       "      <th>CH Gayle</th>\n",
       "      <td>27</td>\n",
       "      <td>19</td>\n",
       "      <td>10</td>\n",
       "    </tr>\n",
       "    <tr>\n",
       "      <th>503</th>\n",
       "      <th>CH Gayle</th>\n",
       "      <td>14</td>\n",
       "      <td>20</td>\n",
       "      <td>6</td>\n",
       "    </tr>\n",
       "    <tr>\n",
       "      <th>525</th>\n",
       "      <th>CH Gayle</th>\n",
       "      <td>21</td>\n",
       "      <td>16</td>\n",
       "      <td>13</td>\n",
       "    </tr>\n",
       "    <tr>\n",
       "      <th>568</th>\n",
       "      <th>CH Gayle</th>\n",
       "      <td>35</td>\n",
       "      <td>10</td>\n",
       "      <td>35</td>\n",
       "    </tr>\n",
       "    <tr>\n",
       "      <th>580</th>\n",
       "      <th>CH Gayle</th>\n",
       "      <td>1</td>\n",
       "      <td>4</td>\n",
       "      <td>1</td>\n",
       "    </tr>\n",
       "    <tr>\n",
       "      <th>636</th>\n",
       "      <th>CH Gayle</th>\n",
       "      <td>76</td>\n",
       "      <td>38</td>\n",
       "      <td>11</td>\n",
       "    </tr>\n",
       "    <tr>\n",
       "      <th>7909</th>\n",
       "      <th>CH Gayle</th>\n",
       "      <td>109</td>\n",
       "      <td>63</td>\n",
       "      <td>17</td>\n",
       "    </tr>\n",
       "    <tr>\n",
       "      <th>7918</th>\n",
       "      <th>CH Gayle</th>\n",
       "      <td>23</td>\n",
       "      <td>22</td>\n",
       "      <td>10</td>\n",
       "    </tr>\n",
       "    <tr>\n",
       "      <th>11313</th>\n",
       "      <th>CH Gayle</th>\n",
       "      <td>16</td>\n",
       "      <td>14</td>\n",
       "      <td>15</td>\n",
       "    </tr>\n",
       "    <tr>\n",
       "      <th>11339</th>\n",
       "      <th>CH Gayle</th>\n",
       "      <td>4</td>\n",
       "      <td>3</td>\n",
       "      <td>4</td>\n",
       "    </tr>\n",
       "  </tbody>\n",
       "</table>\n",
       "</div>"
      ],
      "text/plain": [
       "                   Runs Scored  Ball faced  runs in 10 balls\n",
       "match_id batsman                                            \n",
       "1        CH Gayle           32          21                21\n",
       "388      CH Gayle           11           6                11\n",
       "432      CH Gayle           13          15                 6\n",
       "481      CH Gayle           27          19                10\n",
       "503      CH Gayle           14          20                 6\n",
       "525      CH Gayle           21          16                13\n",
       "568      CH Gayle           35          10                35\n",
       "580      CH Gayle            1           4                 1\n",
       "636      CH Gayle           76          38                11\n",
       "7909     CH Gayle          109          63                17\n",
       "7918     CH Gayle           23          22                10\n",
       "11313    CH Gayle           16          14                15\n",
       "11339    CH Gayle            4           3                 4"
      ]
     },
     "execution_count": 65,
     "metadata": {},
     "output_type": "execute_result"
    }
   ],
   "source": [
    "gayle_runs_overall[\"runs in 10 balls\"] = boundary_runs\n",
    "\n",
    "gayle_runs_overall"
   ]
  },
  {
   "cell_type": "code",
   "execution_count": 66,
   "metadata": {},
   "outputs": [
    {
     "data": {
      "text/plain": [
       "<matplotlib.axes._subplots.AxesSubplot at 0x25f87725640>"
      ]
     },
     "execution_count": 66,
     "metadata": {},
     "output_type": "execute_result"
    },
    {
     "data": {
      "image/png": "[encoded data removed]",
      "text/plain": [
       "<Figure size 432x288 with 1 Axes>"
      ]
     },
     "metadata": {
      "needs_background": "light"
     },
     "output_type": "display_data"
    }
   ],
   "source": [
    "sns.distplot(gayle_runs_overall[\"runs in 10 balls\"])"
   ]
  },
  {
   "cell_type": "code",
   "execution_count": 67,
   "metadata": {},
   "outputs": [
    {
     "data": {
      "text/plain": [
       "Text(0.5, 1.0, 'Runs scored in first 10 balls by Gayle')"
      ]
     },
     "execution_count": 67,
     "metadata": {},
     "output_type": "execute_result"
    },
    {
     "data": {
      "image/png": "[encoded data removed]",
      "text/plain": [
       "<Figure size 864x360 with 1 Axes>"
      ]
     },
     "metadata": {
      "needs_background": "light"
     },
     "output_type": "display_data"
    }
   ],
   "source": [
    "plt.figure(figsize=(12,5))\n",
    "gayle_runs_overall[\"Interval\"] = pd.cut(gayle_runs_overall[\"runs in 10 balls\"],[0,10,20,30,40])\n",
    "sns.countplot(gayle_runs_overall[\"Interval\"])\n",
    "plt.title(\"Runs scored in first 10 balls by Gayle\")"
   ]
  },
  {
   "cell_type": "code",
   "execution_count": 68,
   "metadata": {},
   "outputs": [
    {
     "name": "stdout",
     "output_type": "stream",
     "text": [
      "Average runs made by Gayle in first 10 balls against SRH :12\n"
     ]
    }
   ],
   "source": [
    "print(\"Average runs made by Gayle in first 10 balls against SRH :{}\".format(round(gayle_runs_overall[\"runs in 10 balls\"].mean())))"
   ]
  },
  {
   "cell_type": "markdown",
   "metadata": {},
   "source": [
    "## Confidence Interval"
   ]
  },
  {
   "cell_type": "code",
   "execution_count": 69,
   "metadata": {},
   "outputs": [
    {
     "data": {
      "text/html": [
       "<div>\n",
       "<style scoped>\n",
       "    .dataframe tbody tr th:only-of-type {\n",
       "        vertical-align: middle;\n",
       "    }\n",
       "\n",
       "    .dataframe tbody tr th {\n",
       "        vertical-align: top;\n",
       "    }\n",
       "\n",
       "    .dataframe thead th {\n",
       "        text-align: right;\n",
       "    }\n",
       "</style>\n",
       "<table border=\"1\" class=\"dataframe\">\n",
       "  <thead>\n",
       "    <tr style=\"text-align: right;\">\n",
       "      <th></th>\n",
       "      <th>count</th>\n",
       "      <th>mean</th>\n",
       "      <th>std</th>\n",
       "      <th>min</th>\n",
       "      <th>25%</th>\n",
       "      <th>50%</th>\n",
       "      <th>75%</th>\n",
       "      <th>max</th>\n",
       "    </tr>\n",
       "  </thead>\n",
       "  <tbody>\n",
       "    <tr>\n",
       "      <th>runs in 10 balls</th>\n",
       "      <td>13.0</td>\n",
       "      <td>12.307692</td>\n",
       "      <td>8.711913</td>\n",
       "      <td>1.0</td>\n",
       "      <td>6.0</td>\n",
       "      <td>11.0</td>\n",
       "      <td>15.0</td>\n",
       "      <td>35.0</td>\n",
       "    </tr>\n",
       "  </tbody>\n",
       "</table>\n",
       "</div>"
      ],
      "text/plain": [
       "                  count       mean       std  min  25%   50%   75%   max\n",
       "runs in 10 balls   13.0  12.307692  8.711913  1.0  6.0  11.0  15.0  35.0"
      ]
     },
     "execution_count": 69,
     "metadata": {},
     "output_type": "execute_result"
    }
   ],
   "source": [
    "gayle_runs_overall.describe().iloc[:,2:].T"
   ]
  },
  {
   "cell_type": "code",
   "execution_count": 70,
   "metadata": {},
   "outputs": [
    {
     "data": {
      "text/plain": [
       "13"
      ]
     },
     "execution_count": 70,
     "metadata": {},
     "output_type": "execute_result"
    }
   ],
   "source": [
    "mean = gayle_runs_overall[\"runs in 10 balls\"].mean()\n",
    "sd = gayle_runs_overall[\"runs in 10 balls\"].std()\n",
    "n = len(gayle_runs_overall)\n",
    "\n",
    "n"
   ]
  },
  {
   "cell_type": "code",
   "execution_count": 71,
   "metadata": {},
   "outputs": [
    {
     "data": {
      "text/plain": [
       "2.4162500491055896"
      ]
     },
     "execution_count": 71,
     "metadata": {},
     "output_type": "execute_result"
    }
   ],
   "source": [
    "tstar = 2.064\n",
    "se = sd/np.sqrt(n)\n",
    "se"
   ]
  },
  {
   "cell_type": "code",
   "execution_count": 72,
   "metadata": {},
   "outputs": [
    {
     "name": "stdout",
     "output_type": "stream",
     "text": [
      "95% Confidence Interval for the runs gayle is expected to score in first 10 balls he would play :(7.0, 17.0)\n"
     ]
    }
   ],
   "source": [
    "lcb = mean - tstar * se\n",
    "ucb = mean + tstar * se\n",
    "lcb = round(lcb)\n",
    "ucb = round(ucb)\n",
    "\n",
    "print(\"95% Confidence Interval for the runs gayle is expected to score in first 10 balls he would play :{}\".format((lcb, ucb)))"
   ]
  },
  {
   "cell_type": "markdown",
   "metadata": {},
   "source": [
    "So from all the above analysis we can predict that Gayle to score 10+ runs in first 10 balls of his batting. "
   ]
  }
 ],
 "metadata": {
  "kernelspec": {
   "display_name": "Python 3",
   "language": "python",
   "name": "python3"
  },
  "language_info": {
   "codemirror_mode": {
    "name": "ipython",
    "version": 3
   },
   "file_extension": ".py",
   "mimetype": "text/x-python",
   "name": "python",
   "nbconvert_exporter": "python",
   "pygments_lexer": "ipython3",
   "version": "3.8.3"
  }
 },
 "nbformat": 4,
 "nbformat_minor": 4
}
