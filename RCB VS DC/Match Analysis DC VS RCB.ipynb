{
 "cells": [
  {
   "cell_type": "markdown",
   "metadata": {},
   "source": [
    "# Match Analysis"
   ]
  },
  {
   "cell_type": "code",
   "execution_count": 1,
   "metadata": {},
   "outputs": [],
   "source": [
    "import numpy as np\n",
    "import pandas as pd\n",
    "import matplotlib.pyplot as plt\n",
    "import seaborn as sns\n",
    "import warnings\n",
    "warnings.filterwarnings(\"ignore\")\n",
    "\n",
    "\n",
    "\n",
    "%matplotlib inline"
   ]
  },
  {
   "cell_type": "markdown",
   "metadata": {},
   "source": [
    "## Data Cleaning and Exploration"
   ]
  },
  {
   "cell_type": "code",
   "execution_count": 2,
   "metadata": {},
   "outputs": [],
   "source": [
    "matches = pd.read_csv(\"matches.csv\" , index_col = \"id\")\n",
    "matches = matches.iloc[:,:-3]"
   ]
  },
  {
   "cell_type": "code",
   "execution_count": 3,
   "metadata": {},
   "outputs": [
    {
     "data": {
      "text/plain": [
       "(756, 14)"
      ]
     },
     "execution_count": 3,
     "metadata": {},
     "output_type": "execute_result"
    }
   ],
   "source": [
    "matches.shape"
   ]
  },
  {
   "cell_type": "code",
   "execution_count": 9,
   "metadata": {},
   "outputs": [],
   "source": [
    "dicti = {\"Delhi Daredevils\":\"Delhi Capitals\"}\n",
    "matches[\"team1\"]=matches[\"team1\"].replace(dicti)\n",
    "matches[\"team2\"]=matches[\"team2\"].replace(dicti)\n",
    "matches[\"toss_winner\"]=matches[\"toss_winner\"].replace(dicti)\n",
    "matches[\"winner\"]=matches[\"winner\"].replace(dicti)"
   ]
  },
  {
   "cell_type": "code",
   "execution_count": 32,
   "metadata": {},
   "outputs": [
    {
     "data": {
      "text/plain": [
       "array(['Sunrisers Hyderabad', 'Rising Pune Supergiant',\n",
       "       'Kolkata Knight Riders', 'Kings XI Punjab',\n",
       "       'Royal Challengers Bangalore', 'Mumbai Indians', 'Delhi Capitals',\n",
       "       'Gujarat Lions', 'Chennai Super Kings', 'Rajasthan Royals',\n",
       "       'Deccan Chargers', 'Pune Warriors', 'Kochi Tuskers Kerala', nan,\n",
       "       'Rising Pune Supergiants'], dtype=object)"
      ]
     },
     "execution_count": 32,
     "metadata": {},
     "output_type": "execute_result"
    }
   ],
   "source": [
    "matches.winner.unique()"
   ]
  },
  {
   "cell_type": "markdown",
   "metadata": {},
   "source": [
    "## Taking in consideration only DC VS RCB"
   ]
  },
  {
   "cell_type": "code",
   "execution_count": 10,
   "metadata": {},
   "outputs": [],
   "source": [
    "RD = matches[np.logical_or(np.logical_and(matches['team1']=='Delhi Capitals',matches['team2']=='Royal Challengers Bangalore'),\n",
    "                            np.logical_and(matches['team2']=='Delhi Capitals',matches['team1']=='Royal Challengers Bangalore'))]"
   ]
  },
  {
   "cell_type": "code",
   "execution_count": 11,
   "metadata": {},
   "outputs": [
    {
     "data": {
      "text/html": [
       "<div>\n",
       "<style scoped>\n",
       "    .dataframe tbody tr th:only-of-type {\n",
       "        vertical-align: middle;\n",
       "    }\n",
       "\n",
       "    .dataframe tbody tr th {\n",
       "        vertical-align: top;\n",
       "    }\n",
       "\n",
       "    .dataframe thead th {\n",
       "        text-align: right;\n",
       "    }\n",
       "</style>\n",
       "<table border=\"1\" class=\"dataframe\">\n",
       "  <thead>\n",
       "    <tr style=\"text-align: right;\">\n",
       "      <th></th>\n",
       "      <th>season</th>\n",
       "      <th>city</th>\n",
       "      <th>date</th>\n",
       "      <th>team1</th>\n",
       "      <th>team2</th>\n",
       "      <th>toss_winner</th>\n",
       "      <th>toss_decision</th>\n",
       "      <th>result</th>\n",
       "      <th>dl_applied</th>\n",
       "      <th>winner</th>\n",
       "      <th>win_by_runs</th>\n",
       "      <th>win_by_wickets</th>\n",
       "      <th>player_of_match</th>\n",
       "      <th>venue</th>\n",
       "    </tr>\n",
       "    <tr>\n",
       "      <th>id</th>\n",
       "      <th></th>\n",
       "      <th></th>\n",
       "      <th></th>\n",
       "      <th></th>\n",
       "      <th></th>\n",
       "      <th></th>\n",
       "      <th></th>\n",
       "      <th></th>\n",
       "      <th></th>\n",
       "      <th></th>\n",
       "      <th></th>\n",
       "      <th></th>\n",
       "      <th></th>\n",
       "      <th></th>\n",
       "    </tr>\n",
       "  </thead>\n",
       "  <tbody>\n",
       "    <tr>\n",
       "      <th>5</th>\n",
       "      <td>2017</td>\n",
       "      <td>Bangalore</td>\n",
       "      <td>2017-04-08</td>\n",
       "      <td>Royal Challengers Bangalore</td>\n",
       "      <td>Delhi Capitals</td>\n",
       "      <td>Royal Challengers Bangalore</td>\n",
       "      <td>bat</td>\n",
       "      <td>normal</td>\n",
       "      <td>0</td>\n",
       "      <td>Royal Challengers Bangalore</td>\n",
       "      <td>15</td>\n",
       "      <td>0</td>\n",
       "      <td>KM Jadhav</td>\n",
       "      <td>M Chinnaswamy Stadium</td>\n",
       "    </tr>\n",
       "    <tr>\n",
       "      <th>55</th>\n",
       "      <td>2017</td>\n",
       "      <td>Delhi</td>\n",
       "      <td>2017-05-14</td>\n",
       "      <td>Royal Challengers Bangalore</td>\n",
       "      <td>Delhi Capitals</td>\n",
       "      <td>Royal Challengers Bangalore</td>\n",
       "      <td>bat</td>\n",
       "      <td>normal</td>\n",
       "      <td>0</td>\n",
       "      <td>Royal Challengers Bangalore</td>\n",
       "      <td>10</td>\n",
       "      <td>0</td>\n",
       "      <td>HV Patel</td>\n",
       "      <td>Feroz Shah Kotla</td>\n",
       "    </tr>\n",
       "    <tr>\n",
       "      <th>76</th>\n",
       "      <td>2008</td>\n",
       "      <td>Delhi</td>\n",
       "      <td>2008-04-30</td>\n",
       "      <td>Delhi Capitals</td>\n",
       "      <td>Royal Challengers Bangalore</td>\n",
       "      <td>Royal Challengers Bangalore</td>\n",
       "      <td>field</td>\n",
       "      <td>normal</td>\n",
       "      <td>0</td>\n",
       "      <td>Delhi Capitals</td>\n",
       "      <td>10</td>\n",
       "      <td>0</td>\n",
       "      <td>GD McGrath</td>\n",
       "      <td>Feroz Shah Kotla</td>\n",
       "    </tr>\n",
       "    <tr>\n",
       "      <th>104</th>\n",
       "      <td>2008</td>\n",
       "      <td>Bangalore</td>\n",
       "      <td>2008-05-19</td>\n",
       "      <td>Royal Challengers Bangalore</td>\n",
       "      <td>Delhi Capitals</td>\n",
       "      <td>Delhi Capitals</td>\n",
       "      <td>field</td>\n",
       "      <td>normal</td>\n",
       "      <td>0</td>\n",
       "      <td>Delhi Capitals</td>\n",
       "      <td>0</td>\n",
       "      <td>5</td>\n",
       "      <td>SP Goswami</td>\n",
       "      <td>M Chinnaswamy Stadium</td>\n",
       "    </tr>\n",
       "    <tr>\n",
       "      <th>129</th>\n",
       "      <td>2009</td>\n",
       "      <td>Port Elizabeth</td>\n",
       "      <td>2009-04-26</td>\n",
       "      <td>Royal Challengers Bangalore</td>\n",
       "      <td>Delhi Capitals</td>\n",
       "      <td>Royal Challengers Bangalore</td>\n",
       "      <td>bat</td>\n",
       "      <td>normal</td>\n",
       "      <td>0</td>\n",
       "      <td>Delhi Capitals</td>\n",
       "      <td>0</td>\n",
       "      <td>6</td>\n",
       "      <td>TM Dilshan</td>\n",
       "      <td>St George's Park</td>\n",
       "    </tr>\n",
       "  </tbody>\n",
       "</table>\n",
       "</div>"
      ],
      "text/plain": [
       "     season            city        date                        team1  \\\n",
       "id                                                                     \n",
       "5      2017       Bangalore  2017-04-08  Royal Challengers Bangalore   \n",
       "55     2017           Delhi  2017-05-14  Royal Challengers Bangalore   \n",
       "76     2008           Delhi  2008-04-30               Delhi Capitals   \n",
       "104    2008       Bangalore  2008-05-19  Royal Challengers Bangalore   \n",
       "129    2009  Port Elizabeth  2009-04-26  Royal Challengers Bangalore   \n",
       "\n",
       "                           team2                  toss_winner toss_decision  \\\n",
       "id                                                                            \n",
       "5                 Delhi Capitals  Royal Challengers Bangalore           bat   \n",
       "55                Delhi Capitals  Royal Challengers Bangalore           bat   \n",
       "76   Royal Challengers Bangalore  Royal Challengers Bangalore         field   \n",
       "104               Delhi Capitals               Delhi Capitals         field   \n",
       "129               Delhi Capitals  Royal Challengers Bangalore           bat   \n",
       "\n",
       "     result  dl_applied                       winner  win_by_runs  \\\n",
       "id                                                                  \n",
       "5    normal           0  Royal Challengers Bangalore           15   \n",
       "55   normal           0  Royal Challengers Bangalore           10   \n",
       "76   normal           0               Delhi Capitals           10   \n",
       "104  normal           0               Delhi Capitals            0   \n",
       "129  normal           0               Delhi Capitals            0   \n",
       "\n",
       "     win_by_wickets player_of_match                  venue  \n",
       "id                                                          \n",
       "5                 0       KM Jadhav  M Chinnaswamy Stadium  \n",
       "55                0        HV Patel       Feroz Shah Kotla  \n",
       "76                0      GD McGrath       Feroz Shah Kotla  \n",
       "104               5      SP Goswami  M Chinnaswamy Stadium  \n",
       "129               6      TM Dilshan       St George's Park  "
      ]
     },
     "execution_count": 11,
     "metadata": {},
     "output_type": "execute_result"
    }
   ],
   "source": [
    "RD.head()"
   ]
  },
  {
   "cell_type": "code",
   "execution_count": 12,
   "metadata": {},
   "outputs": [
    {
     "data": {
      "text/plain": [
       "(23, 14)"
      ]
     },
     "execution_count": 12,
     "metadata": {},
     "output_type": "execute_result"
    }
   ],
   "source": [
    "RD.shape"
   ]
  },
  {
   "cell_type": "code",
   "execution_count": 13,
   "metadata": {},
   "outputs": [
    {
     "data": {
      "text/plain": [
       "array([2017, 2008, 2009, 2010, 2011, 2012, 2013, 2014, 2015, 2016, 2018,\n",
       "       2019], dtype=int64)"
      ]
     },
     "execution_count": 13,
     "metadata": {},
     "output_type": "execute_result"
    }
   ],
   "source": [
    "RD.season.unique()"
   ]
  },
  {
   "cell_type": "code",
   "execution_count": 17,
   "metadata": {},
   "outputs": [
    {
     "data": {
      "text/plain": [
       "season             0\n",
       "city               0\n",
       "date               0\n",
       "team1              0\n",
       "team2              0\n",
       "toss_winner        0\n",
       "toss_decision      0\n",
       "result             0\n",
       "dl_applied         0\n",
       "winner             1\n",
       "win_by_runs        0\n",
       "win_by_wickets     0\n",
       "player_of_match    1\n",
       "venue              0\n",
       "dtype: int64"
      ]
     },
     "execution_count": 17,
     "metadata": {},
     "output_type": "execute_result"
    }
   ],
   "source": [
    "RD.isnull().sum()"
   ]
  },
  {
   "cell_type": "code",
   "execution_count": 18,
   "metadata": {},
   "outputs": [
    {
     "data": {
      "text/html": [
       "<div>\n",
       "<style scoped>\n",
       "    .dataframe tbody tr th:only-of-type {\n",
       "        vertical-align: middle;\n",
       "    }\n",
       "\n",
       "    .dataframe tbody tr th {\n",
       "        vertical-align: top;\n",
       "    }\n",
       "\n",
       "    .dataframe thead th {\n",
       "        text-align: right;\n",
       "    }\n",
       "</style>\n",
       "<table border=\"1\" class=\"dataframe\">\n",
       "  <thead>\n",
       "    <tr style=\"text-align: right;\">\n",
       "      <th></th>\n",
       "      <th>count</th>\n",
       "      <th>mean</th>\n",
       "      <th>std</th>\n",
       "      <th>min</th>\n",
       "      <th>25%</th>\n",
       "      <th>50%</th>\n",
       "      <th>75%</th>\n",
       "      <th>max</th>\n",
       "    </tr>\n",
       "  </thead>\n",
       "  <tbody>\n",
       "    <tr>\n",
       "      <th>win_by_runs</th>\n",
       "      <td>23.0</td>\n",
       "      <td>7.217391</td>\n",
       "      <td>10.121788</td>\n",
       "      <td>0.0</td>\n",
       "      <td>0.0</td>\n",
       "      <td>0.0</td>\n",
       "      <td>15.5</td>\n",
       "      <td>37.0</td>\n",
       "    </tr>\n",
       "    <tr>\n",
       "      <th>win_by_wickets</th>\n",
       "      <td>23.0</td>\n",
       "      <td>2.913043</td>\n",
       "      <td>3.369827</td>\n",
       "      <td>0.0</td>\n",
       "      <td>0.0</td>\n",
       "      <td>0.0</td>\n",
       "      <td>6.0</td>\n",
       "      <td>10.0</td>\n",
       "    </tr>\n",
       "  </tbody>\n",
       "</table>\n",
       "</div>"
      ],
      "text/plain": [
       "                count      mean        std  min  25%  50%   75%   max\n",
       "win_by_runs      23.0  7.217391  10.121788  0.0  0.0  0.0  15.5  37.0\n",
       "win_by_wickets   23.0  2.913043   3.369827  0.0  0.0  0.0   6.0  10.0"
      ]
     },
     "execution_count": 18,
     "metadata": {},
     "output_type": "execute_result"
    }
   ],
   "source": [
    "RD.describe().iloc[:,2:].T"
   ]
  },
  {
   "cell_type": "markdown",
   "metadata": {},
   "source": [
    "## HEAD TO HEAD"
   ]
  },
  {
   "cell_type": "code",
   "execution_count": 19,
   "metadata": {},
   "outputs": [
    {
     "data": {
      "text/plain": [
       "winner\n",
       "Delhi Capitals                  8\n",
       "Royal Challengers Bangalore    14\n",
       "Name: winner, dtype: int64"
      ]
     },
     "execution_count": 19,
     "metadata": {},
     "output_type": "execute_result"
    }
   ],
   "source": [
    "RD.groupby(\"winner\")[\"winner\"].count()"
   ]
  },
  {
   "cell_type": "code",
   "execution_count": 26,
   "metadata": {},
   "outputs": [
    {
     "data": {
      "text/plain": [
       "Text(0.5, 1.0, 'DC VS RCB-head to head')"
      ]
     },
     "execution_count": 26,
     "metadata": {},
     "output_type": "execute_result"
    },
    {
     "data": {
      "image/png": "[encoded data removed]",
      "text/plain": [
       "<Figure size 432x288 with 1 Axes>"
      ]
     },
     "metadata": {
      "needs_background": "light"
     },
     "output_type": "display_data"
    }
   ],
   "source": [
    "sns.countplot(RD[\"winner\"])\n",
    "plt.text(-0.1,12.5,str(RD['winner'].value_counts()['Royal Challengers Bangalore']),size=25,color='white')\n",
    "plt.text(0.9,6.5,str(RD['winner'].value_counts()['Delhi Capitals']),size=25,color='white')\n",
    "plt.xlabel('Winner',fontsize=20)\n",
    "plt.ylabel('No. of Matches',fontsize=20)\n",
    "plt.title('DC VS RCB-head to head',fontsize = 20)"
   ]
  },
  {
   "cell_type": "code",
   "execution_count": 27,
   "metadata": {},
   "outputs": [
    {
     "name": "stdout",
     "output_type": "stream",
     "text": [
      "Season wise winner of matches between DC VS RCB :\n"
     ]
    },
    {
     "data": {
      "text/html": [
       "<div>\n",
       "<style scoped>\n",
       "    .dataframe tbody tr th:only-of-type {\n",
       "        vertical-align: middle;\n",
       "    }\n",
       "\n",
       "    .dataframe tbody tr th {\n",
       "        vertical-align: top;\n",
       "    }\n",
       "\n",
       "    .dataframe thead th {\n",
       "        text-align: right;\n",
       "    }\n",
       "</style>\n",
       "<table border=\"1\" class=\"dataframe\">\n",
       "  <thead>\n",
       "    <tr style=\"text-align: right;\">\n",
       "      <th></th>\n",
       "      <th></th>\n",
       "      <th>winner count</th>\n",
       "    </tr>\n",
       "    <tr>\n",
       "      <th>season</th>\n",
       "      <th>winner</th>\n",
       "      <th></th>\n",
       "    </tr>\n",
       "  </thead>\n",
       "  <tbody>\n",
       "    <tr>\n",
       "      <th>2008</th>\n",
       "      <th>Delhi Capitals</th>\n",
       "      <td>2</td>\n",
       "    </tr>\n",
       "    <tr>\n",
       "      <th rowspan=\"2\" valign=\"top\">2009</th>\n",
       "      <th>Delhi Capitals</th>\n",
       "      <td>1</td>\n",
       "    </tr>\n",
       "    <tr>\n",
       "      <th>Royal Challengers Bangalore</th>\n",
       "      <td>1</td>\n",
       "    </tr>\n",
       "    <tr>\n",
       "      <th>2010</th>\n",
       "      <th>Delhi Capitals</th>\n",
       "      <td>2</td>\n",
       "    </tr>\n",
       "    <tr>\n",
       "      <th>2011</th>\n",
       "      <th>Royal Challengers Bangalore</th>\n",
       "      <td>1</td>\n",
       "    </tr>\n",
       "    <tr>\n",
       "      <th>2012</th>\n",
       "      <th>Royal Challengers Bangalore</th>\n",
       "      <td>2</td>\n",
       "    </tr>\n",
       "    <tr>\n",
       "      <th>2013</th>\n",
       "      <th>Royal Challengers Bangalore</th>\n",
       "      <td>2</td>\n",
       "    </tr>\n",
       "    <tr>\n",
       "      <th>2014</th>\n",
       "      <th>Royal Challengers Bangalore</th>\n",
       "      <td>2</td>\n",
       "    </tr>\n",
       "    <tr>\n",
       "      <th>2015</th>\n",
       "      <th>Royal Challengers Bangalore</th>\n",
       "      <td>1</td>\n",
       "    </tr>\n",
       "    <tr>\n",
       "      <th rowspan=\"2\" valign=\"top\">2016</th>\n",
       "      <th>Delhi Capitals</th>\n",
       "      <td>1</td>\n",
       "    </tr>\n",
       "    <tr>\n",
       "      <th>Royal Challengers Bangalore</th>\n",
       "      <td>1</td>\n",
       "    </tr>\n",
       "    <tr>\n",
       "      <th>2017</th>\n",
       "      <th>Royal Challengers Bangalore</th>\n",
       "      <td>2</td>\n",
       "    </tr>\n",
       "    <tr>\n",
       "      <th>2018</th>\n",
       "      <th>Royal Challengers Bangalore</th>\n",
       "      <td>2</td>\n",
       "    </tr>\n",
       "    <tr>\n",
       "      <th>2019</th>\n",
       "      <th>Delhi Capitals</th>\n",
       "      <td>2</td>\n",
       "    </tr>\n",
       "  </tbody>\n",
       "</table>\n",
       "</div>"
      ],
      "text/plain": [
       "                                    winner count\n",
       "season winner                                   \n",
       "2008   Delhi Capitals                          2\n",
       "2009   Delhi Capitals                          1\n",
       "       Royal Challengers Bangalore             1\n",
       "2010   Delhi Capitals                          2\n",
       "2011   Royal Challengers Bangalore             1\n",
       "2012   Royal Challengers Bangalore             2\n",
       "2013   Royal Challengers Bangalore             2\n",
       "2014   Royal Challengers Bangalore             2\n",
       "2015   Royal Challengers Bangalore             1\n",
       "2016   Delhi Capitals                          1\n",
       "       Royal Challengers Bangalore             1\n",
       "2017   Royal Challengers Bangalore             2\n",
       "2018   Royal Challengers Bangalore             2\n",
       "2019   Delhi Capitals                          2"
      ]
     },
     "execution_count": 27,
     "metadata": {},
     "output_type": "execute_result"
    }
   ],
   "source": [
    "Season_wise_Match_Winner = pd.DataFrame(RD.groupby([\"season\",\"winner\"])[\"winner\"].count())\n",
    "\n",
    "Season_wise_Match_Winner.columns = [\"winner count\"]\n",
    "\n",
    "print(\"Season wise winner of matches between DC VS RCB :\")\n",
    "Season_wise_Match_Winner"
   ]
  },
  {
   "cell_type": "markdown",
   "metadata": {},
   "source": [
    "## Winning Percentage"
   ]
  },
  {
   "cell_type": "code",
   "execution_count": 28,
   "metadata": {},
   "outputs": [],
   "source": [
    "Winning_Percentage = RD['winner'].value_counts()/len(RD['winner'])"
   ]
  },
  {
   "cell_type": "code",
   "execution_count": 29,
   "metadata": {},
   "outputs": [
    {
     "name": "stdout",
     "output_type": "stream",
     "text": [
      "RCB winning percentage against DC(overall) : 61%\n",
      "DC winning percentage against RCB(overall) : 35%\n"
     ]
    }
   ],
   "source": [
    "print(\"RCB winning percentage against DC(overall) : {}%\".format(int(round(Winning_Percentage[0]*100))))\n",
    "print(\"DC winning percentage against RCB(overall) : {}%\".format(int(round(Winning_Percentage[1]*100))))"
   ]
  },
  {
   "cell_type": "markdown",
   "metadata": {},
   "source": [
    "## Performance Analysis"
   ]
  },
  {
   "cell_type": "code",
   "execution_count": 30,
   "metadata": {},
   "outputs": [],
   "source": [
    "def performance( team_name , given_df ):\n",
    "    for value in given_df.groupby('winner'):\n",
    "        if value[0] == team_name:\n",
    "\n",
    "            total_win_by_runs = sum(list(value[1]['win_by_runs']))\n",
    "            total_win_by_wickets = sum(list(value[1]['win_by_wickets']))\n",
    "            \n",
    "            if 0 in list(value[1]['win_by_runs'].value_counts().index):\n",
    "                x = value[1]['win_by_runs'].value_counts()[0]\n",
    "            else:\n",
    "                x = 0\n",
    "                \n",
    "            if 0 in list(value[1]['win_by_wickets'].value_counts().index):\n",
    "                y = value[1]['win_by_wickets'].value_counts()[0]\n",
    "            else:\n",
    "                y = 0\n",
    "                \n",
    "            number_of_times_given_team_win_while_defending = (len(value[1]) - x )\n",
    "            number_of_times_given_team_win_while_chasing = (len(value[1]) - y )\n",
    "            \n",
    "            average_runs_by_which_a_given_team_wins_while_defending = total_win_by_runs / number_of_times_given_team_win_while_defending\n",
    "            average_wickets_by_which_a_given_team_wins_while_chasing = total_win_by_wickets / number_of_times_given_team_win_while_chasing\n",
    "            \n",
    "            print('Number of times given team win while defending :' , number_of_times_given_team_win_while_defending ) \n",
    "            print('Number of times given team win while chasing   :' , number_of_times_given_team_win_while_chasing )\n",
    "            print()\n",
    "            print('Average runs by which a given team wins while defending  : ' ,round(average_runs_by_which_a_given_team_wins_while_defending))\n",
    "            print('Average wickets by which a given team wins while chasing : ' ,round(average_wickets_by_which_a_given_team_wins_while_chasing))"
   ]
  },
  {
   "cell_type": "code",
   "execution_count": 31,
   "metadata": {},
   "outputs": [
    {
     "name": "stdout",
     "output_type": "stream",
     "text": [
      "Number of times given team win while defending : 6\n",
      "Number of times given team win while chasing   : 7\n",
      "\n",
      "Average runs by which a given team wins while defending  :  14.0\n",
      "Average wickets by which a given team wins while chasing :  6.0\n"
     ]
    }
   ],
   "source": [
    "performance(\"Royal Challengers Bangalore\",RD)"
   ]
  },
  {
   "cell_type": "code",
   "execution_count": 33,
   "metadata": {},
   "outputs": [
    {
     "name": "stdout",
     "output_type": "stream",
     "text": [
      "Number of times given team win while defending : 4\n",
      "Number of times given team win while chasing   : 4\n",
      "\n",
      "Average runs by which a given team wins while defending  :  20.0\n",
      "Average wickets by which a given team wins while chasing :  6.0\n"
     ]
    }
   ],
   "source": [
    "performance(\"Delhi Capitals\",RD)"
   ]
  },
  {
   "cell_type": "markdown",
   "metadata": {},
   "source": [
    "## Toss Analysis"
   ]
  },
  {
   "cell_type": "code",
   "execution_count": 34,
   "metadata": {},
   "outputs": [
    {
     "name": "stdout",
     "output_type": "stream",
     "text": [
      "Toss winner decision :\n"
     ]
    },
    {
     "data": {
      "text/html": [
       "<div>\n",
       "<style scoped>\n",
       "    .dataframe tbody tr th:only-of-type {\n",
       "        vertical-align: middle;\n",
       "    }\n",
       "\n",
       "    .dataframe tbody tr th {\n",
       "        vertical-align: top;\n",
       "    }\n",
       "\n",
       "    .dataframe thead th {\n",
       "        text-align: right;\n",
       "    }\n",
       "</style>\n",
       "<table border=\"1\" class=\"dataframe\">\n",
       "  <thead>\n",
       "    <tr style=\"text-align: right;\">\n",
       "      <th></th>\n",
       "      <th></th>\n",
       "      <th>toss_decision</th>\n",
       "    </tr>\n",
       "    <tr>\n",
       "      <th>toss_winner</th>\n",
       "      <th>toss_decision</th>\n",
       "      <th></th>\n",
       "    </tr>\n",
       "  </thead>\n",
       "  <tbody>\n",
       "    <tr>\n",
       "      <th rowspan=\"2\" valign=\"top\">Delhi Capitals</th>\n",
       "      <th>bat</th>\n",
       "      <td>3</td>\n",
       "    </tr>\n",
       "    <tr>\n",
       "      <th>field</th>\n",
       "      <td>7</td>\n",
       "    </tr>\n",
       "    <tr>\n",
       "      <th rowspan=\"2\" valign=\"top\">Royal Challengers Bangalore</th>\n",
       "      <th>bat</th>\n",
       "      <td>3</td>\n",
       "    </tr>\n",
       "    <tr>\n",
       "      <th>field</th>\n",
       "      <td>10</td>\n",
       "    </tr>\n",
       "  </tbody>\n",
       "</table>\n",
       "</div>"
      ],
      "text/plain": [
       "                                           toss_decision\n",
       "toss_winner                 toss_decision               \n",
       "Delhi Capitals              bat                        3\n",
       "                            field                      7\n",
       "Royal Challengers Bangalore bat                        3\n",
       "                            field                     10"
      ]
     },
     "execution_count": 34,
     "metadata": {},
     "output_type": "execute_result"
    }
   ],
   "source": [
    "Toss_Decision = pd.DataFrame(RD.groupby(['toss_winner',\"toss_decision\"])[\"toss_decision\"].count())\n",
    "\n",
    "print (\"Toss winner decision :\")\n",
    "Toss_Decision"
   ]
  },
  {
   "cell_type": "code",
   "execution_count": 35,
   "metadata": {},
   "outputs": [
    {
     "data": {
      "image/png": "[encoded data removed]",
      "text/plain": [
       "<Figure size 1296x576 with 1 Axes>"
      ]
     },
     "metadata": {},
     "output_type": "display_data"
    }
   ],
   "source": [
    "sns.set(style='whitegrid')\n",
    "plt.figure(figsize = (18,8))\n",
    "sns.countplot(RD['toss_winner'],palette='Set2',hue=RD['toss_decision'])\n",
    "plt.title('Toss decision statistics for both team',fontsize=15)\n",
    "plt.yticks(fontsize=15)\n",
    "plt.xticks(fontsize=15)\n",
    "plt.xlabel('Toss winner',fontsize=15)\n",
    "plt.ylabel('Count',fontsize=15)\n",
    "plt.legend(loc='best',fontsize=15)\n",
    "plt.show()"
   ]
  },
  {
   "cell_type": "code",
   "execution_count": 36,
   "metadata": {},
   "outputs": [
    {
     "name": "stdout",
     "output_type": "stream",
     "text": [
      " No of times toss winning decision leading to match winning : \n"
     ]
    },
    {
     "data": {
      "text/html": [
       "<div>\n",
       "<style scoped>\n",
       "    .dataframe tbody tr th:only-of-type {\n",
       "        vertical-align: middle;\n",
       "    }\n",
       "\n",
       "    .dataframe tbody tr th {\n",
       "        vertical-align: top;\n",
       "    }\n",
       "\n",
       "    .dataframe thead th {\n",
       "        text-align: right;\n",
       "    }\n",
       "</style>\n",
       "<table border=\"1\" class=\"dataframe\">\n",
       "  <thead>\n",
       "    <tr style=\"text-align: right;\">\n",
       "      <th></th>\n",
       "      <th></th>\n",
       "      <th></th>\n",
       "      <th>winner</th>\n",
       "    </tr>\n",
       "    <tr>\n",
       "      <th>toss_winner</th>\n",
       "      <th>toss_decision</th>\n",
       "      <th>winner</th>\n",
       "      <th></th>\n",
       "    </tr>\n",
       "  </thead>\n",
       "  <tbody>\n",
       "    <tr>\n",
       "      <th rowspan=\"4\" valign=\"top\">Delhi Capitals</th>\n",
       "      <th rowspan=\"2\" valign=\"top\">bat</th>\n",
       "      <th>Delhi Capitals</th>\n",
       "      <td>2</td>\n",
       "    </tr>\n",
       "    <tr>\n",
       "      <th>Royal Challengers Bangalore</th>\n",
       "      <td>1</td>\n",
       "    </tr>\n",
       "    <tr>\n",
       "      <th rowspan=\"2\" valign=\"top\">field</th>\n",
       "      <th>Delhi Capitals</th>\n",
       "      <td>3</td>\n",
       "    </tr>\n",
       "    <tr>\n",
       "      <th>Royal Challengers Bangalore</th>\n",
       "      <td>4</td>\n",
       "    </tr>\n",
       "    <tr>\n",
       "      <th rowspan=\"4\" valign=\"top\">Royal Challengers Bangalore</th>\n",
       "      <th rowspan=\"2\" valign=\"top\">bat</th>\n",
       "      <th>Delhi Capitals</th>\n",
       "      <td>1</td>\n",
       "    </tr>\n",
       "    <tr>\n",
       "      <th>Royal Challengers Bangalore</th>\n",
       "      <td>2</td>\n",
       "    </tr>\n",
       "    <tr>\n",
       "      <th rowspan=\"2\" valign=\"top\">field</th>\n",
       "      <th>Delhi Capitals</th>\n",
       "      <td>2</td>\n",
       "    </tr>\n",
       "    <tr>\n",
       "      <th>Royal Challengers Bangalore</th>\n",
       "      <td>7</td>\n",
       "    </tr>\n",
       "  </tbody>\n",
       "</table>\n",
       "</div>"
      ],
      "text/plain": [
       "                                                                       winner\n",
       "toss_winner                 toss_decision winner                             \n",
       "Delhi Capitals              bat           Delhi Capitals                    2\n",
       "                                          Royal Challengers Bangalore       1\n",
       "                            field         Delhi Capitals                    3\n",
       "                                          Royal Challengers Bangalore       4\n",
       "Royal Challengers Bangalore bat           Delhi Capitals                    1\n",
       "                                          Royal Challengers Bangalore       2\n",
       "                            field         Delhi Capitals                    2\n",
       "                                          Royal Challengers Bangalore       7"
      ]
     },
     "execution_count": 36,
     "metadata": {},
     "output_type": "execute_result"
    }
   ],
   "source": [
    "Toss_Decision_based_Winner = pd.DataFrame(RD.groupby(['toss_winner',\"toss_decision\",\"winner\"])[\"winner\"].count())\n",
    "\n",
    "print(\" No of times toss winning decision leading to match winning : \")\n",
    "Toss_Decision_based_Winner"
   ]
  },
  {
   "cell_type": "code",
   "execution_count": 37,
   "metadata": {},
   "outputs": [
    {
     "data": {
      "text/plain": [
       "<matplotlib.legend.Legend at 0x122c31e1280>"
      ]
     },
     "execution_count": 37,
     "metadata": {},
     "output_type": "execute_result"
    },
    {
     "data": {
      "image/png": "[encoded data removed]",
      "text/plain": [
       "<Figure size 1296x648 with 1 Axes>"
      ]
     },
     "metadata": {},
     "output_type": "display_data"
    }
   ],
   "source": [
    "sns.set(style='whitegrid')\n",
    "plt.figure(figsize = (18,9))\n",
    "sns.countplot(RD['toss_winner'],hue=RD['winner'])\n",
    "plt.title('Match Winner vs Toss Winner statistics for both team',fontsize=15)\n",
    "plt.yticks(fontsize=15)\n",
    "plt.xticks(fontsize=15)\n",
    "plt.xlabel('Toss winner',fontsize=15)\n",
    "plt.ylabel('Match Winner',fontsize=15)\n",
    "plt.legend(loc=\"best\",fontsize=15)"
   ]
  },
  {
   "cell_type": "markdown",
   "metadata": {},
   "source": [
    "### Toss Decision based Analysis of both the teams seperately :"
   ]
  },
  {
   "cell_type": "code",
   "execution_count": 38,
   "metadata": {},
   "outputs": [],
   "source": [
    "RCB = RD[RD[\"toss_winner\"]==\"Royal Challengers Bangalore\"]\n",
    "DC = RD[RD[\"toss_winner\"]==\"Delhi Capitals\"]"
   ]
  },
  {
   "cell_type": "code",
   "execution_count": 39,
   "metadata": {},
   "outputs": [
    {
     "data": {
      "text/plain": [
       "<matplotlib.legend.Legend at 0x122c36b4910>"
      ]
     },
     "execution_count": 39,
     "metadata": {},
     "output_type": "execute_result"
    },
    {
     "data": {
      "image/png": "[encoded data removed]",
      "text/plain": [
       "<Figure size 1296x648 with 1 Axes>"
      ]
     },
     "metadata": {},
     "output_type": "display_data"
    }
   ],
   "source": [
    "sns.set(style='whitegrid')\n",
    "plt.figure(figsize = (18,9))\n",
    "sns.countplot(RCB['toss_decision'],hue=RCB['winner'])\n",
    "plt.title('Match Winner vs Toss Winner statistics for RCB',fontsize=15)\n",
    "plt.yticks(fontsize=15)\n",
    "plt.xticks(fontsize=15)\n",
    "plt.xlabel('Toss decision of RCB',fontsize=15)\n",
    "plt.ylabel('Match Winner',fontsize=15)\n",
    "plt.legend(loc=\"best\",fontsize=15)"
   ]
  },
  {
   "cell_type": "code",
   "execution_count": 40,
   "metadata": {},
   "outputs": [
    {
     "data": {
      "text/plain": [
       "<matplotlib.legend.Legend at 0x122c37022b0>"
      ]
     },
     "execution_count": 40,
     "metadata": {},
     "output_type": "execute_result"
    },
    {
     "data": {
      "image/png": "[encoded data removed]",
      "text/plain": [
       "<Figure size 1296x648 with 1 Axes>"
      ]
     },
     "metadata": {},
     "output_type": "display_data"
    }
   ],
   "source": [
    "sns.set(style='whitegrid')\n",
    "plt.figure(figsize = (18,9))\n",
    "sns.countplot(DC['toss_decision'],hue=DC['winner'])\n",
    "plt.title('Match Winner vs Toss Winner statistics for DC',fontsize=15)\n",
    "plt.yticks(fontsize=15)\n",
    "plt.xticks(fontsize=15)\n",
    "plt.xlabel('Toss decision of DC',fontsize=15)\n",
    "plt.ylabel('Match Winner',fontsize=15)\n",
    "plt.legend(loc=\"best\",fontsize=15)"
   ]
  },
  {
   "cell_type": "code",
   "execution_count": 41,
   "metadata": {},
   "outputs": [
    {
     "name": "stdout",
     "output_type": "stream",
     "text": [
      "Man of the match :\n"
     ]
    },
    {
     "data": {
      "text/html": [
       "<div>\n",
       "<style scoped>\n",
       "    .dataframe tbody tr th:only-of-type {\n",
       "        vertical-align: middle;\n",
       "    }\n",
       "\n",
       "    .dataframe tbody tr th {\n",
       "        vertical-align: top;\n",
       "    }\n",
       "\n",
       "    .dataframe thead th {\n",
       "        text-align: right;\n",
       "    }\n",
       "</style>\n",
       "<table border=\"1\" class=\"dataframe\">\n",
       "  <thead>\n",
       "    <tr style=\"text-align: right;\">\n",
       "      <th></th>\n",
       "      <th>player_of_match</th>\n",
       "    </tr>\n",
       "  </thead>\n",
       "  <tbody>\n",
       "    <tr>\n",
       "      <th>AB de Villiers</th>\n",
       "      <td>3</td>\n",
       "    </tr>\n",
       "    <tr>\n",
       "      <th>V Kohli</th>\n",
       "      <td>3</td>\n",
       "    </tr>\n",
       "    <tr>\n",
       "      <th>KM Jadhav</th>\n",
       "      <td>2</td>\n",
       "    </tr>\n",
       "    <tr>\n",
       "      <th>PD Collingwood</th>\n",
       "      <td>1</td>\n",
       "    </tr>\n",
       "    <tr>\n",
       "      <th>CH Gayle</th>\n",
       "      <td>1</td>\n",
       "    </tr>\n",
       "    <tr>\n",
       "      <th>K Rabada</th>\n",
       "      <td>1</td>\n",
       "    </tr>\n",
       "    <tr>\n",
       "      <th>JD Unadkat</th>\n",
       "      <td>1</td>\n",
       "    </tr>\n",
       "    <tr>\n",
       "      <th>TM Dilshan</th>\n",
       "      <td>1</td>\n",
       "    </tr>\n",
       "    <tr>\n",
       "      <th>SP Goswami</th>\n",
       "      <td>1</td>\n",
       "    </tr>\n",
       "    <tr>\n",
       "      <th>HV Patel</th>\n",
       "      <td>1</td>\n",
       "    </tr>\n",
       "    <tr>\n",
       "      <th>YS Chahal</th>\n",
       "      <td>1</td>\n",
       "    </tr>\n",
       "    <tr>\n",
       "      <th>GD McGrath</th>\n",
       "      <td>1</td>\n",
       "    </tr>\n",
       "    <tr>\n",
       "      <th>VR Aaron</th>\n",
       "      <td>1</td>\n",
       "    </tr>\n",
       "    <tr>\n",
       "      <th>S Dhawan</th>\n",
       "      <td>1</td>\n",
       "    </tr>\n",
       "    <tr>\n",
       "      <th>Yuvraj Singh</th>\n",
       "      <td>1</td>\n",
       "    </tr>\n",
       "    <tr>\n",
       "      <th>JH Kallis</th>\n",
       "      <td>1</td>\n",
       "    </tr>\n",
       "    <tr>\n",
       "      <th>Q de Kock</th>\n",
       "      <td>1</td>\n",
       "    </tr>\n",
       "  </tbody>\n",
       "</table>\n",
       "</div>"
      ],
      "text/plain": [
       "                player_of_match\n",
       "AB de Villiers                3\n",
       "V Kohli                       3\n",
       "KM Jadhav                     2\n",
       "PD Collingwood                1\n",
       "CH Gayle                      1\n",
       "K Rabada                      1\n",
       "JD Unadkat                    1\n",
       "TM Dilshan                    1\n",
       "SP Goswami                    1\n",
       "HV Patel                      1\n",
       "YS Chahal                     1\n",
       "GD McGrath                    1\n",
       "VR Aaron                      1\n",
       "S Dhawan                      1\n",
       "Yuvraj Singh                  1\n",
       "JH Kallis                     1\n",
       "Q de Kock                     1"
      ]
     },
     "execution_count": 41,
     "metadata": {},
     "output_type": "execute_result"
    }
   ],
   "source": [
    "player_of_the_match = pd.DataFrame(RD.player_of_match.value_counts())\n",
    "\n",
    "print(\"Man of the match :\")\n",
    "\n",
    "player_of_the_match"
   ]
  },
  {
   "cell_type": "markdown",
   "metadata": {},
   "source": [
    "## Recent Year Performance Analysis"
   ]
  },
  {
   "cell_type": "code",
   "execution_count": 42,
   "metadata": {},
   "outputs": [
    {
     "data": {
      "text/html": [
       "<div>\n",
       "<style scoped>\n",
       "    .dataframe tbody tr th:only-of-type {\n",
       "        vertical-align: middle;\n",
       "    }\n",
       "\n",
       "    .dataframe tbody tr th {\n",
       "        vertical-align: top;\n",
       "    }\n",
       "\n",
       "    .dataframe thead th {\n",
       "        text-align: right;\n",
       "    }\n",
       "</style>\n",
       "<table border=\"1\" class=\"dataframe\">\n",
       "  <thead>\n",
       "    <tr style=\"text-align: right;\">\n",
       "      <th></th>\n",
       "      <th>season</th>\n",
       "      <th>city</th>\n",
       "      <th>date</th>\n",
       "      <th>team1</th>\n",
       "      <th>team2</th>\n",
       "      <th>toss_winner</th>\n",
       "      <th>toss_decision</th>\n",
       "      <th>result</th>\n",
       "      <th>dl_applied</th>\n",
       "      <th>winner</th>\n",
       "      <th>win_by_runs</th>\n",
       "      <th>win_by_wickets</th>\n",
       "      <th>player_of_match</th>\n",
       "      <th>venue</th>\n",
       "    </tr>\n",
       "    <tr>\n",
       "      <th>id</th>\n",
       "      <th></th>\n",
       "      <th></th>\n",
       "      <th></th>\n",
       "      <th></th>\n",
       "      <th></th>\n",
       "      <th></th>\n",
       "      <th></th>\n",
       "      <th></th>\n",
       "      <th></th>\n",
       "      <th></th>\n",
       "      <th></th>\n",
       "      <th></th>\n",
       "      <th></th>\n",
       "      <th></th>\n",
       "    </tr>\n",
       "  </thead>\n",
       "  <tbody>\n",
       "    <tr>\n",
       "      <th>7912</th>\n",
       "      <td>2018</td>\n",
       "      <td>Bengaluru</td>\n",
       "      <td>21/04/18</td>\n",
       "      <td>Delhi Capitals</td>\n",
       "      <td>Royal Challengers Bangalore</td>\n",
       "      <td>Royal Challengers Bangalore</td>\n",
       "      <td>field</td>\n",
       "      <td>normal</td>\n",
       "      <td>0</td>\n",
       "      <td>Royal Challengers Bangalore</td>\n",
       "      <td>0</td>\n",
       "      <td>6</td>\n",
       "      <td>AB de Villiers</td>\n",
       "      <td>M Chinnaswamy Stadium</td>\n",
       "    </tr>\n",
       "    <tr>\n",
       "      <th>7938</th>\n",
       "      <td>2018</td>\n",
       "      <td>Delhi</td>\n",
       "      <td>12/05/18</td>\n",
       "      <td>Delhi Capitals</td>\n",
       "      <td>Royal Challengers Bangalore</td>\n",
       "      <td>Royal Challengers Bangalore</td>\n",
       "      <td>field</td>\n",
       "      <td>normal</td>\n",
       "      <td>0</td>\n",
       "      <td>Royal Challengers Bangalore</td>\n",
       "      <td>0</td>\n",
       "      <td>5</td>\n",
       "      <td>AB de Villiers</td>\n",
       "      <td>Feroz Shah Kotla</td>\n",
       "    </tr>\n",
       "    <tr>\n",
       "      <th>11311</th>\n",
       "      <td>2019</td>\n",
       "      <td>Bengaluru</td>\n",
       "      <td>07/04/19</td>\n",
       "      <td>Royal Challengers Bangalore</td>\n",
       "      <td>Delhi Capitals</td>\n",
       "      <td>Delhi Capitals</td>\n",
       "      <td>field</td>\n",
       "      <td>normal</td>\n",
       "      <td>0</td>\n",
       "      <td>Delhi Capitals</td>\n",
       "      <td>0</td>\n",
       "      <td>4</td>\n",
       "      <td>K Rabada</td>\n",
       "      <td>M. Chinnaswamy Stadium</td>\n",
       "    </tr>\n",
       "    <tr>\n",
       "      <th>11337</th>\n",
       "      <td>2019</td>\n",
       "      <td>Delhi</td>\n",
       "      <td>28/04/19</td>\n",
       "      <td>Delhi Capitals</td>\n",
       "      <td>Royal Challengers Bangalore</td>\n",
       "      <td>Delhi Capitals</td>\n",
       "      <td>bat</td>\n",
       "      <td>normal</td>\n",
       "      <td>0</td>\n",
       "      <td>Delhi Capitals</td>\n",
       "      <td>16</td>\n",
       "      <td>0</td>\n",
       "      <td>S Dhawan</td>\n",
       "      <td>Feroz Shah Kotla Ground</td>\n",
       "    </tr>\n",
       "  </tbody>\n",
       "</table>\n",
       "</div>"
      ],
      "text/plain": [
       "       season       city      date                        team1  \\\n",
       "id                                                                \n",
       "7912     2018  Bengaluru  21/04/18               Delhi Capitals   \n",
       "7938     2018      Delhi  12/05/18               Delhi Capitals   \n",
       "11311    2019  Bengaluru  07/04/19  Royal Challengers Bangalore   \n",
       "11337    2019      Delhi  28/04/19               Delhi Capitals   \n",
       "\n",
       "                             team2                  toss_winner toss_decision  \\\n",
       "id                                                                              \n",
       "7912   Royal Challengers Bangalore  Royal Challengers Bangalore         field   \n",
       "7938   Royal Challengers Bangalore  Royal Challengers Bangalore         field   \n",
       "11311               Delhi Capitals               Delhi Capitals         field   \n",
       "11337  Royal Challengers Bangalore               Delhi Capitals           bat   \n",
       "\n",
       "       result  dl_applied                       winner  win_by_runs  \\\n",
       "id                                                                    \n",
       "7912   normal           0  Royal Challengers Bangalore            0   \n",
       "7938   normal           0  Royal Challengers Bangalore            0   \n",
       "11311  normal           0               Delhi Capitals            0   \n",
       "11337  normal           0               Delhi Capitals           16   \n",
       "\n",
       "       win_by_wickets player_of_match                    venue  \n",
       "id                                                              \n",
       "7912                6  AB de Villiers    M Chinnaswamy Stadium  \n",
       "7938                5  AB de Villiers         Feroz Shah Kotla  \n",
       "11311               4        K Rabada   M. Chinnaswamy Stadium  \n",
       "11337               0        S Dhawan  Feroz Shah Kotla Ground  "
      ]
     },
     "execution_count": 42,
     "metadata": {},
     "output_type": "execute_result"
    }
   ],
   "source": [
    "cond2 = RD[\"season\"] == 2018\n",
    "cond3 = RD[\"season\"] == 2019\n",
    "final = RD[cond2 | cond3]\n",
    "final"
   ]
  },
  {
   "cell_type": "code",
   "execution_count": 43,
   "metadata": {},
   "outputs": [
    {
     "data": {
      "text/plain": [
       "(4, 14)"
      ]
     },
     "execution_count": 43,
     "metadata": {},
     "output_type": "execute_result"
    }
   ],
   "source": [
    "final.shape"
   ]
  },
  {
   "cell_type": "code",
   "execution_count": 44,
   "metadata": {},
   "outputs": [
    {
     "name": "stdout",
     "output_type": "stream",
     "text": [
      "Man of the match :\n"
     ]
    },
    {
     "data": {
      "text/html": [
       "<div>\n",
       "<style scoped>\n",
       "    .dataframe tbody tr th:only-of-type {\n",
       "        vertical-align: middle;\n",
       "    }\n",
       "\n",
       "    .dataframe tbody tr th {\n",
       "        vertical-align: top;\n",
       "    }\n",
       "\n",
       "    .dataframe thead th {\n",
       "        text-align: right;\n",
       "    }\n",
       "</style>\n",
       "<table border=\"1\" class=\"dataframe\">\n",
       "  <thead>\n",
       "    <tr style=\"text-align: right;\">\n",
       "      <th></th>\n",
       "      <th>player_of_match</th>\n",
       "    </tr>\n",
       "  </thead>\n",
       "  <tbody>\n",
       "    <tr>\n",
       "      <th>AB de Villiers</th>\n",
       "      <td>2</td>\n",
       "    </tr>\n",
       "    <tr>\n",
       "      <th>S Dhawan</th>\n",
       "      <td>1</td>\n",
       "    </tr>\n",
       "    <tr>\n",
       "      <th>K Rabada</th>\n",
       "      <td>1</td>\n",
       "    </tr>\n",
       "  </tbody>\n",
       "</table>\n",
       "</div>"
      ],
      "text/plain": [
       "                player_of_match\n",
       "AB de Villiers                2\n",
       "S Dhawan                      1\n",
       "K Rabada                      1"
      ]
     },
     "execution_count": 44,
     "metadata": {},
     "output_type": "execute_result"
    }
   ],
   "source": [
    "player = pd.DataFrame(final.player_of_match.value_counts())\n",
    "\n",
    "print(\"Man of the match :\")\n",
    "player"
   ]
  },
  {
   "cell_type": "code",
   "execution_count": 45,
   "metadata": {},
   "outputs": [
    {
     "data": {
      "image/png": "[encoded data removed]",
      "text/plain": [
       "<Figure size 720x432 with 1 Axes>"
      ]
     },
     "metadata": {},
     "output_type": "display_data"
    }
   ],
   "source": [
    "plt.figure(figsize = (10,6))\n",
    "sns.countplot(final['winner'])\n",
    "plt.title('Match won in recent years',fontsize=15)\n",
    "plt.yticks(fontsize=15)\n",
    "plt.xticks(fontsize=15)\n",
    "plt.xlabel('Team',fontsize=15)\n",
    "plt.ylabel('Win Count',fontsize=15)\n",
    "\n",
    "plt.show()"
   ]
  },
  {
   "cell_type": "markdown",
   "metadata": {},
   "source": [
    "From all the above analysis related to Head to Head, Toss analysis,Performance Analysis, Recent year analysis etc we can predict that the team chasing the score will have better chances to win."
   ]
  }
 ],
 "metadata": {
  "kernelspec": {
   "display_name": "Python 3",
   "language": "python",
   "name": "python3"
  },
  "language_info": {
   "codemirror_mode": {
    "name": "ipython",
    "version": 3
   },
   "file_extension": ".py",
   "mimetype": "text/x-python",
   "name": "python",
   "nbconvert_exporter": "python",
   "pygments_lexer": "ipython3",
   "version": "3.8.3"
  }
 },
 "nbformat": 4,
 "nbformat_minor": 4
}
